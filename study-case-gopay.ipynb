{
 "cells": [
  {
   "cell_type": "markdown",
   "metadata": {
    "id": "niAYKrGqcgVr",
    "jp-MarkdownHeadingCollapsed": true
   },
   "source": [
    "# Scraping Data"
   ]
  },
  {
   "cell_type": "code",
   "execution_count": 1,
   "metadata": {
    "colab": {
     "base_uri": "https://localhost:8080/"
    },
    "id": "dhtkH1GJcde3",
    "outputId": "ed4bfffa-2dbf-4765-9ba3-e0c5f4910fbe"
   },
   "outputs": [
    {
     "name": "stdout",
     "output_type": "stream",
     "text": [
      "Collecting google-play-scraper\n",
      "  Downloading google_play_scraper-1.2.7-py3-none-any.whl.metadata (50 kB)\n",
      "Downloading google_play_scraper-1.2.7-py3-none-any.whl (28 kB)\n",
      "Installing collected packages: google-play-scraper\n",
      "Successfully installed google-play-scraper-1.2.7\n"
     ]
    }
   ],
   "source": [
    "!pip install google-play-scraper"
   ]
  },
  {
   "cell_type": "code",
   "execution_count": 2,
   "metadata": {
    "id": "a0c4O0JGdlZ9"
   },
   "outputs": [],
   "source": [
    "from google_play_scraper import Sort, reviews\n",
    "import pandas as pd"
   ]
  },
  {
   "cell_type": "code",
   "execution_count": 3,
   "metadata": {
    "id": "DkQ7crN4dw4b"
   },
   "outputs": [],
   "source": [
    "result = reviews(\n",
    "    'com.gojek.gopay',\n",
    "    lang='id',\n",
    "    country='id',\n",
    "    sort=Sort.MOST_RELEVANT,\n",
    "    count=7000\n",
    ")"
   ]
  },
  {
   "cell_type": "code",
   "execution_count": 4,
   "metadata": {
    "colab": {
     "base_uri": "https://localhost:8080/"
    },
    "id": "qJvb6D3FkzSO",
    "outputId": "d2e948f3-08af-4178-cbc2-174a32eaa65c"
   },
   "outputs": [
    {
     "name": "stdout",
     "output_type": "stream",
     "text": [
      "<class 'pandas.core.frame.DataFrame'>\n",
      "RangeIndex: 7000 entries, 0 to 6999\n",
      "Data columns (total 11 columns):\n",
      " #   Column                Non-Null Count  Dtype         \n",
      "---  ------                --------------  -----         \n",
      " 0   reviewId              7000 non-null   object        \n",
      " 1   userName              7000 non-null   object        \n",
      " 2   userImage             7000 non-null   object        \n",
      " 3   content               7000 non-null   object        \n",
      " 4   score                 7000 non-null   int64         \n",
      " 5   thumbsUpCount         7000 non-null   int64         \n",
      " 6   reviewCreatedVersion  6920 non-null   object        \n",
      " 7   at                    7000 non-null   datetime64[ns]\n",
      " 8   replyContent          4524 non-null   object        \n",
      " 9   repliedAt             4524 non-null   datetime64[ns]\n",
      " 10  appVersion            6920 non-null   object        \n",
      "dtypes: datetime64[ns](2), int64(2), object(7)\n",
      "memory usage: 601.7+ KB\n"
     ]
    }
   ],
   "source": [
    "result = pd.DataFrame(result[0])\n",
    "result.info()"
   ]
  },
  {
   "cell_type": "code",
   "execution_count": 5,
   "metadata": {
    "id": "HMVedn6ctDLU"
   },
   "outputs": [],
   "source": [
    "data = result.to_csv('result.csv', index=False)"
   ]
  },
  {
   "cell_type": "markdown",
   "metadata": {
    "id": "oBVAv_XJclag",
    "jp-MarkdownHeadingCollapsed": true
   },
   "source": [
    "# Data Cleaning"
   ]
  },
  {
   "cell_type": "code",
   "execution_count": 6,
   "metadata": {
    "id": "oj7ShY-BckwH"
   },
   "outputs": [],
   "source": [
    "data = pd.read_csv('result.csv')\n",
    "data = data.drop(['reviewId','userName', 'userImage', 'reviewCreatedVersion', 'replyContent', 'repliedAt'],axis=1)"
   ]
  },
  {
   "cell_type": "code",
   "execution_count": 7,
   "metadata": {
    "colab": {
     "base_uri": "https://localhost:8080/"
    },
    "id": "G89JwkOfn_Gl",
    "outputId": "7ab65654-00d4-420b-ea2c-410f842ec235"
   },
   "outputs": [
    {
     "name": "stdout",
     "output_type": "stream",
     "text": [
      "<class 'pandas.core.frame.DataFrame'>\n",
      "Index: 6920 entries, 0 to 6999\n",
      "Data columns (total 5 columns):\n",
      " #   Column         Non-Null Count  Dtype \n",
      "---  ------         --------------  ----- \n",
      " 0   content        6920 non-null   object\n",
      " 1   score          6920 non-null   int64 \n",
      " 2   thumbsUpCount  6920 non-null   int64 \n",
      " 3   at             6920 non-null   object\n",
      " 4   appVersion     6920 non-null   object\n",
      "dtypes: int64(2), object(3)\n",
      "memory usage: 324.4+ KB\n"
     ]
    }
   ],
   "source": [
    "data = data.drop_duplicates()\n",
    "data = data.dropna()\n",
    "\n",
    "data.info()"
   ]
  },
  {
   "cell_type": "code",
   "execution_count": 8,
   "metadata": {
    "colab": {
     "base_uri": "https://localhost:8080/"
    },
    "id": "KdQP1y-Grxf7",
    "outputId": "572080fb-82b2-48e8-f823-bde499289ca0"
   },
   "outputs": [
    {
     "name": "stdout",
     "output_type": "stream",
     "text": [
      "<class 'pandas.core.frame.DataFrame'>\n",
      "Index: 6920 entries, 0 to 6999\n",
      "Data columns (total 5 columns):\n",
      " #   Column         Non-Null Count  Dtype \n",
      "---  ------         --------------  ----- \n",
      " 0   content        6920 non-null   object\n",
      " 1   score          6920 non-null   int64 \n",
      " 2   thumbsUpCount  6920 non-null   int64 \n",
      " 3   appVersion     6920 non-null   object\n",
      " 4   month          6920 non-null   object\n",
      "dtypes: int64(2), object(3)\n",
      "memory usage: 324.4+ KB\n"
     ]
    }
   ],
   "source": [
    "data['at'] = pd.to_datetime(data['at'])\n",
    "data = data[data['at'].dt.year == 2025]\n",
    "\n",
    "data['month'] = data['at'].dt.month.astype('str')\n",
    "data = data.drop(columns=['at'], axis=1)\n",
    "data.info()"
   ]
  },
  {
   "cell_type": "code",
   "execution_count": 9,
   "metadata": {
    "colab": {
     "base_uri": "https://localhost:8080/",
     "height": 574
    },
    "id": "UnZrGNTUtjOp",
    "outputId": "7bb36f0d-23bf-4026-991f-1a40222b28e7"
   },
   "outputs": [
    {
     "data": {
      "text/html": [
       "<div>\n",
       "<style scoped>\n",
       "    .dataframe tbody tr th:only-of-type {\n",
       "        vertical-align: middle;\n",
       "    }\n",
       "\n",
       "    .dataframe tbody tr th {\n",
       "        vertical-align: top;\n",
       "    }\n",
       "\n",
       "    .dataframe thead th {\n",
       "        text-align: right;\n",
       "    }\n",
       "</style>\n",
       "<table border=\"1\" class=\"dataframe\">\n",
       "  <thead>\n",
       "    <tr style=\"text-align: right;\">\n",
       "      <th></th>\n",
       "      <th>content</th>\n",
       "      <th>score</th>\n",
       "      <th>thumbsUpCount</th>\n",
       "      <th>appVersion</th>\n",
       "      <th>month</th>\n",
       "    </tr>\n",
       "  </thead>\n",
       "  <tbody>\n",
       "    <tr>\n",
       "      <th>0</th>\n",
       "      <td>aplikasi nya udh bagus seperti yang lainnya ta...</td>\n",
       "      <td>2</td>\n",
       "      <td>7</td>\n",
       "      <td>1.56.1</td>\n",
       "      <td>8</td>\n",
       "    </tr>\n",
       "    <tr>\n",
       "      <th>1</th>\n",
       "      <td>Saya download aplikasi ini dan saat masukan no...</td>\n",
       "      <td>1</td>\n",
       "      <td>31</td>\n",
       "      <td>1.56.1</td>\n",
       "      <td>8</td>\n",
       "    </tr>\n",
       "    <tr>\n",
       "      <th>2</th>\n",
       "      <td>aplikasi gopay ini bagus tapi saat mau membaya...</td>\n",
       "      <td>2</td>\n",
       "      <td>9</td>\n",
       "      <td>1.56.1</td>\n",
       "      <td>8</td>\n",
       "    </tr>\n",
       "    <tr>\n",
       "      <th>3</th>\n",
       "      <td>aplikasinya bagus aja, cuma ad sedikit masalah...</td>\n",
       "      <td>3</td>\n",
       "      <td>20</td>\n",
       "      <td>1.56.1</td>\n",
       "      <td>8</td>\n",
       "    </tr>\n",
       "    <tr>\n",
       "      <th>4</th>\n",
       "      <td>Cukup kecewa update kali ini. Mengapa sistem b...</td>\n",
       "      <td>2</td>\n",
       "      <td>15</td>\n",
       "      <td>1.56.1</td>\n",
       "      <td>8</td>\n",
       "    </tr>\n",
       "  </tbody>\n",
       "</table>\n",
       "</div>"
      ],
      "text/plain": [
       "                                             content  score  thumbsUpCount  \\\n",
       "0  aplikasi nya udh bagus seperti yang lainnya ta...      2              7   \n",
       "1  Saya download aplikasi ini dan saat masukan no...      1             31   \n",
       "2  aplikasi gopay ini bagus tapi saat mau membaya...      2              9   \n",
       "3  aplikasinya bagus aja, cuma ad sedikit masalah...      3             20   \n",
       "4  Cukup kecewa update kali ini. Mengapa sistem b...      2             15   \n",
       "\n",
       "  appVersion month  \n",
       "0     1.56.1     8  \n",
       "1     1.56.1     8  \n",
       "2     1.56.1     8  \n",
       "3     1.56.1     8  \n",
       "4     1.56.1     8  "
      ]
     },
     "execution_count": 9,
     "metadata": {},
     "output_type": "execute_result"
    }
   ],
   "source": [
    "data.head()"
   ]
  },
  {
   "cell_type": "code",
   "execution_count": 10,
   "metadata": {
    "colab": {
     "base_uri": "https://localhost:8080/"
    },
    "id": "u-1EDhupOAop",
    "outputId": "29f7eb4d-cc27-44f3-e433-7422b37bd426"
   },
   "outputs": [
    {
     "name": "stdout",
     "output_type": "stream",
     "text": [
      "['1.56.1' '1.53.0' '1.57.0' '1.52.0' '1.54.0' '1.51.0' '1.49.1' '1.49.0'\n",
      " '1.48.0' '1.45.0' '1.47.0' '1.46.1' '1.44.0' '1.56.0' '1.39.0' '1.26.1'\n",
      " '1.15.1' '1.21.0']\n"
     ]
    }
   ],
   "source": [
    "print(data['appVersion'].unique())"
   ]
  },
  {
   "cell_type": "code",
   "execution_count": 11,
   "metadata": {
    "colab": {
     "base_uri": "https://localhost:8080/",
     "height": 574
    },
    "id": "-AVJzxohONVQ",
    "outputId": "2e87c5b9-d82a-4575-8e88-d270e268602a"
   },
   "outputs": [
    {
     "data": {
      "text/html": [
       "<div>\n",
       "<style scoped>\n",
       "    .dataframe tbody tr th:only-of-type {\n",
       "        vertical-align: middle;\n",
       "    }\n",
       "\n",
       "    .dataframe tbody tr th {\n",
       "        vertical-align: top;\n",
       "    }\n",
       "\n",
       "    .dataframe thead th {\n",
       "        text-align: right;\n",
       "    }\n",
       "</style>\n",
       "<table border=\"1\" class=\"dataframe\">\n",
       "  <thead>\n",
       "    <tr style=\"text-align: right;\">\n",
       "      <th></th>\n",
       "      <th>content</th>\n",
       "      <th>score</th>\n",
       "      <th>thumbsUpCount</th>\n",
       "      <th>month</th>\n",
       "      <th>minorVersion</th>\n",
       "      <th>majorVersion</th>\n",
       "    </tr>\n",
       "  </thead>\n",
       "  <tbody>\n",
       "    <tr>\n",
       "      <th>0</th>\n",
       "      <td>aplikasi nya udh bagus seperti yang lainnya ta...</td>\n",
       "      <td>2</td>\n",
       "      <td>7</td>\n",
       "      <td>8</td>\n",
       "      <td>1.56.1</td>\n",
       "      <td>1.5</td>\n",
       "    </tr>\n",
       "    <tr>\n",
       "      <th>1</th>\n",
       "      <td>Saya download aplikasi ini dan saat masukan no...</td>\n",
       "      <td>1</td>\n",
       "      <td>31</td>\n",
       "      <td>8</td>\n",
       "      <td>1.56.1</td>\n",
       "      <td>1.5</td>\n",
       "    </tr>\n",
       "    <tr>\n",
       "      <th>2</th>\n",
       "      <td>aplikasi gopay ini bagus tapi saat mau membaya...</td>\n",
       "      <td>2</td>\n",
       "      <td>9</td>\n",
       "      <td>8</td>\n",
       "      <td>1.56.1</td>\n",
       "      <td>1.5</td>\n",
       "    </tr>\n",
       "    <tr>\n",
       "      <th>3</th>\n",
       "      <td>aplikasinya bagus aja, cuma ad sedikit masalah...</td>\n",
       "      <td>3</td>\n",
       "      <td>20</td>\n",
       "      <td>8</td>\n",
       "      <td>1.56.1</td>\n",
       "      <td>1.5</td>\n",
       "    </tr>\n",
       "    <tr>\n",
       "      <th>4</th>\n",
       "      <td>Cukup kecewa update kali ini. Mengapa sistem b...</td>\n",
       "      <td>2</td>\n",
       "      <td>15</td>\n",
       "      <td>8</td>\n",
       "      <td>1.56.1</td>\n",
       "      <td>1.5</td>\n",
       "    </tr>\n",
       "  </tbody>\n",
       "</table>\n",
       "</div>"
      ],
      "text/plain": [
       "                                             content  score  thumbsUpCount  \\\n",
       "0  aplikasi nya udh bagus seperti yang lainnya ta...      2              7   \n",
       "1  Saya download aplikasi ini dan saat masukan no...      1             31   \n",
       "2  aplikasi gopay ini bagus tapi saat mau membaya...      2              9   \n",
       "3  aplikasinya bagus aja, cuma ad sedikit masalah...      3             20   \n",
       "4  Cukup kecewa update kali ini. Mengapa sistem b...      2             15   \n",
       "\n",
       "  month minorVersion majorVersion  \n",
       "0     8       1.56.1          1.5  \n",
       "1     8       1.56.1          1.5  \n",
       "2     8       1.56.1          1.5  \n",
       "3     8       1.56.1          1.5  \n",
       "4     8       1.56.1          1.5  "
      ]
     },
     "execution_count": 11,
     "metadata": {},
     "output_type": "execute_result"
    }
   ],
   "source": [
    "data['minorVersion'] = data['appVersion']\n",
    "data = data.drop(columns=['appVersion'], axis=1)\n",
    "data['majorVersion'] = data['minorVersion'].str[:3]\n",
    "data.head()"
   ]
  },
  {
   "cell_type": "code",
   "execution_count": 12,
   "metadata": {
    "colab": {
     "base_uri": "https://localhost:8080/"
    },
    "id": "n_uo7FAHRiSV",
    "outputId": "fe3cdf19-4038-40c6-d0b3-aa2652214deb"
   },
   "outputs": [
    {
     "name": "stdout",
     "output_type": "stream",
     "text": [
      "['1.5' '1.4' '1.3' '1.2' '1.1']\n"
     ]
    }
   ],
   "source": [
    "print(data['majorVersion'].unique())"
   ]
  },
  {
   "cell_type": "markdown",
   "metadata": {
    "id": "FiF_ZVdRcrBH",
    "jp-MarkdownHeadingCollapsed": true
   },
   "source": [
    "# Exploratory Data Analysis"
   ]
  },
  {
   "cell_type": "code",
   "execution_count": 13,
   "metadata": {
    "id": "CSxUlHmfcqun"
   },
   "outputs": [],
   "source": [
    "import seaborn as sns\n",
    "import matplotlib.pyplot as plt"
   ]
  },
  {
   "cell_type": "code",
   "execution_count": 14,
   "metadata": {
    "colab": {
     "base_uri": "https://localhost:8080/",
     "height": 320
    },
    "id": "sCfzFIcohRLi",
    "outputId": "ce55d99f-4700-4d38-8bef-bc4f7398d954"
   },
   "outputs": [
    {
     "data": {
      "text/html": [
       "<div>\n",
       "<style scoped>\n",
       "    .dataframe tbody tr th:only-of-type {\n",
       "        vertical-align: middle;\n",
       "    }\n",
       "\n",
       "    .dataframe tbody tr th {\n",
       "        vertical-align: top;\n",
       "    }\n",
       "\n",
       "    .dataframe thead th {\n",
       "        text-align: right;\n",
       "    }\n",
       "</style>\n",
       "<table border=\"1\" class=\"dataframe\">\n",
       "  <thead>\n",
       "    <tr style=\"text-align: right;\">\n",
       "      <th></th>\n",
       "      <th>score</th>\n",
       "      <th>thumbsUpCount</th>\n",
       "    </tr>\n",
       "  </thead>\n",
       "  <tbody>\n",
       "    <tr>\n",
       "      <th>count</th>\n",
       "      <td>6920.000000</td>\n",
       "      <td>6920.000000</td>\n",
       "    </tr>\n",
       "    <tr>\n",
       "      <th>mean</th>\n",
       "      <td>2.619942</td>\n",
       "      <td>6.427746</td>\n",
       "    </tr>\n",
       "    <tr>\n",
       "      <th>std</th>\n",
       "      <td>1.781067</td>\n",
       "      <td>32.609237</td>\n",
       "    </tr>\n",
       "    <tr>\n",
       "      <th>min</th>\n",
       "      <td>1.000000</td>\n",
       "      <td>0.000000</td>\n",
       "    </tr>\n",
       "    <tr>\n",
       "      <th>25%</th>\n",
       "      <td>1.000000</td>\n",
       "      <td>0.000000</td>\n",
       "    </tr>\n",
       "    <tr>\n",
       "      <th>50%</th>\n",
       "      <td>2.000000</td>\n",
       "      <td>0.000000</td>\n",
       "    </tr>\n",
       "    <tr>\n",
       "      <th>75%</th>\n",
       "      <td>5.000000</td>\n",
       "      <td>2.000000</td>\n",
       "    </tr>\n",
       "    <tr>\n",
       "      <th>max</th>\n",
       "      <td>5.000000</td>\n",
       "      <td>1419.000000</td>\n",
       "    </tr>\n",
       "  </tbody>\n",
       "</table>\n",
       "</div>"
      ],
      "text/plain": [
       "             score  thumbsUpCount\n",
       "count  6920.000000    6920.000000\n",
       "mean      2.619942       6.427746\n",
       "std       1.781067      32.609237\n",
       "min       1.000000       0.000000\n",
       "25%       1.000000       0.000000\n",
       "50%       2.000000       0.000000\n",
       "75%       5.000000       2.000000\n",
       "max       5.000000    1419.000000"
      ]
     },
     "execution_count": 14,
     "metadata": {},
     "output_type": "execute_result"
    }
   ],
   "source": [
    "data.describe()"
   ]
  },
  {
   "cell_type": "code",
   "execution_count": 15,
   "metadata": {
    "colab": {
     "base_uri": "https://localhost:8080/",
     "height": 106
    },
    "id": "NOKpg9LFhjED",
    "outputId": "f4fe2c3c-f200-4556-b359-dcf22449a66a"
   },
   "outputs": [
    {
     "data": {
      "text/plain": [
       "<Axes: xlabel='score', ylabel='count'>"
      ]
     },
     "execution_count": 15,
     "metadata": {},
     "output_type": "execute_result"
    },
    {
     "data": {
      "image/png": "[encoded data removed]",
      "text/plain": [
       "<Figure size 640x480 with 1 Axes>"
      ]
     },
     "metadata": {},
     "output_type": "display_data"
    }
   ],
   "source": [
    "sns.countplot(data=data, x='score')"
   ]
  },
  {
   "cell_type": "code",
   "execution_count": 16,
   "metadata": {
    "colab": {
     "base_uri": "https://localhost:8080/",
     "height": 106
    },
    "id": "MdNXDAGFh3wr",
    "outputId": "04b07c51-eea7-4164-9daf-254e1c6baf07"
   },
   "outputs": [
    {
     "data": {
      "text/plain": [
       "<Axes: xlabel='month', ylabel='count'>"
      ]
     },
     "execution_count": 16,
     "metadata": {},
     "output_type": "execute_result"
    },
    {
     "data": {
      "image/png": "[encoded data removed]",
      "text/plain": [
       "<Figure size 640x480 with 1 Axes>"
      ]
     },
     "metadata": {},
     "output_type": "display_data"
    }
   ],
   "source": [
    "sns.countplot(data=data, x='month')"
   ]
  },
  {
   "cell_type": "code",
   "execution_count": 17,
   "metadata": {
    "colab": {
     "base_uri": "https://localhost:8080/",
     "height": 106
    },
    "id": "dKhFklp1h7h_",
    "outputId": "d6c7be90-1261-4bbe-97ec-18ad3af85039"
   },
   "outputs": [
    {
     "data": {
      "text/plain": [
       "<Axes: xlabel='majorVersion', ylabel='count'>"
      ]
     },
     "execution_count": 17,
     "metadata": {},
     "output_type": "execute_result"
    },
    {
     "data": {
      "image/png": "[encoded data removed]",
      "text/plain": [
       "<Figure size 640x480 with 1 Axes>"
      ]
     },
     "metadata": {},
     "output_type": "display_data"
    }
   ],
   "source": [
    "sns.countplot(data=data, x='majorVersion')"
   ]
  },
  {
   "cell_type": "code",
   "execution_count": 18,
   "metadata": {
    "colab": {
     "base_uri": "https://localhost:8080/",
     "height": 106
    },
    "id": "22A0-j0WlzMN",
    "outputId": "727f6f48-8baa-4ece-f87f-dbfdfe1acc8f"
   },
   "outputs": [
    {
     "data": {
      "text/plain": [
       "<Axes: xlabel='score', ylabel='thumbsUpCount'>"
      ]
     },
     "execution_count": 18,
     "metadata": {},
     "output_type": "execute_result"
    },
    {
     "data": {
      "image/png": "[encoded data removed]",
      "text/plain": [
       "<Figure size 640x480 with 1 Axes>"
      ]
     },
     "metadata": {},
     "output_type": "display_data"
    }
   ],
   "source": [
    "sns.barplot(data=data, x='score', y='thumbsUpCount')"
   ]
  },
  {
   "cell_type": "code",
   "execution_count": 19,
   "metadata": {
    "colab": {
     "base_uri": "https://localhost:8080/",
     "height": 106
    },
    "id": "m3pQtULkiBKi",
    "outputId": "1a1e6ab2-82d5-4b6d-eabf-08cd29173457"
   },
   "outputs": [
    {
     "data": {
      "text/plain": [
       "<Axes: xlabel='majorVersion', ylabel='score'>"
      ]
     },
     "execution_count": 19,
     "metadata": {},
     "output_type": "execute_result"
    },
    {
     "data": {
      "image/png": "[encoded data removed]",
      "text/plain": [
       "<Figure size 640x480 with 1 Axes>"
      ]
     },
     "metadata": {},
     "output_type": "display_data"
    }
   ],
   "source": [
    "sns.barplot(data=data, x='majorVersion', y='score')"
   ]
  },
  {
   "cell_type": "code",
   "execution_count": 20,
   "metadata": {
    "colab": {
     "base_uri": "https://localhost:8080/",
     "height": 106
    },
    "id": "fWBxQj5ki2Zt",
    "outputId": "346e7913-3d31-49ca-bf6b-f92f3f8e2067"
   },
   "outputs": [
    {
     "data": {
      "text/plain": [
       "<Axes: xlabel='month', ylabel='Count'>"
      ]
     },
     "execution_count": 20,
     "metadata": {},
     "output_type": "execute_result"
    },
    {
     "data": {
      "image/png": "[encoded data removed]",
      "text/plain": [
       "<Figure size 640x480 with 1 Axes>"
      ]
     },
     "metadata": {},
     "output_type": "display_data"
    }
   ],
   "source": [
    "sns.histplot(data=data, x='month', hue='majorVersion', multiple=\"stack\")"
   ]
  },
  {
   "cell_type": "code",
   "execution_count": 21,
   "metadata": {
    "colab": {
     "base_uri": "https://localhost:8080/",
     "height": 258
    },
    "id": "yaWROCOdpkic",
    "outputId": "43478bf3-76aa-417f-a613-2b17d98ad72b"
   },
   "outputs": [
    {
     "data": {
      "text/html": [
       "<div>\n",
       "<style scoped>\n",
       "    .dataframe tbody tr th:only-of-type {\n",
       "        vertical-align: middle;\n",
       "    }\n",
       "\n",
       "    .dataframe tbody tr th {\n",
       "        vertical-align: top;\n",
       "    }\n",
       "\n",
       "    .dataframe thead th {\n",
       "        text-align: right;\n",
       "    }\n",
       "</style>\n",
       "<table border=\"1\" class=\"dataframe\">\n",
       "  <thead>\n",
       "    <tr style=\"text-align: right;\">\n",
       "      <th>month</th>\n",
       "      <th>3</th>\n",
       "      <th>4</th>\n",
       "      <th>5</th>\n",
       "      <th>6</th>\n",
       "      <th>7</th>\n",
       "      <th>8</th>\n",
       "    </tr>\n",
       "    <tr>\n",
       "      <th>majorVersion</th>\n",
       "      <th></th>\n",
       "      <th></th>\n",
       "      <th></th>\n",
       "      <th></th>\n",
       "      <th></th>\n",
       "      <th></th>\n",
       "    </tr>\n",
       "  </thead>\n",
       "  <tbody>\n",
       "    <tr>\n",
       "      <th>1.1</th>\n",
       "      <td>NaN</td>\n",
       "      <td>NaN</td>\n",
       "      <td>NaN</td>\n",
       "      <td>NaN</td>\n",
       "      <td>NaN</td>\n",
       "      <td>1.000000</td>\n",
       "    </tr>\n",
       "    <tr>\n",
       "      <th>1.2</th>\n",
       "      <td>NaN</td>\n",
       "      <td>NaN</td>\n",
       "      <td>5.000000</td>\n",
       "      <td>NaN</td>\n",
       "      <td>NaN</td>\n",
       "      <td>2.000000</td>\n",
       "    </tr>\n",
       "    <tr>\n",
       "      <th>1.3</th>\n",
       "      <td>NaN</td>\n",
       "      <td>NaN</td>\n",
       "      <td>NaN</td>\n",
       "      <td>NaN</td>\n",
       "      <td>2.000000</td>\n",
       "      <td>NaN</td>\n",
       "    </tr>\n",
       "    <tr>\n",
       "      <th>1.4</th>\n",
       "      <td>2.101266</td>\n",
       "      <td>2.443396</td>\n",
       "      <td>2.362903</td>\n",
       "      <td>2.331081</td>\n",
       "      <td>2.724638</td>\n",
       "      <td>3.022222</td>\n",
       "    </tr>\n",
       "    <tr>\n",
       "      <th>1.5</th>\n",
       "      <td>NaN</td>\n",
       "      <td>NaN</td>\n",
       "      <td>NaN</td>\n",
       "      <td>2.157509</td>\n",
       "      <td>2.728496</td>\n",
       "      <td>2.863786</td>\n",
       "    </tr>\n",
       "  </tbody>\n",
       "</table>\n",
       "</div>"
      ],
      "text/plain": [
       "month                3         4         5         6         7         8\n",
       "majorVersion                                                            \n",
       "1.1                NaN       NaN       NaN       NaN       NaN  1.000000\n",
       "1.2                NaN       NaN  5.000000       NaN       NaN  2.000000\n",
       "1.3                NaN       NaN       NaN       NaN  2.000000       NaN\n",
       "1.4           2.101266  2.443396  2.362903  2.331081  2.724638  3.022222\n",
       "1.5                NaN       NaN       NaN  2.157509  2.728496  2.863786"
      ]
     },
     "execution_count": 21,
     "metadata": {},
     "output_type": "execute_result"
    }
   ],
   "source": [
    "data.pivot_table(index='majorVersion',\n",
    "                columns='month',\n",
    "                values='score',\n",
    "                aggfunc='mean')"
   ]
  },
  {
   "cell_type": "markdown",
   "metadata": {
    "id": "tddzMp7Hc9Xg",
    "jp-MarkdownHeadingCollapsed": true
   },
   "source": [
    "# Sentiment Analysis"
   ]
  },
  {
   "cell_type": "code",
   "execution_count": 22,
   "metadata": {
    "colab": {
     "base_uri": "https://localhost:8080/"
    },
    "id": "nft-a182nCvQ",
    "outputId": "e6a8f1a0-1149-43af-fe7b-ff3c5794dc99"
   },
   "outputs": [
    {
     "name": "stdout",
     "output_type": "stream",
     "text": [
      "Requirement already satisfied: tqdm in /opt/conda/lib/python3.12/site-packages (4.67.1)\n"
     ]
    }
   ],
   "source": [
    "!pip install tqdm"
   ]
  },
  {
   "cell_type": "code",
   "execution_count": 23,
   "metadata": {},
   "outputs": [
    {
     "name": "stdout",
     "output_type": "stream",
     "text": [
      "Collecting nltk\n",
      "  Downloading nltk-3.9.1-py3-none-any.whl.metadata (2.9 kB)\n",
      "Requirement already satisfied: click in /opt/conda/lib/python3.12/site-packages (from nltk) (8.2.1)\n",
      "Requirement already satisfied: joblib in /opt/conda/lib/python3.12/site-packages (from nltk) (1.5.1)\n",
      "Collecting regex>=2021.8.3 (from nltk)\n",
      "  Downloading regex-2025.7.34-cp312-cp312-manylinux2014_x86_64.manylinux_2_17_x86_64.manylinux_2_28_x86_64.whl.metadata (40 kB)\n",
      "Requirement already satisfied: tqdm in /opt/conda/lib/python3.12/site-packages (from nltk) (4.67.1)\n",
      "Downloading nltk-3.9.1-py3-none-any.whl (1.5 MB)\n",
      "\u001b[2K   \u001b[90m━━━━━━━━━━━━━━━━━━━━━━━━━━━━━━━━━━━━━━━━\u001b[0m \u001b[32m1.5/1.5 MB\u001b[0m \u001b[31m78.3 MB/s\u001b[0m eta \u001b[36m0:00:00\u001b[0m\n",
      "\u001b[?25hDownloading regex-2025.7.34-cp312-cp312-manylinux2014_x86_64.manylinux_2_17_x86_64.manylinux_2_28_x86_64.whl (801 kB)\n",
      "\u001b[2K   \u001b[90m━━━━━━━━━━━━━━━━━━━━━━━━━━━━━━━━━━━━━━━━\u001b[0m \u001b[32m801.9/801.9 kB\u001b[0m \u001b[31m62.6 MB/s\u001b[0m eta \u001b[36m0:00:00\u001b[0m\n",
      "\u001b[?25hInstalling collected packages: regex, nltk\n",
      "\u001b[2K   \u001b[90m━━━━━━━━━━━━━━━━━━━━━━━━━━━━━━━━━━━━━━━━\u001b[0m \u001b[32m2/2\u001b[0m [nltk][32m1/2\u001b[0m [nltk]\n",
      "\u001b[1A\u001b[2KSuccessfully installed nltk-3.9.1 regex-2025.7.34\n"
     ]
    }
   ],
   "source": [
    "!pip install nltk"
   ]
  },
  {
   "cell_type": "code",
   "execution_count": 24,
   "metadata": {},
   "outputs": [
    {
     "name": "stdout",
     "output_type": "stream",
     "text": [
      "Collecting transformers\n",
      "  Downloading transformers-4.55.4-py3-none-any.whl.metadata (41 kB)\n",
      "Requirement already satisfied: filelock in /opt/conda/lib/python3.12/site-packages (from transformers) (3.13.1)\n",
      "Collecting huggingface-hub<1.0,>=0.34.0 (from transformers)\n",
      "  Downloading huggingface_hub-0.34.4-py3-none-any.whl.metadata (14 kB)\n",
      "Requirement already satisfied: numpy>=1.17 in /opt/conda/lib/python3.12/site-packages (from transformers) (2.2.6)\n",
      "Requirement already satisfied: packaging>=20.0 in /opt/conda/lib/python3.12/site-packages (from transformers) (25.0)\n",
      "Requirement already satisfied: pyyaml>=5.1 in /opt/conda/lib/python3.12/site-packages (from transformers) (6.0.2)\n",
      "Requirement already satisfied: regex!=2019.12.17 in /opt/conda/lib/python3.12/site-packages (from transformers) (2025.7.34)\n",
      "Requirement already satisfied: requests in /opt/conda/lib/python3.12/site-packages (from transformers) (2.32.4)\n",
      "Collecting tokenizers<0.22,>=0.21 (from transformers)\n",
      "  Downloading tokenizers-0.21.4-cp39-abi3-manylinux_2_17_x86_64.manylinux2014_x86_64.whl.metadata (6.7 kB)\n",
      "Collecting safetensors>=0.4.3 (from transformers)\n",
      "  Downloading safetensors-0.6.2-cp38-abi3-manylinux_2_17_x86_64.manylinux2014_x86_64.whl.metadata (4.1 kB)\n",
      "Requirement already satisfied: tqdm>=4.27 in /opt/conda/lib/python3.12/site-packages (from transformers) (4.67.1)\n",
      "Requirement already satisfied: fsspec>=2023.5.0 in /opt/conda/lib/python3.12/site-packages (from huggingface-hub<1.0,>=0.34.0->transformers) (2025.5.1)\n",
      "Requirement already satisfied: typing-extensions>=3.7.4.3 in /opt/conda/lib/python3.12/site-packages (from huggingface-hub<1.0,>=0.34.0->transformers) (4.14.0)\n",
      "Collecting hf-xet<2.0.0,>=1.1.3 (from huggingface-hub<1.0,>=0.34.0->transformers)\n",
      "  Downloading hf_xet-1.1.9-cp37-abi3-manylinux_2_17_x86_64.manylinux2014_x86_64.whl.metadata (4.7 kB)\n",
      "Requirement already satisfied: charset_normalizer<4,>=2 in /opt/conda/lib/python3.12/site-packages (from requests->transformers) (3.4.2)\n",
      "Requirement already satisfied: idna<4,>=2.5 in /opt/conda/lib/python3.12/site-packages (from requests->transformers) (3.10)\n",
      "Requirement already satisfied: urllib3<3,>=1.21.1 in /opt/conda/lib/python3.12/site-packages (from requests->transformers) (2.5.0)\n",
      "Requirement already satisfied: certifi>=2017.4.17 in /opt/conda/lib/python3.12/site-packages (from requests->transformers) (2025.6.15)\n",
      "Downloading transformers-4.55.4-py3-none-any.whl (11.3 MB)\n",
      "\u001b[2K   \u001b[90m━━━━━━━━━━━━━━━━━━━━━━━━━━━━━━━━━━━━━━━━\u001b[0m \u001b[32m11.3/11.3 MB\u001b[0m \u001b[31m84.7 MB/s\u001b[0m eta \u001b[36m0:00:00\u001b[0m\n",
      "\u001b[?25hDownloading huggingface_hub-0.34.4-py3-none-any.whl (561 kB)\n",
      "\u001b[2K   \u001b[90m━━━━━━━━━━━━━━━━━━━━━━━━━━━━━━━━━━━━━━━━\u001b[0m \u001b[32m561.5/561.5 kB\u001b[0m \u001b[31m42.6 MB/s\u001b[0m eta \u001b[36m0:00:00\u001b[0m\n",
      "\u001b[?25hDownloading hf_xet-1.1.9-cp37-abi3-manylinux_2_17_x86_64.manylinux2014_x86_64.whl (3.2 MB)\n",
      "\u001b[2K   \u001b[90m━━━━━━━━━━━━━━━━━━━━━━━━━━━━━━━━━━━━━━━━\u001b[0m \u001b[32m3.2/3.2 MB\u001b[0m \u001b[31m79.3 MB/s\u001b[0m eta \u001b[36m0:00:00\u001b[0m\n",
      "\u001b[?25hDownloading tokenizers-0.21.4-cp39-abi3-manylinux_2_17_x86_64.manylinux2014_x86_64.whl (3.1 MB)\n",
      "\u001b[2K   \u001b[90m━━━━━━━━━━━━━━━━━━━━━━━━━━━━━━━━━━━━━━━━\u001b[0m \u001b[32m3.1/3.1 MB\u001b[0m \u001b[31m80.3 MB/s\u001b[0m eta \u001b[36m0:00:00\u001b[0m\n",
      "\u001b[?25hDownloading safetensors-0.6.2-cp38-abi3-manylinux_2_17_x86_64.manylinux2014_x86_64.whl (485 kB)\n",
      "Installing collected packages: safetensors, hf-xet, huggingface-hub, tokenizers, transformers\n",
      "\u001b[2K   \u001b[90m━━━━━━━━━━━━━━━━━━━━━━━━━━━━━━━━━━━━━━━━\u001b[0m \u001b[32m5/5\u001b[0m [transformers][0m [transformers]\n",
      "\u001b[1A\u001b[2KSuccessfully installed hf-xet-1.1.9 huggingface-hub-0.34.4 safetensors-0.6.2 tokenizers-0.21.4 transformers-4.55.4\n"
     ]
    }
   ],
   "source": [
    "!pip install transformers"
   ]
  },
  {
   "cell_type": "code",
   "execution_count": 25,
   "metadata": {
    "colab": {
     "base_uri": "https://localhost:8080/"
    },
    "id": "_NrdGqDPc9DS",
    "outputId": "9c902d8a-f2de-465f-d255-27634fd384c3"
   },
   "outputs": [
    {
     "name": "stderr",
     "output_type": "stream",
     "text": [
      "[nltk_data] Downloading package punkt_tab to /home/jovyan/nltk_data...\n",
      "[nltk_data]   Unzipping tokenizers/punkt_tab.zip.\n",
      "[nltk_data] Downloading package stopwords to /home/jovyan/nltk_data...\n",
      "[nltk_data]   Unzipping corpora/stopwords.zip.\n",
      "[nltk_data] Downloading package wordnet to /home/jovyan/nltk_data...\n"
     ]
    }
   ],
   "source": [
    "import re\n",
    "import string\n",
    "from tqdm import tqdm\n",
    "import nltk\n",
    "nltk.download('punkt_tab')\n",
    "nltk.download('stopwords')\n",
    "nltk.download('wordnet')\n",
    "from nltk.corpus import stopwords\n",
    "from nltk.tokenize import word_tokenize\n",
    "from nltk.stem import WordNetLemmatizer\n",
    "from transformers import pipeline\n",
    "tqdm.pandas()\n",
    "import asyncio\n",
    "import time\n",
    "import transformers"
   ]
  },
  {
   "cell_type": "code",
   "execution_count": 26,
   "metadata": {},
   "outputs": [
    {
     "data": {
      "application/vnd.jupyter.widget-view+json": {
       "model_id": "9a50fdd542cd4221b35352d1e8ae20fc",
       "version_major": 2,
       "version_minor": 0
      },
      "text/plain": [
       "config.json:   0%|          | 0.00/846 [00:00<?, ?B/s]"
      ]
     },
     "metadata": {},
     "output_type": "display_data"
    },
    {
     "data": {
      "application/vnd.jupyter.widget-view+json": {
       "model_id": "6d605318bd954368b49c9434fae64537",
       "version_major": 2,
       "version_minor": 0
      },
      "text/plain": [
       "pytorch_model.bin:   0%|          | 0.00/2.46G [00:00<?, ?B/s]"
      ]
     },
     "metadata": {},
     "output_type": "display_data"
    },
    {
     "data": {
      "application/vnd.jupyter.widget-view+json": {
       "model_id": "e1a9bb3948974422af5d885563f21beb",
       "version_major": 2,
       "version_minor": 0
      },
      "text/plain": [
       "generation_config.json:   0%|          | 0.00/189 [00:00<?, ?B/s]"
      ]
     },
     "metadata": {},
     "output_type": "display_data"
    },
    {
     "data": {
      "application/vnd.jupyter.widget-view+json": {
       "model_id": "8b1dbcfd865b487997f8daab61b606f7",
       "version_major": 2,
       "version_minor": 0
      },
      "text/plain": [
       "tokenizer_config.json:   0%|          | 0.00/564 [00:00<?, ?B/s]"
      ]
     },
     "metadata": {},
     "output_type": "display_data"
    },
    {
     "data": {
      "application/vnd.jupyter.widget-view+json": {
       "model_id": "39e35dc7603b40859f30a8b5e4030eb2",
       "version_major": 2,
       "version_minor": 0
      },
      "text/plain": [
       "model.safetensors:   0%|          | 0.00/2.46G [00:00<?, ?B/s]"
      ]
     },
     "metadata": {},
     "output_type": "display_data"
    },
    {
     "data": {
      "application/vnd.jupyter.widget-view+json": {
       "model_id": "07c99f02e28445d8a1a33ccc83220068",
       "version_major": 2,
       "version_minor": 0
      },
      "text/plain": [
       "sentencepiece.bpe.model:   0%|          | 0.00/4.85M [00:00<?, ?B/s]"
      ]
     },
     "metadata": {},
     "output_type": "display_data"
    },
    {
     "data": {
      "application/vnd.jupyter.widget-view+json": {
       "model_id": "61e6a4b6f26b475f8b28b13dbf226743",
       "version_major": 2,
       "version_minor": 0
      },
      "text/plain": [
       "tokenizer.json:   0%|          | 0.00/17.3M [00:00<?, ?B/s]"
      ]
     },
     "metadata": {},
     "output_type": "display_data"
    },
    {
     "data": {
      "application/vnd.jupyter.widget-view+json": {
       "model_id": "bf4758a095a04853869875403c7cde03",
       "version_major": 2,
       "version_minor": 0
      },
      "text/plain": [
       "special_tokens_map.json: 0.00B [00:00, ?B/s]"
      ]
     },
     "metadata": {},
     "output_type": "display_data"
    },
    {
     "name": "stderr",
     "output_type": "stream",
     "text": [
      "Device set to use cuda:0\n"
     ]
    }
   ],
   "source": [
    "translator = pipeline(\n",
    "    \"translation\",\n",
    "    model=\"facebook/nllb-200-distilled-600M\",\n",
    "    src_lang=\"ind_Latn\",\n",
    "    tgt_lang=\"eng_Latn\"\n",
    ")"
   ]
  },
  {
   "cell_type": "code",
   "execution_count": 27,
   "metadata": {
    "colab": {
     "base_uri": "https://localhost:8080/"
    },
    "id": "vtkyloW-mf9v",
    "outputId": "d2275ffe-7ebf-4e8e-80b8-7794517644d5"
   },
   "outputs": [
    {
     "data": {
      "application/vnd.jupyter.widget-view+json": {
       "model_id": "5143e54cba024fc0b65dd25aac4db391",
       "version_major": 2,
       "version_minor": 0
      },
      "text/plain": [
       "config.json:   0%|          | 0.00/629 [00:00<?, ?B/s]"
      ]
     },
     "metadata": {},
     "output_type": "display_data"
    },
    {
     "data": {
      "application/vnd.jupyter.widget-view+json": {
       "model_id": "54a17fec54784e929164833041203a86",
       "version_major": 2,
       "version_minor": 0
      },
      "text/plain": [
       "model.safetensors:   0%|          | 0.00/268M [00:00<?, ?B/s]"
      ]
     },
     "metadata": {},
     "output_type": "display_data"
    },
    {
     "data": {
      "application/vnd.jupyter.widget-view+json": {
       "model_id": "bd0873023444430d8e9bad8d570b7aa3",
       "version_major": 2,
       "version_minor": 0
      },
      "text/plain": [
       "tokenizer_config.json:   0%|          | 0.00/48.0 [00:00<?, ?B/s]"
      ]
     },
     "metadata": {},
     "output_type": "display_data"
    },
    {
     "data": {
      "application/vnd.jupyter.widget-view+json": {
       "model_id": "5e70277bc72a4e5b9456a3a116d65c6e",
       "version_major": 2,
       "version_minor": 0
      },
      "text/plain": [
       "vocab.txt:   0%|          | 0.00/232k [00:00<?, ?B/s]"
      ]
     },
     "metadata": {},
     "output_type": "display_data"
    },
    {
     "name": "stderr",
     "output_type": "stream",
     "text": [
      "Device set to use cuda:0\n"
     ]
    }
   ],
   "source": [
    "def translate(text):\n",
    "  return translator(text)[0][\"translation_text\"]\n",
    "\n",
    "def cleaningText(text):\n",
    "    text = re.sub(r'@[A-Za-z0-9]+', '', text)\n",
    "    text = re.sub(r'#[A-Za-z0-9]+', '', text)\n",
    "    text = re.sub(r'RT[\\s]', '', text)\n",
    "    text = re.sub(r\"http\\S+\", '', text)\n",
    "    text = re.sub(r'[0-9]+', '', text)\n",
    "    text = re.sub(r'[^\\w\\s]', '', text)\n",
    "\n",
    "    text = text.replace('\\n', ' ')\n",
    "    text = text.translate(str.maketrans('', '', string.punctuation))\n",
    "    text = text.strip(' ')\n",
    "    return text\n",
    "\n",
    "def casefoldingText(text):\n",
    "    text = text.lower()\n",
    "    return text\n",
    "\n",
    "def tokenizing(text):\n",
    "  tokens = word_tokenize(text)\n",
    "  return tokens\n",
    "\n",
    "def stopwordstext(text):\n",
    "  stop_words = set(stopwords.words('english'))\n",
    "  filtered_tokens = [word for word in text if word not in stop_words]\n",
    "  return filtered_tokens\n",
    "\n",
    "def lemitizing(text):\n",
    "  lemmatizer = WordNetLemmatizer()\n",
    "  processed_text = [lemmatizer.lemmatize(word) for word in text]\n",
    "  processed_text = \" \".join(processed_text)\n",
    "  return processed_text\n",
    "\n",
    "pipe = pipeline(\"text-classification\", model=\"distilbert-base-uncased-finetuned-sst-2-english\")\n",
    "def sentimenttext(text):\n",
    "  result = pipe(text)\n",
    "  return result[0]['label']"
   ]
  },
  {
   "cell_type": "code",
   "execution_count": 28,
   "metadata": {
    "colab": {
     "base_uri": "https://localhost:8080/"
    },
    "id": "rRRfFYqbm0R6",
    "outputId": "38860b27-2455-4679-f5b6-c0db7ff538b3"
   },
   "outputs": [
    {
     "name": "stderr",
     "output_type": "stream",
     "text": [
      "  0% 11/6920 [00:03<31:53,  3.61it/s]You seem to be using the pipelines sequentially on GPU. In order to maximize efficiency please use a dataset\n",
      " 45% 3118/6920 [10:24<08:48,  7.20it/s]Your input_length: 183 is bigger than 0.9 * max_length: 200. You might consider increasing your max_length manually, e.g. translator('...', max_length=400)\n",
      " 53% 3636/6920 [12:22<09:11,  5.96it/s]Your input_length: 228 is bigger than 0.9 * max_length: 200. You might consider increasing your max_length manually, e.g. translator('...', max_length=400)\n",
      "100% 6920/6920 [20:21<00:00,  5.67it/s]\n",
      "100% 6920/6920 [00:00<00:00, 168739.73it/s]\n",
      "100% 6920/6920 [00:00<00:00, 3105894.45it/s]\n",
      "100% 6920/6920 [00:00<00:00, 34500.18it/s]\n",
      "100% 6920/6920 [00:00<00:00, 43672.72it/s]\n",
      "100% 6920/6920 [00:01<00:00, 6487.30it/s]\n",
      "100% 6920/6920 [00:07<00:00, 891.86it/s]\n"
     ]
    }
   ],
   "source": [
    "docs = pd.DataFrame(data['content'].reset_index(drop=True), columns=['content'])\n",
    "\n",
    "docs['text_translate'] = docs['content'].progress_apply(translate)\n",
    "docs['text_clean'] = docs['text_translate'].progress_apply(cleaningText)\n",
    "docs['text_lower'] = docs['text_clean'].progress_apply(casefoldingText)\n",
    "docs['text_tokenizing'] = docs['text_lower'].progress_apply(tokenizing)\n",
    "docs['text_stopwords'] = docs['text_tokenizing'].progress_apply(stopwordstext)\n",
    "docs['text_lemitizing'] = docs['text_stopwords'].progress_apply(lemitizing)\n",
    "docs['text_label'] = docs['text_lemitizing'].progress_apply(sentimenttext)"
   ]
  },
  {
   "cell_type": "code",
   "execution_count": 29,
   "metadata": {
    "colab": {
     "base_uri": "https://localhost:8080/",
     "height": 1000
    },
    "id": "SOgMYCj5mtjB",
    "outputId": "8f025b3c-bfb7-48ac-d05b-835571b41ad9"
   },
   "outputs": [
    {
     "data": {
      "text/html": [
       "<div>\n",
       "<style scoped>\n",
       "    .dataframe tbody tr th:only-of-type {\n",
       "        vertical-align: middle;\n",
       "    }\n",
       "\n",
       "    .dataframe tbody tr th {\n",
       "        vertical-align: top;\n",
       "    }\n",
       "\n",
       "    .dataframe thead th {\n",
       "        text-align: right;\n",
       "    }\n",
       "</style>\n",
       "<table border=\"1\" class=\"dataframe\">\n",
       "  <thead>\n",
       "    <tr style=\"text-align: right;\">\n",
       "      <th></th>\n",
       "      <th>content</th>\n",
       "      <th>text_translate</th>\n",
       "      <th>text_clean</th>\n",
       "      <th>text_lower</th>\n",
       "      <th>text_tokenizing</th>\n",
       "      <th>text_stopwords</th>\n",
       "      <th>text_lemitizing</th>\n",
       "      <th>text_label</th>\n",
       "    </tr>\n",
       "  </thead>\n",
       "  <tbody>\n",
       "    <tr>\n",
       "      <th>0</th>\n",
       "      <td>aplikasi nya udh bagus seperti yang lainnya ta...</td>\n",
       "      <td>The app is just as good as the others, but the...</td>\n",
       "      <td>The app is just as good as the others but ther...</td>\n",
       "      <td>the app is just as good as the others but ther...</td>\n",
       "      <td>[the, app, is, just, as, good, as, the, others...</td>\n",
       "      <td>[app, good, others, theres, lot, weirdness, li...</td>\n",
       "      <td>app good others there lot weirdness like spin ...</td>\n",
       "      <td>NEGATIVE</td>\n",
       "    </tr>\n",
       "    <tr>\n",
       "      <th>1</th>\n",
       "      <td>Saya download aplikasi ini dan saat masukan no...</td>\n",
       "      <td>I downloaded this app and when I entered the n...</td>\n",
       "      <td>I downloaded this app and when I entered the n...</td>\n",
       "      <td>i downloaded this app and when i entered the n...</td>\n",
       "      <td>[i, downloaded, this, app, and, when, i, enter...</td>\n",
       "      <td>[downloaded, app, entered, number, otp, code, ...</td>\n",
       "      <td>downloaded app entered number otp code worked ...</td>\n",
       "      <td>NEGATIVE</td>\n",
       "    </tr>\n",
       "    <tr>\n",
       "      <th>2</th>\n",
       "      <td>aplikasi gopay ini bagus tapi saat mau membaya...</td>\n",
       "      <td>This gopay app is great, but when I want to pa...</td>\n",
       "      <td>This gopay app is great but when I want to pay...</td>\n",
       "      <td>this gopay app is great but when i want to pay...</td>\n",
       "      <td>[this, gopay, app, is, great, but, when, i, wa...</td>\n",
       "      <td>[gopay, app, great, want, pay, transaction, th...</td>\n",
       "      <td>gopay app great want pay transaction there pro...</td>\n",
       "      <td>NEGATIVE</td>\n",
       "    </tr>\n",
       "    <tr>\n",
       "      <th>3</th>\n",
       "      <td>aplikasinya bagus aja, cuma ad sedikit masalah...</td>\n",
       "      <td>It's a good app, but it's just a little bit of...</td>\n",
       "      <td>Its a good app but its just a little bit of a ...</td>\n",
       "      <td>its a good app but its just a little bit of a ...</td>\n",
       "      <td>[its, a, good, app, but, its, just, a, little,...</td>\n",
       "      <td>[good, app, little, bit, problem, trying, pay,...</td>\n",
       "      <td>good app little bit problem trying pay topup g...</td>\n",
       "      <td>POSITIVE</td>\n",
       "    </tr>\n",
       "    <tr>\n",
       "      <th>4</th>\n",
       "      <td>Cukup kecewa update kali ini. Mengapa sistem b...</td>\n",
       "      <td>I'm pretty disappointed with the update this t...</td>\n",
       "      <td>Im pretty disappointed with the update this ti...</td>\n",
       "      <td>im pretty disappointed with the update this ti...</td>\n",
       "      <td>[im, pretty, disappointed, with, the, update, ...</td>\n",
       "      <td>[im, pretty, disappointed, update, time, curre...</td>\n",
       "      <td>im pretty disappointed update time current gop...</td>\n",
       "      <td>NEGATIVE</td>\n",
       "    </tr>\n",
       "    <tr>\n",
       "      <th>...</th>\n",
       "      <td>...</td>\n",
       "      <td>...</td>\n",
       "      <td>...</td>\n",
       "      <td>...</td>\n",
       "      <td>...</td>\n",
       "      <td>...</td>\n",
       "      <td>...</td>\n",
       "      <td>...</td>\n",
       "    </tr>\n",
       "    <tr>\n",
       "      <th>6915</th>\n",
       "      <td>bagus nian gopay.... lebih aman mantap. gak ka...</td>\n",
       "      <td>It's better than that. It's safer. It's steady.</td>\n",
       "      <td>Its better than that Its safer Its steady</td>\n",
       "      <td>its better than that its safer its steady</td>\n",
       "      <td>[its, better, than, that, its, safer, its, ste...</td>\n",
       "      <td>[better, safer, steady]</td>\n",
       "      <td>better safer steady</td>\n",
       "      <td>POSITIVE</td>\n",
       "    </tr>\n",
       "    <tr>\n",
       "      <th>6916</th>\n",
       "      <td>saya suka apl ini nyaman bertransaksi tidak le...</td>\n",
       "      <td>I like this app. It's convenient to transact n...</td>\n",
       "      <td>I like this app Its convenient to transact no ...</td>\n",
       "      <td>i like this app its convenient to transact no ...</td>\n",
       "      <td>[i, like, this, app, its, convenient, to, tran...</td>\n",
       "      <td>[like, app, convenient, transact, thank]</td>\n",
       "      <td>like app convenient transact thank</td>\n",
       "      <td>POSITIVE</td>\n",
       "    </tr>\n",
       "    <tr>\n",
       "      <th>6917</th>\n",
       "      <td>chatbot gk guna mau upgrade akun gk bs, gk ada...</td>\n",
       "      <td>Chatbots aren't upgrading accounts. There's no...</td>\n",
       "      <td>Chatbots arent upgrading accounts Theres no po...</td>\n",
       "      <td>chatbots arent upgrading accounts theres no po...</td>\n",
       "      <td>[chatbots, arent, upgrading, accounts, theres,...</td>\n",
       "      <td>[chatbots, arent, upgrading, accounts, theres,...</td>\n",
       "      <td>chatbots arent upgrading account there point u...</td>\n",
       "      <td>NEGATIVE</td>\n",
       "    </tr>\n",
       "    <tr>\n",
       "      <th>6918</th>\n",
       "      <td>ini gopay kenapa? apakah ganguan atau sudah ga...</td>\n",
       "      <td>is this gopay why? is it ganguan or is it no l...</td>\n",
       "      <td>is this gopay why is it ganguan or is it no lo...</td>\n",
       "      <td>is this gopay why is it ganguan or is it no lo...</td>\n",
       "      <td>[is, this, gopay, why, is, it, ganguan, or, is...</td>\n",
       "      <td>[gopay, ganguan, longer, working, tokopedia, p...</td>\n",
       "      <td>gopay ganguan longer working tokopedia paylate...</td>\n",
       "      <td>NEGATIVE</td>\n",
       "    </tr>\n",
       "    <tr>\n",
       "      <th>6919</th>\n",
       "      <td>cepat &amp; bagus... bonus nya banyak in.....</td>\n",
       "      <td>Fast &amp; good... the bonus is a lot in...</td>\n",
       "      <td>Fast  good the bonus is a lot in</td>\n",
       "      <td>fast  good the bonus is a lot in</td>\n",
       "      <td>[fast, good, the, bonus, is, a, lot, in]</td>\n",
       "      <td>[fast, good, bonus, lot]</td>\n",
       "      <td>fast good bonus lot</td>\n",
       "      <td>POSITIVE</td>\n",
       "    </tr>\n",
       "  </tbody>\n",
       "</table>\n",
       "<p>6920 rows × 8 columns</p>\n",
       "</div>"
      ],
      "text/plain": [
       "                                                content  \\\n",
       "0     aplikasi nya udh bagus seperti yang lainnya ta...   \n",
       "1     Saya download aplikasi ini dan saat masukan no...   \n",
       "2     aplikasi gopay ini bagus tapi saat mau membaya...   \n",
       "3     aplikasinya bagus aja, cuma ad sedikit masalah...   \n",
       "4     Cukup kecewa update kali ini. Mengapa sistem b...   \n",
       "...                                                 ...   \n",
       "6915  bagus nian gopay.... lebih aman mantap. gak ka...   \n",
       "6916  saya suka apl ini nyaman bertransaksi tidak le...   \n",
       "6917  chatbot gk guna mau upgrade akun gk bs, gk ada...   \n",
       "6918  ini gopay kenapa? apakah ganguan atau sudah ga...   \n",
       "6919          cepat & bagus... bonus nya banyak in.....   \n",
       "\n",
       "                                         text_translate  \\\n",
       "0     The app is just as good as the others, but the...   \n",
       "1     I downloaded this app and when I entered the n...   \n",
       "2     This gopay app is great, but when I want to pa...   \n",
       "3     It's a good app, but it's just a little bit of...   \n",
       "4     I'm pretty disappointed with the update this t...   \n",
       "...                                                 ...   \n",
       "6915    It's better than that. It's safer. It's steady.   \n",
       "6916  I like this app. It's convenient to transact n...   \n",
       "6917  Chatbots aren't upgrading accounts. There's no...   \n",
       "6918  is this gopay why? is it ganguan or is it no l...   \n",
       "6919            Fast & good... the bonus is a lot in...   \n",
       "\n",
       "                                             text_clean  \\\n",
       "0     The app is just as good as the others but ther...   \n",
       "1     I downloaded this app and when I entered the n...   \n",
       "2     This gopay app is great but when I want to pay...   \n",
       "3     Its a good app but its just a little bit of a ...   \n",
       "4     Im pretty disappointed with the update this ti...   \n",
       "...                                                 ...   \n",
       "6915          Its better than that Its safer Its steady   \n",
       "6916  I like this app Its convenient to transact no ...   \n",
       "6917  Chatbots arent upgrading accounts Theres no po...   \n",
       "6918  is this gopay why is it ganguan or is it no lo...   \n",
       "6919                   Fast  good the bonus is a lot in   \n",
       "\n",
       "                                             text_lower  \\\n",
       "0     the app is just as good as the others but ther...   \n",
       "1     i downloaded this app and when i entered the n...   \n",
       "2     this gopay app is great but when i want to pay...   \n",
       "3     its a good app but its just a little bit of a ...   \n",
       "4     im pretty disappointed with the update this ti...   \n",
       "...                                                 ...   \n",
       "6915          its better than that its safer its steady   \n",
       "6916  i like this app its convenient to transact no ...   \n",
       "6917  chatbots arent upgrading accounts theres no po...   \n",
       "6918  is this gopay why is it ganguan or is it no lo...   \n",
       "6919                   fast  good the bonus is a lot in   \n",
       "\n",
       "                                        text_tokenizing  \\\n",
       "0     [the, app, is, just, as, good, as, the, others...   \n",
       "1     [i, downloaded, this, app, and, when, i, enter...   \n",
       "2     [this, gopay, app, is, great, but, when, i, wa...   \n",
       "3     [its, a, good, app, but, its, just, a, little,...   \n",
       "4     [im, pretty, disappointed, with, the, update, ...   \n",
       "...                                                 ...   \n",
       "6915  [its, better, than, that, its, safer, its, ste...   \n",
       "6916  [i, like, this, app, its, convenient, to, tran...   \n",
       "6917  [chatbots, arent, upgrading, accounts, theres,...   \n",
       "6918  [is, this, gopay, why, is, it, ganguan, or, is...   \n",
       "6919           [fast, good, the, bonus, is, a, lot, in]   \n",
       "\n",
       "                                         text_stopwords  \\\n",
       "0     [app, good, others, theres, lot, weirdness, li...   \n",
       "1     [downloaded, app, entered, number, otp, code, ...   \n",
       "2     [gopay, app, great, want, pay, transaction, th...   \n",
       "3     [good, app, little, bit, problem, trying, pay,...   \n",
       "4     [im, pretty, disappointed, update, time, curre...   \n",
       "...                                                 ...   \n",
       "6915                            [better, safer, steady]   \n",
       "6916           [like, app, convenient, transact, thank]   \n",
       "6917  [chatbots, arent, upgrading, accounts, theres,...   \n",
       "6918  [gopay, ganguan, longer, working, tokopedia, p...   \n",
       "6919                           [fast, good, bonus, lot]   \n",
       "\n",
       "                                        text_lemitizing text_label  \n",
       "0     app good others there lot weirdness like spin ...   NEGATIVE  \n",
       "1     downloaded app entered number otp code worked ...   NEGATIVE  \n",
       "2     gopay app great want pay transaction there pro...   NEGATIVE  \n",
       "3     good app little bit problem trying pay topup g...   POSITIVE  \n",
       "4     im pretty disappointed update time current gop...   NEGATIVE  \n",
       "...                                                 ...        ...  \n",
       "6915                                better safer steady   POSITIVE  \n",
       "6916                 like app convenient transact thank   POSITIVE  \n",
       "6917  chatbots arent upgrading account there point u...   NEGATIVE  \n",
       "6918  gopay ganguan longer working tokopedia paylate...   NEGATIVE  \n",
       "6919                                fast good bonus lot   POSITIVE  \n",
       "\n",
       "[6920 rows x 8 columns]"
      ]
     },
     "execution_count": 29,
     "metadata": {},
     "output_type": "execute_result"
    }
   ],
   "source": [
    "docs"
   ]
  },
  {
   "cell_type": "code",
   "execution_count": 30,
   "metadata": {
    "colab": {
     "base_uri": "https://localhost:8080/",
     "height": 293
    },
    "id": "bRgKb9pFrHzK",
    "outputId": "788b0c98-200a-4e8b-fe73-21fafb0e525d"
   },
   "outputs": [
    {
     "data": {
      "text/html": [
       "<div>\n",
       "<style scoped>\n",
       "    .dataframe tbody tr th:only-of-type {\n",
       "        vertical-align: middle;\n",
       "    }\n",
       "\n",
       "    .dataframe tbody tr th {\n",
       "        vertical-align: top;\n",
       "    }\n",
       "\n",
       "    .dataframe thead th {\n",
       "        text-align: right;\n",
       "    }\n",
       "</style>\n",
       "<table border=\"1\" class=\"dataframe\">\n",
       "  <thead>\n",
       "    <tr style=\"text-align: right;\">\n",
       "      <th></th>\n",
       "      <th>content</th>\n",
       "      <th>score</th>\n",
       "      <th>thumbsUpCount</th>\n",
       "      <th>month</th>\n",
       "      <th>minorVersion</th>\n",
       "      <th>majorVersion</th>\n",
       "      <th>labels</th>\n",
       "    </tr>\n",
       "  </thead>\n",
       "  <tbody>\n",
       "    <tr>\n",
       "      <th>0</th>\n",
       "      <td>aplikasi nya udh bagus seperti yang lainnya ta...</td>\n",
       "      <td>2</td>\n",
       "      <td>7</td>\n",
       "      <td>8</td>\n",
       "      <td>1.56.1</td>\n",
       "      <td>1.5</td>\n",
       "      <td>NEGATIVE</td>\n",
       "    </tr>\n",
       "    <tr>\n",
       "      <th>1</th>\n",
       "      <td>Saya download aplikasi ini dan saat masukan no...</td>\n",
       "      <td>1</td>\n",
       "      <td>31</td>\n",
       "      <td>8</td>\n",
       "      <td>1.56.1</td>\n",
       "      <td>1.5</td>\n",
       "      <td>NEGATIVE</td>\n",
       "    </tr>\n",
       "    <tr>\n",
       "      <th>2</th>\n",
       "      <td>aplikasi gopay ini bagus tapi saat mau membaya...</td>\n",
       "      <td>2</td>\n",
       "      <td>9</td>\n",
       "      <td>8</td>\n",
       "      <td>1.56.1</td>\n",
       "      <td>1.5</td>\n",
       "      <td>NEGATIVE</td>\n",
       "    </tr>\n",
       "    <tr>\n",
       "      <th>3</th>\n",
       "      <td>aplikasinya bagus aja, cuma ad sedikit masalah...</td>\n",
       "      <td>3</td>\n",
       "      <td>20</td>\n",
       "      <td>8</td>\n",
       "      <td>1.56.1</td>\n",
       "      <td>1.5</td>\n",
       "      <td>POSITIVE</td>\n",
       "    </tr>\n",
       "    <tr>\n",
       "      <th>4</th>\n",
       "      <td>Cukup kecewa update kali ini. Mengapa sistem b...</td>\n",
       "      <td>2</td>\n",
       "      <td>15</td>\n",
       "      <td>8</td>\n",
       "      <td>1.56.1</td>\n",
       "      <td>1.5</td>\n",
       "      <td>NEGATIVE</td>\n",
       "    </tr>\n",
       "  </tbody>\n",
       "</table>\n",
       "</div>"
      ],
      "text/plain": [
       "                                             content  score  thumbsUpCount  \\\n",
       "0  aplikasi nya udh bagus seperti yang lainnya ta...      2              7   \n",
       "1  Saya download aplikasi ini dan saat masukan no...      1             31   \n",
       "2  aplikasi gopay ini bagus tapi saat mau membaya...      2              9   \n",
       "3  aplikasinya bagus aja, cuma ad sedikit masalah...      3             20   \n",
       "4  Cukup kecewa update kali ini. Mengapa sistem b...      2             15   \n",
       "\n",
       "  month minorVersion majorVersion    labels  \n",
       "0     8       1.56.1          1.5  NEGATIVE  \n",
       "1     8       1.56.1          1.5  NEGATIVE  \n",
       "2     8       1.56.1          1.5  NEGATIVE  \n",
       "3     8       1.56.1          1.5  POSITIVE  \n",
       "4     8       1.56.1          1.5  NEGATIVE  "
      ]
     },
     "execution_count": 30,
     "metadata": {},
     "output_type": "execute_result"
    }
   ],
   "source": [
    "data = data.reset_index(drop=True)\n",
    "docs = docs.reset_index(drop=True)\n",
    "data['labels'] = docs['text_label']\n",
    "data.head()"
   ]
  },
  {
   "cell_type": "code",
   "execution_count": 31,
   "metadata": {
    "colab": {
     "base_uri": "https://localhost:8080/",
     "height": 466
    },
    "id": "v2Seq6yI68GD",
    "outputId": "c58c4bbd-3833-4b15-eb47-7e57b5a8930a"
   },
   "outputs": [
    {
     "data": {
      "text/plain": [
       "<Axes: xlabel='labels', ylabel='count'>"
      ]
     },
     "execution_count": 31,
     "metadata": {},
     "output_type": "execute_result"
    },
    {
     "data": {
      "image/png": "[encoded data removed]",
      "text/plain": [
       "<Figure size 640x480 with 1 Axes>"
      ]
     },
     "metadata": {},
     "output_type": "display_data"
    }
   ],
   "source": [
    "sns.countplot(data=data, x='labels')"
   ]
  },
  {
   "cell_type": "code",
   "execution_count": 32,
   "metadata": {
    "colab": {
     "base_uri": "https://localhost:8080/",
     "height": 466
    },
    "id": "R5YosAS0sfuX",
    "outputId": "01cfd1c4-268e-4e44-d062-c549ff860923"
   },
   "outputs": [
    {
     "data": {
      "text/plain": [
       "<Axes: xlabel='month', ylabel='score'>"
      ]
     },
     "execution_count": 32,
     "metadata": {},
     "output_type": "execute_result"
    },
    {
     "data": {
      "image/png": "[encoded data removed]",
      "text/plain": [
       "<Figure size 640x480 with 1 Axes>"
      ]
     },
     "metadata": {},
     "output_type": "display_data"
    }
   ],
   "source": [
    "sns.lineplot(data=data, x='month', hue='labels', y='score')"
   ]
  },
  {
   "cell_type": "code",
   "execution_count": 33,
   "metadata": {
    "colab": {
     "base_uri": "https://localhost:8080/",
     "height": 467
    },
    "id": "Y7FfLSIsu6-K",
    "outputId": "42bb61fd-bf4a-4b6c-c1c8-e73e36b902b3"
   },
   "outputs": [
    {
     "data": {
      "text/plain": [
       "<Axes: xlabel='month', ylabel='Count'>"
      ]
     },
     "execution_count": 33,
     "metadata": {},
     "output_type": "execute_result"
    },
    {
     "data": {
      "image/png": "[encoded data removed]",
      "text/plain": [
       "<Figure size 640x480 with 1 Axes>"
      ]
     },
     "metadata": {},
     "output_type": "display_data"
    }
   ],
   "source": [
    "sns.histplot(data=data, x=\"month\", hue=\"labels\", multiple=\"stack\")"
   ]
  },
  {
   "cell_type": "code",
   "execution_count": 34,
   "metadata": {
    "colab": {
     "base_uri": "https://localhost:8080/",
     "height": 466
    },
    "id": "pwijP3uIvL7o",
    "outputId": "5b903c15-2a60-4669-cafe-8c151530c7ff"
   },
   "outputs": [
    {
     "data": {
      "text/plain": [
       "<Axes: xlabel='majorVersion', ylabel='Count'>"
      ]
     },
     "execution_count": 34,
     "metadata": {},
     "output_type": "execute_result"
    },
    {
     "data": {
      "image/png": "[encoded data removed]",
      "text/plain": [
       "<Figure size 640x480 with 1 Axes>"
      ]
     },
     "metadata": {},
     "output_type": "display_data"
    }
   ],
   "source": [
    "sns.histplot(data=data, x=\"majorVersion\", hue=\"labels\", multiple=\"stack\")"
   ]
  },
  {
   "cell_type": "markdown",
   "metadata": {
    "id": "V80HeaiGdCM9"
   },
   "source": [
    "# Topic Analysis"
   ]
  },
  {
   "cell_type": "code",
   "execution_count": 35,
   "metadata": {
    "colab": {
     "base_uri": "https://localhost:8080/"
    },
    "id": "7q4HbGrbdB61",
    "outputId": "94b541ae-809c-4f4f-f75f-a0dbbbd2a6df"
   },
   "outputs": [
    {
     "name": "stderr",
     "output_type": "stream",
     "text": [
      "huggingface/tokenizers: The current process just got forked, after parallelism has already been used. Disabling parallelism to avoid deadlocks...\n",
      "To disable this warning, you can either:\n",
      "\t- Avoid using `tokenizers` before the fork if possible\n",
      "\t- Explicitly set the environment variable TOKENIZERS_PARALLELISM=(true | false)\n"
     ]
    },
    {
     "name": "stdout",
     "output_type": "stream",
     "text": [
      "Collecting bertopic\n",
      "  Downloading bertopic-0.17.3-py3-none-any.whl.metadata (24 kB)\n",
      "Collecting hdbscan>=0.8.29 (from bertopic)\n",
      "  Downloading hdbscan-0.8.40.tar.gz (6.9 MB)\n",
      "\u001b[2K     \u001b[90m━━━━━━━━━━━━━━━━━━━━━━━━━━━━━━━━━━━━━━━━\u001b[0m \u001b[32m6.9/6.9 MB\u001b[0m \u001b[31m93.9 MB/s\u001b[0m eta \u001b[36m0:00:00\u001b[0m\n",
      "\u001b[?25h  Installing build dependencies ... \u001b[?25ldone\n",
      "\u001b[?25h  Getting requirements to build wheel ... \u001b[?25ldone\n",
      "\u001b[?25h  Preparing metadata (pyproject.toml) ... \u001b[?25ldone\n",
      "\u001b[?25hCollecting umap-learn>=0.5.0 (from bertopic)\n",
      "  Downloading umap_learn-0.5.9.post2-py3-none-any.whl.metadata (25 kB)\n",
      "Requirement already satisfied: numpy>=1.20.0 in /opt/conda/lib/python3.12/site-packages (from bertopic) (2.2.6)\n",
      "Requirement already satisfied: pandas>=1.1.5 in /opt/conda/lib/python3.12/site-packages (from bertopic) (2.3.0)\n",
      "Collecting plotly>=4.7.0 (from bertopic)\n",
      "  Downloading plotly-6.3.0-py3-none-any.whl.metadata (8.5 kB)\n",
      "Requirement already satisfied: scikit-learn>=1.0 in /opt/conda/lib/python3.12/site-packages (from bertopic) (1.7.0)\n",
      "Collecting sentence-transformers>=0.4.1 (from bertopic)\n",
      "  Downloading sentence_transformers-5.1.0-py3-none-any.whl.metadata (16 kB)\n",
      "Requirement already satisfied: tqdm>=4.41.1 in /opt/conda/lib/python3.12/site-packages (from bertopic) (4.67.1)\n",
      "Requirement already satisfied: llvmlite>0.36.0 in /opt/conda/lib/python3.12/site-packages (from bertopic) (0.44.0)\n",
      "Requirement already satisfied: scipy>=1.0 in /opt/conda/lib/python3.12/site-packages (from hdbscan>=0.8.29->bertopic) (1.15.2)\n",
      "Requirement already satisfied: joblib>=1.0 in /opt/conda/lib/python3.12/site-packages (from hdbscan>=0.8.29->bertopic) (1.5.1)\n",
      "Requirement already satisfied: python-dateutil>=2.8.2 in /opt/conda/lib/python3.12/site-packages (from pandas>=1.1.5->bertopic) (2.9.0.post0)\n",
      "Requirement already satisfied: pytz>=2020.1 in /opt/conda/lib/python3.12/site-packages (from pandas>=1.1.5->bertopic) (2025.2)\n",
      "Requirement already satisfied: tzdata>=2022.7 in /opt/conda/lib/python3.12/site-packages (from pandas>=1.1.5->bertopic) (2025.2)\n",
      "Requirement already satisfied: narwhals>=1.15.1 in /opt/conda/lib/python3.12/site-packages (from plotly>=4.7.0->bertopic) (1.43.1)\n",
      "Requirement already satisfied: packaging in /opt/conda/lib/python3.12/site-packages (from plotly>=4.7.0->bertopic) (25.0)\n",
      "Requirement already satisfied: six>=1.5 in /opt/conda/lib/python3.12/site-packages (from python-dateutil>=2.8.2->pandas>=1.1.5->bertopic) (1.17.0)\n",
      "Requirement already satisfied: threadpoolctl>=3.1.0 in /opt/conda/lib/python3.12/site-packages (from scikit-learn>=1.0->bertopic) (3.6.0)\n",
      "Requirement already satisfied: transformers<5.0.0,>=4.41.0 in /opt/conda/lib/python3.12/site-packages (from sentence-transformers>=0.4.1->bertopic) (4.55.4)\n",
      "Requirement already satisfied: torch>=1.11.0 in /opt/conda/lib/python3.12/site-packages (from sentence-transformers>=0.4.1->bertopic) (2.7.1+cu128)\n",
      "Requirement already satisfied: huggingface-hub>=0.20.0 in /opt/conda/lib/python3.12/site-packages (from sentence-transformers>=0.4.1->bertopic) (0.34.4)\n",
      "Requirement already satisfied: Pillow in /opt/conda/lib/python3.12/site-packages (from sentence-transformers>=0.4.1->bertopic) (11.2.1)\n",
      "Requirement already satisfied: typing_extensions>=4.5.0 in /opt/conda/lib/python3.12/site-packages (from sentence-transformers>=0.4.1->bertopic) (4.14.0)\n",
      "Requirement already satisfied: filelock in /opt/conda/lib/python3.12/site-packages (from transformers<5.0.0,>=4.41.0->sentence-transformers>=0.4.1->bertopic) (3.13.1)\n",
      "Requirement already satisfied: pyyaml>=5.1 in /opt/conda/lib/python3.12/site-packages (from transformers<5.0.0,>=4.41.0->sentence-transformers>=0.4.1->bertopic) (6.0.2)\n",
      "Requirement already satisfied: regex!=2019.12.17 in /opt/conda/lib/python3.12/site-packages (from transformers<5.0.0,>=4.41.0->sentence-transformers>=0.4.1->bertopic) (2025.7.34)\n",
      "Requirement already satisfied: requests in /opt/conda/lib/python3.12/site-packages (from transformers<5.0.0,>=4.41.0->sentence-transformers>=0.4.1->bertopic) (2.32.4)\n",
      "Requirement already satisfied: tokenizers<0.22,>=0.21 in /opt/conda/lib/python3.12/site-packages (from transformers<5.0.0,>=4.41.0->sentence-transformers>=0.4.1->bertopic) (0.21.4)\n",
      "Requirement already satisfied: safetensors>=0.4.3 in /opt/conda/lib/python3.12/site-packages (from transformers<5.0.0,>=4.41.0->sentence-transformers>=0.4.1->bertopic) (0.6.2)\n",
      "Requirement already satisfied: fsspec>=2023.5.0 in /opt/conda/lib/python3.12/site-packages (from huggingface-hub>=0.20.0->sentence-transformers>=0.4.1->bertopic) (2025.5.1)\n",
      "Requirement already satisfied: hf-xet<2.0.0,>=1.1.3 in /opt/conda/lib/python3.12/site-packages (from huggingface-hub>=0.20.0->sentence-transformers>=0.4.1->bertopic) (1.1.9)\n",
      "Requirement already satisfied: setuptools in /opt/conda/lib/python3.12/site-packages (from torch>=1.11.0->sentence-transformers>=0.4.1->bertopic) (80.9.0)\n",
      "Requirement already satisfied: sympy>=1.13.3 in /opt/conda/lib/python3.12/site-packages (from torch>=1.11.0->sentence-transformers>=0.4.1->bertopic) (1.14.0)\n",
      "Requirement already satisfied: networkx in /opt/conda/lib/python3.12/site-packages (from torch>=1.11.0->sentence-transformers>=0.4.1->bertopic) (3.5)\n",
      "Requirement already satisfied: jinja2 in /opt/conda/lib/python3.12/site-packages (from torch>=1.11.0->sentence-transformers>=0.4.1->bertopic) (3.1.6)\n",
      "Requirement already satisfied: nvidia-cuda-nvrtc-cu12==12.8.61 in /opt/conda/lib/python3.12/site-packages (from torch>=1.11.0->sentence-transformers>=0.4.1->bertopic) (12.8.61)\n",
      "Requirement already satisfied: nvidia-cuda-runtime-cu12==12.8.57 in /opt/conda/lib/python3.12/site-packages (from torch>=1.11.0->sentence-transformers>=0.4.1->bertopic) (12.8.57)\n",
      "Requirement already satisfied: nvidia-cuda-cupti-cu12==12.8.57 in /opt/conda/lib/python3.12/site-packages (from torch>=1.11.0->sentence-transformers>=0.4.1->bertopic) (12.8.57)\n",
      "Requirement already satisfied: nvidia-cudnn-cu12==9.7.1.26 in /opt/conda/lib/python3.12/site-packages (from torch>=1.11.0->sentence-transformers>=0.4.1->bertopic) (9.7.1.26)\n",
      "Requirement already satisfied: nvidia-cublas-cu12==12.8.3.14 in /opt/conda/lib/python3.12/site-packages (from torch>=1.11.0->sentence-transformers>=0.4.1->bertopic) (12.8.3.14)\n",
      "Requirement already satisfied: nvidia-cufft-cu12==11.3.3.41 in /opt/conda/lib/python3.12/site-packages (from torch>=1.11.0->sentence-transformers>=0.4.1->bertopic) (11.3.3.41)\n",
      "Requirement already satisfied: nvidia-curand-cu12==10.3.9.55 in /opt/conda/lib/python3.12/site-packages (from torch>=1.11.0->sentence-transformers>=0.4.1->bertopic) (10.3.9.55)\n",
      "Requirement already satisfied: nvidia-cusolver-cu12==11.7.2.55 in /opt/conda/lib/python3.12/site-packages (from torch>=1.11.0->sentence-transformers>=0.4.1->bertopic) (11.7.2.55)\n",
      "Requirement already satisfied: nvidia-cusparse-cu12==12.5.7.53 in /opt/conda/lib/python3.12/site-packages (from torch>=1.11.0->sentence-transformers>=0.4.1->bertopic) (12.5.7.53)\n",
      "Requirement already satisfied: nvidia-cusparselt-cu12==0.6.3 in /opt/conda/lib/python3.12/site-packages (from torch>=1.11.0->sentence-transformers>=0.4.1->bertopic) (0.6.3)\n",
      "Requirement already satisfied: nvidia-nccl-cu12==2.26.2 in /opt/conda/lib/python3.12/site-packages (from torch>=1.11.0->sentence-transformers>=0.4.1->bertopic) (2.26.2)\n",
      "Requirement already satisfied: nvidia-nvtx-cu12==12.8.55 in /opt/conda/lib/python3.12/site-packages (from torch>=1.11.0->sentence-transformers>=0.4.1->bertopic) (12.8.55)\n",
      "Requirement already satisfied: nvidia-nvjitlink-cu12==12.8.61 in /opt/conda/lib/python3.12/site-packages (from torch>=1.11.0->sentence-transformers>=0.4.1->bertopic) (12.8.61)\n",
      "Requirement already satisfied: nvidia-cufile-cu12==1.13.0.11 in /opt/conda/lib/python3.12/site-packages (from torch>=1.11.0->sentence-transformers>=0.4.1->bertopic) (1.13.0.11)\n",
      "Requirement already satisfied: triton==3.3.1 in /opt/conda/lib/python3.12/site-packages (from torch>=1.11.0->sentence-transformers>=0.4.1->bertopic) (3.3.1)\n",
      "Requirement already satisfied: mpmath<1.4,>=1.1.0 in /opt/conda/lib/python3.12/site-packages (from sympy>=1.13.3->torch>=1.11.0->sentence-transformers>=0.4.1->bertopic) (1.3.0)\n",
      "Requirement already satisfied: numba>=0.51.2 in /opt/conda/lib/python3.12/site-packages (from umap-learn>=0.5.0->bertopic) (0.61.2)\n",
      "Collecting pynndescent>=0.5 (from umap-learn>=0.5.0->bertopic)\n",
      "  Downloading pynndescent-0.5.13-py3-none-any.whl.metadata (6.8 kB)\n",
      "Requirement already satisfied: MarkupSafe>=2.0 in /opt/conda/lib/python3.12/site-packages (from jinja2->torch>=1.11.0->sentence-transformers>=0.4.1->bertopic) (3.0.2)\n",
      "Requirement already satisfied: charset_normalizer<4,>=2 in /opt/conda/lib/python3.12/site-packages (from requests->transformers<5.0.0,>=4.41.0->sentence-transformers>=0.4.1->bertopic) (3.4.2)\n",
      "Requirement already satisfied: idna<4,>=2.5 in /opt/conda/lib/python3.12/site-packages (from requests->transformers<5.0.0,>=4.41.0->sentence-transformers>=0.4.1->bertopic) (3.10)\n",
      "Requirement already satisfied: urllib3<3,>=1.21.1 in /opt/conda/lib/python3.12/site-packages (from requests->transformers<5.0.0,>=4.41.0->sentence-transformers>=0.4.1->bertopic) (2.5.0)\n",
      "Requirement already satisfied: certifi>=2017.4.17 in /opt/conda/lib/python3.12/site-packages (from requests->transformers<5.0.0,>=4.41.0->sentence-transformers>=0.4.1->bertopic) (2025.6.15)\n",
      "Downloading bertopic-0.17.3-py3-none-any.whl (153 kB)\n",
      "Downloading plotly-6.3.0-py3-none-any.whl (9.8 MB)\n",
      "\u001b[2K   \u001b[90m━━━━━━━━━━━━━━━━━━━━━━━━━━━━━━━━━━━━━━━━\u001b[0m \u001b[32m9.8/9.8 MB\u001b[0m \u001b[31m86.8 MB/s\u001b[0m eta \u001b[36m0:00:00\u001b[0m\n",
      "\u001b[?25hDownloading sentence_transformers-5.1.0-py3-none-any.whl (483 kB)\n",
      "Downloading umap_learn-0.5.9.post2-py3-none-any.whl (90 kB)\n",
      "Downloading pynndescent-0.5.13-py3-none-any.whl (56 kB)\n",
      "Building wheels for collected packages: hdbscan\n",
      "  Building wheel for hdbscan (pyproject.toml) ... \u001b[?25ldone\n",
      "\u001b[?25h  Created wheel for hdbscan: filename=hdbscan-0.8.40-cp312-cp312-linux_x86_64.whl size=847019 sha256=5cd7c09893248923daa4de4d5bf3d954e95fccec7d0d9bcf7fd25393d76dc23b\n",
      "  Stored in directory: /home/jovyan/.cache/pip/wheels/80/e7/bb/173ca0d8ce12718c4b5e6e01619c99653579b56969b97604b2\n",
      "Successfully built hdbscan\n",
      "Installing collected packages: plotly, pynndescent, hdbscan, umap-learn, sentence-transformers, bertopic\n",
      "\u001b[2K   \u001b[90m━━━━━━━━━━━━━━━━━━━━━━━━━━━━━━━━━━━━━━━━\u001b[0m \u001b[32m6/6\u001b[0m [bertopic]4/6\u001b[0m [sentence-transformers]\n",
      "\u001b[1A\u001b[2KSuccessfully installed bertopic-0.17.3 hdbscan-0.8.40 plotly-6.3.0 pynndescent-0.5.13 sentence-transformers-5.1.0 umap-learn-0.5.9.post2\n"
     ]
    }
   ],
   "source": [
    "!pip install bertopic"
   ]
  },
  {
   "cell_type": "code",
   "execution_count": 92,
   "metadata": {
    "id": "kdOmyJCJ7Ukg"
   },
   "outputs": [],
   "source": [
    "negative = docs[docs['text_label']=='NEGATIVE']['text_lemitizing']\n",
    "positive = docs[docs['text_label']=='POSITIVE']['text_lemitizing']"
   ]
  },
  {
   "cell_type": "code",
   "execution_count": 37,
   "metadata": {
    "id": "OOLmfJfrxFGo"
   },
   "outputs": [],
   "source": [
    "from bertopic import BERTopic\n",
    "from sklearn.cluster import AgglomerativeClustering\n",
    "from sklearn.feature_extraction.text import CountVectorizer\n",
    "from bertopic.vectorizers import ClassTfidfTransformer\n",
    "from bertopic.representation import KeyBERTInspired\n",
    "from umap import UMAP"
   ]
  },
  {
   "cell_type": "code",
   "execution_count": 38,
   "metadata": {
    "colab": {
     "base_uri": "https://localhost:8080/"
    },
    "id": "gDf4kdXhxbYo",
    "outputId": "066b2c06-73dc-439d-e8cd-e6d67d287f2b"
   },
   "outputs": [
    {
     "data": {
      "application/vnd.jupyter.widget-view+json": {
       "model_id": "001621f302154ef6b5f5f2406ddebefa",
       "version_major": 2,
       "version_minor": 0
      },
      "text/plain": [
       "config.json:   0%|          | 0.00/465 [00:00<?, ?B/s]"
      ]
     },
     "metadata": {},
     "output_type": "display_data"
    },
    {
     "data": {
      "application/vnd.jupyter.widget-view+json": {
       "model_id": "3b60027e9002479396fc5f2b4bcf5fb8",
       "version_major": 2,
       "version_minor": 0
      },
      "text/plain": [
       "model.safetensors:   0%|          | 0.00/263M [00:00<?, ?B/s]"
      ]
     },
     "metadata": {},
     "output_type": "display_data"
    },
    {
     "data": {
      "application/vnd.jupyter.widget-view+json": {
       "model_id": "0e322a3f79084b07a6af6d66b3528b46",
       "version_major": 2,
       "version_minor": 0
      },
      "text/plain": [
       "tokenizer_config.json:   0%|          | 0.00/49.0 [00:00<?, ?B/s]"
      ]
     },
     "metadata": {},
     "output_type": "display_data"
    },
    {
     "data": {
      "application/vnd.jupyter.widget-view+json": {
       "model_id": "34b84f679f054bebb5a2c8843fdfb6f4",
       "version_major": 2,
       "version_minor": 0
      },
      "text/plain": [
       "vocab.txt:   0%|          | 0.00/213k [00:00<?, ?B/s]"
      ]
     },
     "metadata": {},
     "output_type": "display_data"
    },
    {
     "data": {
      "application/vnd.jupyter.widget-view+json": {
       "model_id": "0076605b74ad4cdfa36f26a2f759e4fc",
       "version_major": 2,
       "version_minor": 0
      },
      "text/plain": [
       "tokenizer.json:   0%|          | 0.00/436k [00:00<?, ?B/s]"
      ]
     },
     "metadata": {},
     "output_type": "display_data"
    },
    {
     "name": "stderr",
     "output_type": "stream",
     "text": [
      "Device set to use cuda:0\n"
     ]
    }
   ],
   "source": [
    "embedding_model = pipeline(\"feature-extraction\", model=\"distilbert-base-cased\")\n",
    "umap_model = UMAP(n_neighbors=15, n_components=5, min_dist=0.0, metric='cosine')\n",
    "vectorizer_model = CountVectorizer(min_df=10)\n",
    "ctfidf_model = ClassTfidfTransformer(bm25_weighting=True)\n",
    "representation_model = KeyBERTInspired()\n",
    "\n",
    "def topic(n_cluster):\n",
    "    topic_model = BERTopic(\n",
    "    embedding_model=embedding_model,\n",
    "    umap_model=umap_model,\n",
    "    hdbscan_model=AgglomerativeClustering(n_clusters=n_cluster),\n",
    "    vectorizer_model=vectorizer_model,\n",
    "    ctfidf_model=ctfidf_model,\n",
    "    representation_model=representation_model,\n",
    "    calculate_probabilities=True,\n",
    "    verbose=True,\n",
    "    )\n",
    "    return topic_model"
   ]
  },
  {
   "cell_type": "code",
   "execution_count": 93,
   "metadata": {
    "colab": {
     "base_uri": "https://localhost:8080/"
    },
    "id": "2Nk4h94u02bZ",
    "outputId": "0012f4e6-243a-4f89-a9d3-c8860b3f6975"
   },
   "outputs": [
    {
     "name": "stderr",
     "output_type": "stream",
     "text": [
      "2025-08-29 13:56:38,906 - BERTopic - Embedding - Transforming documents to embeddings.\n",
      "100% 5131/5131 [00:08<00:00, 579.29it/s]\n",
      "2025-08-29 13:56:47,773 - BERTopic - Embedding - Completed ✓\n",
      "2025-08-29 13:56:47,773 - BERTopic - Dimensionality - Fitting the dimensionality reduction algorithm\n",
      "2025-08-29 13:56:48,378 - BERTopic - Dimensionality - Completed ✓\n",
      "2025-08-29 13:56:48,378 - BERTopic - Cluster - Start clustering the reduced embeddings\n",
      "2025-08-29 13:56:48,633 - BERTopic - Cluster - Completed ✓\n",
      "2025-08-29 13:56:48,635 - BERTopic - Representation - Fine-tuning topics using representation models.\n",
      "2025-08-29 13:56:49,503 - BERTopic - Representation - Completed ✓\n"
     ]
    },
    {
     "data": {
      "text/html": [
       "<div>\n",
       "<style scoped>\n",
       "    .dataframe tbody tr th:only-of-type {\n",
       "        vertical-align: middle;\n",
       "    }\n",
       "\n",
       "    .dataframe tbody tr th {\n",
       "        vertical-align: top;\n",
       "    }\n",
       "\n",
       "    .dataframe thead th {\n",
       "        text-align: right;\n",
       "    }\n",
       "</style>\n",
       "<table border=\"1\" class=\"dataframe\">\n",
       "  <thead>\n",
       "    <tr style=\"text-align: right;\">\n",
       "      <th></th>\n",
       "      <th>Topic</th>\n",
       "      <th>Count</th>\n",
       "      <th>Name</th>\n",
       "      <th>Representation</th>\n",
       "      <th>Representative_Docs</th>\n",
       "    </tr>\n",
       "  </thead>\n",
       "  <tbody>\n",
       "    <tr>\n",
       "      <th>0</th>\n",
       "      <td>0</td>\n",
       "      <td>418</td>\n",
       "      <td>0_refund_hasnt_doesnt_didnt</td>\n",
       "      <td>[refund, hasnt, doesnt, didnt, topup, cashback...</td>\n",
       "      <td>[payment loan always time repayment apply loan...</td>\n",
       "    </tr>\n",
       "    <tr>\n",
       "      <th>1</th>\n",
       "      <td>1</td>\n",
       "      <td>317</td>\n",
       "      <td>1_hasnt_apk_isnt_doesnt</td>\n",
       "      <td>[hasnt, apk, isnt, doesnt, topup, couldnt, did...</td>\n",
       "      <td>[balance hasnt come alpa transaction come dont...</td>\n",
       "    </tr>\n",
       "    <tr>\n",
       "      <th>2</th>\n",
       "      <td>2</td>\n",
       "      <td>287</td>\n",
       "      <td>2_google_payday_didnt_topup</td>\n",
       "      <td>[google, payday, didnt, topup, apk, thank, dis...</td>\n",
       "      <td>[im sorry c gopay lost balance gopay google pl...</td>\n",
       "    </tr>\n",
       "    <tr>\n",
       "      <th>3</th>\n",
       "      <td>3</td>\n",
       "      <td>259</td>\n",
       "      <td>3_cheap_buy_discount_unfortunately</td>\n",
       "      <td>[cheap, buy, discount, unfortunately, stay, he...</td>\n",
       "      <td>[cheap easy use helpful, transaction cheap fas...</td>\n",
       "    </tr>\n",
       "    <tr>\n",
       "      <th>4</th>\n",
       "      <td>4</td>\n",
       "      <td>246</td>\n",
       "      <td>4_voucher_otp_doesnt_login</td>\n",
       "      <td>[voucher, otp, doesnt, login, apk, wdp, thats,...</td>\n",
       "      <td>[lost face verification login new device time ...</td>\n",
       "    </tr>\n",
       "    <tr>\n",
       "      <th>5</th>\n",
       "      <td>5</td>\n",
       "      <td>235</td>\n",
       "      <td>5_voucher_doesnt_scam_apk</td>\n",
       "      <td>[voucher, doesnt, scam, apk, didnt, cashback, ...</td>\n",
       "      <td>[app isnt clear dont download there event top ...</td>\n",
       "    </tr>\n",
       "    <tr>\n",
       "      <th>6</th>\n",
       "      <td>6</td>\n",
       "      <td>228</td>\n",
       "      <td>6_havent_isnt_couldnt_doesnt</td>\n",
       "      <td>[havent, isnt, couldnt, doesnt, arent, topup, ...</td>\n",
       "      <td>[want top dont money, gopay top doesnt come, t...</td>\n",
       "    </tr>\n",
       "    <tr>\n",
       "      <th>7</th>\n",
       "      <td>7</td>\n",
       "      <td>209</td>\n",
       "      <td>7_topup_thank_useless_hopefully</td>\n",
       "      <td>[topup, thank, useless, hopefully, thats, real...</td>\n",
       "      <td>[app helpful hassle poko safe use gopay app, a...</td>\n",
       "    </tr>\n",
       "    <tr>\n",
       "      <th>8</th>\n",
       "      <td>8</td>\n",
       "      <td>201</td>\n",
       "      <td>8_ewallet_ewallets_login_wifi</td>\n",
       "      <td>[ewallet, ewallets, login, wifi, topup, notifi...</td>\n",
       "      <td>[want log hard apologize facial verification a...</td>\n",
       "    </tr>\n",
       "    <tr>\n",
       "      <th>9</th>\n",
       "      <td>9</td>\n",
       "      <td>199</td>\n",
       "      <td>9_gopey_hasnt_havent_didnt</td>\n",
       "      <td>[gopey, hasnt, havent, didnt, toping, notifica...</td>\n",
       "      <td>[im overloaded money hasnt come yet, please iv...</td>\n",
       "    </tr>\n",
       "    <tr>\n",
       "      <th>10</th>\n",
       "      <td>10</td>\n",
       "      <td>198</td>\n",
       "      <td>10_hasnt_isnt_doesnt_dont</td>\n",
       "      <td>[hasnt, isnt, doesnt, dont, notification, topu...</td>\n",
       "      <td>[ive tried kind payment apps gopay still conve...</td>\n",
       "    </tr>\n",
       "    <tr>\n",
       "      <th>11</th>\n",
       "      <td>11</td>\n",
       "      <td>197</td>\n",
       "      <td>11_ewallets_isnt_apk_doesnt</td>\n",
       "      <td>[ewallets, isnt, apk, doesnt, arent, topup, bu...</td>\n",
       "      <td>[dont think good application transperance prob...</td>\n",
       "    </tr>\n",
       "    <tr>\n",
       "      <th>12</th>\n",
       "      <td>12</td>\n",
       "      <td>175</td>\n",
       "      <td>12_hasnt_isnt_doesnt_didnt</td>\n",
       "      <td>[hasnt, isnt, doesnt, didnt, topup, thank, don...</td>\n",
       "      <td>[im also experiencing even topup money come th...</td>\n",
       "    </tr>\n",
       "    <tr>\n",
       "      <th>13</th>\n",
       "      <td>13</td>\n",
       "      <td>175</td>\n",
       "      <td>13_hasnt_isnt_doesnt_didnt</td>\n",
       "      <td>[hasnt, isnt, doesnt, didnt, couldnt, dont, wh...</td>\n",
       "      <td>[balance sheet doesnt come even worse report w...</td>\n",
       "    </tr>\n",
       "    <tr>\n",
       "      <th>14</th>\n",
       "      <td>14</td>\n",
       "      <td>141</td>\n",
       "      <td>14_gopays_gopaylater_goopay_topup</td>\n",
       "      <td>[gopays, gopaylater, goopay, topup, waiting, w...</td>\n",
       "      <td>[much trouble day transfer topups often dont c...</td>\n",
       "    </tr>\n",
       "    <tr>\n",
       "      <th>15</th>\n",
       "      <td>15</td>\n",
       "      <td>137</td>\n",
       "      <td>15_hasnt_isnt_havent_doesnt</td>\n",
       "      <td>[hasnt, isnt, havent, doesnt, wdp, apk, didnt,...</td>\n",
       "      <td>[upgrade google cant document isnt clear there...</td>\n",
       "    </tr>\n",
       "    <tr>\n",
       "      <th>16</th>\n",
       "      <td>16</td>\n",
       "      <td>126</td>\n",
       "      <td>16_hasnt_unreasonable_didnt_doesnt</td>\n",
       "      <td>[hasnt, unreasonable, didnt, doesnt, thats, de...</td>\n",
       "      <td>[qris transfer warning unreasonable activity u...</td>\n",
       "    </tr>\n",
       "    <tr>\n",
       "      <th>17</th>\n",
       "      <td>17</td>\n",
       "      <td>125</td>\n",
       "      <td>17_doesnt_wifi_apk_wdp</td>\n",
       "      <td>[doesnt, wifi, apk, wdp, dont, wait, cant, buy...</td>\n",
       "      <td>[apk gjls transaction gopay payer qris notif t...</td>\n",
       "    </tr>\n",
       "    <tr>\n",
       "      <th>18</th>\n",
       "      <td>18</td>\n",
       "      <td>125</td>\n",
       "      <td>18_gopaylater_ewallet_hasnt_gojek</td>\n",
       "      <td>[gopaylater, ewallet, hasnt, gojek, disappoint...</td>\n",
       "      <td>[account suddenly blocked violated term gopay ...</td>\n",
       "    </tr>\n",
       "    <tr>\n",
       "      <th>19</th>\n",
       "      <td>19</td>\n",
       "      <td>123</td>\n",
       "      <td>19_doesnt_cashback_waiting_wait</td>\n",
       "      <td>[doesnt, cashback, waiting, wait, disappointed...</td>\n",
       "      <td>[transfer successful transfer id found balance...</td>\n",
       "    </tr>\n",
       "    <tr>\n",
       "      <th>20</th>\n",
       "      <td>20</td>\n",
       "      <td>120</td>\n",
       "      <td>20_hasnt_couldnt_doesnt_didnt</td>\n",
       "      <td>[hasnt, couldnt, doesnt, didnt, whats, dont, t...</td>\n",
       "      <td>[top go pay nominal jt rupee status good gopay...</td>\n",
       "    </tr>\n",
       "    <tr>\n",
       "      <th>21</th>\n",
       "      <td>21</td>\n",
       "      <td>114</td>\n",
       "      <td>21_login_otp_apk_notification</td>\n",
       "      <td>[login, otp, apk, notification, delete, chat, ...</td>\n",
       "      <td>[cant log account update latest version, pleas...</td>\n",
       "    </tr>\n",
       "    <tr>\n",
       "      <th>22</th>\n",
       "      <td>22</td>\n",
       "      <td>113</td>\n",
       "      <td>22_uninstall_paylater_goopay_july</td>\n",
       "      <td>[uninstall, paylater, goopay, july, ewalet, un...</td>\n",
       "      <td>[duh gopay kenapasih like suddenly apk love pl...</td>\n",
       "    </tr>\n",
       "    <tr>\n",
       "      <th>23</th>\n",
       "      <td>23</td>\n",
       "      <td>108</td>\n",
       "      <td>23_ewallet_cashback_cheap_going</td>\n",
       "      <td>[ewallet, cashback, cheap, going, helpful, buy...</td>\n",
       "      <td>[love using gopay app want transfer bank free ...</td>\n",
       "    </tr>\n",
       "    <tr>\n",
       "      <th>24</th>\n",
       "      <td>24</td>\n",
       "      <td>108</td>\n",
       "      <td>24_havent_couldnt_doesnt_voucher</td>\n",
       "      <td>[havent, couldnt, doesnt, voucher, didnt, topu...</td>\n",
       "      <td>[cashback come make voucher work though tp rep...</td>\n",
       "    </tr>\n",
       "    <tr>\n",
       "      <th>25</th>\n",
       "      <td>25</td>\n",
       "      <td>102</td>\n",
       "      <td>25_havent_doesnt_hows_didnt</td>\n",
       "      <td>[havent, doesnt, hows, didnt, whats, waited, p...</td>\n",
       "      <td>[dont know dont know dont know dont know dont ...</td>\n",
       "    </tr>\n",
       "    <tr>\n",
       "      <th>26</th>\n",
       "      <td>26</td>\n",
       "      <td>102</td>\n",
       "      <td>26_hasnt_havent_doesnt_couldnt</td>\n",
       "      <td>[hasnt, havent, doesnt, couldnt, didnt, vouche...</td>\n",
       "      <td>[im really disappointed one app even though iv...</td>\n",
       "    </tr>\n",
       "    <tr>\n",
       "      <th>27</th>\n",
       "      <td>27</td>\n",
       "      <td>92</td>\n",
       "      <td>27_hasnt_havent_isnt_didnt</td>\n",
       "      <td>[hasnt, havent, isnt, didnt, apk, topup, topin...</td>\n",
       "      <td>[uh uh uh uh uh uh uh uh uh uh uh uh uh uh uh ...</td>\n",
       "    </tr>\n",
       "    <tr>\n",
       "      <th>28</th>\n",
       "      <td>28</td>\n",
       "      <td>84</td>\n",
       "      <td>28_unreasonable_otp_whats_scam</td>\n",
       "      <td>[unreasonable, otp, whats, scam, gojek, topup,...</td>\n",
       "      <td>[clear want top game enter promo code unpaid t...</td>\n",
       "    </tr>\n",
       "    <tr>\n",
       "      <th>29</th>\n",
       "      <td>29</td>\n",
       "      <td>67</td>\n",
       "      <td>29_paylater_gopays_gopaylater_ewallet</td>\n",
       "      <td>[paylater, gopays, gopaylater, ewallet, ewalle...</td>\n",
       "      <td>[getting easier simpler hope feel gopaylatter ...</td>\n",
       "    </tr>\n",
       "  </tbody>\n",
       "</table>\n",
       "</div>"
      ],
      "text/plain": [
       "    Topic  Count                                   Name  \\\n",
       "0       0    418            0_refund_hasnt_doesnt_didnt   \n",
       "1       1    317                1_hasnt_apk_isnt_doesnt   \n",
       "2       2    287            2_google_payday_didnt_topup   \n",
       "3       3    259     3_cheap_buy_discount_unfortunately   \n",
       "4       4    246             4_voucher_otp_doesnt_login   \n",
       "5       5    235              5_voucher_doesnt_scam_apk   \n",
       "6       6    228           6_havent_isnt_couldnt_doesnt   \n",
       "7       7    209        7_topup_thank_useless_hopefully   \n",
       "8       8    201          8_ewallet_ewallets_login_wifi   \n",
       "9       9    199             9_gopey_hasnt_havent_didnt   \n",
       "10     10    198              10_hasnt_isnt_doesnt_dont   \n",
       "11     11    197            11_ewallets_isnt_apk_doesnt   \n",
       "12     12    175             12_hasnt_isnt_doesnt_didnt   \n",
       "13     13    175             13_hasnt_isnt_doesnt_didnt   \n",
       "14     14    141      14_gopays_gopaylater_goopay_topup   \n",
       "15     15    137            15_hasnt_isnt_havent_doesnt   \n",
       "16     16    126     16_hasnt_unreasonable_didnt_doesnt   \n",
       "17     17    125                 17_doesnt_wifi_apk_wdp   \n",
       "18     18    125      18_gopaylater_ewallet_hasnt_gojek   \n",
       "19     19    123        19_doesnt_cashback_waiting_wait   \n",
       "20     20    120          20_hasnt_couldnt_doesnt_didnt   \n",
       "21     21    114          21_login_otp_apk_notification   \n",
       "22     22    113      22_uninstall_paylater_goopay_july   \n",
       "23     23    108        23_ewallet_cashback_cheap_going   \n",
       "24     24    108       24_havent_couldnt_doesnt_voucher   \n",
       "25     25    102            25_havent_doesnt_hows_didnt   \n",
       "26     26    102         26_hasnt_havent_doesnt_couldnt   \n",
       "27     27     92             27_hasnt_havent_isnt_didnt   \n",
       "28     28     84         28_unreasonable_otp_whats_scam   \n",
       "29     29     67  29_paylater_gopays_gopaylater_ewallet   \n",
       "\n",
       "                                       Representation  \\\n",
       "0   [refund, hasnt, doesnt, didnt, topup, cashback...   \n",
       "1   [hasnt, apk, isnt, doesnt, topup, couldnt, did...   \n",
       "2   [google, payday, didnt, topup, apk, thank, dis...   \n",
       "3   [cheap, buy, discount, unfortunately, stay, he...   \n",
       "4   [voucher, otp, doesnt, login, apk, wdp, thats,...   \n",
       "5   [voucher, doesnt, scam, apk, didnt, cashback, ...   \n",
       "6   [havent, isnt, couldnt, doesnt, arent, topup, ...   \n",
       "7   [topup, thank, useless, hopefully, thats, real...   \n",
       "8   [ewallet, ewallets, login, wifi, topup, notifi...   \n",
       "9   [gopey, hasnt, havent, didnt, toping, notifica...   \n",
       "10  [hasnt, isnt, doesnt, dont, notification, topu...   \n",
       "11  [ewallets, isnt, apk, doesnt, arent, topup, bu...   \n",
       "12  [hasnt, isnt, doesnt, didnt, topup, thank, don...   \n",
       "13  [hasnt, isnt, doesnt, didnt, couldnt, dont, wh...   \n",
       "14  [gopays, gopaylater, goopay, topup, waiting, w...   \n",
       "15  [hasnt, isnt, havent, doesnt, wdp, apk, didnt,...   \n",
       "16  [hasnt, unreasonable, didnt, doesnt, thats, de...   \n",
       "17  [doesnt, wifi, apk, wdp, dont, wait, cant, buy...   \n",
       "18  [gopaylater, ewallet, hasnt, gojek, disappoint...   \n",
       "19  [doesnt, cashback, waiting, wait, disappointed...   \n",
       "20  [hasnt, couldnt, doesnt, didnt, whats, dont, t...   \n",
       "21  [login, otp, apk, notification, delete, chat, ...   \n",
       "22  [uninstall, paylater, goopay, july, ewalet, un...   \n",
       "23  [ewallet, cashback, cheap, going, helpful, buy...   \n",
       "24  [havent, couldnt, doesnt, voucher, didnt, topu...   \n",
       "25  [havent, doesnt, hows, didnt, whats, waited, p...   \n",
       "26  [hasnt, havent, doesnt, couldnt, didnt, vouche...   \n",
       "27  [hasnt, havent, isnt, didnt, apk, topup, topin...   \n",
       "28  [unreasonable, otp, whats, scam, gojek, topup,...   \n",
       "29  [paylater, gopays, gopaylater, ewallet, ewalle...   \n",
       "\n",
       "                                  Representative_Docs  \n",
       "0   [payment loan always time repayment apply loan...  \n",
       "1   [balance hasnt come alpa transaction come dont...  \n",
       "2   [im sorry c gopay lost balance gopay google pl...  \n",
       "3   [cheap easy use helpful, transaction cheap fas...  \n",
       "4   [lost face verification login new device time ...  \n",
       "5   [app isnt clear dont download there event top ...  \n",
       "6   [want top dont money, gopay top doesnt come, t...  \n",
       "7   [app helpful hassle poko safe use gopay app, a...  \n",
       "8   [want log hard apologize facial verification a...  \n",
       "9   [im overloaded money hasnt come yet, please iv...  \n",
       "10  [ive tried kind payment apps gopay still conve...  \n",
       "11  [dont think good application transperance prob...  \n",
       "12  [im also experiencing even topup money come th...  \n",
       "13  [balance sheet doesnt come even worse report w...  \n",
       "14  [much trouble day transfer topups often dont c...  \n",
       "15  [upgrade google cant document isnt clear there...  \n",
       "16  [qris transfer warning unreasonable activity u...  \n",
       "17  [apk gjls transaction gopay payer qris notif t...  \n",
       "18  [account suddenly blocked violated term gopay ...  \n",
       "19  [transfer successful transfer id found balance...  \n",
       "20  [top go pay nominal jt rupee status good gopay...  \n",
       "21  [cant log account update latest version, pleas...  \n",
       "22  [duh gopay kenapasih like suddenly apk love pl...  \n",
       "23  [love using gopay app want transfer bank free ...  \n",
       "24  [cashback come make voucher work though tp rep...  \n",
       "25  [dont know dont know dont know dont know dont ...  \n",
       "26  [im really disappointed one app even though iv...  \n",
       "27  [uh uh uh uh uh uh uh uh uh uh uh uh uh uh uh ...  \n",
       "28  [clear want top game enter promo code unpaid t...  \n",
       "29  [getting easier simpler hope feel gopaylatter ...  "
      ]
     },
     "execution_count": 93,
     "metadata": {},
     "output_type": "execute_result"
    }
   ],
   "source": [
    "negative_topic = topic(30)\n",
    "negative_info = negative_topic.fit_transform(negative)\n",
    "negative_info = negative_topic.get_topic_info()\n",
    "negative_info.to_csv('negative_topic.csv')\n",
    "negative_info"
   ]
  },
  {
   "cell_type": "code",
   "execution_count": 94,
   "metadata": {},
   "outputs": [],
   "source": [
    "negative_topic.set_topic_labels({\n",
    "    1: \"Space Travel\", 7: \"Religion\"\n",
    "})"
   ]
  },
  {
   "cell_type": "code",
   "execution_count": 106,
   "metadata": {},
   "outputs": [
    {
     "ename": "ValueError",
     "evalue": "All arrays must be of the same length",
     "output_type": "error",
     "traceback": [
      "\u001b[31m---------------------------------------------------------------------------\u001b[39m",
      "\u001b[31mValueError\u001b[39m                                Traceback (most recent call last)",
      "\u001b[36mCell\u001b[39m\u001b[36m \u001b[39m\u001b[32mIn[106]\u001b[39m\u001b[32m, line 1\u001b[39m\n\u001b[32m----> \u001b[39m\u001b[32m1\u001b[39m \u001b[43mnegative_topic\u001b[49m\u001b[43m.\u001b[49m\u001b[43mmerge_topics\u001b[49m\u001b[43m(\u001b[49m\u001b[43mnegative\u001b[49m\u001b[43m,\u001b[49m\u001b[43m \u001b[49m\n\u001b[32m      2\u001b[39m \u001b[43m                            \u001b[49m\u001b[43m[\u001b[49m\u001b[32;43m1\u001b[39;49m\u001b[43m,\u001b[49m\u001b[32;43m2\u001b[39;49m\u001b[43m,\u001b[49m\u001b[32;43m3\u001b[39;49m\u001b[43m]\u001b[49m\u001b[43m,\u001b[49m\n\u001b[32m      3\u001b[39m \u001b[43m                            \u001b[49m\u001b[43m[\u001b[49m\u001b[32;43m4\u001b[39;49m\u001b[43m,\u001b[49m\u001b[32;43m5\u001b[39;49m\u001b[43m,\u001b[49m\u001b[32;43m6\u001b[39;49m\u001b[43m]\u001b[49m\u001b[43m)\u001b[49m\n",
      "\u001b[36mFile \u001b[39m\u001b[32m/opt/conda/lib/python3.12/site-packages/bertopic/_bertopic.py:2130\u001b[39m, in \u001b[36mBERTopic.merge_topics\u001b[39m\u001b[34m(self, docs, topics_to_merge, images)\u001b[39m\n\u001b[32m   2128\u001b[39m check_is_fitted(\u001b[38;5;28mself\u001b[39m)\n\u001b[32m   2129\u001b[39m check_documents_type(docs)\n\u001b[32m-> \u001b[39m\u001b[32m2130\u001b[39m documents = \u001b[43mpd\u001b[49m\u001b[43m.\u001b[49m\u001b[43mDataFrame\u001b[49m\u001b[43m(\u001b[49m\n\u001b[32m   2131\u001b[39m \u001b[43m    \u001b[49m\u001b[43m{\u001b[49m\n\u001b[32m   2132\u001b[39m \u001b[43m        \u001b[49m\u001b[33;43m\"\u001b[39;49m\u001b[33;43mDocument\u001b[39;49m\u001b[33;43m\"\u001b[39;49m\u001b[43m:\u001b[49m\u001b[43m \u001b[49m\u001b[43mdocs\u001b[49m\u001b[43m,\u001b[49m\n\u001b[32m   2133\u001b[39m \u001b[43m        \u001b[49m\u001b[33;43m\"\u001b[39;49m\u001b[33;43mTopic\u001b[39;49m\u001b[33;43m\"\u001b[39;49m\u001b[43m:\u001b[49m\u001b[43m \u001b[49m\u001b[38;5;28;43mself\u001b[39;49m\u001b[43m.\u001b[49m\u001b[43mtopics_\u001b[49m\u001b[43m,\u001b[49m\n\u001b[32m   2134\u001b[39m \u001b[43m        \u001b[49m\u001b[33;43m\"\u001b[39;49m\u001b[33;43mImage\u001b[39;49m\u001b[33;43m\"\u001b[39;49m\u001b[43m:\u001b[49m\u001b[43m \u001b[49m\u001b[43mimages\u001b[49m\u001b[43m,\u001b[49m\n\u001b[32m   2135\u001b[39m \u001b[43m        \u001b[49m\u001b[33;43m\"\u001b[39;49m\u001b[33;43mID\u001b[39;49m\u001b[33;43m\"\u001b[39;49m\u001b[43m:\u001b[49m\u001b[43m \u001b[49m\u001b[38;5;28;43mrange\u001b[39;49m\u001b[43m(\u001b[49m\u001b[38;5;28;43mlen\u001b[39;49m\u001b[43m(\u001b[49m\u001b[43mdocs\u001b[49m\u001b[43m)\u001b[49m\u001b[43m)\u001b[49m\u001b[43m,\u001b[49m\n\u001b[32m   2136\u001b[39m \u001b[43m    \u001b[49m\u001b[43m}\u001b[49m\n\u001b[32m   2137\u001b[39m \u001b[43m\u001b[49m\u001b[43m)\u001b[49m\n\u001b[32m   2139\u001b[39m mapping = {topic: topic \u001b[38;5;28;01mfor\u001b[39;00m topic \u001b[38;5;129;01min\u001b[39;00m \u001b[38;5;28mset\u001b[39m(\u001b[38;5;28mself\u001b[39m.topics_)}\n\u001b[32m   2140\u001b[39m \u001b[38;5;28;01mif\u001b[39;00m \u001b[38;5;28misinstance\u001b[39m(topics_to_merge[\u001b[32m0\u001b[39m], \u001b[38;5;28mint\u001b[39m):\n",
      "\u001b[36mFile \u001b[39m\u001b[32m/opt/conda/lib/python3.12/site-packages/pandas/core/frame.py:778\u001b[39m, in \u001b[36mDataFrame.__init__\u001b[39m\u001b[34m(self, data, index, columns, dtype, copy)\u001b[39m\n\u001b[32m    772\u001b[39m     mgr = \u001b[38;5;28mself\u001b[39m._init_mgr(\n\u001b[32m    773\u001b[39m         data, axes={\u001b[33m\"\u001b[39m\u001b[33mindex\u001b[39m\u001b[33m\"\u001b[39m: index, \u001b[33m\"\u001b[39m\u001b[33mcolumns\u001b[39m\u001b[33m\"\u001b[39m: columns}, dtype=dtype, copy=copy\n\u001b[32m    774\u001b[39m     )\n\u001b[32m    776\u001b[39m \u001b[38;5;28;01melif\u001b[39;00m \u001b[38;5;28misinstance\u001b[39m(data, \u001b[38;5;28mdict\u001b[39m):\n\u001b[32m    777\u001b[39m     \u001b[38;5;66;03m# GH#38939 de facto copy defaults to False only in non-dict cases\u001b[39;00m\n\u001b[32m--> \u001b[39m\u001b[32m778\u001b[39m     mgr = \u001b[43mdict_to_mgr\u001b[49m\u001b[43m(\u001b[49m\u001b[43mdata\u001b[49m\u001b[43m,\u001b[49m\u001b[43m \u001b[49m\u001b[43mindex\u001b[49m\u001b[43m,\u001b[49m\u001b[43m \u001b[49m\u001b[43mcolumns\u001b[49m\u001b[43m,\u001b[49m\u001b[43m \u001b[49m\u001b[43mdtype\u001b[49m\u001b[43m=\u001b[49m\u001b[43mdtype\u001b[49m\u001b[43m,\u001b[49m\u001b[43m \u001b[49m\u001b[43mcopy\u001b[49m\u001b[43m=\u001b[49m\u001b[43mcopy\u001b[49m\u001b[43m,\u001b[49m\u001b[43m \u001b[49m\u001b[43mtyp\u001b[49m\u001b[43m=\u001b[49m\u001b[43mmanager\u001b[49m\u001b[43m)\u001b[49m\n\u001b[32m    779\u001b[39m \u001b[38;5;28;01melif\u001b[39;00m \u001b[38;5;28misinstance\u001b[39m(data, ma.MaskedArray):\n\u001b[32m    780\u001b[39m     \u001b[38;5;28;01mfrom\u001b[39;00m\u001b[38;5;250m \u001b[39m\u001b[34;01mnumpy\u001b[39;00m\u001b[34;01m.\u001b[39;00m\u001b[34;01mma\u001b[39;00m\u001b[38;5;250m \u001b[39m\u001b[38;5;28;01mimport\u001b[39;00m mrecords\n",
      "\u001b[36mFile \u001b[39m\u001b[32m/opt/conda/lib/python3.12/site-packages/pandas/core/internals/construction.py:503\u001b[39m, in \u001b[36mdict_to_mgr\u001b[39m\u001b[34m(data, index, columns, dtype, typ, copy)\u001b[39m\n\u001b[32m    499\u001b[39m     \u001b[38;5;28;01melse\u001b[39;00m:\n\u001b[32m    500\u001b[39m         \u001b[38;5;66;03m# dtype check to exclude e.g. range objects, scalars\u001b[39;00m\n\u001b[32m    501\u001b[39m         arrays = [x.copy() \u001b[38;5;28;01mif\u001b[39;00m \u001b[38;5;28mhasattr\u001b[39m(x, \u001b[33m\"\u001b[39m\u001b[33mdtype\u001b[39m\u001b[33m\"\u001b[39m) \u001b[38;5;28;01melse\u001b[39;00m x \u001b[38;5;28;01mfor\u001b[39;00m x \u001b[38;5;129;01min\u001b[39;00m arrays]\n\u001b[32m--> \u001b[39m\u001b[32m503\u001b[39m \u001b[38;5;28;01mreturn\u001b[39;00m \u001b[43marrays_to_mgr\u001b[49m\u001b[43m(\u001b[49m\u001b[43marrays\u001b[49m\u001b[43m,\u001b[49m\u001b[43m \u001b[49m\u001b[43mcolumns\u001b[49m\u001b[43m,\u001b[49m\u001b[43m \u001b[49m\u001b[43mindex\u001b[49m\u001b[43m,\u001b[49m\u001b[43m \u001b[49m\u001b[43mdtype\u001b[49m\u001b[43m=\u001b[49m\u001b[43mdtype\u001b[49m\u001b[43m,\u001b[49m\u001b[43m \u001b[49m\u001b[43mtyp\u001b[49m\u001b[43m=\u001b[49m\u001b[43mtyp\u001b[49m\u001b[43m,\u001b[49m\u001b[43m \u001b[49m\u001b[43mconsolidate\u001b[49m\u001b[43m=\u001b[49m\u001b[43mcopy\u001b[49m\u001b[43m)\u001b[49m\n",
      "\u001b[36mFile \u001b[39m\u001b[32m/opt/conda/lib/python3.12/site-packages/pandas/core/internals/construction.py:114\u001b[39m, in \u001b[36marrays_to_mgr\u001b[39m\u001b[34m(arrays, columns, index, dtype, verify_integrity, typ, consolidate)\u001b[39m\n\u001b[32m    111\u001b[39m \u001b[38;5;28;01mif\u001b[39;00m verify_integrity:\n\u001b[32m    112\u001b[39m     \u001b[38;5;66;03m# figure out the index, if necessary\u001b[39;00m\n\u001b[32m    113\u001b[39m     \u001b[38;5;28;01mif\u001b[39;00m index \u001b[38;5;129;01mis\u001b[39;00m \u001b[38;5;28;01mNone\u001b[39;00m:\n\u001b[32m--> \u001b[39m\u001b[32m114\u001b[39m         index = \u001b[43m_extract_index\u001b[49m\u001b[43m(\u001b[49m\u001b[43marrays\u001b[49m\u001b[43m)\u001b[49m\n\u001b[32m    115\u001b[39m     \u001b[38;5;28;01melse\u001b[39;00m:\n\u001b[32m    116\u001b[39m         index = ensure_index(index)\n",
      "\u001b[36mFile \u001b[39m\u001b[32m/opt/conda/lib/python3.12/site-packages/pandas/core/internals/construction.py:677\u001b[39m, in \u001b[36m_extract_index\u001b[39m\u001b[34m(data)\u001b[39m\n\u001b[32m    675\u001b[39m lengths = \u001b[38;5;28mlist\u001b[39m(\u001b[38;5;28mset\u001b[39m(raw_lengths))\n\u001b[32m    676\u001b[39m \u001b[38;5;28;01mif\u001b[39;00m \u001b[38;5;28mlen\u001b[39m(lengths) > \u001b[32m1\u001b[39m:\n\u001b[32m--> \u001b[39m\u001b[32m677\u001b[39m     \u001b[38;5;28;01mraise\u001b[39;00m \u001b[38;5;167;01mValueError\u001b[39;00m(\u001b[33m\"\u001b[39m\u001b[33mAll arrays must be of the same length\u001b[39m\u001b[33m\"\u001b[39m)\n\u001b[32m    679\u001b[39m \u001b[38;5;28;01mif\u001b[39;00m have_dicts:\n\u001b[32m    680\u001b[39m     \u001b[38;5;28;01mraise\u001b[39;00m \u001b[38;5;167;01mValueError\u001b[39;00m(\n\u001b[32m    681\u001b[39m         \u001b[33m\"\u001b[39m\u001b[33mMixing dicts with non-Series may lead to ambiguous ordering.\u001b[39m\u001b[33m\"\u001b[39m\n\u001b[32m    682\u001b[39m     )\n",
      "\u001b[31mValueError\u001b[39m: All arrays must be of the same length"
     ]
    }
   ],
   "source": [
    "negative_topic.merge_topics(negative, \n",
    "                            [1,2,3],\n",
    "                            [4,5,6])"
   ]
  },
  {
   "cell_type": "code",
   "execution_count": 89,
   "metadata": {},
   "outputs": [
    {
     "data": {
      "text/html": [
       "<div>\n",
       "<style scoped>\n",
       "    .dataframe tbody tr th:only-of-type {\n",
       "        vertical-align: middle;\n",
       "    }\n",
       "\n",
       "    .dataframe tbody tr th {\n",
       "        vertical-align: top;\n",
       "    }\n",
       "\n",
       "    .dataframe thead th {\n",
       "        text-align: right;\n",
       "    }\n",
       "</style>\n",
       "<table border=\"1\" class=\"dataframe\">\n",
       "  <thead>\n",
       "    <tr style=\"text-align: right;\">\n",
       "      <th></th>\n",
       "      <th>Topic</th>\n",
       "      <th>Count</th>\n",
       "      <th>Name</th>\n",
       "      <th>CustomName</th>\n",
       "      <th>Representation</th>\n",
       "      <th>Representative_Docs</th>\n",
       "    </tr>\n",
       "  </thead>\n",
       "  <tbody>\n",
       "    <tr>\n",
       "      <th>0</th>\n",
       "      <td>0</td>\n",
       "      <td>389</td>\n",
       "      <td>0_refund_hasnt_doesnt_didnt</td>\n",
       "      <td>0_refund_hasnt_doesnt_didnt</td>\n",
       "      <td>[refund, hasnt, doesnt, didnt, topup, waiting,...</td>\n",
       "      <td>[bad often error topped balance transaction si...</td>\n",
       "    </tr>\n",
       "    <tr>\n",
       "      <th>1</th>\n",
       "      <td>1</td>\n",
       "      <td>281</td>\n",
       "      <td>1_hasnt_apk_isnt_doesnt</td>\n",
       "      <td>Space Travel</td>\n",
       "      <td>[hasnt, apk, isnt, doesnt, topup, didnt, topin...</td>\n",
       "      <td>[transaction start unclear top e money sadlo c...</td>\n",
       "    </tr>\n",
       "    <tr>\n",
       "      <th>2</th>\n",
       "      <td>2</td>\n",
       "      <td>276</td>\n",
       "      <td>2_hopefully_cheap_admin_helpful</td>\n",
       "      <td>2_hopefully_cheap_admin_helpful</td>\n",
       "      <td>[hopefully, cheap, admin, helpful, buy, fails,...</td>\n",
       "      <td>[process easy fast cheap, cheap easy use helpf...</td>\n",
       "    </tr>\n",
       "    <tr>\n",
       "      <th>3</th>\n",
       "      <td>3</td>\n",
       "      <td>269</td>\n",
       "      <td>3_gopays_ewallet_isnt_doesnt</td>\n",
       "      <td>3_gopays_ewallet_isnt_doesnt</td>\n",
       "      <td>[gopays, ewallet, isnt, doesnt, arent, topup, ...</td>\n",
       "      <td>[please fix top blum, app fine there always bu...</td>\n",
       "    </tr>\n",
       "    <tr>\n",
       "      <th>4</th>\n",
       "      <td>4</td>\n",
       "      <td>243</td>\n",
       "      <td>4_voucher_isnt_doesnt_didnt</td>\n",
       "      <td>4_voucher_isnt_doesnt_didnt</td>\n",
       "      <td>[voucher, isnt, doesnt, didnt, topup, dont, wd...</td>\n",
       "      <td>[one always completes mission get coin play mi...</td>\n",
       "    </tr>\n",
       "    <tr>\n",
       "      <th>5</th>\n",
       "      <td>5</td>\n",
       "      <td>238</td>\n",
       "      <td>5_login_logged_voucher_otp</td>\n",
       "      <td>5_login_logged_voucher_otp</td>\n",
       "      <td>[login, logged, voucher, otp, doesnt, apk, wdp...</td>\n",
       "      <td>[app solid please change gopay plus another nu...</td>\n",
       "    </tr>\n",
       "    <tr>\n",
       "      <th>6</th>\n",
       "      <td>6</td>\n",
       "      <td>214</td>\n",
       "      <td>6_topup_thank_useless_buy</td>\n",
       "      <td>6_topup_thank_useless_buy</td>\n",
       "      <td>[topup, thank, useless, buy, cheap, hopefully,...</td>\n",
       "      <td>[app helpful hassle poko safe use gopay app, a...</td>\n",
       "    </tr>\n",
       "    <tr>\n",
       "      <th>7</th>\n",
       "      <td>7</td>\n",
       "      <td>212</td>\n",
       "      <td>7_ewallet_isnt_havent_doesnt</td>\n",
       "      <td>Religion</td>\n",
       "      <td>[ewallet, isnt, havent, doesnt, didnt, arent, ...</td>\n",
       "      <td>[gopay top doesnt come, want top dont money, t...</td>\n",
       "    </tr>\n",
       "    <tr>\n",
       "      <th>8</th>\n",
       "      <td>8</td>\n",
       "      <td>207</td>\n",
       "      <td>8_google_didnt_doesnt_apk</td>\n",
       "      <td>8_google_didnt_doesnt_apk</td>\n",
       "      <td>[google, didnt, doesnt, apk, dont, thank, wait...</td>\n",
       "      <td>[balance million gopay want log number active ...</td>\n",
       "    </tr>\n",
       "    <tr>\n",
       "      <th>9</th>\n",
       "      <td>9</td>\n",
       "      <td>207</td>\n",
       "      <td>9_gopays_gopaylater_goopay_doesnt</td>\n",
       "      <td>9_gopays_gopaylater_goopay_doesnt</td>\n",
       "      <td>[gopays, gopaylater, goopay, doesnt, didnt, ap...</td>\n",
       "      <td>[app cant trusted top fund gopay instead go go...</td>\n",
       "    </tr>\n",
       "    <tr>\n",
       "      <th>10</th>\n",
       "      <td>10</td>\n",
       "      <td>190</td>\n",
       "      <td>10_unreasonable_voucher_otp_doesnt</td>\n",
       "      <td>10_unreasonable_voucher_otp_doesnt</td>\n",
       "      <td>[unreasonable, voucher, otp, doesnt, didnt, ha...</td>\n",
       "      <td>[first installed scam app got lot promo vouche...</td>\n",
       "    </tr>\n",
       "    <tr>\n",
       "      <th>11</th>\n",
       "      <td>11</td>\n",
       "      <td>182</td>\n",
       "      <td>11_hasnt_havent_doesnt_didnt</td>\n",
       "      <td>11_hasnt_havent_doesnt_didnt</td>\n",
       "      <td>[hasnt, havent, doesnt, didnt, cashback, whats...</td>\n",
       "      <td>[ive waiting three day money hasnt come yet re...</td>\n",
       "    </tr>\n",
       "    <tr>\n",
       "      <th>12</th>\n",
       "      <td>12</td>\n",
       "      <td>174</td>\n",
       "      <td>12_hasnt_isnt_doesnt_couldnt</td>\n",
       "      <td>12_hasnt_isnt_doesnt_couldnt</td>\n",
       "      <td>[hasnt, isnt, doesnt, couldnt, didnt, whats, t...</td>\n",
       "      <td>[doesnt balance go history transaction, balanc...</td>\n",
       "    </tr>\n",
       "    <tr>\n",
       "      <th>13</th>\n",
       "      <td>13</td>\n",
       "      <td>170</td>\n",
       "      <td>13_wait_verification_waiting_chat</td>\n",
       "      <td>13_wait_verification_waiting_chat</td>\n",
       "      <td>[wait, verification, waiting, chat, disappoint...</td>\n",
       "      <td>[bad service balance far entered made complain...</td>\n",
       "    </tr>\n",
       "    <tr>\n",
       "      <th>14</th>\n",
       "      <td>14</td>\n",
       "      <td>157</td>\n",
       "      <td>14_hasnt_havent_isnt_apk</td>\n",
       "      <td>14_hasnt_havent_isnt_apk</td>\n",
       "      <td>[hasnt, havent, isnt, apk, wifi, doesnt, didnt...</td>\n",
       "      <td>[love one star gopay disappointed three time d...</td>\n",
       "    </tr>\n",
       "    <tr>\n",
       "      <th>15</th>\n",
       "      <td>15</td>\n",
       "      <td>156</td>\n",
       "      <td>15_ewallet_ewallets_scam_cashback</td>\n",
       "      <td>15_ewallet_ewallets_scam_cashback</td>\n",
       "      <td>[ewallet, ewallets, scam, cashback, costumer, ...</td>\n",
       "      <td>[like use gopay bayak feature attractive easy ...</td>\n",
       "    </tr>\n",
       "    <tr>\n",
       "      <th>16</th>\n",
       "      <td>16</td>\n",
       "      <td>149</td>\n",
       "      <td>16_ewallet_doesnt_thats_really</td>\n",
       "      <td>16_ewallet_doesnt_thats_really</td>\n",
       "      <td>[ewallet, doesnt, thats, really, wait, topup, ...</td>\n",
       "      <td>[balance charging transaction expensive always...</td>\n",
       "    </tr>\n",
       "    <tr>\n",
       "      <th>17</th>\n",
       "      <td>17</td>\n",
       "      <td>149</td>\n",
       "      <td>17_gopaylater_ewallet_didnt_topup</td>\n",
       "      <td>17_gopaylater_ewallet_didnt_topup</td>\n",
       "      <td>[gopaylater, ewallet, didnt, topup, admin, jt,...</td>\n",
       "      <td>[bad app transferred money sea bank gopay bala...</td>\n",
       "    </tr>\n",
       "    <tr>\n",
       "      <th>18</th>\n",
       "      <td>18</td>\n",
       "      <td>142</td>\n",
       "      <td>18_gopays_gopaylater_waiting_disappointed</td>\n",
       "      <td>18_gopays_gopaylater_waiting_disappointed</td>\n",
       "      <td>[gopays, gopaylater, waiting, disappointed, wa...</td>\n",
       "      <td>[long time getting uncomfortable every time to...</td>\n",
       "    </tr>\n",
       "    <tr>\n",
       "      <th>19</th>\n",
       "      <td>19</td>\n",
       "      <td>139</td>\n",
       "      <td>19_uninstall_wifi_doesnt_apk</td>\n",
       "      <td>19_uninstall_wifi_doesnt_apk</td>\n",
       "      <td>[uninstall, wifi, doesnt, apk, wdp, obviously,...</td>\n",
       "      <td>[please yes bought rb telkomsel package quota ...</td>\n",
       "    </tr>\n",
       "    <tr>\n",
       "      <th>20</th>\n",
       "      <td>20</td>\n",
       "      <td>130</td>\n",
       "      <td>20_ewallet_goopay_google_logged</td>\n",
       "      <td>20_ewallet_goopay_google_logged</td>\n",
       "      <td>[ewallet, goopay, google, logged, scam, thank,...</td>\n",
       "      <td>[hello gopay team problem promo gopay game mlb...</td>\n",
       "    </tr>\n",
       "    <tr>\n",
       "      <th>21</th>\n",
       "      <td>21</td>\n",
       "      <td>128</td>\n",
       "      <td>21_uninstall_hasnt_isnt_havent</td>\n",
       "      <td>21_uninstall_hasnt_isnt_havent</td>\n",
       "      <td>[uninstall, hasnt, isnt, havent, apk, wdp, doe...</td>\n",
       "      <td>[like star there promo top dm rp rp want conve...</td>\n",
       "    </tr>\n",
       "    <tr>\n",
       "      <th>22</th>\n",
       "      <td>22</td>\n",
       "      <td>116</td>\n",
       "      <td>22_unreasonable_wdp_doesnt_didnt</td>\n",
       "      <td>22_unreasonable_wdp_doesnt_didnt</td>\n",
       "      <td>[unreasonable, wdp, doesnt, didnt, definitely,...</td>\n",
       "      <td>[cant pay top diamond there unreasonable activ...</td>\n",
       "    </tr>\n",
       "    <tr>\n",
       "      <th>23</th>\n",
       "      <td>23</td>\n",
       "      <td>101</td>\n",
       "      <td>23_otp_login_apk_youre</td>\n",
       "      <td>23_otp_login_apk_youre</td>\n",
       "      <td>[otp, login, apk, youre, logged, cant, quickly...</td>\n",
       "      <td>[please help log ask update ive updated latest...</td>\n",
       "    </tr>\n",
       "    <tr>\n",
       "      <th>24</th>\n",
       "      <td>24</td>\n",
       "      <td>99</td>\n",
       "      <td>24_gopey_hasnt_havent_isnt</td>\n",
       "      <td>24_gopey_hasnt_havent_isnt</td>\n",
       "      <td>[gopey, hasnt, havent, isnt, doesnt, didnt, to...</td>\n",
       "      <td>[im overloaded money hasnt come yet, two day b...</td>\n",
       "    </tr>\n",
       "    <tr>\n",
       "      <th>25</th>\n",
       "      <td>25</td>\n",
       "      <td>93</td>\n",
       "      <td>25_paylater_july_hasnt_apk</td>\n",
       "      <td>25_paylater_july_hasnt_apk</td>\n",
       "      <td>[paylater, july, hasnt, apk, topup, waiting, w...</td>\n",
       "      <td>[two time already balance cut emoney hasnt sta...</td>\n",
       "    </tr>\n",
       "    <tr>\n",
       "      <th>26</th>\n",
       "      <td>26</td>\n",
       "      <td>90</td>\n",
       "      <td>26_hasnt_havent_didnt_apk</td>\n",
       "      <td>26_hasnt_havent_didnt_apk</td>\n",
       "      <td>[hasnt, havent, didnt, apk, dont, topup, topin...</td>\n",
       "      <td>[uh uh uh uh uh uh uh uh uh uh uh uh uh uh uh ...</td>\n",
       "    </tr>\n",
       "    <tr>\n",
       "      <th>27</th>\n",
       "      <td>27</td>\n",
       "      <td>88</td>\n",
       "      <td>27_uninstall_ewallet_ewallets_login</td>\n",
       "      <td>27_uninstall_ewallet_ewallets_login</td>\n",
       "      <td>[uninstall, ewallet, ewallets, login, wifi, to...</td>\n",
       "      <td>[want log gopay account facial verification fa...</td>\n",
       "    </tr>\n",
       "    <tr>\n",
       "      <th>28</th>\n",
       "      <td>28</td>\n",
       "      <td>74</td>\n",
       "      <td>28_gopaylater_goopay_unusable_indomaret</td>\n",
       "      <td>28_gopaylater_goopay_unusable_indomaret</td>\n",
       "      <td>[gopaylater, goopay, unusable, indomaret, scam...</td>\n",
       "      <td>[first price electric token cheap top price we...</td>\n",
       "    </tr>\n",
       "    <tr>\n",
       "      <th>29</th>\n",
       "      <td>29</td>\n",
       "      <td>68</td>\n",
       "      <td>29_gopaylater_doesnt_didnt_hows</td>\n",
       "      <td>29_gopaylater_doesnt_didnt_hows</td>\n",
       "      <td>[gopaylater, doesnt, didnt, hows, topup, whats...</td>\n",
       "      <td>[dont know dont know dont know dont know dont ...</td>\n",
       "    </tr>\n",
       "  </tbody>\n",
       "</table>\n",
       "</div>"
      ],
      "text/plain": [
       "    Topic  Count                                       Name  \\\n",
       "0       0    389                0_refund_hasnt_doesnt_didnt   \n",
       "1       1    281                    1_hasnt_apk_isnt_doesnt   \n",
       "2       2    276            2_hopefully_cheap_admin_helpful   \n",
       "3       3    269               3_gopays_ewallet_isnt_doesnt   \n",
       "4       4    243                4_voucher_isnt_doesnt_didnt   \n",
       "5       5    238                 5_login_logged_voucher_otp   \n",
       "6       6    214                  6_topup_thank_useless_buy   \n",
       "7       7    212               7_ewallet_isnt_havent_doesnt   \n",
       "8       8    207                  8_google_didnt_doesnt_apk   \n",
       "9       9    207          9_gopays_gopaylater_goopay_doesnt   \n",
       "10     10    190         10_unreasonable_voucher_otp_doesnt   \n",
       "11     11    182               11_hasnt_havent_doesnt_didnt   \n",
       "12     12    174               12_hasnt_isnt_doesnt_couldnt   \n",
       "13     13    170          13_wait_verification_waiting_chat   \n",
       "14     14    157                   14_hasnt_havent_isnt_apk   \n",
       "15     15    156          15_ewallet_ewallets_scam_cashback   \n",
       "16     16    149             16_ewallet_doesnt_thats_really   \n",
       "17     17    149          17_gopaylater_ewallet_didnt_topup   \n",
       "18     18    142  18_gopays_gopaylater_waiting_disappointed   \n",
       "19     19    139               19_uninstall_wifi_doesnt_apk   \n",
       "20     20    130            20_ewallet_goopay_google_logged   \n",
       "21     21    128             21_uninstall_hasnt_isnt_havent   \n",
       "22     22    116           22_unreasonable_wdp_doesnt_didnt   \n",
       "23     23    101                     23_otp_login_apk_youre   \n",
       "24     24     99                 24_gopey_hasnt_havent_isnt   \n",
       "25     25     93                 25_paylater_july_hasnt_apk   \n",
       "26     26     90                  26_hasnt_havent_didnt_apk   \n",
       "27     27     88        27_uninstall_ewallet_ewallets_login   \n",
       "28     28     74    28_gopaylater_goopay_unusable_indomaret   \n",
       "29     29     68            29_gopaylater_doesnt_didnt_hows   \n",
       "\n",
       "                                   CustomName  \\\n",
       "0                 0_refund_hasnt_doesnt_didnt   \n",
       "1                                Space Travel   \n",
       "2             2_hopefully_cheap_admin_helpful   \n",
       "3                3_gopays_ewallet_isnt_doesnt   \n",
       "4                 4_voucher_isnt_doesnt_didnt   \n",
       "5                  5_login_logged_voucher_otp   \n",
       "6                   6_topup_thank_useless_buy   \n",
       "7                                    Religion   \n",
       "8                   8_google_didnt_doesnt_apk   \n",
       "9           9_gopays_gopaylater_goopay_doesnt   \n",
       "10         10_unreasonable_voucher_otp_doesnt   \n",
       "11               11_hasnt_havent_doesnt_didnt   \n",
       "12               12_hasnt_isnt_doesnt_couldnt   \n",
       "13          13_wait_verification_waiting_chat   \n",
       "14                   14_hasnt_havent_isnt_apk   \n",
       "15          15_ewallet_ewallets_scam_cashback   \n",
       "16             16_ewallet_doesnt_thats_really   \n",
       "17          17_gopaylater_ewallet_didnt_topup   \n",
       "18  18_gopays_gopaylater_waiting_disappointed   \n",
       "19               19_uninstall_wifi_doesnt_apk   \n",
       "20            20_ewallet_goopay_google_logged   \n",
       "21             21_uninstall_hasnt_isnt_havent   \n",
       "22           22_unreasonable_wdp_doesnt_didnt   \n",
       "23                     23_otp_login_apk_youre   \n",
       "24                 24_gopey_hasnt_havent_isnt   \n",
       "25                 25_paylater_july_hasnt_apk   \n",
       "26                  26_hasnt_havent_didnt_apk   \n",
       "27        27_uninstall_ewallet_ewallets_login   \n",
       "28    28_gopaylater_goopay_unusable_indomaret   \n",
       "29            29_gopaylater_doesnt_didnt_hows   \n",
       "\n",
       "                                       Representation  \\\n",
       "0   [refund, hasnt, doesnt, didnt, topup, waiting,...   \n",
       "1   [hasnt, apk, isnt, doesnt, topup, didnt, topin...   \n",
       "2   [hopefully, cheap, admin, helpful, buy, fails,...   \n",
       "3   [gopays, ewallet, isnt, doesnt, arent, topup, ...   \n",
       "4   [voucher, isnt, doesnt, didnt, topup, dont, wd...   \n",
       "5   [login, logged, voucher, otp, doesnt, apk, wdp...   \n",
       "6   [topup, thank, useless, buy, cheap, hopefully,...   \n",
       "7   [ewallet, isnt, havent, doesnt, didnt, arent, ...   \n",
       "8   [google, didnt, doesnt, apk, dont, thank, wait...   \n",
       "9   [gopays, gopaylater, goopay, doesnt, didnt, ap...   \n",
       "10  [unreasonable, voucher, otp, doesnt, didnt, ha...   \n",
       "11  [hasnt, havent, doesnt, didnt, cashback, whats...   \n",
       "12  [hasnt, isnt, doesnt, couldnt, didnt, whats, t...   \n",
       "13  [wait, verification, waiting, chat, disappoint...   \n",
       "14  [hasnt, havent, isnt, apk, wifi, doesnt, didnt...   \n",
       "15  [ewallet, ewallets, scam, cashback, costumer, ...   \n",
       "16  [ewallet, doesnt, thats, really, wait, topup, ...   \n",
       "17  [gopaylater, ewallet, didnt, topup, admin, jt,...   \n",
       "18  [gopays, gopaylater, waiting, disappointed, wa...   \n",
       "19  [uninstall, wifi, doesnt, apk, wdp, obviously,...   \n",
       "20  [ewallet, goopay, google, logged, scam, thank,...   \n",
       "21  [uninstall, hasnt, isnt, havent, apk, wdp, doe...   \n",
       "22  [unreasonable, wdp, doesnt, didnt, definitely,...   \n",
       "23  [otp, login, apk, youre, logged, cant, quickly...   \n",
       "24  [gopey, hasnt, havent, isnt, doesnt, didnt, to...   \n",
       "25  [paylater, july, hasnt, apk, topup, waiting, w...   \n",
       "26  [hasnt, havent, didnt, apk, dont, topup, topin...   \n",
       "27  [uninstall, ewallet, ewallets, login, wifi, to...   \n",
       "28  [gopaylater, goopay, unusable, indomaret, scam...   \n",
       "29  [gopaylater, doesnt, didnt, hows, topup, whats...   \n",
       "\n",
       "                                  Representative_Docs  \n",
       "0   [bad often error topped balance transaction si...  \n",
       "1   [transaction start unclear top e money sadlo c...  \n",
       "2   [process easy fast cheap, cheap easy use helpf...  \n",
       "3   [please fix top blum, app fine there always bu...  \n",
       "4   [one always completes mission get coin play mi...  \n",
       "5   [app solid please change gopay plus another nu...  \n",
       "6   [app helpful hassle poko safe use gopay app, a...  \n",
       "7   [gopay top doesnt come, want top dont money, t...  \n",
       "8   [balance million gopay want log number active ...  \n",
       "9   [app cant trusted top fund gopay instead go go...  \n",
       "10  [first installed scam app got lot promo vouche...  \n",
       "11  [ive waiting three day money hasnt come yet re...  \n",
       "12  [doesnt balance go history transaction, balanc...  \n",
       "13  [bad service balance far entered made complain...  \n",
       "14  [love one star gopay disappointed three time d...  \n",
       "15  [like use gopay bayak feature attractive easy ...  \n",
       "16  [balance charging transaction expensive always...  \n",
       "17  [bad app transferred money sea bank gopay bala...  \n",
       "18  [long time getting uncomfortable every time to...  \n",
       "19  [please yes bought rb telkomsel package quota ...  \n",
       "20  [hello gopay team problem promo gopay game mlb...  \n",
       "21  [like star there promo top dm rp rp want conve...  \n",
       "22  [cant pay top diamond there unreasonable activ...  \n",
       "23  [please help log ask update ive updated latest...  \n",
       "24  [im overloaded money hasnt come yet, two day b...  \n",
       "25  [two time already balance cut emoney hasnt sta...  \n",
       "26  [uh uh uh uh uh uh uh uh uh uh uh uh uh uh uh ...  \n",
       "27  [want log gopay account facial verification fa...  \n",
       "28  [first price electric token cheap top price we...  \n",
       "29  [dont know dont know dont know dont know dont ...  "
      ]
     },
     "execution_count": 89,
     "metadata": {},
     "output_type": "execute_result"
    }
   ],
   "source": [
    "negative_info = negative_topic.get_topic_info()\n",
    "negative_info"
   ]
  },
  {
   "cell_type": "code",
   "execution_count": 75,
   "metadata": {
    "editable": true,
    "slideshow": {
     "slide_type": ""
    },
    "tags": []
   },
   "outputs": [
    {
     "name": "stderr",
     "output_type": "stream",
     "text": [
      "2025-08-29 13:30:39,734 - BERTopic - Embedding - Transforming documents to embeddings.\n",
      "100% 1789/1789 [00:02<00:00, 637.43it/s]\n",
      "2025-08-29 13:30:42,547 - BERTopic - Embedding - Completed ✓\n",
      "2025-08-29 13:30:42,547 - BERTopic - Dimensionality - Fitting the dimensionality reduction algorithm\n",
      "2025-08-29 13:30:44,136 - BERTopic - Dimensionality - Completed ✓\n",
      "2025-08-29 13:30:44,136 - BERTopic - Cluster - Start clustering the reduced embeddings\n",
      "2025-08-29 13:30:44,155 - BERTopic - Cluster - Completed ✓\n",
      "2025-08-29 13:30:44,157 - BERTopic - Representation - Fine-tuning topics using representation models.\n",
      "2025-08-29 13:30:44,249 - BERTopic - Representation - Completed ✓\n"
     ]
    }
   ],
   "source": [
    "positive_topic = topic(12)\n",
    "positive_info = positive_topic.fit_transform(positive)\n",
    "positive_info = positive_topic.get_topic_info()\n",
    "positive_info.to_csv('positive_topic.csv')\n",
    "positive_info"
   ]
  },
  {
   "cell_type": "code",
   "execution_count": 77,
   "metadata": {},
   "outputs": [],
   "source": [
    "positive_topic.set_topic_labels({\n",
    "    1: \"Space Travel\", 7: \"Religion\"\n",
    "})"
   ]
  },
  {
   "cell_type": "code",
   "execution_count": null,
   "metadata": {},
   "outputs": [],
   "source": [
    "positive_topic.merge_topics(positive, \n",
    "                           [[1,2],\n",
    "                           [3,4]]\n",
    "                           )"
   ]
  },
  {
   "cell_type": "markdown",
   "metadata": {},
   "source": [
    "positive_info = positive_topic.get_topic_info()\n",
    "positive_info"
   ]
  },
  {
   "cell_type": "markdown",
   "metadata": {
    "id": "V80HeaiGdCM9"
   },
   "source": [
    "# Conclusion"
   ]
  }
 ],
 "metadata": {
  "colab": {
   "provenance": []
  },
  "kaggle": {
   "accelerator": "nvidiaTeslaT4",
   "dataSources": [],
   "dockerImageVersionId": 31090,
   "isGpuEnabled": true,
   "isInternetEnabled": true,
   "language": "python",
   "sourceType": "notebook"
  },
  "kernelspec": {
   "display_name": "Python 3 (ipykernel)",
   "language": "python",
   "name": "python3"
  },
  "language_info": {
   "codemirror_mode": {
    "name": "ipython",
    "version": 3
   },
   "file_extension": ".py",
   "mimetype": "text/x-python",
   "name": "python",
   "nbconvert_exporter": "python",
   "pygments_lexer": "ipython3",
   "version": "3.12.11"
  }
 },
 "nbformat": 4,
 "nbformat_minor": 4
}
