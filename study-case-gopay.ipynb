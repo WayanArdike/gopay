{
 "cells": [
  {
   "cell_type": "markdown",
   "metadata": {
    "id": "niAYKrGqcgVr",
    "jp-MarkdownHeadingCollapsed": true
   },
   "source": [
    "# Scraping Data"
   ]
  },
  {
   "cell_type": "code",
   "execution_count": 1,
   "metadata": {
    "colab": {
     "base_uri": "https://localhost:8080/"
    },
    "id": "dhtkH1GJcde3",
    "outputId": "ed4bfffa-2dbf-4765-9ba3-e0c5f4910fbe"
   },
   "outputs": [
    {
     "name": "stdout",
     "output_type": "stream",
     "text": [
      "Collecting google-play-scraper\n",
      "  Downloading google_play_scraper-1.2.7-py3-none-any.whl.metadata (50 kB)\n",
      "Downloading google_play_scraper-1.2.7-py3-none-any.whl (28 kB)\n",
      "Installing collected packages: google-play-scraper\n",
      "Successfully installed google-play-scraper-1.2.7\n"
     ]
    }
   ],
   "source": [
    "!pip install google-play-scraper"
   ]
  },
  {
   "cell_type": "code",
   "execution_count": 2,
   "metadata": {
    "id": "a0c4O0JGdlZ9"
   },
   "outputs": [],
   "source": [
    "from google_play_scraper import Sort, reviews\n",
    "import pandas as pd"
   ]
  },
  {
   "cell_type": "code",
   "execution_count": 3,
   "metadata": {
    "id": "DkQ7crN4dw4b"
   },
   "outputs": [],
   "source": [
    "result = reviews(\n",
    "    'com.gojek.gopay',\n",
    "    lang='id',\n",
    "    country='id',\n",
    "    sort=Sort.MOST_RELEVANT,\n",
    "    count=7000\n",
    ")"
   ]
  },
  {
   "cell_type": "code",
   "execution_count": 4,
   "metadata": {
    "colab": {
     "base_uri": "https://localhost:8080/"
    },
    "id": "qJvb6D3FkzSO",
    "outputId": "d2e948f3-08af-4178-cbc2-174a32eaa65c"
   },
   "outputs": [
    {
     "name": "stdout",
     "output_type": "stream",
     "text": [
      "<class 'pandas.core.frame.DataFrame'>\n",
      "RangeIndex: 7000 entries, 0 to 6999\n",
      "Data columns (total 11 columns):\n",
      " #   Column                Non-Null Count  Dtype         \n",
      "---  ------                --------------  -----         \n",
      " 0   reviewId              7000 non-null   object        \n",
      " 1   userName              7000 non-null   object        \n",
      " 2   userImage             7000 non-null   object        \n",
      " 3   content               7000 non-null   object        \n",
      " 4   score                 7000 non-null   int64         \n",
      " 5   thumbsUpCount         7000 non-null   int64         \n",
      " 6   reviewCreatedVersion  6920 non-null   object        \n",
      " 7   at                    7000 non-null   datetime64[ns]\n",
      " 8   replyContent          4524 non-null   object        \n",
      " 9   repliedAt             4524 non-null   datetime64[ns]\n",
      " 10  appVersion            6920 non-null   object        \n",
      "dtypes: datetime64[ns](2), int64(2), object(7)\n",
      "memory usage: 601.7+ KB\n"
     ]
    }
   ],
   "source": [
    "result = pd.DataFrame(result[0])\n",
    "result.info()"
   ]
  },
  {
   "cell_type": "code",
   "execution_count": 5,
   "metadata": {
    "id": "HMVedn6ctDLU"
   },
   "outputs": [],
   "source": [
    "data = result.to_csv('result.csv', index=False)"
   ]
  },
  {
   "cell_type": "markdown",
   "metadata": {
    "id": "oBVAv_XJclag",
    "jp-MarkdownHeadingCollapsed": true
   },
   "source": [
    "# Data Cleaning"
   ]
  },
  {
   "cell_type": "code",
   "execution_count": 6,
   "metadata": {
    "id": "oj7ShY-BckwH"
   },
   "outputs": [],
   "source": [
    "data = pd.read_csv('result.csv')\n",
    "data = data.drop(['reviewId','userName', 'userImage', 'reviewCreatedVersion', 'replyContent', 'repliedAt'],axis=1)"
   ]
  },
  {
   "cell_type": "code",
   "execution_count": 7,
   "metadata": {
    "colab": {
     "base_uri": "https://localhost:8080/"
    },
    "id": "G89JwkOfn_Gl",
    "outputId": "7ab65654-00d4-420b-ea2c-410f842ec235"
   },
   "outputs": [
    {
     "name": "stdout",
     "output_type": "stream",
     "text": [
      "<class 'pandas.core.frame.DataFrame'>\n",
      "Index: 6920 entries, 0 to 6999\n",
      "Data columns (total 5 columns):\n",
      " #   Column         Non-Null Count  Dtype \n",
      "---  ------         --------------  ----- \n",
      " 0   content        6920 non-null   object\n",
      " 1   score          6920 non-null   int64 \n",
      " 2   thumbsUpCount  6920 non-null   int64 \n",
      " 3   at             6920 non-null   object\n",
      " 4   appVersion     6920 non-null   object\n",
      "dtypes: int64(2), object(3)\n",
      "memory usage: 324.4+ KB\n"
     ]
    }
   ],
   "source": [
    "data = data.drop_duplicates()\n",
    "data = data.dropna()\n",
    "\n",
    "data.info()"
   ]
  },
  {
   "cell_type": "code",
   "execution_count": 8,
   "metadata": {
    "colab": {
     "base_uri": "https://localhost:8080/"
    },
    "id": "KdQP1y-Grxf7",
    "outputId": "572080fb-82b2-48e8-f823-bde499289ca0"
   },
   "outputs": [
    {
     "name": "stdout",
     "output_type": "stream",
     "text": [
      "<class 'pandas.core.frame.DataFrame'>\n",
      "Index: 6920 entries, 0 to 6999\n",
      "Data columns (total 5 columns):\n",
      " #   Column         Non-Null Count  Dtype \n",
      "---  ------         --------------  ----- \n",
      " 0   content        6920 non-null   object\n",
      " 1   score          6920 non-null   int64 \n",
      " 2   thumbsUpCount  6920 non-null   int64 \n",
      " 3   appVersion     6920 non-null   object\n",
      " 4   month          6920 non-null   object\n",
      "dtypes: int64(2), object(3)\n",
      "memory usage: 324.4+ KB\n"
     ]
    }
   ],
   "source": [
    "data['at'] = pd.to_datetime(data['at'])\n",
    "data = data[data['at'].dt.year == 2025]\n",
    "\n",
    "data['month'] = data['at'].dt.month.astype('str')\n",
    "data = data.drop(columns=['at'], axis=1)\n",
    "data.info()"
   ]
  },
  {
   "cell_type": "code",
   "execution_count": 9,
   "metadata": {
    "colab": {
     "base_uri": "https://localhost:8080/",
     "height": 574
    },
    "id": "UnZrGNTUtjOp",
    "outputId": "7bb36f0d-23bf-4026-991f-1a40222b28e7"
   },
   "outputs": [
    {
     "data": {
      "text/html": [
       "<div>\n",
       "<style scoped>\n",
       "    .dataframe tbody tr th:only-of-type {\n",
       "        vertical-align: middle;\n",
       "    }\n",
       "\n",
       "    .dataframe tbody tr th {\n",
       "        vertical-align: top;\n",
       "    }\n",
       "\n",
       "    .dataframe thead th {\n",
       "        text-align: right;\n",
       "    }\n",
       "</style>\n",
       "<table border=\"1\" class=\"dataframe\">\n",
       "  <thead>\n",
       "    <tr style=\"text-align: right;\">\n",
       "      <th></th>\n",
       "      <th>content</th>\n",
       "      <th>score</th>\n",
       "      <th>thumbsUpCount</th>\n",
       "      <th>appVersion</th>\n",
       "      <th>month</th>\n",
       "    </tr>\n",
       "  </thead>\n",
       "  <tbody>\n",
       "    <tr>\n",
       "      <th>0</th>\n",
       "      <td>aplikasi nya udh bagus seperti yang lainnya ta...</td>\n",
       "      <td>2</td>\n",
       "      <td>18</td>\n",
       "      <td>1.56.1</td>\n",
       "      <td>8</td>\n",
       "    </tr>\n",
       "    <tr>\n",
       "      <th>1</th>\n",
       "      <td>Saya download aplikasi ini dan saat masukan no...</td>\n",
       "      <td>1</td>\n",
       "      <td>73</td>\n",
       "      <td>1.56.1</td>\n",
       "      <td>8</td>\n",
       "    </tr>\n",
       "    <tr>\n",
       "      <th>2</th>\n",
       "      <td>aplikasi gopay ini bagus tapi saat mau membaya...</td>\n",
       "      <td>2</td>\n",
       "      <td>10</td>\n",
       "      <td>1.56.1</td>\n",
       "      <td>8</td>\n",
       "    </tr>\n",
       "    <tr>\n",
       "      <th>3</th>\n",
       "      <td>aplikasinya bagus aja, cuma ad sedikit masalah...</td>\n",
       "      <td>3</td>\n",
       "      <td>24</td>\n",
       "      <td>1.56.1</td>\n",
       "      <td>8</td>\n",
       "    </tr>\n",
       "    <tr>\n",
       "      <th>4</th>\n",
       "      <td>Cukup kecewa update kali ini. Mengapa sistem b...</td>\n",
       "      <td>2</td>\n",
       "      <td>18</td>\n",
       "      <td>1.56.1</td>\n",
       "      <td>8</td>\n",
       "    </tr>\n",
       "  </tbody>\n",
       "</table>\n",
       "</div>"
      ],
      "text/plain": [
       "                                             content  score  thumbsUpCount  \\\n",
       "0  aplikasi nya udh bagus seperti yang lainnya ta...      2             18   \n",
       "1  Saya download aplikasi ini dan saat masukan no...      1             73   \n",
       "2  aplikasi gopay ini bagus tapi saat mau membaya...      2             10   \n",
       "3  aplikasinya bagus aja, cuma ad sedikit masalah...      3             24   \n",
       "4  Cukup kecewa update kali ini. Mengapa sistem b...      2             18   \n",
       "\n",
       "  appVersion month  \n",
       "0     1.56.1     8  \n",
       "1     1.56.1     8  \n",
       "2     1.56.1     8  \n",
       "3     1.56.1     8  \n",
       "4     1.56.1     8  "
      ]
     },
     "execution_count": 9,
     "metadata": {},
     "output_type": "execute_result"
    }
   ],
   "source": [
    "data.head()"
   ]
  },
  {
   "cell_type": "code",
   "execution_count": 10,
   "metadata": {
    "colab": {
     "base_uri": "https://localhost:8080/"
    },
    "id": "u-1EDhupOAop",
    "outputId": "29f7eb4d-cc27-44f3-e433-7422b37bd426"
   },
   "outputs": [
    {
     "name": "stdout",
     "output_type": "stream",
     "text": [
      "['1.56.1' '1.53.0' '1.57.0' '1.52.0' '1.54.0' '1.51.0' '1.49.1' '1.49.0'\n",
      " '1.48.0' '1.45.0' '1.47.0' '1.46.1' '1.44.0' '1.56.0' '1.39.0' '1.26.1'\n",
      " '1.15.1' '1.21.0' '1.27.0']\n"
     ]
    }
   ],
   "source": [
    "print(data['appVersion'].unique())"
   ]
  },
  {
   "cell_type": "code",
   "execution_count": 11,
   "metadata": {
    "colab": {
     "base_uri": "https://localhost:8080/",
     "height": 574
    },
    "id": "-AVJzxohONVQ",
    "outputId": "2e87c5b9-d82a-4575-8e88-d270e268602a"
   },
   "outputs": [
    {
     "data": {
      "text/html": [
       "<div>\n",
       "<style scoped>\n",
       "    .dataframe tbody tr th:only-of-type {\n",
       "        vertical-align: middle;\n",
       "    }\n",
       "\n",
       "    .dataframe tbody tr th {\n",
       "        vertical-align: top;\n",
       "    }\n",
       "\n",
       "    .dataframe thead th {\n",
       "        text-align: right;\n",
       "    }\n",
       "</style>\n",
       "<table border=\"1\" class=\"dataframe\">\n",
       "  <thead>\n",
       "    <tr style=\"text-align: right;\">\n",
       "      <th></th>\n",
       "      <th>content</th>\n",
       "      <th>score</th>\n",
       "      <th>thumbsUpCount</th>\n",
       "      <th>month</th>\n",
       "      <th>minorVersion</th>\n",
       "      <th>majorVersion</th>\n",
       "    </tr>\n",
       "  </thead>\n",
       "  <tbody>\n",
       "    <tr>\n",
       "      <th>0</th>\n",
       "      <td>aplikasi nya udh bagus seperti yang lainnya ta...</td>\n",
       "      <td>2</td>\n",
       "      <td>18</td>\n",
       "      <td>8</td>\n",
       "      <td>1.56.1</td>\n",
       "      <td>1.5</td>\n",
       "    </tr>\n",
       "    <tr>\n",
       "      <th>1</th>\n",
       "      <td>Saya download aplikasi ini dan saat masukan no...</td>\n",
       "      <td>1</td>\n",
       "      <td>73</td>\n",
       "      <td>8</td>\n",
       "      <td>1.56.1</td>\n",
       "      <td>1.5</td>\n",
       "    </tr>\n",
       "    <tr>\n",
       "      <th>2</th>\n",
       "      <td>aplikasi gopay ini bagus tapi saat mau membaya...</td>\n",
       "      <td>2</td>\n",
       "      <td>10</td>\n",
       "      <td>8</td>\n",
       "      <td>1.56.1</td>\n",
       "      <td>1.5</td>\n",
       "    </tr>\n",
       "    <tr>\n",
       "      <th>3</th>\n",
       "      <td>aplikasinya bagus aja, cuma ad sedikit masalah...</td>\n",
       "      <td>3</td>\n",
       "      <td>24</td>\n",
       "      <td>8</td>\n",
       "      <td>1.56.1</td>\n",
       "      <td>1.5</td>\n",
       "    </tr>\n",
       "    <tr>\n",
       "      <th>4</th>\n",
       "      <td>Cukup kecewa update kali ini. Mengapa sistem b...</td>\n",
       "      <td>2</td>\n",
       "      <td>18</td>\n",
       "      <td>8</td>\n",
       "      <td>1.56.1</td>\n",
       "      <td>1.5</td>\n",
       "    </tr>\n",
       "  </tbody>\n",
       "</table>\n",
       "</div>"
      ],
      "text/plain": [
       "                                             content  score  thumbsUpCount  \\\n",
       "0  aplikasi nya udh bagus seperti yang lainnya ta...      2             18   \n",
       "1  Saya download aplikasi ini dan saat masukan no...      1             73   \n",
       "2  aplikasi gopay ini bagus tapi saat mau membaya...      2             10   \n",
       "3  aplikasinya bagus aja, cuma ad sedikit masalah...      3             24   \n",
       "4  Cukup kecewa update kali ini. Mengapa sistem b...      2             18   \n",
       "\n",
       "  month minorVersion majorVersion  \n",
       "0     8       1.56.1          1.5  \n",
       "1     8       1.56.1          1.5  \n",
       "2     8       1.56.1          1.5  \n",
       "3     8       1.56.1          1.5  \n",
       "4     8       1.56.1          1.5  "
      ]
     },
     "execution_count": 11,
     "metadata": {},
     "output_type": "execute_result"
    }
   ],
   "source": [
    "data['minorVersion'] = data['appVersion']\n",
    "data = data.drop(columns=['appVersion'], axis=1)\n",
    "data['majorVersion'] = data['minorVersion'].str[:3]\n",
    "data.head()"
   ]
  },
  {
   "cell_type": "code",
   "execution_count": 12,
   "metadata": {
    "colab": {
     "base_uri": "https://localhost:8080/"
    },
    "id": "n_uo7FAHRiSV",
    "outputId": "fe3cdf19-4038-40c6-d0b3-aa2652214deb"
   },
   "outputs": [
    {
     "name": "stdout",
     "output_type": "stream",
     "text": [
      "['1.5' '1.4' '1.3' '1.2' '1.1']\n"
     ]
    }
   ],
   "source": [
    "print(data['majorVersion'].unique())"
   ]
  },
  {
   "cell_type": "markdown",
   "metadata": {
    "id": "FiF_ZVdRcrBH",
    "jp-MarkdownHeadingCollapsed": true
   },
   "source": [
    "# Exploratory Data Analysis"
   ]
  },
  {
   "cell_type": "code",
   "execution_count": 13,
   "metadata": {
    "id": "CSxUlHmfcqun"
   },
   "outputs": [],
   "source": [
    "import seaborn as sns\n",
    "import matplotlib.pyplot as plt"
   ]
  },
  {
   "cell_type": "code",
   "execution_count": 14,
   "metadata": {
    "colab": {
     "base_uri": "https://localhost:8080/",
     "height": 320
    },
    "id": "sCfzFIcohRLi",
    "outputId": "ce55d99f-4700-4d38-8bef-bc4f7398d954"
   },
   "outputs": [
    {
     "data": {
      "text/html": [
       "<div>\n",
       "<style scoped>\n",
       "    .dataframe tbody tr th:only-of-type {\n",
       "        vertical-align: middle;\n",
       "    }\n",
       "\n",
       "    .dataframe tbody tr th {\n",
       "        vertical-align: top;\n",
       "    }\n",
       "\n",
       "    .dataframe thead th {\n",
       "        text-align: right;\n",
       "    }\n",
       "</style>\n",
       "<table border=\"1\" class=\"dataframe\">\n",
       "  <thead>\n",
       "    <tr style=\"text-align: right;\">\n",
       "      <th></th>\n",
       "      <th>score</th>\n",
       "      <th>thumbsUpCount</th>\n",
       "    </tr>\n",
       "  </thead>\n",
       "  <tbody>\n",
       "    <tr>\n",
       "      <th>count</th>\n",
       "      <td>6920.000000</td>\n",
       "      <td>6920.000000</td>\n",
       "    </tr>\n",
       "    <tr>\n",
       "      <th>mean</th>\n",
       "      <td>2.620231</td>\n",
       "      <td>6.484104</td>\n",
       "    </tr>\n",
       "    <tr>\n",
       "      <th>std</th>\n",
       "      <td>1.781047</td>\n",
       "      <td>32.636918</td>\n",
       "    </tr>\n",
       "    <tr>\n",
       "      <th>min</th>\n",
       "      <td>1.000000</td>\n",
       "      <td>0.000000</td>\n",
       "    </tr>\n",
       "    <tr>\n",
       "      <th>25%</th>\n",
       "      <td>1.000000</td>\n",
       "      <td>0.000000</td>\n",
       "    </tr>\n",
       "    <tr>\n",
       "      <th>50%</th>\n",
       "      <td>2.000000</td>\n",
       "      <td>0.000000</td>\n",
       "    </tr>\n",
       "    <tr>\n",
       "      <th>75%</th>\n",
       "      <td>5.000000</td>\n",
       "      <td>2.000000</td>\n",
       "    </tr>\n",
       "    <tr>\n",
       "      <th>max</th>\n",
       "      <td>5.000000</td>\n",
       "      <td>1419.000000</td>\n",
       "    </tr>\n",
       "  </tbody>\n",
       "</table>\n",
       "</div>"
      ],
      "text/plain": [
       "             score  thumbsUpCount\n",
       "count  6920.000000    6920.000000\n",
       "mean      2.620231       6.484104\n",
       "std       1.781047      32.636918\n",
       "min       1.000000       0.000000\n",
       "25%       1.000000       0.000000\n",
       "50%       2.000000       0.000000\n",
       "75%       5.000000       2.000000\n",
       "max       5.000000    1419.000000"
      ]
     },
     "execution_count": 14,
     "metadata": {},
     "output_type": "execute_result"
    }
   ],
   "source": [
    "data.describe()"
   ]
  },
  {
   "cell_type": "code",
   "execution_count": 15,
   "metadata": {
    "colab": {
     "base_uri": "https://localhost:8080/",
     "height": 106
    },
    "id": "NOKpg9LFhjED",
    "outputId": "f4fe2c3c-f200-4556-b359-dcf22449a66a"
   },
   "outputs": [
    {
     "data": {
      "text/plain": [
       "<Axes: xlabel='score', ylabel='count'>"
      ]
     },
     "execution_count": 15,
     "metadata": {},
     "output_type": "execute_result"
    },
    {
     "data": {
      "image/png": "[encoded data removed]",
      "text/plain": [
       "<Figure size 640x480 with 1 Axes>"
      ]
     },
     "metadata": {},
     "output_type": "display_data"
    }
   ],
   "source": [
    "sns.countplot(data=data, x='score')"
   ]
  },
  {
   "cell_type": "code",
   "execution_count": 16,
   "metadata": {
    "colab": {
     "base_uri": "https://localhost:8080/",
     "height": 106
    },
    "id": "MdNXDAGFh3wr",
    "outputId": "04b07c51-eea7-4164-9daf-254e1c6baf07"
   },
   "outputs": [
    {
     "data": {
      "text/plain": [
       "<Axes: xlabel='month', ylabel='count'>"
      ]
     },
     "execution_count": 16,
     "metadata": {},
     "output_type": "execute_result"
    },
    {
     "data": {
      "image/png": "[encoded data removed]",
      "text/plain": [
       "<Figure size 640x480 with 1 Axes>"
      ]
     },
     "metadata": {},
     "output_type": "display_data"
    }
   ],
   "source": [
    "sns.countplot(data=data, x='month')"
   ]
  },
  {
   "cell_type": "code",
   "execution_count": 17,
   "metadata": {
    "colab": {
     "base_uri": "https://localhost:8080/",
     "height": 106
    },
    "id": "dKhFklp1h7h_",
    "outputId": "d6c7be90-1261-4bbe-97ec-18ad3af85039"
   },
   "outputs": [
    {
     "data": {
      "text/plain": [
       "<Axes: xlabel='majorVersion', ylabel='count'>"
      ]
     },
     "execution_count": 17,
     "metadata": {},
     "output_type": "execute_result"
    },
    {
     "data": {
      "image/png": "[encoded data removed]",
      "text/plain": [
       "<Figure size 640x480 with 1 Axes>"
      ]
     },
     "metadata": {},
     "output_type": "display_data"
    }
   ],
   "source": [
    "sns.countplot(data=data, x='majorVersion')"
   ]
  },
  {
   "cell_type": "code",
   "execution_count": 18,
   "metadata": {
    "colab": {
     "base_uri": "https://localhost:8080/",
     "height": 106
    },
    "id": "22A0-j0WlzMN",
    "outputId": "727f6f48-8baa-4ece-f87f-dbfdfe1acc8f"
   },
   "outputs": [
    {
     "data": {
      "text/plain": [
       "<Axes: xlabel='score', ylabel='thumbsUpCount'>"
      ]
     },
     "execution_count": 18,
     "metadata": {},
     "output_type": "execute_result"
    },
    {
     "data": {
      "image/png": "[encoded data removed]",
      "text/plain": [
       "<Figure size 640x480 with 1 Axes>"
      ]
     },
     "metadata": {},
     "output_type": "display_data"
    }
   ],
   "source": [
    "sns.barplot(data=data, x='score', y='thumbsUpCount')"
   ]
  },
  {
   "cell_type": "code",
   "execution_count": 19,
   "metadata": {
    "colab": {
     "base_uri": "https://localhost:8080/",
     "height": 106
    },
    "id": "m3pQtULkiBKi",
    "outputId": "1a1e6ab2-82d5-4b6d-eabf-08cd29173457"
   },
   "outputs": [
    {
     "data": {
      "text/plain": [
       "<Axes: xlabel='majorVersion', ylabel='score'>"
      ]
     },
     "execution_count": 19,
     "metadata": {},
     "output_type": "execute_result"
    },
    {
     "data": {
      "image/png": "[encoded data removed]",
      "text/plain": [
       "<Figure size 640x480 with 1 Axes>"
      ]
     },
     "metadata": {},
     "output_type": "display_data"
    }
   ],
   "source": [
    "sns.barplot(data=data, x='majorVersion', y='score')"
   ]
  },
  {
   "cell_type": "code",
   "execution_count": 20,
   "metadata": {
    "colab": {
     "base_uri": "https://localhost:8080/",
     "height": 106
    },
    "id": "fWBxQj5ki2Zt",
    "outputId": "346e7913-3d31-49ca-bf6b-f92f3f8e2067"
   },
   "outputs": [
    {
     "data": {
      "text/plain": [
       "<Axes: xlabel='month', ylabel='Count'>"
      ]
     },
     "execution_count": 20,
     "metadata": {},
     "output_type": "execute_result"
    },
    {
     "data": {
      "image/png": "[encoded data removed]",
      "text/plain": [
       "<Figure size 640x480 with 1 Axes>"
      ]
     },
     "metadata": {},
     "output_type": "display_data"
    }
   ],
   "source": [
    "sns.histplot(data=data, x='month', hue='majorVersion', multiple=\"stack\")"
   ]
  },
  {
   "cell_type": "code",
   "execution_count": 21,
   "metadata": {
    "colab": {
     "base_uri": "https://localhost:8080/",
     "height": 258
    },
    "id": "yaWROCOdpkic",
    "outputId": "43478bf3-76aa-417f-a613-2b17d98ad72b"
   },
   "outputs": [
    {
     "data": {
      "text/html": [
       "<div>\n",
       "<style scoped>\n",
       "    .dataframe tbody tr th:only-of-type {\n",
       "        vertical-align: middle;\n",
       "    }\n",
       "\n",
       "    .dataframe tbody tr th {\n",
       "        vertical-align: top;\n",
       "    }\n",
       "\n",
       "    .dataframe thead th {\n",
       "        text-align: right;\n",
       "    }\n",
       "</style>\n",
       "<table border=\"1\" class=\"dataframe\">\n",
       "  <thead>\n",
       "    <tr style=\"text-align: right;\">\n",
       "      <th>month</th>\n",
       "      <th>3</th>\n",
       "      <th>4</th>\n",
       "      <th>5</th>\n",
       "      <th>6</th>\n",
       "      <th>7</th>\n",
       "      <th>8</th>\n",
       "    </tr>\n",
       "    <tr>\n",
       "      <th>majorVersion</th>\n",
       "      <th></th>\n",
       "      <th></th>\n",
       "      <th></th>\n",
       "      <th></th>\n",
       "      <th></th>\n",
       "      <th></th>\n",
       "    </tr>\n",
       "  </thead>\n",
       "  <tbody>\n",
       "    <tr>\n",
       "      <th>1.1</th>\n",
       "      <td>NaN</td>\n",
       "      <td>NaN</td>\n",
       "      <td>NaN</td>\n",
       "      <td>NaN</td>\n",
       "      <td>NaN</td>\n",
       "      <td>1.000000</td>\n",
       "    </tr>\n",
       "    <tr>\n",
       "      <th>1.2</th>\n",
       "      <td>NaN</td>\n",
       "      <td>NaN</td>\n",
       "      <td>5.00000</td>\n",
       "      <td>1.000000</td>\n",
       "      <td>NaN</td>\n",
       "      <td>2.000000</td>\n",
       "    </tr>\n",
       "    <tr>\n",
       "      <th>1.3</th>\n",
       "      <td>NaN</td>\n",
       "      <td>NaN</td>\n",
       "      <td>NaN</td>\n",
       "      <td>NaN</td>\n",
       "      <td>2.000000</td>\n",
       "      <td>NaN</td>\n",
       "    </tr>\n",
       "    <tr>\n",
       "      <th>1.4</th>\n",
       "      <td>2.101266</td>\n",
       "      <td>2.443396</td>\n",
       "      <td>2.36715</td>\n",
       "      <td>2.335586</td>\n",
       "      <td>2.724638</td>\n",
       "      <td>3.022222</td>\n",
       "    </tr>\n",
       "    <tr>\n",
       "      <th>1.5</th>\n",
       "      <td>NaN</td>\n",
       "      <td>NaN</td>\n",
       "      <td>NaN</td>\n",
       "      <td>2.157509</td>\n",
       "      <td>2.728496</td>\n",
       "      <td>2.862850</td>\n",
       "    </tr>\n",
       "  </tbody>\n",
       "</table>\n",
       "</div>"
      ],
      "text/plain": [
       "month                3         4        5         6         7         8\n",
       "majorVersion                                                           \n",
       "1.1                NaN       NaN      NaN       NaN       NaN  1.000000\n",
       "1.2                NaN       NaN  5.00000  1.000000       NaN  2.000000\n",
       "1.3                NaN       NaN      NaN       NaN  2.000000       NaN\n",
       "1.4           2.101266  2.443396  2.36715  2.335586  2.724638  3.022222\n",
       "1.5                NaN       NaN      NaN  2.157509  2.728496  2.862850"
      ]
     },
     "execution_count": 21,
     "metadata": {},
     "output_type": "execute_result"
    }
   ],
   "source": [
    "data.pivot_table(index='majorVersion',\n",
    "                columns='month',\n",
    "                values='score',\n",
    "                aggfunc='mean')"
   ]
  },
  {
   "cell_type": "markdown",
   "metadata": {
    "id": "tddzMp7Hc9Xg"
   },
   "source": [
    "# Sentiment Analysis"
   ]
  },
  {
   "cell_type": "code",
   "execution_count": 49,
   "metadata": {},
   "outputs": [
    {
     "name": "stdout",
     "output_type": "stream",
     "text": [
      "Collecting wordcloud\n",
      "  Downloading wordcloud-1.9.4-cp312-cp312-manylinux_2_17_x86_64.manylinux2014_x86_64.whl.metadata (3.4 kB)\n",
      "Requirement already satisfied: numpy>=1.6.1 in /opt/conda/lib/python3.12/site-packages (from wordcloud) (2.2.6)\n",
      "Requirement already satisfied: pillow in /opt/conda/lib/python3.12/site-packages (from wordcloud) (11.2.1)\n",
      "Requirement already satisfied: matplotlib in /opt/conda/lib/python3.12/site-packages (from wordcloud) (3.10.3)\n",
      "Requirement already satisfied: contourpy>=1.0.1 in /opt/conda/lib/python3.12/site-packages (from matplotlib->wordcloud) (1.3.2)\n",
      "Requirement already satisfied: cycler>=0.10 in /opt/conda/lib/python3.12/site-packages (from matplotlib->wordcloud) (0.12.1)\n",
      "Requirement already satisfied: fonttools>=4.22.0 in /opt/conda/lib/python3.12/site-packages (from matplotlib->wordcloud) (4.58.4)\n",
      "Requirement already satisfied: kiwisolver>=1.3.1 in /opt/conda/lib/python3.12/site-packages (from matplotlib->wordcloud) (1.4.8)\n",
      "Requirement already satisfied: packaging>=20.0 in /opt/conda/lib/python3.12/site-packages (from matplotlib->wordcloud) (25.0)\n",
      "Requirement already satisfied: pyparsing>=2.3.1 in /opt/conda/lib/python3.12/site-packages (from matplotlib->wordcloud) (3.2.3)\n",
      "Requirement already satisfied: python-dateutil>=2.7 in /opt/conda/lib/python3.12/site-packages (from matplotlib->wordcloud) (2.9.0.post0)\n",
      "Requirement already satisfied: six>=1.5 in /opt/conda/lib/python3.12/site-packages (from python-dateutil>=2.7->matplotlib->wordcloud) (1.17.0)\n",
      "Downloading wordcloud-1.9.4-cp312-cp312-manylinux_2_17_x86_64.manylinux2014_x86_64.whl (539 kB)\n",
      "\u001b[2K   \u001b[90m━━━━━━━━━━━━━━━━━━━━━━━━━━━━━━━━━━━━━━━━\u001b[0m \u001b[32m539.2/539.2 kB\u001b[0m \u001b[31m55.3 MB/s\u001b[0m eta \u001b[36m0:00:00\u001b[0m\n",
      "\u001b[?25hInstalling collected packages: wordcloud\n",
      "Successfully installed wordcloud-1.9.4\n"
     ]
    }
   ],
   "source": [
    "!pip install wordcloud"
   ]
  },
  {
   "cell_type": "code",
   "execution_count": 22,
   "metadata": {
    "colab": {
     "base_uri": "https://localhost:8080/"
    },
    "id": "nft-a182nCvQ",
    "outputId": "e6a8f1a0-1149-43af-fe7b-ff3c5794dc99"
   },
   "outputs": [
    {
     "name": "stdout",
     "output_type": "stream",
     "text": [
      "Requirement already satisfied: tqdm in /opt/conda/lib/python3.12/site-packages (4.67.1)\n"
     ]
    }
   ],
   "source": [
    "!pip install tqdm"
   ]
  },
  {
   "cell_type": "code",
   "execution_count": 23,
   "metadata": {},
   "outputs": [
    {
     "name": "stdout",
     "output_type": "stream",
     "text": [
      "Collecting nltk\n",
      "  Downloading nltk-3.9.1-py3-none-any.whl.metadata (2.9 kB)\n",
      "Requirement already satisfied: click in /opt/conda/lib/python3.12/site-packages (from nltk) (8.2.1)\n",
      "Requirement already satisfied: joblib in /opt/conda/lib/python3.12/site-packages (from nltk) (1.5.1)\n",
      "Collecting regex>=2021.8.3 (from nltk)\n",
      "  Downloading regex-2025.8.29-cp312-cp312-manylinux2014_x86_64.manylinux_2_17_x86_64.manylinux_2_28_x86_64.whl.metadata (40 kB)\n",
      "Requirement already satisfied: tqdm in /opt/conda/lib/python3.12/site-packages (from nltk) (4.67.1)\n",
      "Downloading nltk-3.9.1-py3-none-any.whl (1.5 MB)\n",
      "\u001b[2K   \u001b[90m━━━━━━━━━━━━━━━━━━━━━━━━━━━━━━━━━━━━━━━━\u001b[0m \u001b[32m1.5/1.5 MB\u001b[0m \u001b[31m90.9 MB/s\u001b[0m eta \u001b[36m0:00:00\u001b[0m\n",
      "\u001b[?25hDownloading regex-2025.8.29-cp312-cp312-manylinux2014_x86_64.manylinux_2_17_x86_64.manylinux_2_28_x86_64.whl (801 kB)\n",
      "\u001b[2K   \u001b[90m━━━━━━━━━━━━━━━━━━━━━━━━━━━━━━━━━━━━━━━━\u001b[0m \u001b[32m802.0/802.0 kB\u001b[0m \u001b[31m80.5 MB/s\u001b[0m eta \u001b[36m0:00:00\u001b[0m\n",
      "\u001b[?25hInstalling collected packages: regex, nltk\n",
      "\u001b[2K   \u001b[90m━━━━━━━━━━━━━━━━━━━━━━━━━━━━━━━━━━━━━━━━\u001b[0m \u001b[32m2/2\u001b[0m [nltk][32m1/2\u001b[0m [nltk]\n",
      "\u001b[1A\u001b[2KSuccessfully installed nltk-3.9.1 regex-2025.8.29\n"
     ]
    }
   ],
   "source": [
    "!pip install nltk"
   ]
  },
  {
   "cell_type": "code",
   "execution_count": 29,
   "metadata": {},
   "outputs": [
    {
     "name": "stderr",
     "output_type": "stream",
     "text": [
      "huggingface/tokenizers: The current process just got forked, after parallelism has already been used. Disabling parallelism to avoid deadlocks...\n",
      "To disable this warning, you can either:\n",
      "\t- Avoid using `tokenizers` before the fork if possible\n",
      "\t- Explicitly set the environment variable TOKENIZERS_PARALLELISM=(true | false)\n"
     ]
    },
    {
     "name": "stdout",
     "output_type": "stream",
     "text": [
      "Requirement already satisfied: transformers in /opt/conda/lib/python3.12/site-packages (4.56.0)\n",
      "Requirement already satisfied: filelock in /opt/conda/lib/python3.12/site-packages (from transformers) (3.13.1)\n",
      "Requirement already satisfied: huggingface-hub<1.0,>=0.34.0 in /opt/conda/lib/python3.12/site-packages (from transformers) (0.34.4)\n",
      "Requirement already satisfied: numpy>=1.17 in /opt/conda/lib/python3.12/site-packages (from transformers) (2.2.6)\n",
      "Requirement already satisfied: packaging>=20.0 in /opt/conda/lib/python3.12/site-packages (from transformers) (25.0)\n",
      "Requirement already satisfied: pyyaml>=5.1 in /opt/conda/lib/python3.12/site-packages (from transformers) (6.0.2)\n",
      "Requirement already satisfied: regex!=2019.12.17 in /opt/conda/lib/python3.12/site-packages (from transformers) (2025.8.29)\n",
      "Requirement already satisfied: requests in /opt/conda/lib/python3.12/site-packages (from transformers) (2.32.4)\n",
      "Requirement already satisfied: tokenizers<=0.23.0,>=0.22.0 in /opt/conda/lib/python3.12/site-packages (from transformers) (0.22.0)\n",
      "Requirement already satisfied: safetensors>=0.4.3 in /opt/conda/lib/python3.12/site-packages (from transformers) (0.6.2)\n",
      "Requirement already satisfied: tqdm>=4.27 in /opt/conda/lib/python3.12/site-packages (from transformers) (4.67.1)\n",
      "Requirement already satisfied: fsspec>=2023.5.0 in /opt/conda/lib/python3.12/site-packages (from huggingface-hub<1.0,>=0.34.0->transformers) (2025.5.1)\n",
      "Requirement already satisfied: typing-extensions>=3.7.4.3 in /opt/conda/lib/python3.12/site-packages (from huggingface-hub<1.0,>=0.34.0->transformers) (4.14.0)\n",
      "Requirement already satisfied: hf-xet<2.0.0,>=1.1.3 in /opt/conda/lib/python3.12/site-packages (from huggingface-hub<1.0,>=0.34.0->transformers) (1.1.9)\n",
      "Requirement already satisfied: charset_normalizer<4,>=2 in /opt/conda/lib/python3.12/site-packages (from requests->transformers) (3.4.2)\n",
      "Requirement already satisfied: idna<4,>=2.5 in /opt/conda/lib/python3.12/site-packages (from requests->transformers) (3.10)\n",
      "Requirement already satisfied: urllib3<3,>=1.21.1 in /opt/conda/lib/python3.12/site-packages (from requests->transformers) (2.5.0)\n",
      "Requirement already satisfied: certifi>=2017.4.17 in /opt/conda/lib/python3.12/site-packages (from requests->transformers) (2025.6.15)\n"
     ]
    }
   ],
   "source": [
    "!pip install transformers"
   ]
  },
  {
   "cell_type": "code",
   "execution_count": 50,
   "metadata": {
    "colab": {
     "base_uri": "https://localhost:8080/"
    },
    "id": "_NrdGqDPc9DS",
    "outputId": "9c902d8a-f2de-465f-d255-27634fd384c3"
   },
   "outputs": [
    {
     "name": "stderr",
     "output_type": "stream",
     "text": [
      "[nltk_data] Downloading package punkt_tab to /home/jovyan/nltk_data...\n",
      "[nltk_data]   Package punkt_tab is already up-to-date!\n",
      "[nltk_data] Downloading package stopwords to /home/jovyan/nltk_data...\n",
      "[nltk_data]   Package stopwords is already up-to-date!\n",
      "[nltk_data] Downloading package wordnet to /home/jovyan/nltk_data...\n",
      "[nltk_data]   Package wordnet is already up-to-date!\n"
     ]
    }
   ],
   "source": [
    "import re\n",
    "import string\n",
    "from tqdm import tqdm\n",
    "import nltk\n",
    "nltk.download('punkt_tab')\n",
    "nltk.download('stopwords')\n",
    "nltk.download('wordnet')\n",
    "from nltk.corpus import stopwords\n",
    "from nltk.tokenize import word_tokenize\n",
    "from nltk.stem import WordNetLemmatizer\n",
    "from transformers import pipeline\n",
    "tqdm.pandas()\n",
    "import asyncio\n",
    "import time\n",
    "import transformers\n",
    "from wordcloud import WordCloud, STOPWORDS"
   ]
  },
  {
   "cell_type": "code",
   "execution_count": 31,
   "metadata": {},
   "outputs": [
    {
     "name": "stderr",
     "output_type": "stream",
     "text": [
      "Device set to use cuda:0\n",
      "Device set to use cuda:0\n"
     ]
    }
   ],
   "source": [
    "translator = pipeline(\n",
    "    \"translation\",\n",
    "    model=\"facebook/nllb-200-distilled-600M\",\n",
    "    src_lang=\"ind_Latn\",\n",
    "    tgt_lang=\"eng_Latn\"\n",
    ")\n",
    "\n",
    "pipe = pipeline(\"text-classification\", model=\"siebert/sentiment-roberta-large-english\")"
   ]
  },
  {
   "cell_type": "code",
   "execution_count": 32,
   "metadata": {
    "colab": {
     "base_uri": "https://localhost:8080/"
    },
    "id": "vtkyloW-mf9v",
    "outputId": "d2275ffe-7ebf-4e8e-80b8-7794517644d5"
   },
   "outputs": [],
   "source": [
    "def translate(text):\n",
    "  return translator(text)[0][\"translation_text\"]\n",
    "\n",
    "def cleaningText(text):\n",
    "    text = re.sub(r'@[A-Za-z0-9]+', '', text)\n",
    "    text = re.sub(r'#[A-Za-z0-9]+', '', text)\n",
    "    text = re.sub(r'RT[\\s]', '', text)\n",
    "    text = re.sub(r\"http\\S+\", '', text)\n",
    "    text = re.sub(r'[0-9]+', '', text)\n",
    "    text = re.sub(r'[^\\w\\s]', '', text)\n",
    "\n",
    "    text = text.replace('\\n', ' ')\n",
    "    text = text.translate(str.maketrans('', '', string.punctuation))\n",
    "    text = text.strip(' ')\n",
    "    return text\n",
    "\n",
    "def casefoldingText(text):\n",
    "    text = text.lower()\n",
    "    return text\n",
    "\n",
    "def tokenizing(text):\n",
    "  tokens = word_tokenize(text)\n",
    "  return tokens\n",
    "\n",
    "def stopwordstext(text):\n",
    "  stop_words = set(stopwords.words('english'))\n",
    "  filtered_tokens = [word for word in text if word not in stop_words]\n",
    "  return filtered_tokens\n",
    "\n",
    "def lemitizing(text):\n",
    "  lemmatizer = WordNetLemmatizer()\n",
    "  processed_text = [lemmatizer.lemmatize(word) for word in text]\n",
    "  processed_text = \" \".join(processed_text)\n",
    "  return processed_text\n",
    "\n",
    "def sentimenttext(text):\n",
    "  result = pipe(text)\n",
    "  return result[0]['label']"
   ]
  },
  {
   "cell_type": "code",
   "execution_count": 33,
   "metadata": {
    "colab": {
     "base_uri": "https://localhost:8080/"
    },
    "id": "rRRfFYqbm0R6",
    "outputId": "38860b27-2455-4679-f5b6-c0db7ff538b3"
   },
   "outputs": [
    {
     "name": "stderr",
     "output_type": "stream",
     "text": [
      " 45% 3114/6920 [10:00<08:36,  7.36it/s]Your input_length: 183 is bigger than 0.9 * max_length: 200. You might consider increasing your max_length manually, e.g. translator('...', max_length=400)\n",
      " 52% 3632/6920 [11:54<08:50,  6.20it/s]Your input_length: 228 is bigger than 0.9 * max_length: 200. You might consider increasing your max_length manually, e.g. translator('...', max_length=400)\n",
      "100% 6920/6920 [19:36<00:00,  5.88it/s]\n",
      "100% 6920/6920 [00:00<00:00, 174867.96it/s]\n",
      "100% 6920/6920 [00:00<00:00, 3828595.66it/s]\n",
      "100% 6920/6920 [00:00<00:00, 37412.99it/s]\n",
      "100% 6920/6920 [00:00<00:00, 46421.43it/s]\n",
      "100% 6920/6920 [00:01<00:00, 6507.93it/s]\n",
      "100% 6920/6920 [00:23<00:00, 289.10it/s]\n"
     ]
    }
   ],
   "source": [
    "docs = pd.DataFrame(data['content'].reset_index(drop=True), columns=['content'])\n",
    "\n",
    "docs['text_translate'] = docs['content'].progress_apply(translate)\n",
    "docs['text_clean'] = docs['text_translate'].progress_apply(cleaningText)\n",
    "docs['text_lower'] = docs['text_clean'].progress_apply(casefoldingText)\n",
    "docs['text_tokenizing'] = docs['text_lower'].progress_apply(tokenizing)\n",
    "docs['text_stopwords'] = docs['text_tokenizing'].progress_apply(stopwordstext)\n",
    "docs['text_lemitizing'] = docs['text_stopwords'].progress_apply(lemitizing)\n",
    "docs['text_label'] = docs['text_lemitizing'].progress_apply(sentimenttext)"
   ]
  },
  {
   "cell_type": "code",
   "execution_count": 34,
   "metadata": {
    "colab": {
     "base_uri": "https://localhost:8080/",
     "height": 1000
    },
    "id": "SOgMYCj5mtjB",
    "outputId": "8f025b3c-bfb7-48ac-d05b-835571b41ad9"
   },
   "outputs": [
    {
     "data": {
      "text/html": [
       "<div>\n",
       "<style scoped>\n",
       "    .dataframe tbody tr th:only-of-type {\n",
       "        vertical-align: middle;\n",
       "    }\n",
       "\n",
       "    .dataframe tbody tr th {\n",
       "        vertical-align: top;\n",
       "    }\n",
       "\n",
       "    .dataframe thead th {\n",
       "        text-align: right;\n",
       "    }\n",
       "</style>\n",
       "<table border=\"1\" class=\"dataframe\">\n",
       "  <thead>\n",
       "    <tr style=\"text-align: right;\">\n",
       "      <th></th>\n",
       "      <th>content</th>\n",
       "      <th>text_translate</th>\n",
       "      <th>text_clean</th>\n",
       "      <th>text_lower</th>\n",
       "      <th>text_tokenizing</th>\n",
       "      <th>text_stopwords</th>\n",
       "      <th>text_lemitizing</th>\n",
       "      <th>text_label</th>\n",
       "    </tr>\n",
       "  </thead>\n",
       "  <tbody>\n",
       "    <tr>\n",
       "      <th>0</th>\n",
       "      <td>aplikasi nya udh bagus seperti yang lainnya ta...</td>\n",
       "      <td>The app is just as good as the others, but the...</td>\n",
       "      <td>The app is just as good as the others but ther...</td>\n",
       "      <td>the app is just as good as the others but ther...</td>\n",
       "      <td>[the, app, is, just, as, good, as, the, others...</td>\n",
       "      <td>[app, good, others, theres, lot, weirdness, li...</td>\n",
       "      <td>app good others there lot weirdness like spin ...</td>\n",
       "      <td>NEGATIVE</td>\n",
       "    </tr>\n",
       "    <tr>\n",
       "      <th>1</th>\n",
       "      <td>Saya download aplikasi ini dan saat masukan no...</td>\n",
       "      <td>I downloaded this app and when I entered the n...</td>\n",
       "      <td>I downloaded this app and when I entered the n...</td>\n",
       "      <td>i downloaded this app and when i entered the n...</td>\n",
       "      <td>[i, downloaded, this, app, and, when, i, enter...</td>\n",
       "      <td>[downloaded, app, entered, number, otp, code, ...</td>\n",
       "      <td>downloaded app entered number otp code worked ...</td>\n",
       "      <td>NEGATIVE</td>\n",
       "    </tr>\n",
       "    <tr>\n",
       "      <th>2</th>\n",
       "      <td>aplikasi gopay ini bagus tapi saat mau membaya...</td>\n",
       "      <td>This gopay app is great, but when I want to pa...</td>\n",
       "      <td>This gopay app is great but when I want to pay...</td>\n",
       "      <td>this gopay app is great but when i want to pay...</td>\n",
       "      <td>[this, gopay, app, is, great, but, when, i, wa...</td>\n",
       "      <td>[gopay, app, great, want, pay, transaction, th...</td>\n",
       "      <td>gopay app great want pay transaction there pro...</td>\n",
       "      <td>POSITIVE</td>\n",
       "    </tr>\n",
       "    <tr>\n",
       "      <th>3</th>\n",
       "      <td>aplikasinya bagus aja, cuma ad sedikit masalah...</td>\n",
       "      <td>It's a good app, but it's just a little bit of...</td>\n",
       "      <td>Its a good app but its just a little bit of a ...</td>\n",
       "      <td>its a good app but its just a little bit of a ...</td>\n",
       "      <td>[its, a, good, app, but, its, just, a, little,...</td>\n",
       "      <td>[good, app, little, bit, problem, trying, pay,...</td>\n",
       "      <td>good app little bit problem trying pay topup g...</td>\n",
       "      <td>POSITIVE</td>\n",
       "    </tr>\n",
       "    <tr>\n",
       "      <th>4</th>\n",
       "      <td>Cukup kecewa update kali ini. Mengapa sistem b...</td>\n",
       "      <td>I'm pretty disappointed with the update this t...</td>\n",
       "      <td>Im pretty disappointed with the update this ti...</td>\n",
       "      <td>im pretty disappointed with the update this ti...</td>\n",
       "      <td>[im, pretty, disappointed, with, the, update, ...</td>\n",
       "      <td>[im, pretty, disappointed, update, time, curre...</td>\n",
       "      <td>im pretty disappointed update time current gop...</td>\n",
       "      <td>NEGATIVE</td>\n",
       "    </tr>\n",
       "    <tr>\n",
       "      <th>...</th>\n",
       "      <td>...</td>\n",
       "      <td>...</td>\n",
       "      <td>...</td>\n",
       "      <td>...</td>\n",
       "      <td>...</td>\n",
       "      <td>...</td>\n",
       "      <td>...</td>\n",
       "      <td>...</td>\n",
       "    </tr>\n",
       "    <tr>\n",
       "      <th>6915</th>\n",
       "      <td>ini gopay kenapa? apakah ganguan atau sudah ga...</td>\n",
       "      <td>is this gopay why? is it ganguan or is it no l...</td>\n",
       "      <td>is this gopay why is it ganguan or is it no lo...</td>\n",
       "      <td>is this gopay why is it ganguan or is it no lo...</td>\n",
       "      <td>[is, this, gopay, why, is, it, ganguan, or, is...</td>\n",
       "      <td>[gopay, ganguan, longer, working, tokopedia, p...</td>\n",
       "      <td>gopay ganguan longer working tokopedia paylate...</td>\n",
       "      <td>NEGATIVE</td>\n",
       "    </tr>\n",
       "    <tr>\n",
       "      <th>6916</th>\n",
       "      <td>cepat &amp; bagus... bonus nya banyak in.....</td>\n",
       "      <td>Fast &amp; good... the bonus is a lot in...</td>\n",
       "      <td>Fast  good the bonus is a lot in</td>\n",
       "      <td>fast  good the bonus is a lot in</td>\n",
       "      <td>[fast, good, the, bonus, is, a, lot, in]</td>\n",
       "      <td>[fast, good, bonus, lot]</td>\n",
       "      <td>fast good bonus lot</td>\n",
       "      <td>POSITIVE</td>\n",
       "    </tr>\n",
       "    <tr>\n",
       "      <th>6917</th>\n",
       "      <td>gopay bagus teransaksi bebas kemana ajah, saya...</td>\n",
       "      <td>It's good to be free wherever you go. It's ver...</td>\n",
       "      <td>Its good to be free wherever you go Its very c...</td>\n",
       "      <td>its good to be free wherever you go its very c...</td>\n",
       "      <td>[its, good, to, be, free, wherever, you, go, i...</td>\n",
       "      <td>[good, free, wherever, go, convenient]</td>\n",
       "      <td>good free wherever go convenient</td>\n",
       "      <td>POSITIVE</td>\n",
       "    </tr>\n",
       "    <tr>\n",
       "      <th>6918</th>\n",
       "      <td>Ini kenapa sy transfer ke teman saya saldo nya...</td>\n",
       "      <td>That's why I transfer to my friend the balance...</td>\n",
       "      <td>Thats why I transfer to my friend the balance ...</td>\n",
       "      <td>thats why i transfer to my friend the balance ...</td>\n",
       "      <td>[thats, why, i, transfer, to, my, friend, the,...</td>\n",
       "      <td>[thats, transfer, friend, balance, hasnt, logg...</td>\n",
       "      <td>thats transfer friend balance hasnt logged con...</td>\n",
       "      <td>NEGATIVE</td>\n",
       "    </tr>\n",
       "    <tr>\n",
       "      <th>6919</th>\n",
       "      <td>gopay kacau , saya kecewa sama gopay . yang ma...</td>\n",
       "      <td>I'm as disappointed as I am. Anyone who wants ...</td>\n",
       "      <td>Im as disappointed as I am Anyone who wants to...</td>\n",
       "      <td>im as disappointed as i am anyone who wants to...</td>\n",
       "      <td>[im, as, disappointed, as, i, am, anyone, who,...</td>\n",
       "      <td>[im, disappointed, anyone, wants, use, gopay, ...</td>\n",
       "      <td>im disappointed anyone want use gopay please c...</td>\n",
       "      <td>NEGATIVE</td>\n",
       "    </tr>\n",
       "  </tbody>\n",
       "</table>\n",
       "<p>6920 rows × 8 columns</p>\n",
       "</div>"
      ],
      "text/plain": [
       "                                                content  \\\n",
       "0     aplikasi nya udh bagus seperti yang lainnya ta...   \n",
       "1     Saya download aplikasi ini dan saat masukan no...   \n",
       "2     aplikasi gopay ini bagus tapi saat mau membaya...   \n",
       "3     aplikasinya bagus aja, cuma ad sedikit masalah...   \n",
       "4     Cukup kecewa update kali ini. Mengapa sistem b...   \n",
       "...                                                 ...   \n",
       "6915  ini gopay kenapa? apakah ganguan atau sudah ga...   \n",
       "6916          cepat & bagus... bonus nya banyak in.....   \n",
       "6917  gopay bagus teransaksi bebas kemana ajah, saya...   \n",
       "6918  Ini kenapa sy transfer ke teman saya saldo nya...   \n",
       "6919  gopay kacau , saya kecewa sama gopay . yang ma...   \n",
       "\n",
       "                                         text_translate  \\\n",
       "0     The app is just as good as the others, but the...   \n",
       "1     I downloaded this app and when I entered the n...   \n",
       "2     This gopay app is great, but when I want to pa...   \n",
       "3     It's a good app, but it's just a little bit of...   \n",
       "4     I'm pretty disappointed with the update this t...   \n",
       "...                                                 ...   \n",
       "6915  is this gopay why? is it ganguan or is it no l...   \n",
       "6916            Fast & good... the bonus is a lot in...   \n",
       "6917  It's good to be free wherever you go. It's ver...   \n",
       "6918  That's why I transfer to my friend the balance...   \n",
       "6919  I'm as disappointed as I am. Anyone who wants ...   \n",
       "\n",
       "                                             text_clean  \\\n",
       "0     The app is just as good as the others but ther...   \n",
       "1     I downloaded this app and when I entered the n...   \n",
       "2     This gopay app is great but when I want to pay...   \n",
       "3     Its a good app but its just a little bit of a ...   \n",
       "4     Im pretty disappointed with the update this ti...   \n",
       "...                                                 ...   \n",
       "6915  is this gopay why is it ganguan or is it no lo...   \n",
       "6916                   Fast  good the bonus is a lot in   \n",
       "6917  Its good to be free wherever you go Its very c...   \n",
       "6918  Thats why I transfer to my friend the balance ...   \n",
       "6919  Im as disappointed as I am Anyone who wants to...   \n",
       "\n",
       "                                             text_lower  \\\n",
       "0     the app is just as good as the others but ther...   \n",
       "1     i downloaded this app and when i entered the n...   \n",
       "2     this gopay app is great but when i want to pay...   \n",
       "3     its a good app but its just a little bit of a ...   \n",
       "4     im pretty disappointed with the update this ti...   \n",
       "...                                                 ...   \n",
       "6915  is this gopay why is it ganguan or is it no lo...   \n",
       "6916                   fast  good the bonus is a lot in   \n",
       "6917  its good to be free wherever you go its very c...   \n",
       "6918  thats why i transfer to my friend the balance ...   \n",
       "6919  im as disappointed as i am anyone who wants to...   \n",
       "\n",
       "                                        text_tokenizing  \\\n",
       "0     [the, app, is, just, as, good, as, the, others...   \n",
       "1     [i, downloaded, this, app, and, when, i, enter...   \n",
       "2     [this, gopay, app, is, great, but, when, i, wa...   \n",
       "3     [its, a, good, app, but, its, just, a, little,...   \n",
       "4     [im, pretty, disappointed, with, the, update, ...   \n",
       "...                                                 ...   \n",
       "6915  [is, this, gopay, why, is, it, ganguan, or, is...   \n",
       "6916           [fast, good, the, bonus, is, a, lot, in]   \n",
       "6917  [its, good, to, be, free, wherever, you, go, i...   \n",
       "6918  [thats, why, i, transfer, to, my, friend, the,...   \n",
       "6919  [im, as, disappointed, as, i, am, anyone, who,...   \n",
       "\n",
       "                                         text_stopwords  \\\n",
       "0     [app, good, others, theres, lot, weirdness, li...   \n",
       "1     [downloaded, app, entered, number, otp, code, ...   \n",
       "2     [gopay, app, great, want, pay, transaction, th...   \n",
       "3     [good, app, little, bit, problem, trying, pay,...   \n",
       "4     [im, pretty, disappointed, update, time, curre...   \n",
       "...                                                 ...   \n",
       "6915  [gopay, ganguan, longer, working, tokopedia, p...   \n",
       "6916                           [fast, good, bonus, lot]   \n",
       "6917             [good, free, wherever, go, convenient]   \n",
       "6918  [thats, transfer, friend, balance, hasnt, logg...   \n",
       "6919  [im, disappointed, anyone, wants, use, gopay, ...   \n",
       "\n",
       "                                        text_lemitizing text_label  \n",
       "0     app good others there lot weirdness like spin ...   NEGATIVE  \n",
       "1     downloaded app entered number otp code worked ...   NEGATIVE  \n",
       "2     gopay app great want pay transaction there pro...   POSITIVE  \n",
       "3     good app little bit problem trying pay topup g...   POSITIVE  \n",
       "4     im pretty disappointed update time current gop...   NEGATIVE  \n",
       "...                                                 ...        ...  \n",
       "6915  gopay ganguan longer working tokopedia paylate...   NEGATIVE  \n",
       "6916                                fast good bonus lot   POSITIVE  \n",
       "6917                   good free wherever go convenient   POSITIVE  \n",
       "6918  thats transfer friend balance hasnt logged con...   NEGATIVE  \n",
       "6919  im disappointed anyone want use gopay please c...   NEGATIVE  \n",
       "\n",
       "[6920 rows x 8 columns]"
      ]
     },
     "execution_count": 34,
     "metadata": {},
     "output_type": "execute_result"
    }
   ],
   "source": [
    "docs"
   ]
  },
  {
   "cell_type": "code",
   "execution_count": 35,
   "metadata": {
    "colab": {
     "base_uri": "https://localhost:8080/",
     "height": 293
    },
    "id": "bRgKb9pFrHzK",
    "outputId": "788b0c98-200a-4e8b-fe73-21fafb0e525d"
   },
   "outputs": [
    {
     "data": {
      "text/html": [
       "<div>\n",
       "<style scoped>\n",
       "    .dataframe tbody tr th:only-of-type {\n",
       "        vertical-align: middle;\n",
       "    }\n",
       "\n",
       "    .dataframe tbody tr th {\n",
       "        vertical-align: top;\n",
       "    }\n",
       "\n",
       "    .dataframe thead th {\n",
       "        text-align: right;\n",
       "    }\n",
       "</style>\n",
       "<table border=\"1\" class=\"dataframe\">\n",
       "  <thead>\n",
       "    <tr style=\"text-align: right;\">\n",
       "      <th></th>\n",
       "      <th>content</th>\n",
       "      <th>score</th>\n",
       "      <th>thumbsUpCount</th>\n",
       "      <th>month</th>\n",
       "      <th>minorVersion</th>\n",
       "      <th>majorVersion</th>\n",
       "      <th>labels</th>\n",
       "    </tr>\n",
       "  </thead>\n",
       "  <tbody>\n",
       "    <tr>\n",
       "      <th>0</th>\n",
       "      <td>aplikasi nya udh bagus seperti yang lainnya ta...</td>\n",
       "      <td>2</td>\n",
       "      <td>18</td>\n",
       "      <td>8</td>\n",
       "      <td>1.56.1</td>\n",
       "      <td>1.5</td>\n",
       "      <td>NEGATIVE</td>\n",
       "    </tr>\n",
       "    <tr>\n",
       "      <th>1</th>\n",
       "      <td>Saya download aplikasi ini dan saat masukan no...</td>\n",
       "      <td>1</td>\n",
       "      <td>73</td>\n",
       "      <td>8</td>\n",
       "      <td>1.56.1</td>\n",
       "      <td>1.5</td>\n",
       "      <td>NEGATIVE</td>\n",
       "    </tr>\n",
       "    <tr>\n",
       "      <th>2</th>\n",
       "      <td>aplikasi gopay ini bagus tapi saat mau membaya...</td>\n",
       "      <td>2</td>\n",
       "      <td>10</td>\n",
       "      <td>8</td>\n",
       "      <td>1.56.1</td>\n",
       "      <td>1.5</td>\n",
       "      <td>POSITIVE</td>\n",
       "    </tr>\n",
       "    <tr>\n",
       "      <th>3</th>\n",
       "      <td>aplikasinya bagus aja, cuma ad sedikit masalah...</td>\n",
       "      <td>3</td>\n",
       "      <td>24</td>\n",
       "      <td>8</td>\n",
       "      <td>1.56.1</td>\n",
       "      <td>1.5</td>\n",
       "      <td>POSITIVE</td>\n",
       "    </tr>\n",
       "    <tr>\n",
       "      <th>4</th>\n",
       "      <td>Cukup kecewa update kali ini. Mengapa sistem b...</td>\n",
       "      <td>2</td>\n",
       "      <td>18</td>\n",
       "      <td>8</td>\n",
       "      <td>1.56.1</td>\n",
       "      <td>1.5</td>\n",
       "      <td>NEGATIVE</td>\n",
       "    </tr>\n",
       "  </tbody>\n",
       "</table>\n",
       "</div>"
      ],
      "text/plain": [
       "                                             content  score  thumbsUpCount  \\\n",
       "0  aplikasi nya udh bagus seperti yang lainnya ta...      2             18   \n",
       "1  Saya download aplikasi ini dan saat masukan no...      1             73   \n",
       "2  aplikasi gopay ini bagus tapi saat mau membaya...      2             10   \n",
       "3  aplikasinya bagus aja, cuma ad sedikit masalah...      3             24   \n",
       "4  Cukup kecewa update kali ini. Mengapa sistem b...      2             18   \n",
       "\n",
       "  month minorVersion majorVersion    labels  \n",
       "0     8       1.56.1          1.5  NEGATIVE  \n",
       "1     8       1.56.1          1.5  NEGATIVE  \n",
       "2     8       1.56.1          1.5  POSITIVE  \n",
       "3     8       1.56.1          1.5  POSITIVE  \n",
       "4     8       1.56.1          1.5  NEGATIVE  "
      ]
     },
     "execution_count": 35,
     "metadata": {},
     "output_type": "execute_result"
    }
   ],
   "source": [
    "data = data.reset_index(drop=True)\n",
    "docs = docs.reset_index(drop=True)\n",
    "data['labels'] = docs['text_label']\n",
    "data.head()"
   ]
  },
  {
   "cell_type": "code",
   "execution_count": 36,
   "metadata": {
    "colab": {
     "base_uri": "https://localhost:8080/",
     "height": 466
    },
    "id": "v2Seq6yI68GD",
    "outputId": "c58c4bbd-3833-4b15-eb47-7e57b5a8930a"
   },
   "outputs": [
    {
     "data": {
      "text/plain": [
       "<Axes: xlabel='labels', ylabel='count'>"
      ]
     },
     "execution_count": 36,
     "metadata": {},
     "output_type": "execute_result"
    },
    {
     "data": {
      "image/png": "[encoded data removed]",
      "text/plain": [
       "<Figure size 640x480 with 1 Axes>"
      ]
     },
     "metadata": {},
     "output_type": "display_data"
    }
   ],
   "source": [
    "sns.countplot(data=data, x='labels')"
   ]
  },
  {
   "cell_type": "code",
   "execution_count": null,
   "metadata": {},
   "outputs": [],
   "source": [
    "\n"
   ]
  },
  {
   "cell_type": "code",
   "execution_count": 37,
   "metadata": {
    "colab": {
     "base_uri": "https://localhost:8080/",
     "height": 466
    },
    "id": "R5YosAS0sfuX",
    "outputId": "01cfd1c4-268e-4e44-d062-c549ff860923"
   },
   "outputs": [
    {
     "data": {
      "text/plain": [
       "<Axes: xlabel='month', ylabel='score'>"
      ]
     },
     "execution_count": 37,
     "metadata": {},
     "output_type": "execute_result"
    },
    {
     "data": {
      "image/png": "[encoded data removed]",
      "text/plain": [
       "<Figure size 640x480 with 1 Axes>"
      ]
     },
     "metadata": {},
     "output_type": "display_data"
    }
   ],
   "source": [
    "sns.lineplot(data=data, x='month', hue='labels', y='score')"
   ]
  },
  {
   "cell_type": "code",
   "execution_count": 38,
   "metadata": {
    "colab": {
     "base_uri": "https://localhost:8080/",
     "height": 467
    },
    "id": "Y7FfLSIsu6-K",
    "outputId": "42bb61fd-bf4a-4b6c-c1c8-e73e36b902b3"
   },
   "outputs": [
    {
     "data": {
      "text/plain": [
       "<Axes: xlabel='month', ylabel='Count'>"
      ]
     },
     "execution_count": 38,
     "metadata": {},
     "output_type": "execute_result"
    },
    {
     "data": {
      "image/png": "[encoded data removed]",
      "text/plain": [
       "<Figure size 640x480 with 1 Axes>"
      ]
     },
     "metadata": {},
     "output_type": "display_data"
    }
   ],
   "source": [
    "sns.histplot(data=data, x=\"month\", hue=\"labels\", multiple=\"stack\")"
   ]
  },
  {
   "cell_type": "code",
   "execution_count": 39,
   "metadata": {
    "colab": {
     "base_uri": "https://localhost:8080/",
     "height": 466
    },
    "id": "pwijP3uIvL7o",
    "outputId": "5b903c15-2a60-4669-cafe-8c151530c7ff"
   },
   "outputs": [
    {
     "data": {
      "text/plain": [
       "<Axes: xlabel='majorVersion', ylabel='Count'>"
      ]
     },
     "execution_count": 39,
     "metadata": {},
     "output_type": "execute_result"
    },
    {
     "data": {
      "image/png": "[encoded data removed]",
      "text/plain": [
       "<Figure size 640x480 with 1 Axes>"
      ]
     },
     "metadata": {},
     "output_type": "display_data"
    }
   ],
   "source": [
    "sns.histplot(data=data, x=\"majorVersion\", hue=\"labels\", multiple=\"stack\")"
   ]
  },
  {
   "cell_type": "markdown",
   "metadata": {
    "id": "V80HeaiGdCM9"
   },
   "source": [
    "# Topic Analysis"
   ]
  },
  {
   "cell_type": "code",
   "execution_count": 40,
   "metadata": {
    "colab": {
     "base_uri": "https://localhost:8080/"
    },
    "id": "7q4HbGrbdB61",
    "outputId": "94b541ae-809c-4f4f-f75f-a0dbbbd2a6df"
   },
   "outputs": [
    {
     "name": "stderr",
     "output_type": "stream",
     "text": [
      "huggingface/tokenizers: The current process just got forked, after parallelism has already been used. Disabling parallelism to avoid deadlocks...\n",
      "To disable this warning, you can either:\n",
      "\t- Avoid using `tokenizers` before the fork if possible\n",
      "\t- Explicitly set the environment variable TOKENIZERS_PARALLELISM=(true | false)\n"
     ]
    },
    {
     "name": "stdout",
     "output_type": "stream",
     "text": [
      "Collecting bertopic\n",
      "  Downloading bertopic-0.17.3-py3-none-any.whl.metadata (24 kB)\n",
      "Collecting hdbscan>=0.8.29 (from bertopic)\n",
      "  Downloading hdbscan-0.8.40.tar.gz (6.9 MB)\n",
      "\u001b[2K     \u001b[90m━━━━━━━━━━━━━━━━━━━━━━━━━━━━━━━━━━━━━━━━\u001b[0m \u001b[32m6.9/6.9 MB\u001b[0m \u001b[31m101.1 MB/s\u001b[0m eta \u001b[36m0:00:00\u001b[0m\n",
      "\u001b[?25h  Installing build dependencies ... \u001b[?25ldone\n",
      "\u001b[?25h  Getting requirements to build wheel ... \u001b[?25ldone\n",
      "\u001b[?25h  Preparing metadata (pyproject.toml) ... \u001b[?25ldone\n",
      "\u001b[?25hCollecting umap-learn>=0.5.0 (from bertopic)\n",
      "  Downloading umap_learn-0.5.9.post2-py3-none-any.whl.metadata (25 kB)\n",
      "Requirement already satisfied: numpy>=1.20.0 in /opt/conda/lib/python3.12/site-packages (from bertopic) (2.2.6)\n",
      "Requirement already satisfied: pandas>=1.1.5 in /opt/conda/lib/python3.12/site-packages (from bertopic) (2.3.0)\n",
      "Collecting plotly>=4.7.0 (from bertopic)\n",
      "  Downloading plotly-6.3.0-py3-none-any.whl.metadata (8.5 kB)\n",
      "Requirement already satisfied: scikit-learn>=1.0 in /opt/conda/lib/python3.12/site-packages (from bertopic) (1.7.0)\n",
      "Collecting sentence-transformers>=0.4.1 (from bertopic)\n",
      "  Downloading sentence_transformers-5.1.0-py3-none-any.whl.metadata (16 kB)\n",
      "Requirement already satisfied: tqdm>=4.41.1 in /opt/conda/lib/python3.12/site-packages (from bertopic) (4.67.1)\n",
      "Requirement already satisfied: llvmlite>0.36.0 in /opt/conda/lib/python3.12/site-packages (from bertopic) (0.44.0)\n",
      "Requirement already satisfied: scipy>=1.0 in /opt/conda/lib/python3.12/site-packages (from hdbscan>=0.8.29->bertopic) (1.15.2)\n",
      "Requirement already satisfied: joblib>=1.0 in /opt/conda/lib/python3.12/site-packages (from hdbscan>=0.8.29->bertopic) (1.5.1)\n",
      "Requirement already satisfied: python-dateutil>=2.8.2 in /opt/conda/lib/python3.12/site-packages (from pandas>=1.1.5->bertopic) (2.9.0.post0)\n",
      "Requirement already satisfied: pytz>=2020.1 in /opt/conda/lib/python3.12/site-packages (from pandas>=1.1.5->bertopic) (2025.2)\n",
      "Requirement already satisfied: tzdata>=2022.7 in /opt/conda/lib/python3.12/site-packages (from pandas>=1.1.5->bertopic) (2025.2)\n",
      "Requirement already satisfied: narwhals>=1.15.1 in /opt/conda/lib/python3.12/site-packages (from plotly>=4.7.0->bertopic) (1.43.1)\n",
      "Requirement already satisfied: packaging in /opt/conda/lib/python3.12/site-packages (from plotly>=4.7.0->bertopic) (25.0)\n",
      "Requirement already satisfied: six>=1.5 in /opt/conda/lib/python3.12/site-packages (from python-dateutil>=2.8.2->pandas>=1.1.5->bertopic) (1.17.0)\n",
      "Requirement already satisfied: threadpoolctl>=3.1.0 in /opt/conda/lib/python3.12/site-packages (from scikit-learn>=1.0->bertopic) (3.6.0)\n",
      "Requirement already satisfied: transformers<5.0.0,>=4.41.0 in /opt/conda/lib/python3.12/site-packages (from sentence-transformers>=0.4.1->bertopic) (4.56.0)\n",
      "Requirement already satisfied: torch>=1.11.0 in /opt/conda/lib/python3.12/site-packages (from sentence-transformers>=0.4.1->bertopic) (2.7.1+cu128)\n",
      "Requirement already satisfied: huggingface-hub>=0.20.0 in /opt/conda/lib/python3.12/site-packages (from sentence-transformers>=0.4.1->bertopic) (0.34.4)\n",
      "Requirement already satisfied: Pillow in /opt/conda/lib/python3.12/site-packages (from sentence-transformers>=0.4.1->bertopic) (11.2.1)\n",
      "Requirement already satisfied: typing_extensions>=4.5.0 in /opt/conda/lib/python3.12/site-packages (from sentence-transformers>=0.4.1->bertopic) (4.14.0)\n",
      "Requirement already satisfied: filelock in /opt/conda/lib/python3.12/site-packages (from transformers<5.0.0,>=4.41.0->sentence-transformers>=0.4.1->bertopic) (3.13.1)\n",
      "Requirement already satisfied: pyyaml>=5.1 in /opt/conda/lib/python3.12/site-packages (from transformers<5.0.0,>=4.41.0->sentence-transformers>=0.4.1->bertopic) (6.0.2)\n",
      "Requirement already satisfied: regex!=2019.12.17 in /opt/conda/lib/python3.12/site-packages (from transformers<5.0.0,>=4.41.0->sentence-transformers>=0.4.1->bertopic) (2025.8.29)\n",
      "Requirement already satisfied: requests in /opt/conda/lib/python3.12/site-packages (from transformers<5.0.0,>=4.41.0->sentence-transformers>=0.4.1->bertopic) (2.32.4)\n",
      "Requirement already satisfied: tokenizers<=0.23.0,>=0.22.0 in /opt/conda/lib/python3.12/site-packages (from transformers<5.0.0,>=4.41.0->sentence-transformers>=0.4.1->bertopic) (0.22.0)\n",
      "Requirement already satisfied: safetensors>=0.4.3 in /opt/conda/lib/python3.12/site-packages (from transformers<5.0.0,>=4.41.0->sentence-transformers>=0.4.1->bertopic) (0.6.2)\n",
      "Requirement already satisfied: fsspec>=2023.5.0 in /opt/conda/lib/python3.12/site-packages (from huggingface-hub>=0.20.0->sentence-transformers>=0.4.1->bertopic) (2025.5.1)\n",
      "Requirement already satisfied: hf-xet<2.0.0,>=1.1.3 in /opt/conda/lib/python3.12/site-packages (from huggingface-hub>=0.20.0->sentence-transformers>=0.4.1->bertopic) (1.1.9)\n",
      "Requirement already satisfied: setuptools in /opt/conda/lib/python3.12/site-packages (from torch>=1.11.0->sentence-transformers>=0.4.1->bertopic) (80.9.0)\n",
      "Requirement already satisfied: sympy>=1.13.3 in /opt/conda/lib/python3.12/site-packages (from torch>=1.11.0->sentence-transformers>=0.4.1->bertopic) (1.14.0)\n",
      "Requirement already satisfied: networkx in /opt/conda/lib/python3.12/site-packages (from torch>=1.11.0->sentence-transformers>=0.4.1->bertopic) (3.5)\n",
      "Requirement already satisfied: jinja2 in /opt/conda/lib/python3.12/site-packages (from torch>=1.11.0->sentence-transformers>=0.4.1->bertopic) (3.1.6)\n",
      "Requirement already satisfied: nvidia-cuda-nvrtc-cu12==12.8.61 in /opt/conda/lib/python3.12/site-packages (from torch>=1.11.0->sentence-transformers>=0.4.1->bertopic) (12.8.61)\n",
      "Requirement already satisfied: nvidia-cuda-runtime-cu12==12.8.57 in /opt/conda/lib/python3.12/site-packages (from torch>=1.11.0->sentence-transformers>=0.4.1->bertopic) (12.8.57)\n",
      "Requirement already satisfied: nvidia-cuda-cupti-cu12==12.8.57 in /opt/conda/lib/python3.12/site-packages (from torch>=1.11.0->sentence-transformers>=0.4.1->bertopic) (12.8.57)\n",
      "Requirement already satisfied: nvidia-cudnn-cu12==9.7.1.26 in /opt/conda/lib/python3.12/site-packages (from torch>=1.11.0->sentence-transformers>=0.4.1->bertopic) (9.7.1.26)\n",
      "Requirement already satisfied: nvidia-cublas-cu12==12.8.3.14 in /opt/conda/lib/python3.12/site-packages (from torch>=1.11.0->sentence-transformers>=0.4.1->bertopic) (12.8.3.14)\n",
      "Requirement already satisfied: nvidia-cufft-cu12==11.3.3.41 in /opt/conda/lib/python3.12/site-packages (from torch>=1.11.0->sentence-transformers>=0.4.1->bertopic) (11.3.3.41)\n",
      "Requirement already satisfied: nvidia-curand-cu12==10.3.9.55 in /opt/conda/lib/python3.12/site-packages (from torch>=1.11.0->sentence-transformers>=0.4.1->bertopic) (10.3.9.55)\n",
      "Requirement already satisfied: nvidia-cusolver-cu12==11.7.2.55 in /opt/conda/lib/python3.12/site-packages (from torch>=1.11.0->sentence-transformers>=0.4.1->bertopic) (11.7.2.55)\n",
      "Requirement already satisfied: nvidia-cusparse-cu12==12.5.7.53 in /opt/conda/lib/python3.12/site-packages (from torch>=1.11.0->sentence-transformers>=0.4.1->bertopic) (12.5.7.53)\n",
      "Requirement already satisfied: nvidia-cusparselt-cu12==0.6.3 in /opt/conda/lib/python3.12/site-packages (from torch>=1.11.0->sentence-transformers>=0.4.1->bertopic) (0.6.3)\n",
      "Requirement already satisfied: nvidia-nccl-cu12==2.26.2 in /opt/conda/lib/python3.12/site-packages (from torch>=1.11.0->sentence-transformers>=0.4.1->bertopic) (2.26.2)\n",
      "Requirement already satisfied: nvidia-nvtx-cu12==12.8.55 in /opt/conda/lib/python3.12/site-packages (from torch>=1.11.0->sentence-transformers>=0.4.1->bertopic) (12.8.55)\n",
      "Requirement already satisfied: nvidia-nvjitlink-cu12==12.8.61 in /opt/conda/lib/python3.12/site-packages (from torch>=1.11.0->sentence-transformers>=0.4.1->bertopic) (12.8.61)\n",
      "Requirement already satisfied: nvidia-cufile-cu12==1.13.0.11 in /opt/conda/lib/python3.12/site-packages (from torch>=1.11.0->sentence-transformers>=0.4.1->bertopic) (1.13.0.11)\n",
      "Requirement already satisfied: triton==3.3.1 in /opt/conda/lib/python3.12/site-packages (from torch>=1.11.0->sentence-transformers>=0.4.1->bertopic) (3.3.1)\n",
      "Requirement already satisfied: mpmath<1.4,>=1.1.0 in /opt/conda/lib/python3.12/site-packages (from sympy>=1.13.3->torch>=1.11.0->sentence-transformers>=0.4.1->bertopic) (1.3.0)\n",
      "Requirement already satisfied: numba>=0.51.2 in /opt/conda/lib/python3.12/site-packages (from umap-learn>=0.5.0->bertopic) (0.61.2)\n",
      "Collecting pynndescent>=0.5 (from umap-learn>=0.5.0->bertopic)\n",
      "  Downloading pynndescent-0.5.13-py3-none-any.whl.metadata (6.8 kB)\n",
      "Requirement already satisfied: MarkupSafe>=2.0 in /opt/conda/lib/python3.12/site-packages (from jinja2->torch>=1.11.0->sentence-transformers>=0.4.1->bertopic) (3.0.2)\n",
      "Requirement already satisfied: charset_normalizer<4,>=2 in /opt/conda/lib/python3.12/site-packages (from requests->transformers<5.0.0,>=4.41.0->sentence-transformers>=0.4.1->bertopic) (3.4.2)\n",
      "Requirement already satisfied: idna<4,>=2.5 in /opt/conda/lib/python3.12/site-packages (from requests->transformers<5.0.0,>=4.41.0->sentence-transformers>=0.4.1->bertopic) (3.10)\n",
      "Requirement already satisfied: urllib3<3,>=1.21.1 in /opt/conda/lib/python3.12/site-packages (from requests->transformers<5.0.0,>=4.41.0->sentence-transformers>=0.4.1->bertopic) (2.5.0)\n",
      "Requirement already satisfied: certifi>=2017.4.17 in /opt/conda/lib/python3.12/site-packages (from requests->transformers<5.0.0,>=4.41.0->sentence-transformers>=0.4.1->bertopic) (2025.6.15)\n",
      "Downloading bertopic-0.17.3-py3-none-any.whl (153 kB)\n",
      "Downloading plotly-6.3.0-py3-none-any.whl (9.8 MB)\n",
      "\u001b[2K   \u001b[90m━━━━━━━━━━━━━━━━━━━━━━━━━━━━━━━━━━━━━━━━\u001b[0m \u001b[32m9.8/9.8 MB\u001b[0m \u001b[31m101.3 MB/s\u001b[0m eta \u001b[36m0:00:00\u001b[0m\n",
      "\u001b[?25hDownloading sentence_transformers-5.1.0-py3-none-any.whl (483 kB)\n",
      "Downloading umap_learn-0.5.9.post2-py3-none-any.whl (90 kB)\n",
      "Downloading pynndescent-0.5.13-py3-none-any.whl (56 kB)\n",
      "Building wheels for collected packages: hdbscan\n",
      "  Building wheel for hdbscan (pyproject.toml) ... \u001b[?25ldone\n",
      "\u001b[?25h  Created wheel for hdbscan: filename=hdbscan-0.8.40-cp312-cp312-linux_x86_64.whl size=847020 sha256=92ff2a61c2f68ea69fb417241fed78edf01ca7349fec9f3ee19bb8159f95e5ef\n",
      "  Stored in directory: /home/jovyan/.cache/pip/wheels/80/e7/bb/173ca0d8ce12718c4b5e6e01619c99653579b56969b97604b2\n",
      "Successfully built hdbscan\n",
      "Installing collected packages: plotly, pynndescent, hdbscan, umap-learn, sentence-transformers, bertopic\n",
      "\u001b[2K   \u001b[90m━━━━━━━━━━━━━━━━━━━━━━━━━━━━━━━━━━━━━━━━\u001b[0m \u001b[32m6/6\u001b[0m [bertopic]3/6\u001b[0m [umap-learn]\n",
      "\u001b[1A\u001b[2KSuccessfully installed bertopic-0.17.3 hdbscan-0.8.40 plotly-6.3.0 pynndescent-0.5.13 sentence-transformers-5.1.0 umap-learn-0.5.9.post2\n"
     ]
    }
   ],
   "source": [
    "!pip install bertopic"
   ]
  },
  {
   "cell_type": "code",
   "execution_count": 41,
   "metadata": {
    "id": "kdOmyJCJ7Ukg"
   },
   "outputs": [],
   "source": [
    "negative = docs[docs['text_label']=='NEGATIVE']['text_lemitizing']\n",
    "positive = docs[docs['text_label']=='POSITIVE']['text_lemitizing']"
   ]
  },
  {
   "cell_type": "code",
   "execution_count": 42,
   "metadata": {
    "id": "OOLmfJfrxFGo"
   },
   "outputs": [],
   "source": [
    "from bertopic import BERTopic\n",
    "from sklearn.cluster import AgglomerativeClustering\n",
    "from sklearn.feature_extraction.text import CountVectorizer\n",
    "from bertopic.vectorizers import ClassTfidfTransformer\n",
    "from bertopic.representation import MaximalMarginalRelevance\n",
    "from sklearn.decomposition import TruncatedSVD"
   ]
  },
  {
   "cell_type": "code",
   "execution_count": 43,
   "metadata": {
    "colab": {
     "base_uri": "https://localhost:8080/"
    },
    "id": "gDf4kdXhxbYo",
    "outputId": "066b2c06-73dc-439d-e8cd-e6d67d287f2b"
   },
   "outputs": [
    {
     "data": {
      "application/vnd.jupyter.widget-view+json": {
       "model_id": "633a4ba6c254435c8af5b1d003f4f9f3",
       "version_major": 2,
       "version_minor": 0
      },
      "text/plain": [
       "config.json:   0%|          | 0.00/664 [00:00<?, ?B/s]"
      ]
     },
     "metadata": {},
     "output_type": "display_data"
    },
    {
     "data": {
      "application/vnd.jupyter.widget-view+json": {
       "model_id": "03263468f2af49d58821424d4c33dcbd",
       "version_major": 2,
       "version_minor": 0
      },
      "text/plain": [
       "pytorch_model.bin:   0%|          | 0.00/1.42G [00:00<?, ?B/s]"
      ]
     },
     "metadata": {},
     "output_type": "display_data"
    },
    {
     "data": {
      "application/vnd.jupyter.widget-view+json": {
       "model_id": "0375d9206edf45aca1b4dffe8781fd47",
       "version_major": 2,
       "version_minor": 0
      },
      "text/plain": [
       "tokenizer_config.json:   0%|          | 0.00/256 [00:00<?, ?B/s]"
      ]
     },
     "metadata": {},
     "output_type": "display_data"
    },
    {
     "data": {
      "application/vnd.jupyter.widget-view+json": {
       "model_id": "a5dceece6b324a718e977c3037dc705f",
       "version_major": 2,
       "version_minor": 0
      },
      "text/plain": [
       "vocab.json: 0.00B [00:00, ?B/s]"
      ]
     },
     "metadata": {},
     "output_type": "display_data"
    },
    {
     "data": {
      "application/vnd.jupyter.widget-view+json": {
       "model_id": "457603b6d3214e879d78c61002b8956e",
       "version_major": 2,
       "version_minor": 0
      },
      "text/plain": [
       "merges.txt: 0.00B [00:00, ?B/s]"
      ]
     },
     "metadata": {},
     "output_type": "display_data"
    },
    {
     "data": {
      "application/vnd.jupyter.widget-view+json": {
       "model_id": "58420a93e3e04296b6f955c644576c81",
       "version_major": 2,
       "version_minor": 0
      },
      "text/plain": [
       "special_tokens_map.json:   0%|          | 0.00/239 [00:00<?, ?B/s]"
      ]
     },
     "metadata": {},
     "output_type": "display_data"
    },
    {
     "name": "stderr",
     "output_type": "stream",
     "text": [
      "Device set to use cuda:0\n"
     ]
    },
    {
     "data": {
      "application/vnd.jupyter.widget-view+json": {
       "model_id": "514eb1065832455aa8597b6339dd6fea",
       "version_major": 2,
       "version_minor": 0
      },
      "text/plain": [
       "model.safetensors:   0%|          | 0.00/1.42G [00:00<?, ?B/s]"
      ]
     },
     "metadata": {},
     "output_type": "display_data"
    }
   ],
   "source": [
    "embedding_model = pipeline(\"feature-extraction\", model=\"princeton-nlp/sup-simcse-roberta-large\")\n",
    "umap_model = TruncatedSVD(n_components=5)\n",
    "vectorizer_model = CountVectorizer(min_df=10,ngram_range=(1, 3))\n",
    "ctfidf_model = ClassTfidfTransformer(bm25_weighting=True)\n",
    "representation_model = MaximalMarginalRelevance(diversity=0.3)\n",
    "\n",
    "def topic(n_cluster):\n",
    "    topic_model = BERTopic(\n",
    "    embedding_model=embedding_model,\n",
    "    umap_model=umap_model,\n",
    "    hdbscan_model=AgglomerativeClustering(n_clusters=n_cluster),\n",
    "    vectorizer_model=vectorizer_model,\n",
    "    ctfidf_model=ctfidf_model,\n",
    "    representation_model=representation_model,\n",
    "    calculate_probabilities=True,\n",
    "    verbose=True,\n",
    "    )\n",
    "    return topic_model"
   ]
  },
  {
   "cell_type": "code",
   "execution_count": 47,
   "metadata": {
    "colab": {
     "base_uri": "https://localhost:8080/"
    },
    "id": "2Nk4h94u02bZ",
    "outputId": "0012f4e6-243a-4f89-a9d3-c8860b3f6975"
   },
   "outputs": [
    {
     "name": "stderr",
     "output_type": "stream",
     "text": [
      "2025-08-30 08:43:41,905 - BERTopic - Embedding - Transforming documents to embeddings.\n",
      "100% 4257/4257 [00:18<00:00, 236.31it/s]\n",
      "2025-08-30 08:43:59,926 - BERTopic - Embedding - Completed ✓\n",
      "2025-08-30 08:43:59,926 - BERTopic - Dimensionality - Fitting the dimensionality reduction algorithm\n",
      "2025-08-30 08:43:59,947 - BERTopic - Dimensionality - Completed ✓\n",
      "2025-08-30 08:43:59,947 - BERTopic - Cluster - Start clustering the reduced embeddings\n",
      "2025-08-30 08:44:00,134 - BERTopic - Cluster - Completed ✓\n",
      "2025-08-30 08:44:00,136 - BERTopic - Representation - Fine-tuning topics using representation models.\n",
      "2025-08-30 08:44:02,902 - BERTopic - Representation - Completed ✓\n"
     ]
    },
    {
     "data": {
      "text/html": [
       "<div>\n",
       "<style scoped>\n",
       "    .dataframe tbody tr th:only-of-type {\n",
       "        vertical-align: middle;\n",
       "    }\n",
       "\n",
       "    .dataframe tbody tr th {\n",
       "        vertical-align: top;\n",
       "    }\n",
       "\n",
       "    .dataframe thead th {\n",
       "        text-align: right;\n",
       "    }\n",
       "</style>\n",
       "<table border=\"1\" class=\"dataframe\">\n",
       "  <thead>\n",
       "    <tr style=\"text-align: right;\">\n",
       "      <th></th>\n",
       "      <th>Topic</th>\n",
       "      <th>Count</th>\n",
       "      <th>Name</th>\n",
       "      <th>Representation</th>\n",
       "      <th>Representative_Docs</th>\n",
       "    </tr>\n",
       "  </thead>\n",
       "  <tbody>\n",
       "    <tr>\n",
       "      <th>0</th>\n",
       "      <td>0</td>\n",
       "      <td>257</td>\n",
       "      <td>0_app_account_gopay app_phone</td>\n",
       "      <td>[app, account, gopay app, phone, gopay account...</td>\n",
       "      <td>[little disappointed gopay app problem gopay p...</td>\n",
       "    </tr>\n",
       "    <tr>\n",
       "      <th>1</th>\n",
       "      <td>1</td>\n",
       "      <td>240</td>\n",
       "      <td>1_hasnt_bank_balance hasnt_yet</td>\n",
       "      <td>[hasnt, bank, balance hasnt, yet, gopay balanc...</td>\n",
       "      <td>[clear oath im money hasnt gone gopay yet even...</td>\n",
       "    </tr>\n",
       "    <tr>\n",
       "      <th>2</th>\n",
       "      <td>2</td>\n",
       "      <td>223</td>\n",
       "      <td>2_cant_cant use_fails_problem</td>\n",
       "      <td>[cant, cant use, fails, problem, app, applicat...</td>\n",
       "      <td>[ive repeatedly facial verification always fai...</td>\n",
       "    </tr>\n",
       "    <tr>\n",
       "      <th>3</th>\n",
       "      <td>3</td>\n",
       "      <td>213</td>\n",
       "      <td>3_problem_please fix_log_slow</td>\n",
       "      <td>[problem, please fix, log, slow, ive waiting, ...</td>\n",
       "      <td>[overall almost feature good bad thing custome...</td>\n",
       "    </tr>\n",
       "    <tr>\n",
       "      <th>4</th>\n",
       "      <td>4</td>\n",
       "      <td>211</td>\n",
       "      <td>4_whats wrong_long time_cant change_dont like</td>\n",
       "      <td>[whats wrong, long time, cant change, dont lik...</td>\n",
       "      <td>[dont know dont know dont know dont know dont ...</td>\n",
       "    </tr>\n",
       "    <tr>\n",
       "      <th>5</th>\n",
       "      <td>5</td>\n",
       "      <td>211</td>\n",
       "      <td>5_instead_money_transaction_buy</td>\n",
       "      <td>[instead, money, transaction, buy, cashback, v...</td>\n",
       "      <td>[promo topup game rupee gimmick time got x wan...</td>\n",
       "    </tr>\n",
       "    <tr>\n",
       "      <th>6</th>\n",
       "      <td>6</td>\n",
       "      <td>209</td>\n",
       "      <td>6_delete_long time_app_gopay account</td>\n",
       "      <td>[delete, long time, app, gopay account, phone,...</td>\n",
       "      <td>[good im going delete account im going delete ...</td>\n",
       "    </tr>\n",
       "    <tr>\n",
       "      <th>7</th>\n",
       "      <td>7</td>\n",
       "      <td>208</td>\n",
       "      <td>7_transfer_time_transaction_loan</td>\n",
       "      <td>[transfer, time, transaction, loan, bank, paym...</td>\n",
       "      <td>[since there vague announcement pppatk top gop...</td>\n",
       "    </tr>\n",
       "    <tr>\n",
       "      <th>8</th>\n",
       "      <td>8</td>\n",
       "      <td>207</td>\n",
       "      <td>8_loan_cashback_didnt_withdraw</td>\n",
       "      <td>[loan, cashback, didnt, withdraw, money cant, ...</td>\n",
       "      <td>[im disappointed loan ive never late even ive ...</td>\n",
       "    </tr>\n",
       "    <tr>\n",
       "      <th>9</th>\n",
       "      <td>9</td>\n",
       "      <td>197</td>\n",
       "      <td>9_lot bug_im trying_im sorry_email</td>\n",
       "      <td>[lot bug, im trying, im sorry, email, day ive,...</td>\n",
       "      <td>[uh uh uh uh uh uh uh uh uh uh uh uh uh uh uh ...</td>\n",
       "    </tr>\n",
       "    <tr>\n",
       "      <th>10</th>\n",
       "      <td>10</td>\n",
       "      <td>189</td>\n",
       "      <td>10_gift_dont make_user_game</td>\n",
       "      <td>[gift, dont make, user, game, buy, voucher, ad...</td>\n",
       "      <td>[cant use promo code got gift arena please fix...</td>\n",
       "    </tr>\n",
       "    <tr>\n",
       "      <th>11</th>\n",
       "      <td>11</td>\n",
       "      <td>188</td>\n",
       "      <td>11_please fix_app_want top_problem</td>\n",
       "      <td>[please fix, app, want top, problem, internet,...</td>\n",
       "      <td>[hello gopay please fix yes im top dm fff keep...</td>\n",
       "    </tr>\n",
       "    <tr>\n",
       "      <th>12</th>\n",
       "      <td>12</td>\n",
       "      <td>184</td>\n",
       "      <td>12_cheap_game_discount_borrow</td>\n",
       "      <td>[cheap, game, discount, borrow, token, cashbac...</td>\n",
       "      <td>[every transaction cheap lot discount, lot che...</td>\n",
       "    </tr>\n",
       "    <tr>\n",
       "      <th>13</th>\n",
       "      <td>13</td>\n",
       "      <td>181</td>\n",
       "      <td>13_cheap_app_free_apps</td>\n",
       "      <td>[cheap, app, free, apps, gopay app, price, apk...</td>\n",
       "      <td>[honestly beginning every time see ad dont bel...</td>\n",
       "    </tr>\n",
       "    <tr>\n",
       "      <th>14</th>\n",
       "      <td>14</td>\n",
       "      <td>166</td>\n",
       "      <td>14_money_transaction_balance cut_account</td>\n",
       "      <td>[money, transaction, balance cut, account, ban...</td>\n",
       "      <td>[transferred money bank gopay bank balance cut...</td>\n",
       "    </tr>\n",
       "    <tr>\n",
       "      <th>15</th>\n",
       "      <td>15</td>\n",
       "      <td>156</td>\n",
       "      <td>15_bank_account_transfer_transaction</td>\n",
       "      <td>[bank, account, transfer, transaction, gopay, ...</td>\n",
       "      <td>[yesterday transferred money gopay seabank pro...</td>\n",
       "    </tr>\n",
       "    <tr>\n",
       "      <th>16</th>\n",
       "      <td>16</td>\n",
       "      <td>148</td>\n",
       "      <td>16_app_want_gopay app_lost</td>\n",
       "      <td>[app, want, gopay app, lost, im disappointed, ...</td>\n",
       "      <td>[im disappointed transaction bought wdp gopay ...</td>\n",
       "    </tr>\n",
       "    <tr>\n",
       "      <th>17</th>\n",
       "      <td>17</td>\n",
       "      <td>144</td>\n",
       "      <td>17_arena_voucher_game_cashback</td>\n",
       "      <td>[arena, voucher, game, cashback, promo code, d...</td>\n",
       "      <td>[gift arena wrong lot game voucher well weekly...</td>\n",
       "    </tr>\n",
       "    <tr>\n",
       "      <th>18</th>\n",
       "      <td>18</td>\n",
       "      <td>131</td>\n",
       "      <td>18_didnt come_doesnt come_transaction_three</td>\n",
       "      <td>[didnt come, doesnt come, transaction, three, ...</td>\n",
       "      <td>[love one star gopay disappointed three time d...</td>\n",
       "    </tr>\n",
       "    <tr>\n",
       "      <th>19</th>\n",
       "      <td>19</td>\n",
       "      <td>128</td>\n",
       "      <td>19_hasnt_balance hasnt_hasnt come_loan</td>\n",
       "      <td>[hasnt, balance hasnt, hasnt come, loan, trans...</td>\n",
       "      <td>[last night installed first topup balance didn...</td>\n",
       "    </tr>\n",
       "    <tr>\n",
       "      <th>20</th>\n",
       "      <td>20</td>\n",
       "      <td>123</td>\n",
       "      <td>20_account_gopay account_gopay_account cant</td>\n",
       "      <td>[account, gopay account, gopay, account cant, ...</td>\n",
       "      <td>[im disappointed gopay account cant transferre...</td>\n",
       "    </tr>\n",
       "    <tr>\n",
       "      <th>21</th>\n",
       "      <td>21</td>\n",
       "      <td>100</td>\n",
       "      <td>21_update_app_phone_please fix</td>\n",
       "      <td>[update, app, phone, please fix, signal, cant ...</td>\n",
       "      <td>[idiotic app latest version there dialog updat...</td>\n",
       "    </tr>\n",
       "    <tr>\n",
       "      <th>22</th>\n",
       "      <td>22</td>\n",
       "      <td>96</td>\n",
       "      <td>22_paying_transfer_bank_process</td>\n",
       "      <td>[paying, transfer, bank, process, balance hasn...</td>\n",
       "      <td>[balance hasnt come yet ive told wait three da...</td>\n",
       "    </tr>\n",
       "    <tr>\n",
       "      <th>23</th>\n",
       "      <td>23</td>\n",
       "      <td>83</td>\n",
       "      <td>23_cant go_im disappointed_always fails_disapp...</td>\n",
       "      <td>[cant go, im disappointed, always fails, disap...</td>\n",
       "      <td>[dont want go im disappointed, disappointed to...</td>\n",
       "    </tr>\n",
       "    <tr>\n",
       "      <th>24</th>\n",
       "      <td>24</td>\n",
       "      <td>64</td>\n",
       "      <td>24_app_apk_phone_apps</td>\n",
       "      <td>[app, apk, phone, apps, want transfer, gopay a...</td>\n",
       "      <td>[gopay convenient anymore im logging another p...</td>\n",
       "    </tr>\n",
       "  </tbody>\n",
       "</table>\n",
       "</div>"
      ],
      "text/plain": [
       "    Topic  Count                                               Name  \\\n",
       "0       0    257                      0_app_account_gopay app_phone   \n",
       "1       1    240                     1_hasnt_bank_balance hasnt_yet   \n",
       "2       2    223                      2_cant_cant use_fails_problem   \n",
       "3       3    213                      3_problem_please fix_log_slow   \n",
       "4       4    211      4_whats wrong_long time_cant change_dont like   \n",
       "5       5    211                    5_instead_money_transaction_buy   \n",
       "6       6    209               6_delete_long time_app_gopay account   \n",
       "7       7    208                   7_transfer_time_transaction_loan   \n",
       "8       8    207                     8_loan_cashback_didnt_withdraw   \n",
       "9       9    197                 9_lot bug_im trying_im sorry_email   \n",
       "10     10    189                        10_gift_dont make_user_game   \n",
       "11     11    188                 11_please fix_app_want top_problem   \n",
       "12     12    184                      12_cheap_game_discount_borrow   \n",
       "13     13    181                             13_cheap_app_free_apps   \n",
       "14     14    166           14_money_transaction_balance cut_account   \n",
       "15     15    156               15_bank_account_transfer_transaction   \n",
       "16     16    148                         16_app_want_gopay app_lost   \n",
       "17     17    144                     17_arena_voucher_game_cashback   \n",
       "18     18    131        18_didnt come_doesnt come_transaction_three   \n",
       "19     19    128             19_hasnt_balance hasnt_hasnt come_loan   \n",
       "20     20    123        20_account_gopay account_gopay_account cant   \n",
       "21     21    100                     21_update_app_phone_please fix   \n",
       "22     22     96                    22_paying_transfer_bank_process   \n",
       "23     23     83  23_cant go_im disappointed_always fails_disapp...   \n",
       "24     24     64                              24_app_apk_phone_apps   \n",
       "\n",
       "                                       Representation  \\\n",
       "0   [app, account, gopay app, phone, gopay account...   \n",
       "1   [hasnt, bank, balance hasnt, yet, gopay balanc...   \n",
       "2   [cant, cant use, fails, problem, app, applicat...   \n",
       "3   [problem, please fix, log, slow, ive waiting, ...   \n",
       "4   [whats wrong, long time, cant change, dont lik...   \n",
       "5   [instead, money, transaction, buy, cashback, v...   \n",
       "6   [delete, long time, app, gopay account, phone,...   \n",
       "7   [transfer, time, transaction, loan, bank, paym...   \n",
       "8   [loan, cashback, didnt, withdraw, money cant, ...   \n",
       "9   [lot bug, im trying, im sorry, email, day ive,...   \n",
       "10  [gift, dont make, user, game, buy, voucher, ad...   \n",
       "11  [please fix, app, want top, problem, internet,...   \n",
       "12  [cheap, game, discount, borrow, token, cashbac...   \n",
       "13  [cheap, app, free, apps, gopay app, price, apk...   \n",
       "14  [money, transaction, balance cut, account, ban...   \n",
       "15  [bank, account, transfer, transaction, gopay, ...   \n",
       "16  [app, want, gopay app, lost, im disappointed, ...   \n",
       "17  [arena, voucher, game, cashback, promo code, d...   \n",
       "18  [didnt come, doesnt come, transaction, three, ...   \n",
       "19  [hasnt, balance hasnt, hasnt come, loan, trans...   \n",
       "20  [account, gopay account, gopay, account cant, ...   \n",
       "21  [update, app, phone, please fix, signal, cant ...   \n",
       "22  [paying, transfer, bank, process, balance hasn...   \n",
       "23  [cant go, im disappointed, always fails, disap...   \n",
       "24  [app, apk, phone, apps, want transfer, gopay a...   \n",
       "\n",
       "                                  Representative_Docs  \n",
       "0   [little disappointed gopay app problem gopay p...  \n",
       "1   [clear oath im money hasnt gone gopay yet even...  \n",
       "2   [ive repeatedly facial verification always fai...  \n",
       "3   [overall almost feature good bad thing custome...  \n",
       "4   [dont know dont know dont know dont know dont ...  \n",
       "5   [promo topup game rupee gimmick time got x wan...  \n",
       "6   [good im going delete account im going delete ...  \n",
       "7   [since there vague announcement pppatk top gop...  \n",
       "8   [im disappointed loan ive never late even ive ...  \n",
       "9   [uh uh uh uh uh uh uh uh uh uh uh uh uh uh uh ...  \n",
       "10  [cant use promo code got gift arena please fix...  \n",
       "11  [hello gopay please fix yes im top dm fff keep...  \n",
       "12  [every transaction cheap lot discount, lot che...  \n",
       "13  [honestly beginning every time see ad dont bel...  \n",
       "14  [transferred money bank gopay bank balance cut...  \n",
       "15  [yesterday transferred money gopay seabank pro...  \n",
       "16  [im disappointed transaction bought wdp gopay ...  \n",
       "17  [gift arena wrong lot game voucher well weekly...  \n",
       "18  [love one star gopay disappointed three time d...  \n",
       "19  [last night installed first topup balance didn...  \n",
       "20  [im disappointed gopay account cant transferre...  \n",
       "21  [idiotic app latest version there dialog updat...  \n",
       "22  [balance hasnt come yet ive told wait three da...  \n",
       "23  [dont want go im disappointed, disappointed to...  \n",
       "24  [gopay convenient anymore im logging another p...  "
      ]
     },
     "execution_count": 47,
     "metadata": {},
     "output_type": "execute_result"
    }
   ],
   "source": [
    "negative_topic = topic(25)\n",
    "negative_info = negative_topic.fit_transform(negative)\n",
    "negative_info = negative_topic.get_topic_info()\n",
    "negative_info.to_excel('negative_topic.xlsx')\n",
    "negative_info"
   ]
  },
  {
   "cell_type": "code",
   "execution_count": null,
   "metadata": {},
   "outputs": [],
   "source": [
    "negative_topic.set_topic_labels({\n",
    "    1: \"Space Travel\", 7: \"Religion\"\n",
    "})"
   ]
  },
  {
   "cell_type": "code",
   "execution_count": null,
   "metadata": {},
   "outputs": [],
   "source": [
    "negative_topic.merge_topics(negative, \n",
    "                            [1,2,3],\n",
    "                            [4,5,6])"
   ]
  },
  {
   "cell_type": "code",
   "execution_count": null,
   "metadata": {},
   "outputs": [],
   "source": [
    "negative_info = negative_topic.get_topic_info()\n",
    "negative_info"
   ]
  },
  {
   "cell_type": "code",
   "execution_count": 48,
   "metadata": {
    "editable": true,
    "slideshow": {
     "slide_type": ""
    },
    "tags": []
   },
   "outputs": [
    {
     "name": "stderr",
     "output_type": "stream",
     "text": [
      "2025-08-30 08:45:51,776 - BERTopic - Embedding - Transforming documents to embeddings.\n",
      "100% 2663/2663 [00:10<00:00, 252.75it/s]\n",
      "2025-08-30 08:46:02,321 - BERTopic - Embedding - Completed ✓\n",
      "2025-08-30 08:46:02,321 - BERTopic - Dimensionality - Fitting the dimensionality reduction algorithm\n",
      "2025-08-30 08:46:02,332 - BERTopic - Dimensionality - Completed ✓\n",
      "2025-08-30 08:46:02,333 - BERTopic - Cluster - Start clustering the reduced embeddings\n",
      "2025-08-30 08:46:02,407 - BERTopic - Cluster - Completed ✓\n",
      "2025-08-30 08:46:02,409 - BERTopic - Representation - Fine-tuning topics using representation models.\n",
      "2025-08-30 08:46:03,744 - BERTopic - Representation - Completed ✓\n"
     ]
    },
    {
     "data": {
      "text/html": [
       "<div>\n",
       "<style scoped>\n",
       "    .dataframe tbody tr th:only-of-type {\n",
       "        vertical-align: middle;\n",
       "    }\n",
       "\n",
       "    .dataframe tbody tr th {\n",
       "        vertical-align: top;\n",
       "    }\n",
       "\n",
       "    .dataframe thead th {\n",
       "        text-align: right;\n",
       "    }\n",
       "</style>\n",
       "<table border=\"1\" class=\"dataframe\">\n",
       "  <thead>\n",
       "    <tr style=\"text-align: right;\">\n",
       "      <th></th>\n",
       "      <th>Topic</th>\n",
       "      <th>Count</th>\n",
       "      <th>Name</th>\n",
       "      <th>Representation</th>\n",
       "      <th>Representative_Docs</th>\n",
       "    </tr>\n",
       "  </thead>\n",
       "  <tbody>\n",
       "    <tr>\n",
       "      <th>0</th>\n",
       "      <td>0</td>\n",
       "      <td>364</td>\n",
       "      <td>0_balance_game_min_pay</td>\n",
       "      <td>[balance, game, min, pay, want, good, free, tr...</td>\n",
       "      <td>[really cool top game like top fund, really go...</td>\n",
       "    </tr>\n",
       "    <tr>\n",
       "      <th>1</th>\n",
       "      <td>1</td>\n",
       "      <td>305</td>\n",
       "      <td>1_easy_quick_transaction_easier</td>\n",
       "      <td>[easy, quick, transaction, easier, cheap, easy...</td>\n",
       "      <td>[transaction cheap fast easy, quick easy pay e...</td>\n",
       "    </tr>\n",
       "    <tr>\n",
       "      <th>2</th>\n",
       "      <td>2</td>\n",
       "      <td>281</td>\n",
       "      <td>2_im_balance_fix_problem</td>\n",
       "      <td>[im, balance, fix, problem, better, hope, stea...</td>\n",
       "      <td>[whats matter gopay yeah im toping balance bca...</td>\n",
       "    </tr>\n",
       "    <tr>\n",
       "      <th>3</th>\n",
       "      <td>3</td>\n",
       "      <td>271</td>\n",
       "      <td>3_app_helpful_gopay_free</td>\n",
       "      <td>[app, helpful, gopay, free, cheap, feature, ap...</td>\n",
       "      <td>[really like gopay transaction app cheap helpf...</td>\n",
       "    </tr>\n",
       "    <tr>\n",
       "      <th>4</th>\n",
       "      <td>4</td>\n",
       "      <td>266</td>\n",
       "      <td>4_transaction_pay_always_saving</td>\n",
       "      <td>[transaction, pay, always, saving, thank, gopa...</td>\n",
       "      <td>[time top balance balance go balance sheet, iv...</td>\n",
       "    </tr>\n",
       "    <tr>\n",
       "      <th>5</th>\n",
       "      <td>5</td>\n",
       "      <td>238</td>\n",
       "      <td>5_transfer_app_easier_free</td>\n",
       "      <td>[transfer, app, easier, free, convenient, easy...</td>\n",
       "      <td>[gopay feature easy make transaction like puls...</td>\n",
       "    </tr>\n",
       "    <tr>\n",
       "      <th>6</th>\n",
       "      <td>6</td>\n",
       "      <td>195</td>\n",
       "      <td>6_better_helpful_apk_feature</td>\n",
       "      <td>[better, helpful, apk, feature, nice, sometime...</td>\n",
       "      <td>[please please please please please please ple...</td>\n",
       "    </tr>\n",
       "    <tr>\n",
       "      <th>7</th>\n",
       "      <td>7</td>\n",
       "      <td>173</td>\n",
       "      <td>7_cant_problem_app_want</td>\n",
       "      <td>[cant, problem, app, want, time, fix, gopay, t...</td>\n",
       "      <td>[gopay emng there problem simple practical the...</td>\n",
       "    </tr>\n",
       "    <tr>\n",
       "      <th>8</th>\n",
       "      <td>8</td>\n",
       "      <td>173</td>\n",
       "      <td>8_free_transfer_game_cheap</td>\n",
       "      <td>[free, transfer, game, cheap, topup, gopay, ma...</td>\n",
       "      <td>[love five star special first transaction get ...</td>\n",
       "    </tr>\n",
       "    <tr>\n",
       "      <th>9</th>\n",
       "      <td>9</td>\n",
       "      <td>168</td>\n",
       "      <td>9_easy use_practical_helpful_easier</td>\n",
       "      <td>[easy use, practical, helpful, easier, satisfy...</td>\n",
       "      <td>[easy use helpful, simple easy use, good easy ...</td>\n",
       "    </tr>\n",
       "    <tr>\n",
       "      <th>10</th>\n",
       "      <td>10</td>\n",
       "      <td>164</td>\n",
       "      <td>10_app_app good_user_feature</td>\n",
       "      <td>[app, app good, user, feature, helpful, apps, ...</td>\n",
       "      <td>[helpful app advice increase number promotion ...</td>\n",
       "    </tr>\n",
       "    <tr>\n",
       "      <th>11</th>\n",
       "      <td>11</td>\n",
       "      <td>65</td>\n",
       "      <td>11_easy use_easy_app good_apk</td>\n",
       "      <td>[easy use, easy, app good, apk, app, convenien...</td>\n",
       "      <td>[application easy use personal everyday use, a...</td>\n",
       "    </tr>\n",
       "  </tbody>\n",
       "</table>\n",
       "</div>"
      ],
      "text/plain": [
       "    Topic  Count                                 Name  \\\n",
       "0       0    364               0_balance_game_min_pay   \n",
       "1       1    305      1_easy_quick_transaction_easier   \n",
       "2       2    281             2_im_balance_fix_problem   \n",
       "3       3    271             3_app_helpful_gopay_free   \n",
       "4       4    266      4_transaction_pay_always_saving   \n",
       "5       5    238           5_transfer_app_easier_free   \n",
       "6       6    195         6_better_helpful_apk_feature   \n",
       "7       7    173              7_cant_problem_app_want   \n",
       "8       8    173           8_free_transfer_game_cheap   \n",
       "9       9    168  9_easy use_practical_helpful_easier   \n",
       "10     10    164         10_app_app good_user_feature   \n",
       "11     11     65        11_easy use_easy_app good_apk   \n",
       "\n",
       "                                       Representation  \\\n",
       "0   [balance, game, min, pay, want, good, free, tr...   \n",
       "1   [easy, quick, transaction, easier, cheap, easy...   \n",
       "2   [im, balance, fix, problem, better, hope, stea...   \n",
       "3   [app, helpful, gopay, free, cheap, feature, ap...   \n",
       "4   [transaction, pay, always, saving, thank, gopa...   \n",
       "5   [transfer, app, easier, free, convenient, easy...   \n",
       "6   [better, helpful, apk, feature, nice, sometime...   \n",
       "7   [cant, problem, app, want, time, fix, gopay, t...   \n",
       "8   [free, transfer, game, cheap, topup, gopay, ma...   \n",
       "9   [easy use, practical, helpful, easier, satisfy...   \n",
       "10  [app, app good, user, feature, helpful, apps, ...   \n",
       "11  [easy use, easy, app good, apk, app, convenien...   \n",
       "\n",
       "                                  Representative_Docs  \n",
       "0   [really cool top game like top fund, really go...  \n",
       "1   [transaction cheap fast easy, quick easy pay e...  \n",
       "2   [whats matter gopay yeah im toping balance bca...  \n",
       "3   [really like gopay transaction app cheap helpf...  \n",
       "4   [time top balance balance go balance sheet, iv...  \n",
       "5   [gopay feature easy make transaction like puls...  \n",
       "6   [please please please please please please ple...  \n",
       "7   [gopay emng there problem simple practical the...  \n",
       "8   [love five star special first transaction get ...  \n",
       "9   [easy use helpful, simple easy use, good easy ...  \n",
       "10  [helpful app advice increase number promotion ...  \n",
       "11  [application easy use personal everyday use, a...  "
      ]
     },
     "execution_count": 48,
     "metadata": {},
     "output_type": "execute_result"
    }
   ],
   "source": [
    "positive_topic = topic(12)\n",
    "positive_info = positive_topic.fit_transform(positive)\n",
    "positive_info = positive_topic.get_topic_info()\n",
    "positive_info.to_excel('positive_topic.xlsx')\n",
    "positive_info"
   ]
  },
  {
   "cell_type": "code",
   "execution_count": null,
   "metadata": {},
   "outputs": [],
   "source": [
    "positive_topic.set_topic_labels({\n",
    "    1: \"Space Travel\", 7: \"Religion\"\n",
    "})"
   ]
  },
  {
   "cell_type": "code",
   "execution_count": null,
   "metadata": {},
   "outputs": [],
   "source": [
    "positive_topic.merge_topics(positive, \n",
    "                           [[1,2],\n",
    "                           [3,4]]\n",
    "                           )"
   ]
  },
  {
   "cell_type": "markdown",
   "metadata": {},
   "source": [
    "positive_info = positive_topic.get_topic_info()\n",
    "positive_info"
   ]
  },
  {
   "cell_type": "markdown",
   "metadata": {
    "id": "V80HeaiGdCM9"
   },
   "source": [
    "# Conclusion"
   ]
  }
 ],
 "metadata": {
  "colab": {
   "provenance": []
  },
  "kaggle": {
   "accelerator": "nvidiaTeslaT4",
   "dataSources": [],
   "dockerImageVersionId": 31090,
   "isGpuEnabled": true,
   "isInternetEnabled": true,
   "language": "python",
   "sourceType": "notebook"
  },
  "kernelspec": {
   "display_name": "Python 3 (ipykernel)",
   "language": "python",
   "name": "python3"
  },
  "language_info": {
   "codemirror_mode": {
    "name": "ipython",
    "version": 3
   },
   "file_extension": ".py",
   "mimetype": "text/x-python",
   "name": "python",
   "nbconvert_exporter": "python",
   "pygments_lexer": "ipython3",
   "version": "3.12.11"
  }
 },
 "nbformat": 4,
 "nbformat_minor": 4
}
