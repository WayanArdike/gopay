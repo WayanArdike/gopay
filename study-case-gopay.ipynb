{
 "cells": [
  {
   "cell_type": "markdown",
   "metadata": {
    "id": "niAYKrGqcgVr"
   },
   "source": [
    "# Scraping Data"
   ]
  },
  {
   "cell_type": "code",
   "execution_count": 1,
   "metadata": {
    "colab": {
     "base_uri": "https://localhost:8080/"
    },
    "id": "dhtkH1GJcde3",
    "outputId": "ed4bfffa-2dbf-4765-9ba3-e0c5f4910fbe"
   },
   "outputs": [
    {
     "name": "stdout",
     "output_type": "stream",
     "text": [
      "Collecting google-play-scraper\n",
      "  Downloading google_play_scraper-1.2.7-py3-none-any.whl.metadata (50 kB)\n",
      "Downloading google_play_scraper-1.2.7-py3-none-any.whl (28 kB)\n",
      "Installing collected packages: google-play-scraper\n",
      "Successfully installed google-play-scraper-1.2.7\n"
     ]
    }
   ],
   "source": [
    "!pip install google-play-scraper"
   ]
  },
  {
   "cell_type": "code",
   "execution_count": 2,
   "metadata": {
    "id": "a0c4O0JGdlZ9"
   },
   "outputs": [],
   "source": [
    "from google_play_scraper import Sort, reviews\n",
    "import pandas as pd"
   ]
  },
  {
   "cell_type": "code",
   "execution_count": 3,
   "metadata": {
    "id": "DkQ7crN4dw4b"
   },
   "outputs": [],
   "source": [
    "result = reviews(\n",
    "    'com.gojek.gopay',\n",
    "    lang='id',\n",
    "    country='id',\n",
    "    sort=Sort.MOST_RELEVANT,\n",
    "    count=7000\n",
    ")"
   ]
  },
  {
   "cell_type": "code",
   "execution_count": 4,
   "metadata": {
    "colab": {
     "base_uri": "https://localhost:8080/"
    },
    "id": "qJvb6D3FkzSO",
    "outputId": "d2e948f3-08af-4178-cbc2-174a32eaa65c"
   },
   "outputs": [
    {
     "name": "stdout",
     "output_type": "stream",
     "text": [
      "<class 'pandas.core.frame.DataFrame'>\n",
      "RangeIndex: 7000 entries, 0 to 6999\n",
      "Data columns (total 11 columns):\n",
      " #   Column                Non-Null Count  Dtype         \n",
      "---  ------                --------------  -----         \n",
      " 0   reviewId              7000 non-null   object        \n",
      " 1   userName              7000 non-null   object        \n",
      " 2   userImage             7000 non-null   object        \n",
      " 3   content               7000 non-null   object        \n",
      " 4   score                 7000 non-null   int64         \n",
      " 5   thumbsUpCount         7000 non-null   int64         \n",
      " 6   reviewCreatedVersion  6920 non-null   object        \n",
      " 7   at                    7000 non-null   datetime64[ns]\n",
      " 8   replyContent          4525 non-null   object        \n",
      " 9   repliedAt             4525 non-null   datetime64[ns]\n",
      " 10  appVersion            6920 non-null   object        \n",
      "dtypes: datetime64[ns](2), int64(2), object(7)\n",
      "memory usage: 601.7+ KB\n"
     ]
    }
   ],
   "source": [
    "result = pd.DataFrame(result[0])\n",
    "result.info()"
   ]
  },
  {
   "cell_type": "code",
   "execution_count": 5,
   "metadata": {
    "id": "HMVedn6ctDLU"
   },
   "outputs": [],
   "source": [
    "data = result.to_csv('result.csv', index=False)"
   ]
  },
  {
   "cell_type": "markdown",
   "metadata": {
    "id": "oBVAv_XJclag"
   },
   "source": [
    "# Data Cleaning"
   ]
  },
  {
   "cell_type": "code",
   "execution_count": 6,
   "metadata": {
    "id": "oj7ShY-BckwH"
   },
   "outputs": [],
   "source": [
    "data = pd.read_csv('result.csv')\n",
    "data = data.drop(['reviewId','userName', 'userImage', 'reviewCreatedVersion', 'replyContent', 'repliedAt'],axis=1)"
   ]
  },
  {
   "cell_type": "code",
   "execution_count": 7,
   "metadata": {
    "colab": {
     "base_uri": "https://localhost:8080/"
    },
    "id": "G89JwkOfn_Gl",
    "outputId": "7ab65654-00d4-420b-ea2c-410f842ec235"
   },
   "outputs": [
    {
     "name": "stdout",
     "output_type": "stream",
     "text": [
      "<class 'pandas.core.frame.DataFrame'>\n",
      "Index: 6920 entries, 0 to 6999\n",
      "Data columns (total 5 columns):\n",
      " #   Column         Non-Null Count  Dtype \n",
      "---  ------         --------------  ----- \n",
      " 0   content        6920 non-null   object\n",
      " 1   score          6920 non-null   int64 \n",
      " 2   thumbsUpCount  6920 non-null   int64 \n",
      " 3   at             6920 non-null   object\n",
      " 4   appVersion     6920 non-null   object\n",
      "dtypes: int64(2), object(3)\n",
      "memory usage: 324.4+ KB\n"
     ]
    }
   ],
   "source": [
    "data = data.drop_duplicates()\n",
    "data = data.dropna()\n",
    "\n",
    "data.info()"
   ]
  },
  {
   "cell_type": "code",
   "execution_count": 8,
   "metadata": {
    "colab": {
     "base_uri": "https://localhost:8080/"
    },
    "id": "KdQP1y-Grxf7",
    "outputId": "572080fb-82b2-48e8-f823-bde499289ca0"
   },
   "outputs": [
    {
     "name": "stdout",
     "output_type": "stream",
     "text": [
      "<class 'pandas.core.frame.DataFrame'>\n",
      "Index: 6920 entries, 0 to 6999\n",
      "Data columns (total 5 columns):\n",
      " #   Column         Non-Null Count  Dtype \n",
      "---  ------         --------------  ----- \n",
      " 0   content        6920 non-null   object\n",
      " 1   score          6920 non-null   int64 \n",
      " 2   thumbsUpCount  6920 non-null   int64 \n",
      " 3   appVersion     6920 non-null   object\n",
      " 4   month          6920 non-null   object\n",
      "dtypes: int64(2), object(3)\n",
      "memory usage: 324.4+ KB\n"
     ]
    }
   ],
   "source": [
    "data['at'] = pd.to_datetime(data['at'])\n",
    "data = data[data['at'].dt.year == 2025]\n",
    "\n",
    "data['month'] = data['at'].dt.month.astype('str')\n",
    "data = data.drop(columns=['at'], axis=1)\n",
    "data.info()"
   ]
  },
  {
   "cell_type": "code",
   "execution_count": 9,
   "metadata": {
    "colab": {
     "base_uri": "https://localhost:8080/",
     "height": 574
    },
    "id": "UnZrGNTUtjOp",
    "outputId": "7bb36f0d-23bf-4026-991f-1a40222b28e7"
   },
   "outputs": [
    {
     "data": {
      "text/html": [
       "<div>\n",
       "<style scoped>\n",
       "    .dataframe tbody tr th:only-of-type {\n",
       "        vertical-align: middle;\n",
       "    }\n",
       "\n",
       "    .dataframe tbody tr th {\n",
       "        vertical-align: top;\n",
       "    }\n",
       "\n",
       "    .dataframe thead th {\n",
       "        text-align: right;\n",
       "    }\n",
       "</style>\n",
       "<table border=\"1\" class=\"dataframe\">\n",
       "  <thead>\n",
       "    <tr style=\"text-align: right;\">\n",
       "      <th></th>\n",
       "      <th>content</th>\n",
       "      <th>score</th>\n",
       "      <th>thumbsUpCount</th>\n",
       "      <th>appVersion</th>\n",
       "      <th>month</th>\n",
       "    </tr>\n",
       "  </thead>\n",
       "  <tbody>\n",
       "    <tr>\n",
       "      <th>0</th>\n",
       "      <td>aplikasi nya udh bagus seperti yang lainnya ta...</td>\n",
       "      <td>2</td>\n",
       "      <td>1</td>\n",
       "      <td>1.56.1</td>\n",
       "      <td>8</td>\n",
       "    </tr>\n",
       "    <tr>\n",
       "      <th>1</th>\n",
       "      <td>Saya download aplikasi ini dan saat masukan no...</td>\n",
       "      <td>1</td>\n",
       "      <td>8</td>\n",
       "      <td>1.56.1</td>\n",
       "      <td>8</td>\n",
       "    </tr>\n",
       "    <tr>\n",
       "      <th>2</th>\n",
       "      <td>aplikasi gopay ini bagus tapi saat mau membaya...</td>\n",
       "      <td>2</td>\n",
       "      <td>8</td>\n",
       "      <td>1.56.1</td>\n",
       "      <td>8</td>\n",
       "    </tr>\n",
       "    <tr>\n",
       "      <th>3</th>\n",
       "      <td>aplikasinya bagus aja, cuma ad sedikit masalah...</td>\n",
       "      <td>3</td>\n",
       "      <td>18</td>\n",
       "      <td>1.56.1</td>\n",
       "      <td>8</td>\n",
       "    </tr>\n",
       "    <tr>\n",
       "      <th>4</th>\n",
       "      <td>Cukup kecewa update kali ini. Mengapa sistem b...</td>\n",
       "      <td>2</td>\n",
       "      <td>14</td>\n",
       "      <td>1.56.1</td>\n",
       "      <td>8</td>\n",
       "    </tr>\n",
       "  </tbody>\n",
       "</table>\n",
       "</div>"
      ],
      "text/plain": [
       "                                             content  score  thumbsUpCount  \\\n",
       "0  aplikasi nya udh bagus seperti yang lainnya ta...      2              1   \n",
       "1  Saya download aplikasi ini dan saat masukan no...      1              8   \n",
       "2  aplikasi gopay ini bagus tapi saat mau membaya...      2              8   \n",
       "3  aplikasinya bagus aja, cuma ad sedikit masalah...      3             18   \n",
       "4  Cukup kecewa update kali ini. Mengapa sistem b...      2             14   \n",
       "\n",
       "  appVersion month  \n",
       "0     1.56.1     8  \n",
       "1     1.56.1     8  \n",
       "2     1.56.1     8  \n",
       "3     1.56.1     8  \n",
       "4     1.56.1     8  "
      ]
     },
     "execution_count": 9,
     "metadata": {},
     "output_type": "execute_result"
    }
   ],
   "source": [
    "data.head()"
   ]
  },
  {
   "cell_type": "code",
   "execution_count": 10,
   "metadata": {
    "colab": {
     "base_uri": "https://localhost:8080/"
    },
    "id": "u-1EDhupOAop",
    "outputId": "29f7eb4d-cc27-44f3-e433-7422b37bd426"
   },
   "outputs": [
    {
     "name": "stdout",
     "output_type": "stream",
     "text": [
      "['1.56.1' '1.53.0' '1.57.0' '1.52.0' '1.54.0' '1.51.0' '1.49.1' '1.49.0'\n",
      " '1.48.0' '1.45.0' '1.47.0' '1.46.1' '1.44.0' '1.56.0' '1.39.0' '1.26.1'\n",
      " '1.15.1' '1.21.0']\n"
     ]
    }
   ],
   "source": [
    "print(data['appVersion'].unique())"
   ]
  },
  {
   "cell_type": "code",
   "execution_count": 11,
   "metadata": {
    "colab": {
     "base_uri": "https://localhost:8080/",
     "height": 574
    },
    "id": "-AVJzxohONVQ",
    "outputId": "2e87c5b9-d82a-4575-8e88-d270e268602a"
   },
   "outputs": [
    {
     "data": {
      "text/html": [
       "<div>\n",
       "<style scoped>\n",
       "    .dataframe tbody tr th:only-of-type {\n",
       "        vertical-align: middle;\n",
       "    }\n",
       "\n",
       "    .dataframe tbody tr th {\n",
       "        vertical-align: top;\n",
       "    }\n",
       "\n",
       "    .dataframe thead th {\n",
       "        text-align: right;\n",
       "    }\n",
       "</style>\n",
       "<table border=\"1\" class=\"dataframe\">\n",
       "  <thead>\n",
       "    <tr style=\"text-align: right;\">\n",
       "      <th></th>\n",
       "      <th>content</th>\n",
       "      <th>score</th>\n",
       "      <th>thumbsUpCount</th>\n",
       "      <th>month</th>\n",
       "      <th>minorVersion</th>\n",
       "      <th>majorVersion</th>\n",
       "    </tr>\n",
       "  </thead>\n",
       "  <tbody>\n",
       "    <tr>\n",
       "      <th>0</th>\n",
       "      <td>aplikasi nya udh bagus seperti yang lainnya ta...</td>\n",
       "      <td>2</td>\n",
       "      <td>1</td>\n",
       "      <td>8</td>\n",
       "      <td>1.56.1</td>\n",
       "      <td>1.5</td>\n",
       "    </tr>\n",
       "    <tr>\n",
       "      <th>1</th>\n",
       "      <td>Saya download aplikasi ini dan saat masukan no...</td>\n",
       "      <td>1</td>\n",
       "      <td>8</td>\n",
       "      <td>8</td>\n",
       "      <td>1.56.1</td>\n",
       "      <td>1.5</td>\n",
       "    </tr>\n",
       "    <tr>\n",
       "      <th>2</th>\n",
       "      <td>aplikasi gopay ini bagus tapi saat mau membaya...</td>\n",
       "      <td>2</td>\n",
       "      <td>8</td>\n",
       "      <td>8</td>\n",
       "      <td>1.56.1</td>\n",
       "      <td>1.5</td>\n",
       "    </tr>\n",
       "    <tr>\n",
       "      <th>3</th>\n",
       "      <td>aplikasinya bagus aja, cuma ad sedikit masalah...</td>\n",
       "      <td>3</td>\n",
       "      <td>18</td>\n",
       "      <td>8</td>\n",
       "      <td>1.56.1</td>\n",
       "      <td>1.5</td>\n",
       "    </tr>\n",
       "    <tr>\n",
       "      <th>4</th>\n",
       "      <td>Cukup kecewa update kali ini. Mengapa sistem b...</td>\n",
       "      <td>2</td>\n",
       "      <td>14</td>\n",
       "      <td>8</td>\n",
       "      <td>1.56.1</td>\n",
       "      <td>1.5</td>\n",
       "    </tr>\n",
       "  </tbody>\n",
       "</table>\n",
       "</div>"
      ],
      "text/plain": [
       "                                             content  score  thumbsUpCount  \\\n",
       "0  aplikasi nya udh bagus seperti yang lainnya ta...      2              1   \n",
       "1  Saya download aplikasi ini dan saat masukan no...      1              8   \n",
       "2  aplikasi gopay ini bagus tapi saat mau membaya...      2              8   \n",
       "3  aplikasinya bagus aja, cuma ad sedikit masalah...      3             18   \n",
       "4  Cukup kecewa update kali ini. Mengapa sistem b...      2             14   \n",
       "\n",
       "  month minorVersion majorVersion  \n",
       "0     8       1.56.1          1.5  \n",
       "1     8       1.56.1          1.5  \n",
       "2     8       1.56.1          1.5  \n",
       "3     8       1.56.1          1.5  \n",
       "4     8       1.56.1          1.5  "
      ]
     },
     "execution_count": 11,
     "metadata": {},
     "output_type": "execute_result"
    }
   ],
   "source": [
    "data['minorVersion'] = data['appVersion']\n",
    "data = data.drop(columns=['appVersion'], axis=1)\n",
    "data['majorVersion'] = data['minorVersion'].str[:3]\n",
    "data.head()"
   ]
  },
  {
   "cell_type": "code",
   "execution_count": 12,
   "metadata": {
    "colab": {
     "base_uri": "https://localhost:8080/"
    },
    "id": "n_uo7FAHRiSV",
    "outputId": "fe3cdf19-4038-40c6-d0b3-aa2652214deb"
   },
   "outputs": [
    {
     "name": "stdout",
     "output_type": "stream",
     "text": [
      "['1.5' '1.4' '1.3' '1.2' '1.1']\n"
     ]
    }
   ],
   "source": [
    "print(data['majorVersion'].unique())"
   ]
  },
  {
   "cell_type": "markdown",
   "metadata": {
    "id": "FiF_ZVdRcrBH"
   },
   "source": [
    "# Exploratory Data Analysis"
   ]
  },
  {
   "cell_type": "code",
   "execution_count": 13,
   "metadata": {
    "id": "CSxUlHmfcqun"
   },
   "outputs": [],
   "source": [
    "import seaborn as sns\n",
    "import matplotlib.pyplot as plt"
   ]
  },
  {
   "cell_type": "code",
   "execution_count": 14,
   "metadata": {
    "colab": {
     "base_uri": "https://localhost:8080/",
     "height": 320
    },
    "id": "sCfzFIcohRLi",
    "outputId": "ce55d99f-4700-4d38-8bef-bc4f7398d954"
   },
   "outputs": [
    {
     "data": {
      "text/html": [
       "<div>\n",
       "<style scoped>\n",
       "    .dataframe tbody tr th:only-of-type {\n",
       "        vertical-align: middle;\n",
       "    }\n",
       "\n",
       "    .dataframe tbody tr th {\n",
       "        vertical-align: top;\n",
       "    }\n",
       "\n",
       "    .dataframe thead th {\n",
       "        text-align: right;\n",
       "    }\n",
       "</style>\n",
       "<table border=\"1\" class=\"dataframe\">\n",
       "  <thead>\n",
       "    <tr style=\"text-align: right;\">\n",
       "      <th></th>\n",
       "      <th>score</th>\n",
       "      <th>thumbsUpCount</th>\n",
       "    </tr>\n",
       "  </thead>\n",
       "  <tbody>\n",
       "    <tr>\n",
       "      <th>count</th>\n",
       "      <td>6920.000000</td>\n",
       "      <td>6920.000000</td>\n",
       "    </tr>\n",
       "    <tr>\n",
       "      <th>mean</th>\n",
       "      <td>2.619798</td>\n",
       "      <td>6.421243</td>\n",
       "    </tr>\n",
       "    <tr>\n",
       "      <th>std</th>\n",
       "      <td>1.780914</td>\n",
       "      <td>32.603056</td>\n",
       "    </tr>\n",
       "    <tr>\n",
       "      <th>min</th>\n",
       "      <td>1.000000</td>\n",
       "      <td>0.000000</td>\n",
       "    </tr>\n",
       "    <tr>\n",
       "      <th>25%</th>\n",
       "      <td>1.000000</td>\n",
       "      <td>0.000000</td>\n",
       "    </tr>\n",
       "    <tr>\n",
       "      <th>50%</th>\n",
       "      <td>2.000000</td>\n",
       "      <td>0.000000</td>\n",
       "    </tr>\n",
       "    <tr>\n",
       "      <th>75%</th>\n",
       "      <td>5.000000</td>\n",
       "      <td>2.000000</td>\n",
       "    </tr>\n",
       "    <tr>\n",
       "      <th>max</th>\n",
       "      <td>5.000000</td>\n",
       "      <td>1419.000000</td>\n",
       "    </tr>\n",
       "  </tbody>\n",
       "</table>\n",
       "</div>"
      ],
      "text/plain": [
       "             score  thumbsUpCount\n",
       "count  6920.000000    6920.000000\n",
       "mean      2.619798       6.421243\n",
       "std       1.780914      32.603056\n",
       "min       1.000000       0.000000\n",
       "25%       1.000000       0.000000\n",
       "50%       2.000000       0.000000\n",
       "75%       5.000000       2.000000\n",
       "max       5.000000    1419.000000"
      ]
     },
     "execution_count": 14,
     "metadata": {},
     "output_type": "execute_result"
    }
   ],
   "source": [
    "data.describe()"
   ]
  },
  {
   "cell_type": "code",
   "execution_count": 15,
   "metadata": {
    "colab": {
     "base_uri": "https://localhost:8080/",
     "height": 106
    },
    "id": "NOKpg9LFhjED",
    "outputId": "f4fe2c3c-f200-4556-b359-dcf22449a66a"
   },
   "outputs": [
    {
     "data": {
      "text/plain": [
       "<Axes: xlabel='score', ylabel='count'>"
      ]
     },
     "execution_count": 15,
     "metadata": {},
     "output_type": "execute_result"
    },
    {
     "data": {
      "image/png": "[encoded data removed]",
      "text/plain": [
       "<Figure size 640x480 with 1 Axes>"
      ]
     },
     "metadata": {},
     "output_type": "display_data"
    }
   ],
   "source": [
    "sns.countplot(data=data, x='score')"
   ]
  },
  {
   "cell_type": "code",
   "execution_count": 16,
   "metadata": {
    "colab": {
     "base_uri": "https://localhost:8080/",
     "height": 106
    },
    "id": "MdNXDAGFh3wr",
    "outputId": "04b07c51-eea7-4164-9daf-254e1c6baf07"
   },
   "outputs": [
    {
     "data": {
      "text/plain": [
       "<Axes: xlabel='month', ylabel='count'>"
      ]
     },
     "execution_count": 16,
     "metadata": {},
     "output_type": "execute_result"
    },
    {
     "data": {
      "image/png": "[encoded data removed]",
      "text/plain": [
       "<Figure size 640x480 with 1 Axes>"
      ]
     },
     "metadata": {},
     "output_type": "display_data"
    }
   ],
   "source": [
    "sns.countplot(data=data, x='month')"
   ]
  },
  {
   "cell_type": "code",
   "execution_count": 17,
   "metadata": {
    "colab": {
     "base_uri": "https://localhost:8080/",
     "height": 106
    },
    "id": "dKhFklp1h7h_",
    "outputId": "d6c7be90-1261-4bbe-97ec-18ad3af85039"
   },
   "outputs": [
    {
     "data": {
      "text/plain": [
       "<Axes: xlabel='majorVersion', ylabel='count'>"
      ]
     },
     "execution_count": 17,
     "metadata": {},
     "output_type": "execute_result"
    },
    {
     "data": {
      "image/png": "[encoded data removed]",
      "text/plain": [
       "<Figure size 640x480 with 1 Axes>"
      ]
     },
     "metadata": {},
     "output_type": "display_data"
    }
   ],
   "source": [
    "sns.countplot(data=data, x='majorVersion')"
   ]
  },
  {
   "cell_type": "code",
   "execution_count": 18,
   "metadata": {
    "colab": {
     "base_uri": "https://localhost:8080/",
     "height": 106
    },
    "id": "22A0-j0WlzMN",
    "outputId": "727f6f48-8baa-4ece-f87f-dbfdfe1acc8f"
   },
   "outputs": [
    {
     "data": {
      "text/plain": [
       "<Axes: xlabel='score', ylabel='thumbsUpCount'>"
      ]
     },
     "execution_count": 18,
     "metadata": {},
     "output_type": "execute_result"
    },
    {
     "data": {
      "image/png": "[encoded data removed]",
      "text/plain": [
       "<Figure size 640x480 with 1 Axes>"
      ]
     },
     "metadata": {},
     "output_type": "display_data"
    }
   ],
   "source": [
    "sns.barplot(data=data, x='score', y='thumbsUpCount')"
   ]
  },
  {
   "cell_type": "code",
   "execution_count": 19,
   "metadata": {
    "colab": {
     "base_uri": "https://localhost:8080/",
     "height": 106
    },
    "id": "m3pQtULkiBKi",
    "outputId": "1a1e6ab2-82d5-4b6d-eabf-08cd29173457"
   },
   "outputs": [
    {
     "data": {
      "text/plain": [
       "<Axes: xlabel='majorVersion', ylabel='score'>"
      ]
     },
     "execution_count": 19,
     "metadata": {},
     "output_type": "execute_result"
    },
    {
     "data": {
      "image/png": "[encoded data removed]",
      "text/plain": [
       "<Figure size 640x480 with 1 Axes>"
      ]
     },
     "metadata": {},
     "output_type": "display_data"
    }
   ],
   "source": [
    "sns.barplot(data=data, x='majorVersion', y='score')"
   ]
  },
  {
   "cell_type": "code",
   "execution_count": 20,
   "metadata": {
    "colab": {
     "base_uri": "https://localhost:8080/",
     "height": 106
    },
    "id": "fWBxQj5ki2Zt",
    "outputId": "346e7913-3d31-49ca-bf6b-f92f3f8e2067"
   },
   "outputs": [
    {
     "data": {
      "text/plain": [
       "<Axes: xlabel='month', ylabel='Count'>"
      ]
     },
     "execution_count": 20,
     "metadata": {},
     "output_type": "execute_result"
    },
    {
     "data": {
      "image/png": "[encoded data removed]",
      "text/plain": [
       "<Figure size 640x480 with 1 Axes>"
      ]
     },
     "metadata": {},
     "output_type": "display_data"
    }
   ],
   "source": [
    "sns.histplot(data=data, x='month', hue='majorVersion', multiple=\"stack\")"
   ]
  },
  {
   "cell_type": "code",
   "execution_count": 21,
   "metadata": {
    "colab": {
     "base_uri": "https://localhost:8080/",
     "height": 258
    },
    "id": "yaWROCOdpkic",
    "outputId": "43478bf3-76aa-417f-a613-2b17d98ad72b"
   },
   "outputs": [
    {
     "data": {
      "text/html": [
       "<div>\n",
       "<style scoped>\n",
       "    .dataframe tbody tr th:only-of-type {\n",
       "        vertical-align: middle;\n",
       "    }\n",
       "\n",
       "    .dataframe tbody tr th {\n",
       "        vertical-align: top;\n",
       "    }\n",
       "\n",
       "    .dataframe thead th {\n",
       "        text-align: right;\n",
       "    }\n",
       "</style>\n",
       "<table border=\"1\" class=\"dataframe\">\n",
       "  <thead>\n",
       "    <tr style=\"text-align: right;\">\n",
       "      <th>month</th>\n",
       "      <th>3</th>\n",
       "      <th>4</th>\n",
       "      <th>5</th>\n",
       "      <th>6</th>\n",
       "      <th>7</th>\n",
       "      <th>8</th>\n",
       "    </tr>\n",
       "    <tr>\n",
       "      <th>majorVersion</th>\n",
       "      <th></th>\n",
       "      <th></th>\n",
       "      <th></th>\n",
       "      <th></th>\n",
       "      <th></th>\n",
       "      <th></th>\n",
       "    </tr>\n",
       "  </thead>\n",
       "  <tbody>\n",
       "    <tr>\n",
       "      <th>1.1</th>\n",
       "      <td>NaN</td>\n",
       "      <td>NaN</td>\n",
       "      <td>NaN</td>\n",
       "      <td>NaN</td>\n",
       "      <td>NaN</td>\n",
       "      <td>1.000000</td>\n",
       "    </tr>\n",
       "    <tr>\n",
       "      <th>1.2</th>\n",
       "      <td>NaN</td>\n",
       "      <td>NaN</td>\n",
       "      <td>5.00000</td>\n",
       "      <td>NaN</td>\n",
       "      <td>NaN</td>\n",
       "      <td>2.000000</td>\n",
       "    </tr>\n",
       "    <tr>\n",
       "      <th>1.3</th>\n",
       "      <td>NaN</td>\n",
       "      <td>NaN</td>\n",
       "      <td>NaN</td>\n",
       "      <td>NaN</td>\n",
       "      <td>2.000000</td>\n",
       "      <td>NaN</td>\n",
       "    </tr>\n",
       "    <tr>\n",
       "      <th>1.4</th>\n",
       "      <td>2.101266</td>\n",
       "      <td>2.443396</td>\n",
       "      <td>2.36715</td>\n",
       "      <td>2.332958</td>\n",
       "      <td>2.724638</td>\n",
       "      <td>3.022222</td>\n",
       "    </tr>\n",
       "    <tr>\n",
       "      <th>1.5</th>\n",
       "      <td>NaN</td>\n",
       "      <td>NaN</td>\n",
       "      <td>NaN</td>\n",
       "      <td>2.155393</td>\n",
       "      <td>2.728178</td>\n",
       "      <td>2.862907</td>\n",
       "    </tr>\n",
       "  </tbody>\n",
       "</table>\n",
       "</div>"
      ],
      "text/plain": [
       "month                3         4        5         6         7         8\n",
       "majorVersion                                                           \n",
       "1.1                NaN       NaN      NaN       NaN       NaN  1.000000\n",
       "1.2                NaN       NaN  5.00000       NaN       NaN  2.000000\n",
       "1.3                NaN       NaN      NaN       NaN  2.000000       NaN\n",
       "1.4           2.101266  2.443396  2.36715  2.332958  2.724638  3.022222\n",
       "1.5                NaN       NaN      NaN  2.155393  2.728178  2.862907"
      ]
     },
     "execution_count": 21,
     "metadata": {},
     "output_type": "execute_result"
    }
   ],
   "source": [
    "data.pivot_table(index='majorVersion',\n",
    "                columns='month',\n",
    "                values='score',\n",
    "                aggfunc='mean')"
   ]
  },
  {
   "cell_type": "markdown",
   "metadata": {
    "id": "tddzMp7Hc9Xg"
   },
   "source": [
    "# Sentiment Analysis"
   ]
  },
  {
   "cell_type": "code",
   "execution_count": 22,
   "metadata": {
    "colab": {
     "base_uri": "https://localhost:8080/"
    },
    "id": "nft-a182nCvQ",
    "outputId": "e6a8f1a0-1149-43af-fe7b-ff3c5794dc99"
   },
   "outputs": [
    {
     "name": "stdout",
     "output_type": "stream",
     "text": [
      "Requirement already satisfied: tqdm in /opt/conda/lib/python3.12/site-packages (4.67.1)\n"
     ]
    }
   ],
   "source": [
    "!pip install tqdm"
   ]
  },
  {
   "cell_type": "code",
   "execution_count": 24,
   "metadata": {},
   "outputs": [
    {
     "name": "stdout",
     "output_type": "stream",
     "text": [
      "Collecting nltk\n",
      "  Downloading nltk-3.9.1-py3-none-any.whl.metadata (2.9 kB)\n",
      "Requirement already satisfied: click in /opt/conda/lib/python3.12/site-packages (from nltk) (8.2.1)\n",
      "Requirement already satisfied: joblib in /opt/conda/lib/python3.12/site-packages (from nltk) (1.5.1)\n",
      "Collecting regex>=2021.8.3 (from nltk)\n",
      "  Downloading regex-2025.7.34-cp312-cp312-manylinux2014_x86_64.manylinux_2_17_x86_64.manylinux_2_28_x86_64.whl.metadata (40 kB)\n",
      "Requirement already satisfied: tqdm in /opt/conda/lib/python3.12/site-packages (from nltk) (4.67.1)\n",
      "Downloading nltk-3.9.1-py3-none-any.whl (1.5 MB)\n",
      "\u001b[2K   \u001b[90m━━━━━━━━━━━━━━━━━━━━━━━━━━━━━━━━━━━━━━━━\u001b[0m \u001b[32m1.5/1.5 MB\u001b[0m \u001b[31m81.1 MB/s\u001b[0m eta \u001b[36m0:00:00\u001b[0m\n",
      "\u001b[?25hDownloading regex-2025.7.34-cp312-cp312-manylinux2014_x86_64.manylinux_2_17_x86_64.manylinux_2_28_x86_64.whl (801 kB)\n",
      "\u001b[2K   \u001b[90m━━━━━━━━━━━━━━━━━━━━━━━━━━━━━━━━━━━━━━━━\u001b[0m \u001b[32m801.9/801.9 kB\u001b[0m \u001b[31m60.6 MB/s\u001b[0m eta \u001b[36m0:00:00\u001b[0m\n",
      "\u001b[?25hInstalling collected packages: regex, nltk\n",
      "\u001b[2K   \u001b[90m━━━━━━━━━━━━━━━━━━━━━━━━━━━━━━━━━━━━━━━━\u001b[0m \u001b[32m2/2\u001b[0m [nltk][32m1/2\u001b[0m [nltk]\n",
      "\u001b[1A\u001b[2KSuccessfully installed nltk-3.9.1 regex-2025.7.34\n"
     ]
    }
   ],
   "source": [
    "!pip install nltk"
   ]
  },
  {
   "cell_type": "code",
   "execution_count": 26,
   "metadata": {},
   "outputs": [
    {
     "name": "stdout",
     "output_type": "stream",
     "text": [
      "Collecting transformers\n",
      "  Downloading transformers-4.55.4-py3-none-any.whl.metadata (41 kB)\n",
      "Requirement already satisfied: filelock in /opt/conda/lib/python3.12/site-packages (from transformers) (3.13.1)\n",
      "Collecting huggingface-hub<1.0,>=0.34.0 (from transformers)\n",
      "  Downloading huggingface_hub-0.34.4-py3-none-any.whl.metadata (14 kB)\n",
      "Requirement already satisfied: numpy>=1.17 in /opt/conda/lib/python3.12/site-packages (from transformers) (2.2.6)\n",
      "Requirement already satisfied: packaging>=20.0 in /opt/conda/lib/python3.12/site-packages (from transformers) (25.0)\n",
      "Requirement already satisfied: pyyaml>=5.1 in /opt/conda/lib/python3.12/site-packages (from transformers) (6.0.2)\n",
      "Requirement already satisfied: regex!=2019.12.17 in /opt/conda/lib/python3.12/site-packages (from transformers) (2025.7.34)\n",
      "Requirement already satisfied: requests in /opt/conda/lib/python3.12/site-packages (from transformers) (2.32.4)\n",
      "Collecting tokenizers<0.22,>=0.21 (from transformers)\n",
      "  Downloading tokenizers-0.21.4-cp39-abi3-manylinux_2_17_x86_64.manylinux2014_x86_64.whl.metadata (6.7 kB)\n",
      "Collecting safetensors>=0.4.3 (from transformers)\n",
      "  Downloading safetensors-0.6.2-cp38-abi3-manylinux_2_17_x86_64.manylinux2014_x86_64.whl.metadata (4.1 kB)\n",
      "Requirement already satisfied: tqdm>=4.27 in /opt/conda/lib/python3.12/site-packages (from transformers) (4.67.1)\n",
      "Requirement already satisfied: fsspec>=2023.5.0 in /opt/conda/lib/python3.12/site-packages (from huggingface-hub<1.0,>=0.34.0->transformers) (2025.5.1)\n",
      "Requirement already satisfied: typing-extensions>=3.7.4.3 in /opt/conda/lib/python3.12/site-packages (from huggingface-hub<1.0,>=0.34.0->transformers) (4.14.0)\n",
      "Collecting hf-xet<2.0.0,>=1.1.3 (from huggingface-hub<1.0,>=0.34.0->transformers)\n",
      "  Downloading hf_xet-1.1.9-cp37-abi3-manylinux_2_17_x86_64.manylinux2014_x86_64.whl.metadata (4.7 kB)\n",
      "Requirement already satisfied: charset_normalizer<4,>=2 in /opt/conda/lib/python3.12/site-packages (from requests->transformers) (3.4.2)\n",
      "Requirement already satisfied: idna<4,>=2.5 in /opt/conda/lib/python3.12/site-packages (from requests->transformers) (3.10)\n",
      "Requirement already satisfied: urllib3<3,>=1.21.1 in /opt/conda/lib/python3.12/site-packages (from requests->transformers) (2.5.0)\n",
      "Requirement already satisfied: certifi>=2017.4.17 in /opt/conda/lib/python3.12/site-packages (from requests->transformers) (2025.6.15)\n",
      "Downloading transformers-4.55.4-py3-none-any.whl (11.3 MB)\n",
      "\u001b[2K   \u001b[90m━━━━━━━━━━━━━━━━━━━━━━━━━━━━━━━━━━━━━━━━\u001b[0m \u001b[32m11.3/11.3 MB\u001b[0m \u001b[31m48.3 MB/s\u001b[0m eta \u001b[36m0:00:00\u001b[0ma \u001b[36m0:00:01\u001b[0m\n",
      "\u001b[?25hDownloading huggingface_hub-0.34.4-py3-none-any.whl (561 kB)\n",
      "\u001b[2K   \u001b[90m━━━━━━━━━━━━━━━━━━━━━━━━━━━━━━━━━━━━━━━━\u001b[0m \u001b[32m561.5/561.5 kB\u001b[0m \u001b[31m30.2 MB/s\u001b[0m eta \u001b[36m0:00:00\u001b[0m\n",
      "\u001b[?25hDownloading hf_xet-1.1.9-cp37-abi3-manylinux_2_17_x86_64.manylinux2014_x86_64.whl (3.2 MB)\n",
      "\u001b[2K   \u001b[90m━━━━━━━━━━━━━━━━━━━━━━━━━━━━━━━━━━━━━━━━\u001b[0m \u001b[32m3.2/3.2 MB\u001b[0m \u001b[31m87.4 MB/s\u001b[0m eta \u001b[36m0:00:00\u001b[0m\n",
      "\u001b[?25hDownloading tokenizers-0.21.4-cp39-abi3-manylinux_2_17_x86_64.manylinux2014_x86_64.whl (3.1 MB)\n",
      "\u001b[2K   \u001b[90m━━━━━━━━━━━━━━━━━━━━━━━━━━━━━━━━━━━━━━━━\u001b[0m \u001b[32m3.1/3.1 MB\u001b[0m \u001b[31m84.4 MB/s\u001b[0m eta \u001b[36m0:00:00\u001b[0m\n",
      "\u001b[?25hDownloading safetensors-0.6.2-cp38-abi3-manylinux_2_17_x86_64.manylinux2014_x86_64.whl (485 kB)\n",
      "Installing collected packages: safetensors, hf-xet, huggingface-hub, tokenizers, transformers\n",
      "\u001b[2K   \u001b[90m━━━━━━━━━━━━━━━━━━━━━━━━━━━━━━━━━━━━━━━━\u001b[0m \u001b[32m5/5\u001b[0m [transformers][0m [transformers]ub]\n",
      "\u001b[1A\u001b[2KSuccessfully installed hf-xet-1.1.9 huggingface-hub-0.34.4 safetensors-0.6.2 tokenizers-0.21.4 transformers-4.55.4\n"
     ]
    }
   ],
   "source": [
    "!pip install transformers"
   ]
  },
  {
   "cell_type": "code",
   "execution_count": 27,
   "metadata": {
    "colab": {
     "base_uri": "https://localhost:8080/"
    },
    "id": "_NrdGqDPc9DS",
    "outputId": "9c902d8a-f2de-465f-d255-27634fd384c3"
   },
   "outputs": [
    {
     "name": "stderr",
     "output_type": "stream",
     "text": [
      "[nltk_data] Downloading package punkt_tab to /home/jovyan/nltk_data...\n",
      "[nltk_data]   Package punkt_tab is already up-to-date!\n",
      "[nltk_data] Downloading package stopwords to /home/jovyan/nltk_data...\n",
      "[nltk_data]   Package stopwords is already up-to-date!\n",
      "[nltk_data] Downloading package wordnet to /home/jovyan/nltk_data...\n",
      "[nltk_data]   Package wordnet is already up-to-date!\n"
     ]
    }
   ],
   "source": [
    "import re\n",
    "import string\n",
    "from tqdm import tqdm\n",
    "import nltk\n",
    "nltk.download('punkt_tab')\n",
    "nltk.download('stopwords')\n",
    "nltk.download('wordnet')\n",
    "from nltk.corpus import stopwords\n",
    "from nltk.tokenize import word_tokenize\n",
    "from nltk.stem import WordNetLemmatizer\n",
    "from transformers import pipeline\n",
    "tqdm.pandas()\n",
    "import asyncio\n",
    "import time\n",
    "import transformers"
   ]
  },
  {
   "cell_type": "code",
   "execution_count": 28,
   "metadata": {},
   "outputs": [
    {
     "data": {
      "application/vnd.jupyter.widget-view+json": {
       "model_id": "9f760b18b82845a48ee1f6d135efe2d3",
       "version_major": 2,
       "version_minor": 0
      },
      "text/plain": [
       "config.json:   0%|          | 0.00/846 [00:00<?, ?B/s]"
      ]
     },
     "metadata": {},
     "output_type": "display_data"
    },
    {
     "data": {
      "application/vnd.jupyter.widget-view+json": {
       "model_id": "00d560e41eb2476a87142bec11b37177",
       "version_major": 2,
       "version_minor": 0
      },
      "text/plain": [
       "pytorch_model.bin:   0%|          | 0.00/2.46G [00:00<?, ?B/s]"
      ]
     },
     "metadata": {},
     "output_type": "display_data"
    },
    {
     "data": {
      "application/vnd.jupyter.widget-view+json": {
       "model_id": "c83d6c25da7b448bb1cdf6bfd0829431",
       "version_major": 2,
       "version_minor": 0
      },
      "text/plain": [
       "model.safetensors:   0%|          | 0.00/2.46G [00:00<?, ?B/s]"
      ]
     },
     "metadata": {},
     "output_type": "display_data"
    },
    {
     "data": {
      "application/vnd.jupyter.widget-view+json": {
       "model_id": "985585fe7ef144129da4903ea597c6fe",
       "version_major": 2,
       "version_minor": 0
      },
      "text/plain": [
       "generation_config.json:   0%|          | 0.00/189 [00:00<?, ?B/s]"
      ]
     },
     "metadata": {},
     "output_type": "display_data"
    },
    {
     "data": {
      "application/vnd.jupyter.widget-view+json": {
       "model_id": "18a41229795e4257b331c962274fae77",
       "version_major": 2,
       "version_minor": 0
      },
      "text/plain": [
       "tokenizer_config.json:   0%|          | 0.00/564 [00:00<?, ?B/s]"
      ]
     },
     "metadata": {},
     "output_type": "display_data"
    },
    {
     "data": {
      "application/vnd.jupyter.widget-view+json": {
       "model_id": "27138d1c222a4ca7828911965d932172",
       "version_major": 2,
       "version_minor": 0
      },
      "text/plain": [
       "sentencepiece.bpe.model:   0%|          | 0.00/4.85M [00:00<?, ?B/s]"
      ]
     },
     "metadata": {},
     "output_type": "display_data"
    },
    {
     "data": {
      "application/vnd.jupyter.widget-view+json": {
       "model_id": "cf027af0158c4a33a280bfa01b25e579",
       "version_major": 2,
       "version_minor": 0
      },
      "text/plain": [
       "tokenizer.json:   0%|          | 0.00/17.3M [00:00<?, ?B/s]"
      ]
     },
     "metadata": {},
     "output_type": "display_data"
    },
    {
     "data": {
      "application/vnd.jupyter.widget-view+json": {
       "model_id": "cc2dd874715f456cb2c829ec4fce7684",
       "version_major": 2,
       "version_minor": 0
      },
      "text/plain": [
       "special_tokens_map.json: 0.00B [00:00, ?B/s]"
      ]
     },
     "metadata": {},
     "output_type": "display_data"
    },
    {
     "name": "stderr",
     "output_type": "stream",
     "text": [
      "Device set to use cuda:0\n"
     ]
    }
   ],
   "source": [
    "translator = pipeline(\n",
    "    \"translation\",\n",
    "    model=\"facebook/nllb-200-distilled-600M\",\n",
    "    src_lang=\"ind_Latn\",\n",
    "    tgt_lang=\"eng_Latn\"\n",
    ")"
   ]
  },
  {
   "cell_type": "code",
   "execution_count": 29,
   "metadata": {
    "colab": {
     "base_uri": "https://localhost:8080/"
    },
    "id": "vtkyloW-mf9v",
    "outputId": "d2275ffe-7ebf-4e8e-80b8-7794517644d5"
   },
   "outputs": [
    {
     "data": {
      "application/vnd.jupyter.widget-view+json": {
       "model_id": "ac5eeed5b5814c9b82bbbf76e407c7e7",
       "version_major": 2,
       "version_minor": 0
      },
      "text/plain": [
       "config.json:   0%|          | 0.00/629 [00:00<?, ?B/s]"
      ]
     },
     "metadata": {},
     "output_type": "display_data"
    },
    {
     "data": {
      "application/vnd.jupyter.widget-view+json": {
       "model_id": "86865c2cef664ac9913e83cdb7f53ed1",
       "version_major": 2,
       "version_minor": 0
      },
      "text/plain": [
       "model.safetensors:   0%|          | 0.00/268M [00:00<?, ?B/s]"
      ]
     },
     "metadata": {},
     "output_type": "display_data"
    },
    {
     "data": {
      "application/vnd.jupyter.widget-view+json": {
       "model_id": "18162c57a4c949e59e5732aca69f42e1",
       "version_major": 2,
       "version_minor": 0
      },
      "text/plain": [
       "tokenizer_config.json:   0%|          | 0.00/48.0 [00:00<?, ?B/s]"
      ]
     },
     "metadata": {},
     "output_type": "display_data"
    },
    {
     "data": {
      "application/vnd.jupyter.widget-view+json": {
       "model_id": "f1a248435b3c4513aec229b6b351c459",
       "version_major": 2,
       "version_minor": 0
      },
      "text/plain": [
       "vocab.txt:   0%|          | 0.00/232k [00:00<?, ?B/s]"
      ]
     },
     "metadata": {},
     "output_type": "display_data"
    },
    {
     "name": "stderr",
     "output_type": "stream",
     "text": [
      "Device set to use cuda:0\n"
     ]
    }
   ],
   "source": [
    "def translate(text):\n",
    "  return translator(text)[0][\"translation_text\"]\n",
    "\n",
    "def cleaningText(text):\n",
    "    text = re.sub(r'@[A-Za-z0-9]+', '', text)\n",
    "    text = re.sub(r'#[A-Za-z0-9]+', '', text)\n",
    "    text = re.sub(r'RT[\\s]', '', text)\n",
    "    text = re.sub(r\"http\\S+\", '', text)\n",
    "    text = re.sub(r'[0-9]+', '', text)\n",
    "    text = re.sub(r'[^\\w\\s]', '', text)\n",
    "\n",
    "    text = text.replace('\\n', ' ')\n",
    "    text = text.translate(str.maketrans('', '', string.punctuation))\n",
    "    text = text.strip(' ')\n",
    "    return text\n",
    "\n",
    "def casefoldingText(text):\n",
    "    text = text.lower()\n",
    "    return text\n",
    "\n",
    "def tokenizing(text):\n",
    "  tokens = word_tokenize(text)\n",
    "  return tokens\n",
    "\n",
    "def stopwordstext(text):\n",
    "  stop_words = set(stopwords.words('english'))\n",
    "  filtered_tokens = [word for word in text if word not in stop_words]\n",
    "  return filtered_tokens\n",
    "\n",
    "def lemitizing(text):\n",
    "  lemmatizer = WordNetLemmatizer()\n",
    "  processed_text = [lemmatizer.lemmatize(word) for word in text]\n",
    "  processed_text = \" \".join(processed_text)\n",
    "  return processed_text\n",
    "\n",
    "pipe = pipeline(\"text-classification\", model=\"distilbert-base-uncased-finetuned-sst-2-english\")\n",
    "def sentimenttext(text):\n",
    "  result = pipe(text)\n",
    "  return result[0]['label']"
   ]
  },
  {
   "cell_type": "code",
   "execution_count": 30,
   "metadata": {
    "colab": {
     "base_uri": "https://localhost:8080/"
    },
    "id": "rRRfFYqbm0R6",
    "outputId": "38860b27-2455-4679-f5b6-c0db7ff538b3"
   },
   "outputs": [
    {
     "name": "stderr",
     "output_type": "stream",
     "text": [
      "  0% 11/6920 [00:03<30:59,  3.72it/s]You seem to be using the pipelines sequentially on GPU. In order to maximize efficiency please use a dataset\n",
      " 45% 3121/6920 [10:09<08:36,  7.36it/s]Your input_length: 183 is bigger than 0.9 * max_length: 200. You might consider increasing your max_length manually, e.g. translator('...', max_length=400)\n",
      " 53% 3639/6920 [12:03<08:53,  6.15it/s]Your input_length: 228 is bigger than 0.9 * max_length: 200. You might consider increasing your max_length manually, e.g. translator('...', max_length=400)\n",
      "100% 6920/6920 [19:54<00:00,  5.79it/s]\n",
      "100% 6920/6920 [00:00<00:00, 166420.59it/s]\n",
      "100% 6920/6920 [00:00<00:00, 3488951.04it/s]\n",
      "100% 6920/6920 [00:00<00:00, 34061.62it/s]\n",
      "100% 6920/6920 [00:00<00:00, 45167.42it/s]\n",
      "100% 6920/6920 [00:01<00:00, 6389.93it/s]\n",
      "100% 6920/6920 [00:07<00:00, 913.35it/s]\n"
     ]
    }
   ],
   "source": [
    "docs = pd.DataFrame(data['content'].reset_index(drop=True), columns=['content'])\n",
    "\n",
    "docs['text_translate'] = docs['content'].progress_apply(translate)\n",
    "docs['text_clean'] = docs['text_translate'].progress_apply(cleaningText)\n",
    "docs['text_lower'] = docs['text_clean'].progress_apply(casefoldingText)\n",
    "docs['text_tokenizing'] = docs['text_lower'].progress_apply(tokenizing)\n",
    "docs['text_stopwords'] = docs['text_tokenizing'].progress_apply(stopwordstext)\n",
    "docs['text_lemitizing'] = docs['text_stopwords'].progress_apply(lemitizing)\n",
    "docs['text_label'] = docs['text_lemitizing'].progress_apply(sentimenttext)"
   ]
  },
  {
   "cell_type": "code",
   "execution_count": 31,
   "metadata": {
    "colab": {
     "base_uri": "https://localhost:8080/",
     "height": 1000
    },
    "id": "SOgMYCj5mtjB",
    "outputId": "8f025b3c-bfb7-48ac-d05b-835571b41ad9"
   },
   "outputs": [
    {
     "data": {
      "text/html": [
       "<div>\n",
       "<style scoped>\n",
       "    .dataframe tbody tr th:only-of-type {\n",
       "        vertical-align: middle;\n",
       "    }\n",
       "\n",
       "    .dataframe tbody tr th {\n",
       "        vertical-align: top;\n",
       "    }\n",
       "\n",
       "    .dataframe thead th {\n",
       "        text-align: right;\n",
       "    }\n",
       "</style>\n",
       "<table border=\"1\" class=\"dataframe\">\n",
       "  <thead>\n",
       "    <tr style=\"text-align: right;\">\n",
       "      <th></th>\n",
       "      <th>content</th>\n",
       "      <th>text_translate</th>\n",
       "      <th>text_clean</th>\n",
       "      <th>text_lower</th>\n",
       "      <th>text_tokenizing</th>\n",
       "      <th>text_stopwords</th>\n",
       "      <th>text_lemitizing</th>\n",
       "      <th>text_label</th>\n",
       "    </tr>\n",
       "  </thead>\n",
       "  <tbody>\n",
       "    <tr>\n",
       "      <th>0</th>\n",
       "      <td>aplikasi nya udh bagus seperti yang lainnya ta...</td>\n",
       "      <td>The app is just as good as the others, but the...</td>\n",
       "      <td>The app is just as good as the others but ther...</td>\n",
       "      <td>the app is just as good as the others but ther...</td>\n",
       "      <td>[the, app, is, just, as, good, as, the, others...</td>\n",
       "      <td>[app, good, others, theres, lot, weirdness, li...</td>\n",
       "      <td>app good others there lot weirdness like spin ...</td>\n",
       "      <td>NEGATIVE</td>\n",
       "    </tr>\n",
       "    <tr>\n",
       "      <th>1</th>\n",
       "      <td>Saya download aplikasi ini dan saat masukan no...</td>\n",
       "      <td>I downloaded this app and when I entered the n...</td>\n",
       "      <td>I downloaded this app and when I entered the n...</td>\n",
       "      <td>i downloaded this app and when i entered the n...</td>\n",
       "      <td>[i, downloaded, this, app, and, when, i, enter...</td>\n",
       "      <td>[downloaded, app, entered, number, otp, code, ...</td>\n",
       "      <td>downloaded app entered number otp code worked ...</td>\n",
       "      <td>NEGATIVE</td>\n",
       "    </tr>\n",
       "    <tr>\n",
       "      <th>2</th>\n",
       "      <td>aplikasi gopay ini bagus tapi saat mau membaya...</td>\n",
       "      <td>This gopay app is great, but when I want to pa...</td>\n",
       "      <td>This gopay app is great but when I want to pay...</td>\n",
       "      <td>this gopay app is great but when i want to pay...</td>\n",
       "      <td>[this, gopay, app, is, great, but, when, i, wa...</td>\n",
       "      <td>[gopay, app, great, want, pay, transaction, th...</td>\n",
       "      <td>gopay app great want pay transaction there pro...</td>\n",
       "      <td>NEGATIVE</td>\n",
       "    </tr>\n",
       "    <tr>\n",
       "      <th>3</th>\n",
       "      <td>aplikasinya bagus aja, cuma ad sedikit masalah...</td>\n",
       "      <td>It's a good app, but it's just a little bit of...</td>\n",
       "      <td>Its a good app but its just a little bit of a ...</td>\n",
       "      <td>its a good app but its just a little bit of a ...</td>\n",
       "      <td>[its, a, good, app, but, its, just, a, little,...</td>\n",
       "      <td>[good, app, little, bit, problem, trying, pay,...</td>\n",
       "      <td>good app little bit problem trying pay topup g...</td>\n",
       "      <td>POSITIVE</td>\n",
       "    </tr>\n",
       "    <tr>\n",
       "      <th>4</th>\n",
       "      <td>Cukup kecewa update kali ini. Mengapa sistem b...</td>\n",
       "      <td>I'm pretty disappointed with the update this t...</td>\n",
       "      <td>Im pretty disappointed with the update this ti...</td>\n",
       "      <td>im pretty disappointed with the update this ti...</td>\n",
       "      <td>[im, pretty, disappointed, with, the, update, ...</td>\n",
       "      <td>[im, pretty, disappointed, update, time, curre...</td>\n",
       "      <td>im pretty disappointed update time current gop...</td>\n",
       "      <td>NEGATIVE</td>\n",
       "    </tr>\n",
       "    <tr>\n",
       "      <th>...</th>\n",
       "      <td>...</td>\n",
       "      <td>...</td>\n",
       "      <td>...</td>\n",
       "      <td>...</td>\n",
       "      <td>...</td>\n",
       "      <td>...</td>\n",
       "      <td>...</td>\n",
       "      <td>...</td>\n",
       "    </tr>\n",
       "    <tr>\n",
       "      <th>6915</th>\n",
       "      <td>tolong di perbaiki lagi aplikasinya, karena ti...</td>\n",
       "      <td>Please fix the app again, because there's no p...</td>\n",
       "      <td>Please fix the app again because theres no plu...</td>\n",
       "      <td>please fix the app again because theres no plu...</td>\n",
       "      <td>[please, fix, the, app, again, because, theres...</td>\n",
       "      <td>[please, fix, app, theres, plug, print, blueto...</td>\n",
       "      <td>please fix app there plug print bluetooth printer</td>\n",
       "      <td>NEGATIVE</td>\n",
       "    </tr>\n",
       "    <tr>\n",
       "      <th>6916</th>\n",
       "      <td>saya suka apl ini nyaman bertransaksi tidak le...</td>\n",
       "      <td>I like this app. It's convenient to transact n...</td>\n",
       "      <td>I like this app Its convenient to transact no ...</td>\n",
       "      <td>i like this app its convenient to transact no ...</td>\n",
       "      <td>[i, like, this, app, its, convenient, to, tran...</td>\n",
       "      <td>[like, app, convenient, transact, thank]</td>\n",
       "      <td>like app convenient transact thank</td>\n",
       "      <td>POSITIVE</td>\n",
       "    </tr>\n",
       "    <tr>\n",
       "      <th>6917</th>\n",
       "      <td>chatbot gk guna mau upgrade akun gk bs, gk ada...</td>\n",
       "      <td>Chatbots aren't upgrading accounts. There's no...</td>\n",
       "      <td>Chatbots arent upgrading accounts Theres no po...</td>\n",
       "      <td>chatbots arent upgrading accounts theres no po...</td>\n",
       "      <td>[chatbots, arent, upgrading, accounts, theres,...</td>\n",
       "      <td>[chatbots, arent, upgrading, accounts, theres,...</td>\n",
       "      <td>chatbots arent upgrading account there point u...</td>\n",
       "      <td>NEGATIVE</td>\n",
       "    </tr>\n",
       "    <tr>\n",
       "      <th>6918</th>\n",
       "      <td>ini gopay kenapa? apakah ganguan atau sudah ga...</td>\n",
       "      <td>is this gopay why? is it ganguan or is it no l...</td>\n",
       "      <td>is this gopay why is it ganguan or is it no lo...</td>\n",
       "      <td>is this gopay why is it ganguan or is it no lo...</td>\n",
       "      <td>[is, this, gopay, why, is, it, ganguan, or, is...</td>\n",
       "      <td>[gopay, ganguan, longer, working, tokopedia, p...</td>\n",
       "      <td>gopay ganguan longer working tokopedia paylate...</td>\n",
       "      <td>NEGATIVE</td>\n",
       "    </tr>\n",
       "    <tr>\n",
       "      <th>6919</th>\n",
       "      <td>cepat &amp; bagus... bonus nya banyak in.....</td>\n",
       "      <td>Fast &amp; good... the bonus is a lot in...</td>\n",
       "      <td>Fast  good the bonus is a lot in</td>\n",
       "      <td>fast  good the bonus is a lot in</td>\n",
       "      <td>[fast, good, the, bonus, is, a, lot, in]</td>\n",
       "      <td>[fast, good, bonus, lot]</td>\n",
       "      <td>fast good bonus lot</td>\n",
       "      <td>POSITIVE</td>\n",
       "    </tr>\n",
       "  </tbody>\n",
       "</table>\n",
       "<p>6920 rows × 8 columns</p>\n",
       "</div>"
      ],
      "text/plain": [
       "                                                content  \\\n",
       "0     aplikasi nya udh bagus seperti yang lainnya ta...   \n",
       "1     Saya download aplikasi ini dan saat masukan no...   \n",
       "2     aplikasi gopay ini bagus tapi saat mau membaya...   \n",
       "3     aplikasinya bagus aja, cuma ad sedikit masalah...   \n",
       "4     Cukup kecewa update kali ini. Mengapa sistem b...   \n",
       "...                                                 ...   \n",
       "6915  tolong di perbaiki lagi aplikasinya, karena ti...   \n",
       "6916  saya suka apl ini nyaman bertransaksi tidak le...   \n",
       "6917  chatbot gk guna mau upgrade akun gk bs, gk ada...   \n",
       "6918  ini gopay kenapa? apakah ganguan atau sudah ga...   \n",
       "6919          cepat & bagus... bonus nya banyak in.....   \n",
       "\n",
       "                                         text_translate  \\\n",
       "0     The app is just as good as the others, but the...   \n",
       "1     I downloaded this app and when I entered the n...   \n",
       "2     This gopay app is great, but when I want to pa...   \n",
       "3     It's a good app, but it's just a little bit of...   \n",
       "4     I'm pretty disappointed with the update this t...   \n",
       "...                                                 ...   \n",
       "6915  Please fix the app again, because there's no p...   \n",
       "6916  I like this app. It's convenient to transact n...   \n",
       "6917  Chatbots aren't upgrading accounts. There's no...   \n",
       "6918  is this gopay why? is it ganguan or is it no l...   \n",
       "6919            Fast & good... the bonus is a lot in...   \n",
       "\n",
       "                                             text_clean  \\\n",
       "0     The app is just as good as the others but ther...   \n",
       "1     I downloaded this app and when I entered the n...   \n",
       "2     This gopay app is great but when I want to pay...   \n",
       "3     Its a good app but its just a little bit of a ...   \n",
       "4     Im pretty disappointed with the update this ti...   \n",
       "...                                                 ...   \n",
       "6915  Please fix the app again because theres no plu...   \n",
       "6916  I like this app Its convenient to transact no ...   \n",
       "6917  Chatbots arent upgrading accounts Theres no po...   \n",
       "6918  is this gopay why is it ganguan or is it no lo...   \n",
       "6919                   Fast  good the bonus is a lot in   \n",
       "\n",
       "                                             text_lower  \\\n",
       "0     the app is just as good as the others but ther...   \n",
       "1     i downloaded this app and when i entered the n...   \n",
       "2     this gopay app is great but when i want to pay...   \n",
       "3     its a good app but its just a little bit of a ...   \n",
       "4     im pretty disappointed with the update this ti...   \n",
       "...                                                 ...   \n",
       "6915  please fix the app again because theres no plu...   \n",
       "6916  i like this app its convenient to transact no ...   \n",
       "6917  chatbots arent upgrading accounts theres no po...   \n",
       "6918  is this gopay why is it ganguan or is it no lo...   \n",
       "6919                   fast  good the bonus is a lot in   \n",
       "\n",
       "                                        text_tokenizing  \\\n",
       "0     [the, app, is, just, as, good, as, the, others...   \n",
       "1     [i, downloaded, this, app, and, when, i, enter...   \n",
       "2     [this, gopay, app, is, great, but, when, i, wa...   \n",
       "3     [its, a, good, app, but, its, just, a, little,...   \n",
       "4     [im, pretty, disappointed, with, the, update, ...   \n",
       "...                                                 ...   \n",
       "6915  [please, fix, the, app, again, because, theres...   \n",
       "6916  [i, like, this, app, its, convenient, to, tran...   \n",
       "6917  [chatbots, arent, upgrading, accounts, theres,...   \n",
       "6918  [is, this, gopay, why, is, it, ganguan, or, is...   \n",
       "6919           [fast, good, the, bonus, is, a, lot, in]   \n",
       "\n",
       "                                         text_stopwords  \\\n",
       "0     [app, good, others, theres, lot, weirdness, li...   \n",
       "1     [downloaded, app, entered, number, otp, code, ...   \n",
       "2     [gopay, app, great, want, pay, transaction, th...   \n",
       "3     [good, app, little, bit, problem, trying, pay,...   \n",
       "4     [im, pretty, disappointed, update, time, curre...   \n",
       "...                                                 ...   \n",
       "6915  [please, fix, app, theres, plug, print, blueto...   \n",
       "6916           [like, app, convenient, transact, thank]   \n",
       "6917  [chatbots, arent, upgrading, accounts, theres,...   \n",
       "6918  [gopay, ganguan, longer, working, tokopedia, p...   \n",
       "6919                           [fast, good, bonus, lot]   \n",
       "\n",
       "                                        text_lemitizing text_label  \n",
       "0     app good others there lot weirdness like spin ...   NEGATIVE  \n",
       "1     downloaded app entered number otp code worked ...   NEGATIVE  \n",
       "2     gopay app great want pay transaction there pro...   NEGATIVE  \n",
       "3     good app little bit problem trying pay topup g...   POSITIVE  \n",
       "4     im pretty disappointed update time current gop...   NEGATIVE  \n",
       "...                                                 ...        ...  \n",
       "6915  please fix app there plug print bluetooth printer   NEGATIVE  \n",
       "6916                 like app convenient transact thank   POSITIVE  \n",
       "6917  chatbots arent upgrading account there point u...   NEGATIVE  \n",
       "6918  gopay ganguan longer working tokopedia paylate...   NEGATIVE  \n",
       "6919                                fast good bonus lot   POSITIVE  \n",
       "\n",
       "[6920 rows x 8 columns]"
      ]
     },
     "execution_count": 31,
     "metadata": {},
     "output_type": "execute_result"
    }
   ],
   "source": [
    "docs"
   ]
  },
  {
   "cell_type": "code",
   "execution_count": 32,
   "metadata": {
    "colab": {
     "base_uri": "https://localhost:8080/",
     "height": 293
    },
    "id": "bRgKb9pFrHzK",
    "outputId": "788b0c98-200a-4e8b-fe73-21fafb0e525d"
   },
   "outputs": [
    {
     "data": {
      "text/html": [
       "<div>\n",
       "<style scoped>\n",
       "    .dataframe tbody tr th:only-of-type {\n",
       "        vertical-align: middle;\n",
       "    }\n",
       "\n",
       "    .dataframe tbody tr th {\n",
       "        vertical-align: top;\n",
       "    }\n",
       "\n",
       "    .dataframe thead th {\n",
       "        text-align: right;\n",
       "    }\n",
       "</style>\n",
       "<table border=\"1\" class=\"dataframe\">\n",
       "  <thead>\n",
       "    <tr style=\"text-align: right;\">\n",
       "      <th></th>\n",
       "      <th>content</th>\n",
       "      <th>score</th>\n",
       "      <th>thumbsUpCount</th>\n",
       "      <th>month</th>\n",
       "      <th>minorVersion</th>\n",
       "      <th>majorVersion</th>\n",
       "      <th>labels</th>\n",
       "    </tr>\n",
       "  </thead>\n",
       "  <tbody>\n",
       "    <tr>\n",
       "      <th>0</th>\n",
       "      <td>aplikasi nya udh bagus seperti yang lainnya ta...</td>\n",
       "      <td>2</td>\n",
       "      <td>1</td>\n",
       "      <td>8</td>\n",
       "      <td>1.56.1</td>\n",
       "      <td>1.5</td>\n",
       "      <td>NEGATIVE</td>\n",
       "    </tr>\n",
       "    <tr>\n",
       "      <th>1</th>\n",
       "      <td>Saya download aplikasi ini dan saat masukan no...</td>\n",
       "      <td>1</td>\n",
       "      <td>8</td>\n",
       "      <td>8</td>\n",
       "      <td>1.56.1</td>\n",
       "      <td>1.5</td>\n",
       "      <td>NEGATIVE</td>\n",
       "    </tr>\n",
       "    <tr>\n",
       "      <th>2</th>\n",
       "      <td>aplikasi gopay ini bagus tapi saat mau membaya...</td>\n",
       "      <td>2</td>\n",
       "      <td>8</td>\n",
       "      <td>8</td>\n",
       "      <td>1.56.1</td>\n",
       "      <td>1.5</td>\n",
       "      <td>NEGATIVE</td>\n",
       "    </tr>\n",
       "    <tr>\n",
       "      <th>3</th>\n",
       "      <td>aplikasinya bagus aja, cuma ad sedikit masalah...</td>\n",
       "      <td>3</td>\n",
       "      <td>18</td>\n",
       "      <td>8</td>\n",
       "      <td>1.56.1</td>\n",
       "      <td>1.5</td>\n",
       "      <td>POSITIVE</td>\n",
       "    </tr>\n",
       "    <tr>\n",
       "      <th>4</th>\n",
       "      <td>Cukup kecewa update kali ini. Mengapa sistem b...</td>\n",
       "      <td>2</td>\n",
       "      <td>14</td>\n",
       "      <td>8</td>\n",
       "      <td>1.56.1</td>\n",
       "      <td>1.5</td>\n",
       "      <td>NEGATIVE</td>\n",
       "    </tr>\n",
       "  </tbody>\n",
       "</table>\n",
       "</div>"
      ],
      "text/plain": [
       "                                             content  score  thumbsUpCount  \\\n",
       "0  aplikasi nya udh bagus seperti yang lainnya ta...      2              1   \n",
       "1  Saya download aplikasi ini dan saat masukan no...      1              8   \n",
       "2  aplikasi gopay ini bagus tapi saat mau membaya...      2              8   \n",
       "3  aplikasinya bagus aja, cuma ad sedikit masalah...      3             18   \n",
       "4  Cukup kecewa update kali ini. Mengapa sistem b...      2             14   \n",
       "\n",
       "  month minorVersion majorVersion    labels  \n",
       "0     8       1.56.1          1.5  NEGATIVE  \n",
       "1     8       1.56.1          1.5  NEGATIVE  \n",
       "2     8       1.56.1          1.5  NEGATIVE  \n",
       "3     8       1.56.1          1.5  POSITIVE  \n",
       "4     8       1.56.1          1.5  NEGATIVE  "
      ]
     },
     "execution_count": 32,
     "metadata": {},
     "output_type": "execute_result"
    }
   ],
   "source": [
    "data = data.reset_index(drop=True)\n",
    "docs = docs.reset_index(drop=True)\n",
    "data['labels'] = docs['text_label']\n",
    "data.head()"
   ]
  },
  {
   "cell_type": "code",
   "execution_count": 33,
   "metadata": {
    "colab": {
     "base_uri": "https://localhost:8080/",
     "height": 466
    },
    "id": "v2Seq6yI68GD",
    "outputId": "c58c4bbd-3833-4b15-eb47-7e57b5a8930a"
   },
   "outputs": [
    {
     "data": {
      "text/plain": [
       "<Axes: xlabel='labels', ylabel='count'>"
      ]
     },
     "execution_count": 33,
     "metadata": {},
     "output_type": "execute_result"
    },
    {
     "data": {
      "image/png": "[encoded data removed]",
      "text/plain": [
       "<Figure size 640x480 with 1 Axes>"
      ]
     },
     "metadata": {},
     "output_type": "display_data"
    }
   ],
   "source": [
    "sns.countplot(data=data, x='labels')"
   ]
  },
  {
   "cell_type": "code",
   "execution_count": 34,
   "metadata": {
    "colab": {
     "base_uri": "https://localhost:8080/",
     "height": 466
    },
    "id": "R5YosAS0sfuX",
    "outputId": "01cfd1c4-268e-4e44-d062-c549ff860923"
   },
   "outputs": [
    {
     "data": {
      "text/plain": [
       "<Axes: xlabel='month', ylabel='score'>"
      ]
     },
     "execution_count": 34,
     "metadata": {},
     "output_type": "execute_result"
    },
    {
     "data": {
      "image/png": "[encoded data removed]",
      "text/plain": [
       "<Figure size 640x480 with 1 Axes>"
      ]
     },
     "metadata": {},
     "output_type": "display_data"
    }
   ],
   "source": [
    "sns.lineplot(data=data, x='month', hue='labels', y='score')"
   ]
  },
  {
   "cell_type": "code",
   "execution_count": 35,
   "metadata": {
    "colab": {
     "base_uri": "https://localhost:8080/",
     "height": 467
    },
    "id": "Y7FfLSIsu6-K",
    "outputId": "42bb61fd-bf4a-4b6c-c1c8-e73e36b902b3"
   },
   "outputs": [
    {
     "data": {
      "text/plain": [
       "<Axes: xlabel='month', ylabel='Count'>"
      ]
     },
     "execution_count": 35,
     "metadata": {},
     "output_type": "execute_result"
    },
    {
     "data": {
      "image/png": "[encoded data removed]",
      "text/plain": [
       "<Figure size 640x480 with 1 Axes>"
      ]
     },
     "metadata": {},
     "output_type": "display_data"
    }
   ],
   "source": [
    "sns.histplot(data=data, x=\"month\", hue=\"labels\", multiple=\"stack\")"
   ]
  },
  {
   "cell_type": "code",
   "execution_count": 36,
   "metadata": {
    "colab": {
     "base_uri": "https://localhost:8080/",
     "height": 466
    },
    "id": "pwijP3uIvL7o",
    "outputId": "5b903c15-2a60-4669-cafe-8c151530c7ff"
   },
   "outputs": [
    {
     "data": {
      "text/plain": [
       "<Axes: xlabel='majorVersion', ylabel='Count'>"
      ]
     },
     "execution_count": 36,
     "metadata": {},
     "output_type": "execute_result"
    },
    {
     "data": {
      "image/png": "[encoded data removed]",
      "text/plain": [
       "<Figure size 640x480 with 1 Axes>"
      ]
     },
     "metadata": {},
     "output_type": "display_data"
    }
   ],
   "source": [
    "sns.histplot(data=data, x=\"majorVersion\", hue=\"labels\", multiple=\"stack\")"
   ]
  },
  {
   "cell_type": "markdown",
   "metadata": {
    "id": "V80HeaiGdCM9"
   },
   "source": [
    "# Topic Analysis"
   ]
  },
  {
   "cell_type": "code",
   "execution_count": 41,
   "metadata": {
    "colab": {
     "base_uri": "https://localhost:8080/"
    },
    "id": "7q4HbGrbdB61",
    "outputId": "94b541ae-809c-4f4f-f75f-a0dbbbd2a6df"
   },
   "outputs": [
    {
     "name": "stderr",
     "output_type": "stream",
     "text": [
      "huggingface/tokenizers: The current process just got forked, after parallelism has already been used. Disabling parallelism to avoid deadlocks...\n",
      "To disable this warning, you can either:\n",
      "\t- Avoid using `tokenizers` before the fork if possible\n",
      "\t- Explicitly set the environment variable TOKENIZERS_PARALLELISM=(true | false)\n"
     ]
    },
    {
     "name": "stdout",
     "output_type": "stream",
     "text": [
      "Requirement already satisfied: bertopic in /opt/conda/lib/python3.12/site-packages (0.17.3)\n",
      "Requirement already satisfied: hdbscan>=0.8.29 in /opt/conda/lib/python3.12/site-packages (from bertopic) (0.8.40)\n",
      "Requirement already satisfied: umap-learn>=0.5.0 in /opt/conda/lib/python3.12/site-packages (from bertopic) (0.5.9.post2)\n",
      "Requirement already satisfied: numpy>=1.20.0 in /opt/conda/lib/python3.12/site-packages (from bertopic) (2.2.6)\n",
      "Requirement already satisfied: pandas>=1.1.5 in /opt/conda/lib/python3.12/site-packages (from bertopic) (2.3.0)\n",
      "Requirement already satisfied: plotly>=4.7.0 in /opt/conda/lib/python3.12/site-packages (from bertopic) (6.3.0)\n",
      "Requirement already satisfied: scikit-learn>=1.0 in /opt/conda/lib/python3.12/site-packages (from bertopic) (1.7.0)\n",
      "Requirement already satisfied: sentence-transformers>=0.4.1 in /opt/conda/lib/python3.12/site-packages (from bertopic) (5.1.0)\n",
      "Requirement already satisfied: tqdm>=4.41.1 in /opt/conda/lib/python3.12/site-packages (from bertopic) (4.67.1)\n",
      "Requirement already satisfied: llvmlite>0.36.0 in /opt/conda/lib/python3.12/site-packages (from bertopic) (0.44.0)\n",
      "Requirement already satisfied: scipy>=1.0 in /opt/conda/lib/python3.12/site-packages (from hdbscan>=0.8.29->bertopic) (1.15.2)\n",
      "Requirement already satisfied: joblib>=1.0 in /opt/conda/lib/python3.12/site-packages (from hdbscan>=0.8.29->bertopic) (1.5.1)\n",
      "Requirement already satisfied: python-dateutil>=2.8.2 in /opt/conda/lib/python3.12/site-packages (from pandas>=1.1.5->bertopic) (2.9.0.post0)\n",
      "Requirement already satisfied: pytz>=2020.1 in /opt/conda/lib/python3.12/site-packages (from pandas>=1.1.5->bertopic) (2025.2)\n",
      "Requirement already satisfied: tzdata>=2022.7 in /opt/conda/lib/python3.12/site-packages (from pandas>=1.1.5->bertopic) (2025.2)\n",
      "Requirement already satisfied: narwhals>=1.15.1 in /opt/conda/lib/python3.12/site-packages (from plotly>=4.7.0->bertopic) (1.43.1)\n",
      "Requirement already satisfied: packaging in /opt/conda/lib/python3.12/site-packages (from plotly>=4.7.0->bertopic) (25.0)\n",
      "Requirement already satisfied: six>=1.5 in /opt/conda/lib/python3.12/site-packages (from python-dateutil>=2.8.2->pandas>=1.1.5->bertopic) (1.17.0)\n",
      "Requirement already satisfied: threadpoolctl>=3.1.0 in /opt/conda/lib/python3.12/site-packages (from scikit-learn>=1.0->bertopic) (3.6.0)\n",
      "Requirement already satisfied: transformers<5.0.0,>=4.41.0 in /opt/conda/lib/python3.12/site-packages (from sentence-transformers>=0.4.1->bertopic) (4.55.4)\n",
      "Requirement already satisfied: torch>=1.11.0 in /opt/conda/lib/python3.12/site-packages (from sentence-transformers>=0.4.1->bertopic) (2.7.1+cu128)\n",
      "Requirement already satisfied: huggingface-hub>=0.20.0 in /opt/conda/lib/python3.12/site-packages (from sentence-transformers>=0.4.1->bertopic) (0.34.4)\n",
      "Requirement already satisfied: Pillow in /opt/conda/lib/python3.12/site-packages (from sentence-transformers>=0.4.1->bertopic) (11.2.1)\n",
      "Requirement already satisfied: typing_extensions>=4.5.0 in /opt/conda/lib/python3.12/site-packages (from sentence-transformers>=0.4.1->bertopic) (4.14.0)\n",
      "Requirement already satisfied: filelock in /opt/conda/lib/python3.12/site-packages (from transformers<5.0.0,>=4.41.0->sentence-transformers>=0.4.1->bertopic) (3.13.1)\n",
      "Requirement already satisfied: pyyaml>=5.1 in /opt/conda/lib/python3.12/site-packages (from transformers<5.0.0,>=4.41.0->sentence-transformers>=0.4.1->bertopic) (6.0.2)\n",
      "Requirement already satisfied: regex!=2019.12.17 in /opt/conda/lib/python3.12/site-packages (from transformers<5.0.0,>=4.41.0->sentence-transformers>=0.4.1->bertopic) (2025.7.34)\n",
      "Requirement already satisfied: requests in /opt/conda/lib/python3.12/site-packages (from transformers<5.0.0,>=4.41.0->sentence-transformers>=0.4.1->bertopic) (2.32.4)\n",
      "Requirement already satisfied: tokenizers<0.22,>=0.21 in /opt/conda/lib/python3.12/site-packages (from transformers<5.0.0,>=4.41.0->sentence-transformers>=0.4.1->bertopic) (0.21.4)\n",
      "Requirement already satisfied: safetensors>=0.4.3 in /opt/conda/lib/python3.12/site-packages (from transformers<5.0.0,>=4.41.0->sentence-transformers>=0.4.1->bertopic) (0.6.2)\n",
      "Requirement already satisfied: fsspec>=2023.5.0 in /opt/conda/lib/python3.12/site-packages (from huggingface-hub>=0.20.0->sentence-transformers>=0.4.1->bertopic) (2025.5.1)\n",
      "Requirement already satisfied: hf-xet<2.0.0,>=1.1.3 in /opt/conda/lib/python3.12/site-packages (from huggingface-hub>=0.20.0->sentence-transformers>=0.4.1->bertopic) (1.1.9)\n",
      "Requirement already satisfied: setuptools in /opt/conda/lib/python3.12/site-packages (from torch>=1.11.0->sentence-transformers>=0.4.1->bertopic) (80.9.0)\n",
      "Requirement already satisfied: sympy>=1.13.3 in /opt/conda/lib/python3.12/site-packages (from torch>=1.11.0->sentence-transformers>=0.4.1->bertopic) (1.14.0)\n",
      "Requirement already satisfied: networkx in /opt/conda/lib/python3.12/site-packages (from torch>=1.11.0->sentence-transformers>=0.4.1->bertopic) (3.5)\n",
      "Requirement already satisfied: jinja2 in /opt/conda/lib/python3.12/site-packages (from torch>=1.11.0->sentence-transformers>=0.4.1->bertopic) (3.1.6)\n",
      "Requirement already satisfied: nvidia-cuda-nvrtc-cu12==12.8.61 in /opt/conda/lib/python3.12/site-packages (from torch>=1.11.0->sentence-transformers>=0.4.1->bertopic) (12.8.61)\n",
      "Requirement already satisfied: nvidia-cuda-runtime-cu12==12.8.57 in /opt/conda/lib/python3.12/site-packages (from torch>=1.11.0->sentence-transformers>=0.4.1->bertopic) (12.8.57)\n",
      "Requirement already satisfied: nvidia-cuda-cupti-cu12==12.8.57 in /opt/conda/lib/python3.12/site-packages (from torch>=1.11.0->sentence-transformers>=0.4.1->bertopic) (12.8.57)\n",
      "Requirement already satisfied: nvidia-cudnn-cu12==9.7.1.26 in /opt/conda/lib/python3.12/site-packages (from torch>=1.11.0->sentence-transformers>=0.4.1->bertopic) (9.7.1.26)\n",
      "Requirement already satisfied: nvidia-cublas-cu12==12.8.3.14 in /opt/conda/lib/python3.12/site-packages (from torch>=1.11.0->sentence-transformers>=0.4.1->bertopic) (12.8.3.14)\n",
      "Requirement already satisfied: nvidia-cufft-cu12==11.3.3.41 in /opt/conda/lib/python3.12/site-packages (from torch>=1.11.0->sentence-transformers>=0.4.1->bertopic) (11.3.3.41)\n",
      "Requirement already satisfied: nvidia-curand-cu12==10.3.9.55 in /opt/conda/lib/python3.12/site-packages (from torch>=1.11.0->sentence-transformers>=0.4.1->bertopic) (10.3.9.55)\n",
      "Requirement already satisfied: nvidia-cusolver-cu12==11.7.2.55 in /opt/conda/lib/python3.12/site-packages (from torch>=1.11.0->sentence-transformers>=0.4.1->bertopic) (11.7.2.55)\n",
      "Requirement already satisfied: nvidia-cusparse-cu12==12.5.7.53 in /opt/conda/lib/python3.12/site-packages (from torch>=1.11.0->sentence-transformers>=0.4.1->bertopic) (12.5.7.53)\n",
      "Requirement already satisfied: nvidia-cusparselt-cu12==0.6.3 in /opt/conda/lib/python3.12/site-packages (from torch>=1.11.0->sentence-transformers>=0.4.1->bertopic) (0.6.3)\n",
      "Requirement already satisfied: nvidia-nccl-cu12==2.26.2 in /opt/conda/lib/python3.12/site-packages (from torch>=1.11.0->sentence-transformers>=0.4.1->bertopic) (2.26.2)\n",
      "Requirement already satisfied: nvidia-nvtx-cu12==12.8.55 in /opt/conda/lib/python3.12/site-packages (from torch>=1.11.0->sentence-transformers>=0.4.1->bertopic) (12.8.55)\n",
      "Requirement already satisfied: nvidia-nvjitlink-cu12==12.8.61 in /opt/conda/lib/python3.12/site-packages (from torch>=1.11.0->sentence-transformers>=0.4.1->bertopic) (12.8.61)\n",
      "Requirement already satisfied: nvidia-cufile-cu12==1.13.0.11 in /opt/conda/lib/python3.12/site-packages (from torch>=1.11.0->sentence-transformers>=0.4.1->bertopic) (1.13.0.11)\n",
      "Requirement already satisfied: triton==3.3.1 in /opt/conda/lib/python3.12/site-packages (from torch>=1.11.0->sentence-transformers>=0.4.1->bertopic) (3.3.1)\n",
      "Requirement already satisfied: mpmath<1.4,>=1.1.0 in /opt/conda/lib/python3.12/site-packages (from sympy>=1.13.3->torch>=1.11.0->sentence-transformers>=0.4.1->bertopic) (1.3.0)\n",
      "Requirement already satisfied: numba>=0.51.2 in /opt/conda/lib/python3.12/site-packages (from umap-learn>=0.5.0->bertopic) (0.61.2)\n",
      "Requirement already satisfied: pynndescent>=0.5 in /opt/conda/lib/python3.12/site-packages (from umap-learn>=0.5.0->bertopic) (0.5.13)\n",
      "Requirement already satisfied: MarkupSafe>=2.0 in /opt/conda/lib/python3.12/site-packages (from jinja2->torch>=1.11.0->sentence-transformers>=0.4.1->bertopic) (3.0.2)\n",
      "Requirement already satisfied: charset_normalizer<4,>=2 in /opt/conda/lib/python3.12/site-packages (from requests->transformers<5.0.0,>=4.41.0->sentence-transformers>=0.4.1->bertopic) (3.4.2)\n",
      "Requirement already satisfied: idna<4,>=2.5 in /opt/conda/lib/python3.12/site-packages (from requests->transformers<5.0.0,>=4.41.0->sentence-transformers>=0.4.1->bertopic) (3.10)\n",
      "Requirement already satisfied: urllib3<3,>=1.21.1 in /opt/conda/lib/python3.12/site-packages (from requests->transformers<5.0.0,>=4.41.0->sentence-transformers>=0.4.1->bertopic) (2.5.0)\n",
      "Requirement already satisfied: certifi>=2017.4.17 in /opt/conda/lib/python3.12/site-packages (from requests->transformers<5.0.0,>=4.41.0->sentence-transformers>=0.4.1->bertopic) (2025.6.15)\n"
     ]
    }
   ],
   "source": [
    "!pip install bertopic"
   ]
  },
  {
   "cell_type": "code",
   "execution_count": 85,
   "metadata": {
    "id": "kdOmyJCJ7Ukg"
   },
   "outputs": [],
   "source": [
    "negative = docs[docs['text_label']=='NEGATIVE']['text_lemitizing']\n",
    "positive = docs[docs['text_label']=='POSITIVE']['text_lemitizing']"
   ]
  },
  {
   "cell_type": "code",
   "execution_count": 48,
   "metadata": {
    "id": "OOLmfJfrxFGo"
   },
   "outputs": [],
   "source": [
    "from bertopic import BERTopic\n",
    "from sklearn.cluster import AgglomerativeClustering\n",
    "from sklearn.feature_extraction.text import CountVectorizer\n",
    "from bertopic.vectorizers import ClassTfidfTransformer\n",
    "from bertopic.representation import KeyBERTInspired\n",
    "from umap import UMAP"
   ]
  },
  {
   "cell_type": "code",
   "execution_count": 71,
   "metadata": {
    "colab": {
     "base_uri": "https://localhost:8080/"
    },
    "id": "gDf4kdXhxbYo",
    "outputId": "066b2c06-73dc-439d-e8cd-e6d67d287f2b"
   },
   "outputs": [
    {
     "name": "stderr",
     "output_type": "stream",
     "text": [
      "Device set to use cuda:0\n"
     ]
    }
   ],
   "source": [
    "embedding_model = pipeline(\"feature-extraction\", model=\"distilbert-base-cased\")\n",
    "umap_model = UMAP(n_neighbors=15, n_components=5, min_dist=0.0, metric='cosine')\n",
    "vectorizer_model = CountVectorizer(min_df=10)\n",
    "ctfidf_model = ClassTfidfTransformer(bm25_weighting=True)\n",
    "representation_model = KeyBERTInspired()\n",
    "\n",
    "def topic(n_cluster):\n",
    "    topic_model = BERTopic(\n",
    "    embedding_model=embedding_model,\n",
    "    umap_model=umap_model,\n",
    "    hdbscan_model=AgglomerativeClustering(n_clusters=n_cluster),\n",
    "    vectorizer_model=vectorizer_model,\n",
    "    ctfidf_model=ctfidf_model,\n",
    "    representation_model=representation_model,\n",
    "    calculate_probabilities=True,\n",
    "    verbose=True,\n",
    "    )\n",
    "    return topic_model"
   ]
  },
  {
   "cell_type": "code",
   "execution_count": 86,
   "metadata": {
    "colab": {
     "base_uri": "https://localhost:8080/"
    },
    "id": "2Nk4h94u02bZ",
    "outputId": "0012f4e6-243a-4f89-a9d3-c8860b3f6975"
   },
   "outputs": [
    {
     "name": "stderr",
     "output_type": "stream",
     "text": [
      "2025-08-29 07:13:45,367 - BERTopic - Embedding - Transforming documents to embeddings.\n",
      "100% 5132/5132 [00:08<00:00, 592.85it/s]\n",
      "2025-08-29 07:13:54,033 - BERTopic - Embedding - Completed ✓\n",
      "2025-08-29 07:13:54,033 - BERTopic - Dimensionality - Fitting the dimensionality reduction algorithm\n",
      "2025-08-29 07:13:54,693 - BERTopic - Dimensionality - Completed ✓\n",
      "2025-08-29 07:13:54,693 - BERTopic - Cluster - Start clustering the reduced embeddings\n",
      "2025-08-29 07:13:54,971 - BERTopic - Cluster - Completed ✓\n",
      "2025-08-29 07:13:54,973 - BERTopic - Representation - Fine-tuning topics using representation models.\n",
      "2025-08-29 07:13:55,796 - BERTopic - Representation - Completed ✓\n"
     ]
    },
    {
     "data": {
      "text/html": [
       "<div>\n",
       "<style scoped>\n",
       "    .dataframe tbody tr th:only-of-type {\n",
       "        vertical-align: middle;\n",
       "    }\n",
       "\n",
       "    .dataframe tbody tr th {\n",
       "        vertical-align: top;\n",
       "    }\n",
       "\n",
       "    .dataframe thead th {\n",
       "        text-align: right;\n",
       "    }\n",
       "</style>\n",
       "<table border=\"1\" class=\"dataframe\">\n",
       "  <thead>\n",
       "    <tr style=\"text-align: right;\">\n",
       "      <th></th>\n",
       "      <th>Topic</th>\n",
       "      <th>Count</th>\n",
       "      <th>Name</th>\n",
       "      <th>Representation</th>\n",
       "      <th>Representative_Docs</th>\n",
       "    </tr>\n",
       "  </thead>\n",
       "  <tbody>\n",
       "    <tr>\n",
       "      <th>0</th>\n",
       "      <td>0</td>\n",
       "      <td>385</td>\n",
       "      <td>0_refund_hasnt_doesnt_didnt</td>\n",
       "      <td>[refund, hasnt, doesnt, didnt, topup, cashback...</td>\n",
       "      <td>[payment loan always time repayment apply loan...</td>\n",
       "    </tr>\n",
       "    <tr>\n",
       "      <th>1</th>\n",
       "      <td>1</td>\n",
       "      <td>370</td>\n",
       "      <td>1_goopay_hasnt_apk_isnt</td>\n",
       "      <td>[goopay, hasnt, apk, isnt, doesnt, topup, coul...</td>\n",
       "      <td>[money cut transaction history doesnt show cle...</td>\n",
       "    </tr>\n",
       "    <tr>\n",
       "      <th>2</th>\n",
       "      <td>2</td>\n",
       "      <td>333</td>\n",
       "      <td>2_gopaylater_google_doesnt_didnt</td>\n",
       "      <td>[gopaylater, google, doesnt, didnt, topup, apk...</td>\n",
       "      <td>[im sorry c gopay lost balance gopay google pl...</td>\n",
       "    </tr>\n",
       "    <tr>\n",
       "      <th>3</th>\n",
       "      <td>3</td>\n",
       "      <td>266</td>\n",
       "      <td>3_thank_cheap_hopefully_buy</td>\n",
       "      <td>[thank, cheap, hopefully, buy, really, discoun...</td>\n",
       "      <td>[like use gopay get pulse cheap lot promotion ...</td>\n",
       "    </tr>\n",
       "    <tr>\n",
       "      <th>4</th>\n",
       "      <td>4</td>\n",
       "      <td>251</td>\n",
       "      <td>4_uninstall_otp_doesnt_wifi</td>\n",
       "      <td>[uninstall, otp, doesnt, wifi, login, apk, wdp...</td>\n",
       "      <td>[want log gopay account facial verification fa...</td>\n",
       "    </tr>\n",
       "    <tr>\n",
       "      <th>5</th>\n",
       "      <td>5</td>\n",
       "      <td>220</td>\n",
       "      <td>5_havent_isnt_doesnt_arent</td>\n",
       "      <td>[havent, isnt, doesnt, arent, couldnt, didnt, ...</td>\n",
       "      <td>[gopay top doesnt come, want top dont money, t...</td>\n",
       "    </tr>\n",
       "    <tr>\n",
       "      <th>6</th>\n",
       "      <td>6</td>\n",
       "      <td>214</td>\n",
       "      <td>6_ewallet_apk_topup_useless</td>\n",
       "      <td>[ewallet, apk, topup, useless, buy, cheap, hop...</td>\n",
       "      <td>[easy convenient long im using app helpful, ap...</td>\n",
       "    </tr>\n",
       "    <tr>\n",
       "      <th>7</th>\n",
       "      <td>7</td>\n",
       "      <td>205</td>\n",
       "      <td>7_waiting_wait_buy_got</td>\n",
       "      <td>[waiting, wait, buy, got, getting, account, tr...</td>\n",
       "      <td>[use gopayevery transaction buy pln token puls...</td>\n",
       "    </tr>\n",
       "    <tr>\n",
       "      <th>8</th>\n",
       "      <td>8</td>\n",
       "      <td>201</td>\n",
       "      <td>8_gopaylater_hasnt_didnt_couldnt</td>\n",
       "      <td>[gopaylater, hasnt, didnt, couldnt, doesnt, wh...</td>\n",
       "      <td>[disappointed top indomart status successful b...</td>\n",
       "    </tr>\n",
       "    <tr>\n",
       "      <th>9</th>\n",
       "      <td>9</td>\n",
       "      <td>190</td>\n",
       "      <td>9_uninstall_hasnt_isnt_doesnt</td>\n",
       "      <td>[uninstall, hasnt, isnt, doesnt, didnt, apk, n...</td>\n",
       "      <td>[app didnt help transfer another bank dont go ...</td>\n",
       "    </tr>\n",
       "    <tr>\n",
       "      <th>10</th>\n",
       "      <td>10</td>\n",
       "      <td>181</td>\n",
       "      <td>10_unreasonable_voucher_hasnt_doesnt</td>\n",
       "      <td>[unreasonable, voucher, hasnt, doesnt, didnt, ...</td>\n",
       "      <td>[qris transfer warning unreasonable activity u...</td>\n",
       "    </tr>\n",
       "    <tr>\n",
       "      <th>11</th>\n",
       "      <td>11</td>\n",
       "      <td>180</td>\n",
       "      <td>11_voucher_wdp_apk_doesnt</td>\n",
       "      <td>[voucher, wdp, apk, doesnt, didnt, cashback, d...</td>\n",
       "      <td>[one always completes mission get coin play mi...</td>\n",
       "    </tr>\n",
       "    <tr>\n",
       "      <th>12</th>\n",
       "      <td>12</td>\n",
       "      <td>177</td>\n",
       "      <td>12_hasnt_havent_doesnt_didnt</td>\n",
       "      <td>[hasnt, havent, doesnt, didnt, voucher, whats,...</td>\n",
       "      <td>[ive lot transaction using gopay ive disappoin...</td>\n",
       "    </tr>\n",
       "    <tr>\n",
       "      <th>13</th>\n",
       "      <td>13</td>\n",
       "      <td>175</td>\n",
       "      <td>13_doesnt_didnt_havent_dont</td>\n",
       "      <td>[doesnt, didnt, havent, dont, whats, hows, can...</td>\n",
       "      <td>[dont know dont know dont know dont know dont ...</td>\n",
       "    </tr>\n",
       "    <tr>\n",
       "      <th>14</th>\n",
       "      <td>14</td>\n",
       "      <td>174</td>\n",
       "      <td>14_gopaylater_topup_waiting_wait</td>\n",
       "      <td>[gopaylater, topup, waiting, wait, wrong, dela...</td>\n",
       "      <td>[top ups gopay often problem wait two day, eve...</td>\n",
       "    </tr>\n",
       "    <tr>\n",
       "      <th>15</th>\n",
       "      <td>15</td>\n",
       "      <td>152</td>\n",
       "      <td>15_isnt_doesnt_didnt_thank</td>\n",
       "      <td>[isnt, doesnt, didnt, thank, notification, top...</td>\n",
       "      <td>[topup doesnt even go bank account although hi...</td>\n",
       "    </tr>\n",
       "    <tr>\n",
       "      <th>16</th>\n",
       "      <td>16</td>\n",
       "      <td>138</td>\n",
       "      <td>16_gopays_goopay_isnt_didnt</td>\n",
       "      <td>[gopays, goopay, isnt, didnt, doesnt, dont, th...</td>\n",
       "      <td>[gopay get worse balance like lose top time im...</td>\n",
       "    </tr>\n",
       "    <tr>\n",
       "      <th>17</th>\n",
       "      <td>17</td>\n",
       "      <td>131</td>\n",
       "      <td>17_uninstall_doesnt_wifi_apk</td>\n",
       "      <td>[uninstall, doesnt, wifi, apk, wdp, buy, disco...</td>\n",
       "      <td>[please yes bought rb telkomsel package quota ...</td>\n",
       "    </tr>\n",
       "    <tr>\n",
       "      <th>18</th>\n",
       "      <td>18</td>\n",
       "      <td>125</td>\n",
       "      <td>18_ewallet_ewallets_scam_cashback</td>\n",
       "      <td>[ewallet, ewallets, scam, cashback, hopefully,...</td>\n",
       "      <td>[app make easy make transaction there minimum ...</td>\n",
       "    </tr>\n",
       "    <tr>\n",
       "      <th>19</th>\n",
       "      <td>19</td>\n",
       "      <td>121</td>\n",
       "      <td>19_gopays_doesnt_anyway_apk</td>\n",
       "      <td>[gopays, doesnt, anyway, apk, thing, really, b...</td>\n",
       "      <td>[app fine there always bug unnatural activity ...</td>\n",
       "    </tr>\n",
       "    <tr>\n",
       "      <th>20</th>\n",
       "      <td>20</td>\n",
       "      <td>115</td>\n",
       "      <td>20_gopays_ewallet_ewallets_hasnt</td>\n",
       "      <td>[gopays, ewallet, ewallets, hasnt, constraint,...</td>\n",
       "      <td>[bad service balance far entered made complain...</td>\n",
       "    </tr>\n",
       "    <tr>\n",
       "      <th>21</th>\n",
       "      <td>21</td>\n",
       "      <td>113</td>\n",
       "      <td>21_voucher_havent_topup_scam</td>\n",
       "      <td>[voucher, havent, topup, scam, doesnt, couldnt...</td>\n",
       "      <td>[top wdp ive used cashback voucher came screen...</td>\n",
       "    </tr>\n",
       "    <tr>\n",
       "      <th>22</th>\n",
       "      <td>22</td>\n",
       "      <td>110</td>\n",
       "      <td>22_login_otp_apk_notification</td>\n",
       "      <td>[login, otp, apk, notification, cant, youre, q...</td>\n",
       "      <td>[please help log ask update ive updated latest...</td>\n",
       "    </tr>\n",
       "    <tr>\n",
       "      <th>23</th>\n",
       "      <td>23</td>\n",
       "      <td>100</td>\n",
       "      <td>23_hasnt_ewallet_gopaylater_disappointed</td>\n",
       "      <td>[hasnt, ewallet, gopaylater, disappointed, kin...</td>\n",
       "      <td>[regular free bank transfer get cut thousand d...</td>\n",
       "    </tr>\n",
       "    <tr>\n",
       "      <th>24</th>\n",
       "      <td>24</td>\n",
       "      <td>95</td>\n",
       "      <td>24_refund_voucher_hasnt_doesnt</td>\n",
       "      <td>[refund, voucher, hasnt, doesnt, topup, upload...</td>\n",
       "      <td>[min report denial money doesnt come back inst...</td>\n",
       "    </tr>\n",
       "    <tr>\n",
       "      <th>25</th>\n",
       "      <td>25</td>\n",
       "      <td>91</td>\n",
       "      <td>25_gopey_hasnt_havent_isnt</td>\n",
       "      <td>[gopey, hasnt, havent, isnt, doesnt, didnt, wa...</td>\n",
       "      <td>[two day balance hasnt come yet x balance hasn...</td>\n",
       "    </tr>\n",
       "    <tr>\n",
       "      <th>26</th>\n",
       "      <td>26</td>\n",
       "      <td>91</td>\n",
       "      <td>26_hasnt_havent_didnt_dont</td>\n",
       "      <td>[hasnt, havent, didnt, dont, apk, wait, thats,...</td>\n",
       "      <td>[uh uh uh uh uh uh uh uh uh uh uh uh uh uh uh ...</td>\n",
       "    </tr>\n",
       "    <tr>\n",
       "      <th>27</th>\n",
       "      <td>27</td>\n",
       "      <td>88</td>\n",
       "      <td>27_unreasonable_doesnt_otp_gojek</td>\n",
       "      <td>[unreasonable, doesnt, otp, gojek, scam, topup...</td>\n",
       "      <td>[clear want top game enter promo code unpaid t...</td>\n",
       "    </tr>\n",
       "    <tr>\n",
       "      <th>28</th>\n",
       "      <td>28</td>\n",
       "      <td>71</td>\n",
       "      <td>28_ewallet_ewalet_july_hasnt</td>\n",
       "      <td>[ewallet, ewalet, july, hasnt, unusable, didnt...</td>\n",
       "      <td>[top ewallet failed pdhl balance udh cut fund ...</td>\n",
       "    </tr>\n",
       "    <tr>\n",
       "      <th>29</th>\n",
       "      <td>29</td>\n",
       "      <td>69</td>\n",
       "      <td>29_ewallets_wifi_apk_isnt</td>\n",
       "      <td>[ewallets, wifi, apk, isnt, topup, verificatio...</td>\n",
       "      <td>[starting current error weak signal etc use wi...</td>\n",
       "    </tr>\n",
       "  </tbody>\n",
       "</table>\n",
       "</div>"
      ],
      "text/plain": [
       "    Topic  Count                                      Name  \\\n",
       "0       0    385               0_refund_hasnt_doesnt_didnt   \n",
       "1       1    370                   1_goopay_hasnt_apk_isnt   \n",
       "2       2    333          2_gopaylater_google_doesnt_didnt   \n",
       "3       3    266               3_thank_cheap_hopefully_buy   \n",
       "4       4    251               4_uninstall_otp_doesnt_wifi   \n",
       "5       5    220                5_havent_isnt_doesnt_arent   \n",
       "6       6    214               6_ewallet_apk_topup_useless   \n",
       "7       7    205                    7_waiting_wait_buy_got   \n",
       "8       8    201          8_gopaylater_hasnt_didnt_couldnt   \n",
       "9       9    190             9_uninstall_hasnt_isnt_doesnt   \n",
       "10     10    181      10_unreasonable_voucher_hasnt_doesnt   \n",
       "11     11    180                 11_voucher_wdp_apk_doesnt   \n",
       "12     12    177              12_hasnt_havent_doesnt_didnt   \n",
       "13     13    175               13_doesnt_didnt_havent_dont   \n",
       "14     14    174          14_gopaylater_topup_waiting_wait   \n",
       "15     15    152                15_isnt_doesnt_didnt_thank   \n",
       "16     16    138               16_gopays_goopay_isnt_didnt   \n",
       "17     17    131              17_uninstall_doesnt_wifi_apk   \n",
       "18     18    125         18_ewallet_ewallets_scam_cashback   \n",
       "19     19    121               19_gopays_doesnt_anyway_apk   \n",
       "20     20    115          20_gopays_ewallet_ewallets_hasnt   \n",
       "21     21    113              21_voucher_havent_topup_scam   \n",
       "22     22    110             22_login_otp_apk_notification   \n",
       "23     23    100  23_hasnt_ewallet_gopaylater_disappointed   \n",
       "24     24     95            24_refund_voucher_hasnt_doesnt   \n",
       "25     25     91                25_gopey_hasnt_havent_isnt   \n",
       "26     26     91                26_hasnt_havent_didnt_dont   \n",
       "27     27     88          27_unreasonable_doesnt_otp_gojek   \n",
       "28     28     71              28_ewallet_ewalet_july_hasnt   \n",
       "29     29     69                 29_ewallets_wifi_apk_isnt   \n",
       "\n",
       "                                       Representation  \\\n",
       "0   [refund, hasnt, doesnt, didnt, topup, cashback...   \n",
       "1   [goopay, hasnt, apk, isnt, doesnt, topup, coul...   \n",
       "2   [gopaylater, google, doesnt, didnt, topup, apk...   \n",
       "3   [thank, cheap, hopefully, buy, really, discoun...   \n",
       "4   [uninstall, otp, doesnt, wifi, login, apk, wdp...   \n",
       "5   [havent, isnt, doesnt, arent, couldnt, didnt, ...   \n",
       "6   [ewallet, apk, topup, useless, buy, cheap, hop...   \n",
       "7   [waiting, wait, buy, got, getting, account, tr...   \n",
       "8   [gopaylater, hasnt, didnt, couldnt, doesnt, wh...   \n",
       "9   [uninstall, hasnt, isnt, doesnt, didnt, apk, n...   \n",
       "10  [unreasonable, voucher, hasnt, doesnt, didnt, ...   \n",
       "11  [voucher, wdp, apk, doesnt, didnt, cashback, d...   \n",
       "12  [hasnt, havent, doesnt, didnt, voucher, whats,...   \n",
       "13  [doesnt, didnt, havent, dont, whats, hows, can...   \n",
       "14  [gopaylater, topup, waiting, wait, wrong, dela...   \n",
       "15  [isnt, doesnt, didnt, thank, notification, top...   \n",
       "16  [gopays, goopay, isnt, didnt, doesnt, dont, th...   \n",
       "17  [uninstall, doesnt, wifi, apk, wdp, buy, disco...   \n",
       "18  [ewallet, ewallets, scam, cashback, hopefully,...   \n",
       "19  [gopays, doesnt, anyway, apk, thing, really, b...   \n",
       "20  [gopays, ewallet, ewallets, hasnt, constraint,...   \n",
       "21  [voucher, havent, topup, scam, doesnt, couldnt...   \n",
       "22  [login, otp, apk, notification, cant, youre, q...   \n",
       "23  [hasnt, ewallet, gopaylater, disappointed, kin...   \n",
       "24  [refund, voucher, hasnt, doesnt, topup, upload...   \n",
       "25  [gopey, hasnt, havent, isnt, doesnt, didnt, wa...   \n",
       "26  [hasnt, havent, didnt, dont, apk, wait, thats,...   \n",
       "27  [unreasonable, doesnt, otp, gojek, scam, topup...   \n",
       "28  [ewallet, ewalet, july, hasnt, unusable, didnt...   \n",
       "29  [ewallets, wifi, apk, isnt, topup, verificatio...   \n",
       "\n",
       "                                  Representative_Docs  \n",
       "0   [payment loan always time repayment apply loan...  \n",
       "1   [money cut transaction history doesnt show cle...  \n",
       "2   [im sorry c gopay lost balance gopay google pl...  \n",
       "3   [like use gopay get pulse cheap lot promotion ...  \n",
       "4   [want log gopay account facial verification fa...  \n",
       "5   [gopay top doesnt come, want top dont money, t...  \n",
       "6   [easy convenient long im using app helpful, ap...  \n",
       "7   [use gopayevery transaction buy pln token puls...  \n",
       "8   [disappointed top indomart status successful b...  \n",
       "9   [app didnt help transfer another bank dont go ...  \n",
       "10  [qris transfer warning unreasonable activity u...  \n",
       "11  [one always completes mission get coin play mi...  \n",
       "12  [ive lot transaction using gopay ive disappoin...  \n",
       "13  [dont know dont know dont know dont know dont ...  \n",
       "14  [top ups gopay often problem wait two day, eve...  \n",
       "15  [topup doesnt even go bank account although hi...  \n",
       "16  [gopay get worse balance like lose top time im...  \n",
       "17  [please yes bought rb telkomsel package quota ...  \n",
       "18  [app make easy make transaction there minimum ...  \n",
       "19  [app fine there always bug unnatural activity ...  \n",
       "20  [bad service balance far entered made complain...  \n",
       "21  [top wdp ive used cashback voucher came screen...  \n",
       "22  [please help log ask update ive updated latest...  \n",
       "23  [regular free bank transfer get cut thousand d...  \n",
       "24  [min report denial money doesnt come back inst...  \n",
       "25  [two day balance hasnt come yet x balance hasn...  \n",
       "26  [uh uh uh uh uh uh uh uh uh uh uh uh uh uh uh ...  \n",
       "27  [clear want top game enter promo code unpaid t...  \n",
       "28  [top ewallet failed pdhl balance udh cut fund ...  \n",
       "29  [starting current error weak signal etc use wi...  "
      ]
     },
     "execution_count": 86,
     "metadata": {},
     "output_type": "execute_result"
    }
   ],
   "source": [
    "negative_topic = topic(30)\n",
    "negative_info = negative_topic.fit_transform(negative)\n",
    "negative_info = negative_topic.get_topic_info()\n",
    "negative_info"
   ]
  },
  {
   "cell_type": "code",
   "execution_count": 89,
   "metadata": {
    "editable": true,
    "slideshow": {
     "slide_type": ""
    },
    "tags": []
   },
   "outputs": [
    {
     "name": "stderr",
     "output_type": "stream",
     "text": [
      "2025-08-29 07:14:55,846 - BERTopic - Embedding - Transforming documents to embeddings.\n",
      "100% 1788/1788 [00:02<00:00, 653.46it/s]\n",
      "2025-08-29 07:14:58,590 - BERTopic - Embedding - Completed ✓\n",
      "2025-08-29 07:14:58,590 - BERTopic - Dimensionality - Fitting the dimensionality reduction algorithm\n",
      "2025-08-29 07:15:00,181 - BERTopic - Dimensionality - Completed ✓\n",
      "2025-08-29 07:15:00,182 - BERTopic - Cluster - Start clustering the reduced embeddings\n",
      "2025-08-29 07:15:00,201 - BERTopic - Cluster - Completed ✓\n",
      "2025-08-29 07:15:00,202 - BERTopic - Representation - Fine-tuning topics using representation models.\n",
      "2025-08-29 07:15:00,283 - BERTopic - Representation - Completed ✓\n"
     ]
    },
    {
     "data": {
      "text/html": [
       "<div>\n",
       "<style scoped>\n",
       "    .dataframe tbody tr th:only-of-type {\n",
       "        vertical-align: middle;\n",
       "    }\n",
       "\n",
       "    .dataframe tbody tr th {\n",
       "        vertical-align: top;\n",
       "    }\n",
       "\n",
       "    .dataframe thead th {\n",
       "        text-align: right;\n",
       "    }\n",
       "</style>\n",
       "<table border=\"1\" class=\"dataframe\">\n",
       "  <thead>\n",
       "    <tr style=\"text-align: right;\">\n",
       "      <th></th>\n",
       "      <th>Topic</th>\n",
       "      <th>Count</th>\n",
       "      <th>Name</th>\n",
       "      <th>Representation</th>\n",
       "      <th>Representative_Docs</th>\n",
       "    </tr>\n",
       "  </thead>\n",
       "  <tbody>\n",
       "    <tr>\n",
       "      <th>0</th>\n",
       "      <td>0</td>\n",
       "      <td>278</td>\n",
       "      <td>0_thank_understand_really_hopefully</td>\n",
       "      <td>[thank, understand, really, hopefully, helpful...</td>\n",
       "      <td>[helpful make easier convenient use daily life...</td>\n",
       "    </tr>\n",
       "    <tr>\n",
       "      <th>1</th>\n",
       "      <td>1</td>\n",
       "      <td>215</td>\n",
       "      <td>1_thank_really_hopefully_understand</td>\n",
       "      <td>[thank, really, hopefully, understand, helpful...</td>\n",
       "      <td>[free transfer x money minus free transfer ban...</td>\n",
       "    </tr>\n",
       "    <tr>\n",
       "      <th>2</th>\n",
       "      <td>2</td>\n",
       "      <td>211</td>\n",
       "      <td>2_thank_really_hopefully_understand</td>\n",
       "      <td>[thank, really, hopefully, understand, helpful...</td>\n",
       "      <td>[always like feature gopay always updating mak...</td>\n",
       "    </tr>\n",
       "    <tr>\n",
       "      <th>3</th>\n",
       "      <td>3</td>\n",
       "      <td>210</td>\n",
       "      <td>3_thank_really_hopefully_understand</td>\n",
       "      <td>[thank, really, hopefully, understand, helpful...</td>\n",
       "      <td>[good good good good good good good good good ...</td>\n",
       "    </tr>\n",
       "    <tr>\n",
       "      <th>4</th>\n",
       "      <td>4</td>\n",
       "      <td>200</td>\n",
       "      <td>4_thank_really_hopefully_understand</td>\n",
       "      <td>[thank, really, hopefully, understand, helpful...</td>\n",
       "      <td>[helpful easy use, good easy use simple, perfe...</td>\n",
       "    </tr>\n",
       "    <tr>\n",
       "      <th>5</th>\n",
       "      <td>5</td>\n",
       "      <td>181</td>\n",
       "      <td>5_thank_hopefully_understand_really</td>\n",
       "      <td>[thank, hopefully, understand, really, helpful...</td>\n",
       "      <td>[im top balance two time first thats second go...</td>\n",
       "    </tr>\n",
       "    <tr>\n",
       "      <th>6</th>\n",
       "      <td>6</td>\n",
       "      <td>146</td>\n",
       "      <td>6_thank_really_hopefully_helpful</td>\n",
       "      <td>[thank, really, hopefully, helpful, understand...</td>\n",
       "      <td>[really good help lot promotion, nice make eas...</td>\n",
       "    </tr>\n",
       "    <tr>\n",
       "      <th>7</th>\n",
       "      <td>7</td>\n",
       "      <td>126</td>\n",
       "      <td>7_thank_understand_helpful_really</td>\n",
       "      <td>[thank, understand, helpful, really, hopefully...</td>\n",
       "      <td>[helpful easy manyin promonyaa min thank, real...</td>\n",
       "    </tr>\n",
       "    <tr>\n",
       "      <th>8</th>\n",
       "      <td>8</td>\n",
       "      <td>117</td>\n",
       "      <td>8_thank_really_understand_hopefully</td>\n",
       "      <td>[thank, really, understand, hopefully, helpful...</td>\n",
       "      <td>[there lot benefit using there lot promotion, ...</td>\n",
       "    </tr>\n",
       "    <tr>\n",
       "      <th>9</th>\n",
       "      <td>9</td>\n",
       "      <td>54</td>\n",
       "      <td>9_hopefully_understand_lot_easier</td>\n",
       "      <td>[hopefully, understand, lot, easier, transacti...</td>\n",
       "      <td>[rest balance already balance come increase, a...</td>\n",
       "    </tr>\n",
       "    <tr>\n",
       "      <th>10</th>\n",
       "      <td>10</td>\n",
       "      <td>42</td>\n",
       "      <td>10_thank_really_hopefully_understand</td>\n",
       "      <td>[thank, really, hopefully, understand, helpful...</td>\n",
       "      <td>[apk good attractive, good apk log device, goo...</td>\n",
       "    </tr>\n",
       "    <tr>\n",
       "      <th>11</th>\n",
       "      <td>11</td>\n",
       "      <td>8</td>\n",
       "      <td>11____</td>\n",
       "      <td>[, , , , , , , , , ]</td>\n",
       "      <td>[please please please please please please ple...</td>\n",
       "    </tr>\n",
       "  </tbody>\n",
       "</table>\n",
       "</div>"
      ],
      "text/plain": [
       "    Topic  Count                                  Name  \\\n",
       "0       0    278   0_thank_understand_really_hopefully   \n",
       "1       1    215   1_thank_really_hopefully_understand   \n",
       "2       2    211   2_thank_really_hopefully_understand   \n",
       "3       3    210   3_thank_really_hopefully_understand   \n",
       "4       4    200   4_thank_really_hopefully_understand   \n",
       "5       5    181   5_thank_hopefully_understand_really   \n",
       "6       6    146      6_thank_really_hopefully_helpful   \n",
       "7       7    126     7_thank_understand_helpful_really   \n",
       "8       8    117   8_thank_really_understand_hopefully   \n",
       "9       9     54     9_hopefully_understand_lot_easier   \n",
       "10     10     42  10_thank_really_hopefully_understand   \n",
       "11     11      8                                11____   \n",
       "\n",
       "                                       Representation  \\\n",
       "0   [thank, understand, really, hopefully, helpful...   \n",
       "1   [thank, really, hopefully, understand, helpful...   \n",
       "2   [thank, really, hopefully, understand, helpful...   \n",
       "3   [thank, really, hopefully, understand, helpful...   \n",
       "4   [thank, really, hopefully, understand, helpful...   \n",
       "5   [thank, hopefully, understand, really, helpful...   \n",
       "6   [thank, really, hopefully, helpful, understand...   \n",
       "7   [thank, understand, helpful, really, hopefully...   \n",
       "8   [thank, really, understand, hopefully, helpful...   \n",
       "9   [hopefully, understand, lot, easier, transacti...   \n",
       "10  [thank, really, hopefully, understand, helpful...   \n",
       "11                               [, , , , , , , , , ]   \n",
       "\n",
       "                                  Representative_Docs  \n",
       "0   [helpful make easier convenient use daily life...  \n",
       "1   [free transfer x money minus free transfer ban...  \n",
       "2   [always like feature gopay always updating mak...  \n",
       "3   [good good good good good good good good good ...  \n",
       "4   [helpful easy use, good easy use simple, perfe...  \n",
       "5   [im top balance two time first thats second go...  \n",
       "6   [really good help lot promotion, nice make eas...  \n",
       "7   [helpful easy manyin promonyaa min thank, real...  \n",
       "8   [there lot benefit using there lot promotion, ...  \n",
       "9   [rest balance already balance come increase, a...  \n",
       "10  [apk good attractive, good apk log device, goo...  \n",
       "11  [please please please please please please ple...  "
      ]
     },
     "execution_count": 89,
     "metadata": {},
     "output_type": "execute_result"
    }
   ],
   "source": [
    "positive_topic = topic(12)\n",
    "positive_info = positive_topic.fit_transform(positive)\n",
    "positive_info = positive_topic.get_topic_info()\n",
    "positive_info"
   ]
  },
  {
   "cell_type": "markdown",
   "metadata": {
    "id": "ACzoIXoFdLme"
   },
   "source": [
    "# Conclusions"
   ]
  },
  {
   "cell_type": "markdown",
   "metadata": {
    "id": "RBwhr03UdOsF"
   },
   "source": []
  }
 ],
 "metadata": {
  "colab": {
   "provenance": []
  },
  "kaggle": {
   "accelerator": "nvidiaTeslaT4",
   "dataSources": [],
   "dockerImageVersionId": 31090,
   "isGpuEnabled": true,
   "isInternetEnabled": true,
   "language": "python",
   "sourceType": "notebook"
  },
  "kernelspec": {
   "display_name": "Python 3 (ipykernel)",
   "language": "python",
   "name": "python3"
  },
  "language_info": {
   "codemirror_mode": {
    "name": "ipython",
    "version": 3
   },
   "file_extension": ".py",
   "mimetype": "text/x-python",
   "name": "python",
   "nbconvert_exporter": "python",
   "pygments_lexer": "ipython3",
   "version": "3.12.11"
  }
 },
 "nbformat": 4,
 "nbformat_minor": 4
}
