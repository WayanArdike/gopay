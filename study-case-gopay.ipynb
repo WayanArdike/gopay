{
 "cells": [
  {
   "cell_type": "markdown",
   "metadata": {
    "id": "niAYKrGqcgVr",
    "jp-MarkdownHeadingCollapsed": true
   },
   "source": [
    "# Scraping Data"
   ]
  },
  {
   "cell_type": "code",
   "execution_count": 1,
   "metadata": {
    "colab": {
     "base_uri": "https://localhost:8080/"
    },
    "id": "dhtkH1GJcde3",
    "outputId": "ed4bfffa-2dbf-4765-9ba3-e0c5f4910fbe"
   },
   "outputs": [
    {
     "name": "stdout",
     "output_type": "stream",
     "text": [
      "Collecting google-play-scraper\n",
      "  Downloading google_play_scraper-1.2.7-py3-none-any.whl.metadata (50 kB)\n",
      "Downloading google_play_scraper-1.2.7-py3-none-any.whl (28 kB)\n",
      "Installing collected packages: google-play-scraper\n",
      "Successfully installed google-play-scraper-1.2.7\n"
     ]
    }
   ],
   "source": [
    "!pip install google-play-scraper"
   ]
  },
  {
   "cell_type": "code",
   "execution_count": 2,
   "metadata": {
    "id": "a0c4O0JGdlZ9"
   },
   "outputs": [],
   "source": [
    "from google_play_scraper import Sort, reviews\n",
    "import pandas as pd"
   ]
  },
  {
   "cell_type": "code",
   "execution_count": 3,
   "metadata": {
    "id": "DkQ7crN4dw4b"
   },
   "outputs": [],
   "source": [
    "result = reviews(\n",
    "    'com.gojek.gopay',\n",
    "    lang='id',\n",
    "    country='id',\n",
    "    sort=Sort.MOST_RELEVANT,\n",
    "    count=7000\n",
    ")"
   ]
  },
  {
   "cell_type": "code",
   "execution_count": 4,
   "metadata": {
    "colab": {
     "base_uri": "https://localhost:8080/"
    },
    "id": "qJvb6D3FkzSO",
    "outputId": "d2e948f3-08af-4178-cbc2-174a32eaa65c"
   },
   "outputs": [
    {
     "name": "stdout",
     "output_type": "stream",
     "text": [
      "<class 'pandas.core.frame.DataFrame'>\n",
      "RangeIndex: 7000 entries, 0 to 6999\n",
      "Data columns (total 11 columns):\n",
      " #   Column                Non-Null Count  Dtype         \n",
      "---  ------                --------------  -----         \n",
      " 0   reviewId              7000 non-null   object        \n",
      " 1   userName              7000 non-null   object        \n",
      " 2   userImage             7000 non-null   object        \n",
      " 3   content               7000 non-null   object        \n",
      " 4   score                 7000 non-null   int64         \n",
      " 5   thumbsUpCount         7000 non-null   int64         \n",
      " 6   reviewCreatedVersion  6920 non-null   object        \n",
      " 7   at                    7000 non-null   datetime64[ns]\n",
      " 8   replyContent          4524 non-null   object        \n",
      " 9   repliedAt             4524 non-null   datetime64[ns]\n",
      " 10  appVersion            6920 non-null   object        \n",
      "dtypes: datetime64[ns](2), int64(2), object(7)\n",
      "memory usage: 601.7+ KB\n"
     ]
    }
   ],
   "source": [
    "result = pd.DataFrame(result[0])\n",
    "result.info()"
   ]
  },
  {
   "cell_type": "code",
   "execution_count": 5,
   "metadata": {
    "id": "HMVedn6ctDLU"
   },
   "outputs": [],
   "source": [
    "data = result.to_csv('result.csv', index=False)"
   ]
  },
  {
   "cell_type": "markdown",
   "metadata": {
    "id": "oBVAv_XJclag",
    "jp-MarkdownHeadingCollapsed": true
   },
   "source": [
    "# Data Cleaning"
   ]
  },
  {
   "cell_type": "code",
   "execution_count": 6,
   "metadata": {
    "id": "oj7ShY-BckwH"
   },
   "outputs": [],
   "source": [
    "data = pd.read_csv('result.csv')\n",
    "data = data.drop(['reviewId','userName', 'userImage', 'reviewCreatedVersion', 'replyContent', 'repliedAt'],axis=1)"
   ]
  },
  {
   "cell_type": "code",
   "execution_count": 7,
   "metadata": {
    "colab": {
     "base_uri": "https://localhost:8080/"
    },
    "id": "G89JwkOfn_Gl",
    "outputId": "7ab65654-00d4-420b-ea2c-410f842ec235"
   },
   "outputs": [
    {
     "name": "stdout",
     "output_type": "stream",
     "text": [
      "<class 'pandas.core.frame.DataFrame'>\n",
      "Index: 6920 entries, 0 to 6999\n",
      "Data columns (total 5 columns):\n",
      " #   Column         Non-Null Count  Dtype \n",
      "---  ------         --------------  ----- \n",
      " 0   content        6920 non-null   object\n",
      " 1   score          6920 non-null   int64 \n",
      " 2   thumbsUpCount  6920 non-null   int64 \n",
      " 3   at             6920 non-null   object\n",
      " 4   appVersion     6920 non-null   object\n",
      "dtypes: int64(2), object(3)\n",
      "memory usage: 324.4+ KB\n"
     ]
    }
   ],
   "source": [
    "data = data.drop_duplicates()\n",
    "data = data.dropna()\n",
    "\n",
    "data.info()"
   ]
  },
  {
   "cell_type": "code",
   "execution_count": 8,
   "metadata": {
    "colab": {
     "base_uri": "https://localhost:8080/"
    },
    "id": "KdQP1y-Grxf7",
    "outputId": "572080fb-82b2-48e8-f823-bde499289ca0"
   },
   "outputs": [
    {
     "name": "stdout",
     "output_type": "stream",
     "text": [
      "<class 'pandas.core.frame.DataFrame'>\n",
      "Index: 6920 entries, 0 to 6999\n",
      "Data columns (total 5 columns):\n",
      " #   Column         Non-Null Count  Dtype \n",
      "---  ------         --------------  ----- \n",
      " 0   content        6920 non-null   object\n",
      " 1   score          6920 non-null   int64 \n",
      " 2   thumbsUpCount  6920 non-null   int64 \n",
      " 3   appVersion     6920 non-null   object\n",
      " 4   month          6920 non-null   object\n",
      "dtypes: int64(2), object(3)\n",
      "memory usage: 324.4+ KB\n"
     ]
    }
   ],
   "source": [
    "data['at'] = pd.to_datetime(data['at'])\n",
    "data = data[data['at'].dt.year == 2025]\n",
    "\n",
    "data['month'] = data['at'].dt.month.astype('str')\n",
    "data = data.drop(columns=['at'], axis=1)\n",
    "data.info()"
   ]
  },
  {
   "cell_type": "code",
   "execution_count": 9,
   "metadata": {
    "colab": {
     "base_uri": "https://localhost:8080/",
     "height": 574
    },
    "id": "UnZrGNTUtjOp",
    "outputId": "7bb36f0d-23bf-4026-991f-1a40222b28e7"
   },
   "outputs": [
    {
     "data": {
      "text/html": [
       "<div>\n",
       "<style scoped>\n",
       "    .dataframe tbody tr th:only-of-type {\n",
       "        vertical-align: middle;\n",
       "    }\n",
       "\n",
       "    .dataframe tbody tr th {\n",
       "        vertical-align: top;\n",
       "    }\n",
       "\n",
       "    .dataframe thead th {\n",
       "        text-align: right;\n",
       "    }\n",
       "</style>\n",
       "<table border=\"1\" class=\"dataframe\">\n",
       "  <thead>\n",
       "    <tr style=\"text-align: right;\">\n",
       "      <th></th>\n",
       "      <th>content</th>\n",
       "      <th>score</th>\n",
       "      <th>thumbsUpCount</th>\n",
       "      <th>appVersion</th>\n",
       "      <th>month</th>\n",
       "    </tr>\n",
       "  </thead>\n",
       "  <tbody>\n",
       "    <tr>\n",
       "      <th>0</th>\n",
       "      <td>aplikasi nya udh bagus seperti yang lainnya ta...</td>\n",
       "      <td>2</td>\n",
       "      <td>16</td>\n",
       "      <td>1.56.1</td>\n",
       "      <td>8</td>\n",
       "    </tr>\n",
       "    <tr>\n",
       "      <th>1</th>\n",
       "      <td>Saya download aplikasi ini dan saat masukan no...</td>\n",
       "      <td>1</td>\n",
       "      <td>56</td>\n",
       "      <td>1.56.1</td>\n",
       "      <td>8</td>\n",
       "    </tr>\n",
       "    <tr>\n",
       "      <th>2</th>\n",
       "      <td>aplikasi gopay ini bagus tapi saat mau membaya...</td>\n",
       "      <td>2</td>\n",
       "      <td>10</td>\n",
       "      <td>1.56.1</td>\n",
       "      <td>8</td>\n",
       "    </tr>\n",
       "    <tr>\n",
       "      <th>3</th>\n",
       "      <td>aplikasinya bagus aja, cuma ad sedikit masalah...</td>\n",
       "      <td>3</td>\n",
       "      <td>24</td>\n",
       "      <td>1.56.1</td>\n",
       "      <td>8</td>\n",
       "    </tr>\n",
       "    <tr>\n",
       "      <th>4</th>\n",
       "      <td>Cukup kecewa update kali ini. Mengapa sistem b...</td>\n",
       "      <td>2</td>\n",
       "      <td>18</td>\n",
       "      <td>1.56.1</td>\n",
       "      <td>8</td>\n",
       "    </tr>\n",
       "  </tbody>\n",
       "</table>\n",
       "</div>"
      ],
      "text/plain": [
       "                                             content  score  thumbsUpCount  \\\n",
       "0  aplikasi nya udh bagus seperti yang lainnya ta...      2             16   \n",
       "1  Saya download aplikasi ini dan saat masukan no...      1             56   \n",
       "2  aplikasi gopay ini bagus tapi saat mau membaya...      2             10   \n",
       "3  aplikasinya bagus aja, cuma ad sedikit masalah...      3             24   \n",
       "4  Cukup kecewa update kali ini. Mengapa sistem b...      2             18   \n",
       "\n",
       "  appVersion month  \n",
       "0     1.56.1     8  \n",
       "1     1.56.1     8  \n",
       "2     1.56.1     8  \n",
       "3     1.56.1     8  \n",
       "4     1.56.1     8  "
      ]
     },
     "execution_count": 9,
     "metadata": {},
     "output_type": "execute_result"
    }
   ],
   "source": [
    "data.head()"
   ]
  },
  {
   "cell_type": "code",
   "execution_count": 10,
   "metadata": {
    "colab": {
     "base_uri": "https://localhost:8080/"
    },
    "id": "u-1EDhupOAop",
    "outputId": "29f7eb4d-cc27-44f3-e433-7422b37bd426"
   },
   "outputs": [
    {
     "name": "stdout",
     "output_type": "stream",
     "text": [
      "['1.56.1' '1.53.0' '1.57.0' '1.52.0' '1.54.0' '1.51.0' '1.49.1' '1.49.0'\n",
      " '1.48.0' '1.45.0' '1.47.0' '1.46.1' '1.44.0' '1.56.0' '1.39.0' '1.26.1'\n",
      " '1.15.1' '1.21.0' '1.27.0']\n"
     ]
    }
   ],
   "source": [
    "print(data['appVersion'].unique())"
   ]
  },
  {
   "cell_type": "code",
   "execution_count": 11,
   "metadata": {
    "colab": {
     "base_uri": "https://localhost:8080/",
     "height": 574
    },
    "id": "-AVJzxohONVQ",
    "outputId": "2e87c5b9-d82a-4575-8e88-d270e268602a"
   },
   "outputs": [
    {
     "data": {
      "text/html": [
       "<div>\n",
       "<style scoped>\n",
       "    .dataframe tbody tr th:only-of-type {\n",
       "        vertical-align: middle;\n",
       "    }\n",
       "\n",
       "    .dataframe tbody tr th {\n",
       "        vertical-align: top;\n",
       "    }\n",
       "\n",
       "    .dataframe thead th {\n",
       "        text-align: right;\n",
       "    }\n",
       "</style>\n",
       "<table border=\"1\" class=\"dataframe\">\n",
       "  <thead>\n",
       "    <tr style=\"text-align: right;\">\n",
       "      <th></th>\n",
       "      <th>content</th>\n",
       "      <th>score</th>\n",
       "      <th>thumbsUpCount</th>\n",
       "      <th>month</th>\n",
       "      <th>minorVersion</th>\n",
       "      <th>majorVersion</th>\n",
       "    </tr>\n",
       "  </thead>\n",
       "  <tbody>\n",
       "    <tr>\n",
       "      <th>0</th>\n",
       "      <td>aplikasi nya udh bagus seperti yang lainnya ta...</td>\n",
       "      <td>2</td>\n",
       "      <td>16</td>\n",
       "      <td>8</td>\n",
       "      <td>1.56.1</td>\n",
       "      <td>1.5</td>\n",
       "    </tr>\n",
       "    <tr>\n",
       "      <th>1</th>\n",
       "      <td>Saya download aplikasi ini dan saat masukan no...</td>\n",
       "      <td>1</td>\n",
       "      <td>56</td>\n",
       "      <td>8</td>\n",
       "      <td>1.56.1</td>\n",
       "      <td>1.5</td>\n",
       "    </tr>\n",
       "    <tr>\n",
       "      <th>2</th>\n",
       "      <td>aplikasi gopay ini bagus tapi saat mau membaya...</td>\n",
       "      <td>2</td>\n",
       "      <td>10</td>\n",
       "      <td>8</td>\n",
       "      <td>1.56.1</td>\n",
       "      <td>1.5</td>\n",
       "    </tr>\n",
       "    <tr>\n",
       "      <th>3</th>\n",
       "      <td>aplikasinya bagus aja, cuma ad sedikit masalah...</td>\n",
       "      <td>3</td>\n",
       "      <td>24</td>\n",
       "      <td>8</td>\n",
       "      <td>1.56.1</td>\n",
       "      <td>1.5</td>\n",
       "    </tr>\n",
       "    <tr>\n",
       "      <th>4</th>\n",
       "      <td>Cukup kecewa update kali ini. Mengapa sistem b...</td>\n",
       "      <td>2</td>\n",
       "      <td>18</td>\n",
       "      <td>8</td>\n",
       "      <td>1.56.1</td>\n",
       "      <td>1.5</td>\n",
       "    </tr>\n",
       "  </tbody>\n",
       "</table>\n",
       "</div>"
      ],
      "text/plain": [
       "                                             content  score  thumbsUpCount  \\\n",
       "0  aplikasi nya udh bagus seperti yang lainnya ta...      2             16   \n",
       "1  Saya download aplikasi ini dan saat masukan no...      1             56   \n",
       "2  aplikasi gopay ini bagus tapi saat mau membaya...      2             10   \n",
       "3  aplikasinya bagus aja, cuma ad sedikit masalah...      3             24   \n",
       "4  Cukup kecewa update kali ini. Mengapa sistem b...      2             18   \n",
       "\n",
       "  month minorVersion majorVersion  \n",
       "0     8       1.56.1          1.5  \n",
       "1     8       1.56.1          1.5  \n",
       "2     8       1.56.1          1.5  \n",
       "3     8       1.56.1          1.5  \n",
       "4     8       1.56.1          1.5  "
      ]
     },
     "execution_count": 11,
     "metadata": {},
     "output_type": "execute_result"
    }
   ],
   "source": [
    "data['minorVersion'] = data['appVersion']\n",
    "data = data.drop(columns=['appVersion'], axis=1)\n",
    "data['majorVersion'] = data['minorVersion'].str[:3]\n",
    "data.head()"
   ]
  },
  {
   "cell_type": "code",
   "execution_count": 12,
   "metadata": {
    "colab": {
     "base_uri": "https://localhost:8080/"
    },
    "id": "n_uo7FAHRiSV",
    "outputId": "fe3cdf19-4038-40c6-d0b3-aa2652214deb"
   },
   "outputs": [
    {
     "name": "stdout",
     "output_type": "stream",
     "text": [
      "['1.5' '1.4' '1.3' '1.2' '1.1']\n"
     ]
    }
   ],
   "source": [
    "print(data['majorVersion'].unique())"
   ]
  },
  {
   "cell_type": "markdown",
   "metadata": {
    "id": "FiF_ZVdRcrBH",
    "jp-MarkdownHeadingCollapsed": true
   },
   "source": [
    "# Exploratory Data Analysis"
   ]
  },
  {
   "cell_type": "code",
   "execution_count": 13,
   "metadata": {
    "id": "CSxUlHmfcqun"
   },
   "outputs": [],
   "source": [
    "import seaborn as sns\n",
    "import matplotlib.pyplot as plt"
   ]
  },
  {
   "cell_type": "code",
   "execution_count": 14,
   "metadata": {
    "colab": {
     "base_uri": "https://localhost:8080/",
     "height": 320
    },
    "id": "sCfzFIcohRLi",
    "outputId": "ce55d99f-4700-4d38-8bef-bc4f7398d954"
   },
   "outputs": [
    {
     "data": {
      "text/html": [
       "<div>\n",
       "<style scoped>\n",
       "    .dataframe tbody tr th:only-of-type {\n",
       "        vertical-align: middle;\n",
       "    }\n",
       "\n",
       "    .dataframe tbody tr th {\n",
       "        vertical-align: top;\n",
       "    }\n",
       "\n",
       "    .dataframe thead th {\n",
       "        text-align: right;\n",
       "    }\n",
       "</style>\n",
       "<table border=\"1\" class=\"dataframe\">\n",
       "  <thead>\n",
       "    <tr style=\"text-align: right;\">\n",
       "      <th></th>\n",
       "      <th>score</th>\n",
       "      <th>thumbsUpCount</th>\n",
       "    </tr>\n",
       "  </thead>\n",
       "  <tbody>\n",
       "    <tr>\n",
       "      <th>count</th>\n",
       "      <td>6920.000000</td>\n",
       "      <td>6920.000000</td>\n",
       "    </tr>\n",
       "    <tr>\n",
       "      <th>mean</th>\n",
       "      <td>2.619798</td>\n",
       "      <td>6.475145</td>\n",
       "    </tr>\n",
       "    <tr>\n",
       "      <th>std</th>\n",
       "      <td>1.781158</td>\n",
       "      <td>32.620457</td>\n",
       "    </tr>\n",
       "    <tr>\n",
       "      <th>min</th>\n",
       "      <td>1.000000</td>\n",
       "      <td>0.000000</td>\n",
       "    </tr>\n",
       "    <tr>\n",
       "      <th>25%</th>\n",
       "      <td>1.000000</td>\n",
       "      <td>0.000000</td>\n",
       "    </tr>\n",
       "    <tr>\n",
       "      <th>50%</th>\n",
       "      <td>2.000000</td>\n",
       "      <td>0.000000</td>\n",
       "    </tr>\n",
       "    <tr>\n",
       "      <th>75%</th>\n",
       "      <td>5.000000</td>\n",
       "      <td>2.000000</td>\n",
       "    </tr>\n",
       "    <tr>\n",
       "      <th>max</th>\n",
       "      <td>5.000000</td>\n",
       "      <td>1419.000000</td>\n",
       "    </tr>\n",
       "  </tbody>\n",
       "</table>\n",
       "</div>"
      ],
      "text/plain": [
       "             score  thumbsUpCount\n",
       "count  6920.000000    6920.000000\n",
       "mean      2.619798       6.475145\n",
       "std       1.781158      32.620457\n",
       "min       1.000000       0.000000\n",
       "25%       1.000000       0.000000\n",
       "50%       2.000000       0.000000\n",
       "75%       5.000000       2.000000\n",
       "max       5.000000    1419.000000"
      ]
     },
     "execution_count": 14,
     "metadata": {},
     "output_type": "execute_result"
    }
   ],
   "source": [
    "data.describe()"
   ]
  },
  {
   "cell_type": "code",
   "execution_count": 15,
   "metadata": {
    "colab": {
     "base_uri": "https://localhost:8080/",
     "height": 106
    },
    "id": "NOKpg9LFhjED",
    "outputId": "f4fe2c3c-f200-4556-b359-dcf22449a66a"
   },
   "outputs": [
    {
     "data": {
      "text/plain": [
       "<Axes: xlabel='score', ylabel='count'>"
      ]
     },
     "execution_count": 15,
     "metadata": {},
     "output_type": "execute_result"
    },
    {
     "data": {
      "image/png": "[encoded data removed]",
      "text/plain": [
       "<Figure size 640x480 with 1 Axes>"
      ]
     },
     "metadata": {},
     "output_type": "display_data"
    }
   ],
   "source": [
    "sns.countplot(data=data, x='score')"
   ]
  },
  {
   "cell_type": "code",
   "execution_count": 16,
   "metadata": {
    "colab": {
     "base_uri": "https://localhost:8080/",
     "height": 106
    },
    "id": "MdNXDAGFh3wr",
    "outputId": "04b07c51-eea7-4164-9daf-254e1c6baf07"
   },
   "outputs": [
    {
     "data": {
      "text/plain": [
       "<Axes: xlabel='month', ylabel='count'>"
      ]
     },
     "execution_count": 16,
     "metadata": {},
     "output_type": "execute_result"
    },
    {
     "data": {
      "image/png": "[encoded data removed]",
      "text/plain": [
       "<Figure size 640x480 with 1 Axes>"
      ]
     },
     "metadata": {},
     "output_type": "display_data"
    }
   ],
   "source": [
    "sns.countplot(data=data, x='month')"
   ]
  },
  {
   "cell_type": "code",
   "execution_count": 17,
   "metadata": {
    "colab": {
     "base_uri": "https://localhost:8080/",
     "height": 106
    },
    "id": "dKhFklp1h7h_",
    "outputId": "d6c7be90-1261-4bbe-97ec-18ad3af85039"
   },
   "outputs": [
    {
     "data": {
      "text/plain": [
       "<Axes: xlabel='majorVersion', ylabel='count'>"
      ]
     },
     "execution_count": 17,
     "metadata": {},
     "output_type": "execute_result"
    },
    {
     "data": {
      "image/png": "[encoded data removed]",
      "text/plain": [
       "<Figure size 640x480 with 1 Axes>"
      ]
     },
     "metadata": {},
     "output_type": "display_data"
    }
   ],
   "source": [
    "sns.countplot(data=data, x='majorVersion')"
   ]
  },
  {
   "cell_type": "code",
   "execution_count": 18,
   "metadata": {
    "colab": {
     "base_uri": "https://localhost:8080/",
     "height": 106
    },
    "id": "22A0-j0WlzMN",
    "outputId": "727f6f48-8baa-4ece-f87f-dbfdfe1acc8f"
   },
   "outputs": [
    {
     "data": {
      "text/plain": [
       "<Axes: xlabel='score', ylabel='thumbsUpCount'>"
      ]
     },
     "execution_count": 18,
     "metadata": {},
     "output_type": "execute_result"
    },
    {
     "data": {
      "image/png": "[encoded data removed]",
      "text/plain": [
       "<Figure size 640x480 with 1 Axes>"
      ]
     },
     "metadata": {},
     "output_type": "display_data"
    }
   ],
   "source": [
    "sns.barplot(data=data, x='score', y='thumbsUpCount')"
   ]
  },
  {
   "cell_type": "code",
   "execution_count": 19,
   "metadata": {
    "colab": {
     "base_uri": "https://localhost:8080/",
     "height": 106
    },
    "id": "m3pQtULkiBKi",
    "outputId": "1a1e6ab2-82d5-4b6d-eabf-08cd29173457"
   },
   "outputs": [
    {
     "data": {
      "text/plain": [
       "<Axes: xlabel='majorVersion', ylabel='score'>"
      ]
     },
     "execution_count": 19,
     "metadata": {},
     "output_type": "execute_result"
    },
    {
     "data": {
      "image/png": "[encoded data removed]",
      "text/plain": [
       "<Figure size 640x480 with 1 Axes>"
      ]
     },
     "metadata": {},
     "output_type": "display_data"
    }
   ],
   "source": [
    "sns.barplot(data=data, x='majorVersion', y='score')"
   ]
  },
  {
   "cell_type": "code",
   "execution_count": 20,
   "metadata": {
    "colab": {
     "base_uri": "https://localhost:8080/",
     "height": 106
    },
    "id": "fWBxQj5ki2Zt",
    "outputId": "346e7913-3d31-49ca-bf6b-f92f3f8e2067"
   },
   "outputs": [
    {
     "data": {
      "text/plain": [
       "<Axes: xlabel='month', ylabel='Count'>"
      ]
     },
     "execution_count": 20,
     "metadata": {},
     "output_type": "execute_result"
    },
    {
     "data": {
      "image/png": "[encoded data removed]",
      "text/plain": [
       "<Figure size 640x480 with 1 Axes>"
      ]
     },
     "metadata": {},
     "output_type": "display_data"
    }
   ],
   "source": [
    "sns.histplot(data=data, x='month', hue='majorVersion', multiple=\"stack\")"
   ]
  },
  {
   "cell_type": "code",
   "execution_count": 21,
   "metadata": {
    "colab": {
     "base_uri": "https://localhost:8080/",
     "height": 258
    },
    "id": "yaWROCOdpkic",
    "outputId": "43478bf3-76aa-417f-a613-2b17d98ad72b"
   },
   "outputs": [
    {
     "data": {
      "text/html": [
       "<div>\n",
       "<style scoped>\n",
       "    .dataframe tbody tr th:only-of-type {\n",
       "        vertical-align: middle;\n",
       "    }\n",
       "\n",
       "    .dataframe tbody tr th {\n",
       "        vertical-align: top;\n",
       "    }\n",
       "\n",
       "    .dataframe thead th {\n",
       "        text-align: right;\n",
       "    }\n",
       "</style>\n",
       "<table border=\"1\" class=\"dataframe\">\n",
       "  <thead>\n",
       "    <tr style=\"text-align: right;\">\n",
       "      <th>month</th>\n",
       "      <th>3</th>\n",
       "      <th>4</th>\n",
       "      <th>5</th>\n",
       "      <th>6</th>\n",
       "      <th>7</th>\n",
       "      <th>8</th>\n",
       "    </tr>\n",
       "    <tr>\n",
       "      <th>majorVersion</th>\n",
       "      <th></th>\n",
       "      <th></th>\n",
       "      <th></th>\n",
       "      <th></th>\n",
       "      <th></th>\n",
       "      <th></th>\n",
       "    </tr>\n",
       "  </thead>\n",
       "  <tbody>\n",
       "    <tr>\n",
       "      <th>1.1</th>\n",
       "      <td>NaN</td>\n",
       "      <td>NaN</td>\n",
       "      <td>NaN</td>\n",
       "      <td>NaN</td>\n",
       "      <td>NaN</td>\n",
       "      <td>1.000000</td>\n",
       "    </tr>\n",
       "    <tr>\n",
       "      <th>1.2</th>\n",
       "      <td>NaN</td>\n",
       "      <td>NaN</td>\n",
       "      <td>5.00000</td>\n",
       "      <td>1.000000</td>\n",
       "      <td>NaN</td>\n",
       "      <td>2.000000</td>\n",
       "    </tr>\n",
       "    <tr>\n",
       "      <th>1.3</th>\n",
       "      <td>NaN</td>\n",
       "      <td>NaN</td>\n",
       "      <td>NaN</td>\n",
       "      <td>NaN</td>\n",
       "      <td>2.000000</td>\n",
       "      <td>NaN</td>\n",
       "    </tr>\n",
       "    <tr>\n",
       "      <th>1.4</th>\n",
       "      <td>2.101266</td>\n",
       "      <td>2.443396</td>\n",
       "      <td>2.36715</td>\n",
       "      <td>2.334083</td>\n",
       "      <td>2.724638</td>\n",
       "      <td>3.022222</td>\n",
       "    </tr>\n",
       "    <tr>\n",
       "      <th>1.5</th>\n",
       "      <td>NaN</td>\n",
       "      <td>NaN</td>\n",
       "      <td>NaN</td>\n",
       "      <td>2.157509</td>\n",
       "      <td>2.728496</td>\n",
       "      <td>2.862382</td>\n",
       "    </tr>\n",
       "  </tbody>\n",
       "</table>\n",
       "</div>"
      ],
      "text/plain": [
       "month                3         4        5         6         7         8\n",
       "majorVersion                                                           \n",
       "1.1                NaN       NaN      NaN       NaN       NaN  1.000000\n",
       "1.2                NaN       NaN  5.00000  1.000000       NaN  2.000000\n",
       "1.3                NaN       NaN      NaN       NaN  2.000000       NaN\n",
       "1.4           2.101266  2.443396  2.36715  2.334083  2.724638  3.022222\n",
       "1.5                NaN       NaN      NaN  2.157509  2.728496  2.862382"
      ]
     },
     "execution_count": 21,
     "metadata": {},
     "output_type": "execute_result"
    }
   ],
   "source": [
    "data.pivot_table(index='majorVersion',\n",
    "                columns='month',\n",
    "                values='score',\n",
    "                aggfunc='mean')"
   ]
  },
  {
   "cell_type": "markdown",
   "metadata": {
    "id": "tddzMp7Hc9Xg",
    "jp-MarkdownHeadingCollapsed": true
   },
   "source": [
    "# Sentiment Analysis"
   ]
  },
  {
   "cell_type": "code",
   "execution_count": 22,
   "metadata": {
    "colab": {
     "base_uri": "https://localhost:8080/"
    },
    "id": "nft-a182nCvQ",
    "outputId": "e6a8f1a0-1149-43af-fe7b-ff3c5794dc99"
   },
   "outputs": [
    {
     "name": "stdout",
     "output_type": "stream",
     "text": [
      "Requirement already satisfied: tqdm in /opt/conda/lib/python3.12/site-packages (4.67.1)\n"
     ]
    }
   ],
   "source": [
    "!pip install tqdm"
   ]
  },
  {
   "cell_type": "code",
   "execution_count": 23,
   "metadata": {},
   "outputs": [
    {
     "name": "stdout",
     "output_type": "stream",
     "text": [
      "Collecting nltk\n",
      "  Downloading nltk-3.9.1-py3-none-any.whl.metadata (2.9 kB)\n",
      "Requirement already satisfied: click in /opt/conda/lib/python3.12/site-packages (from nltk) (8.2.1)\n",
      "Requirement already satisfied: joblib in /opt/conda/lib/python3.12/site-packages (from nltk) (1.5.1)\n",
      "Collecting regex>=2021.8.3 (from nltk)\n",
      "  Downloading regex-2025.8.29-cp312-cp312-manylinux2014_x86_64.manylinux_2_17_x86_64.manylinux_2_28_x86_64.whl.metadata (40 kB)\n",
      "Requirement already satisfied: tqdm in /opt/conda/lib/python3.12/site-packages (from nltk) (4.67.1)\n",
      "Downloading nltk-3.9.1-py3-none-any.whl (1.5 MB)\n",
      "\u001b[2K   \u001b[90m━━━━━━━━━━━━━━━━━━━━━━━━━━━━━━━━━━━━━━━━\u001b[0m \u001b[32m1.5/1.5 MB\u001b[0m \u001b[31m82.9 MB/s\u001b[0m eta \u001b[36m0:00:00\u001b[0m\n",
      "\u001b[?25hDownloading regex-2025.8.29-cp312-cp312-manylinux2014_x86_64.manylinux_2_17_x86_64.manylinux_2_28_x86_64.whl (801 kB)\n",
      "\u001b[2K   \u001b[90m━━━━━━━━━━━━━━━━━━━━━━━━━━━━━━━━━━━━━━━━\u001b[0m \u001b[32m802.0/802.0 kB\u001b[0m \u001b[31m58.8 MB/s\u001b[0m eta \u001b[36m0:00:00\u001b[0m\n",
      "\u001b[?25hInstalling collected packages: regex, nltk\n",
      "\u001b[2K   \u001b[90m━━━━━━━━━━━━━━━━━━━━━━━━━━━━━━━━━━━━━━━━\u001b[0m \u001b[32m2/2\u001b[0m [nltk][32m1/2\u001b[0m [nltk]\n",
      "\u001b[1A\u001b[2KSuccessfully installed nltk-3.9.1 regex-2025.8.29\n"
     ]
    }
   ],
   "source": [
    "!pip install nltk"
   ]
  },
  {
   "cell_type": "code",
   "execution_count": 24,
   "metadata": {},
   "outputs": [
    {
     "name": "stdout",
     "output_type": "stream",
     "text": [
      "Collecting transformers\n",
      "  Downloading transformers-4.56.0-py3-none-any.whl.metadata (40 kB)\n",
      "Requirement already satisfied: filelock in /opt/conda/lib/python3.12/site-packages (from transformers) (3.13.1)\n",
      "Collecting huggingface-hub<1.0,>=0.34.0 (from transformers)\n",
      "  Downloading huggingface_hub-0.34.4-py3-none-any.whl.metadata (14 kB)\n",
      "Requirement already satisfied: numpy>=1.17 in /opt/conda/lib/python3.12/site-packages (from transformers) (2.2.6)\n",
      "Requirement already satisfied: packaging>=20.0 in /opt/conda/lib/python3.12/site-packages (from transformers) (25.0)\n",
      "Requirement already satisfied: pyyaml>=5.1 in /opt/conda/lib/python3.12/site-packages (from transformers) (6.0.2)\n",
      "Requirement already satisfied: regex!=2019.12.17 in /opt/conda/lib/python3.12/site-packages (from transformers) (2025.8.29)\n",
      "Requirement already satisfied: requests in /opt/conda/lib/python3.12/site-packages (from transformers) (2.32.4)\n",
      "Collecting tokenizers<=0.23.0,>=0.22.0 (from transformers)\n",
      "  Downloading tokenizers-0.22.0-cp39-abi3-manylinux_2_17_x86_64.manylinux2014_x86_64.whl.metadata (6.8 kB)\n",
      "Collecting safetensors>=0.4.3 (from transformers)\n",
      "  Downloading safetensors-0.6.2-cp38-abi3-manylinux_2_17_x86_64.manylinux2014_x86_64.whl.metadata (4.1 kB)\n",
      "Requirement already satisfied: tqdm>=4.27 in /opt/conda/lib/python3.12/site-packages (from transformers) (4.67.1)\n",
      "Requirement already satisfied: fsspec>=2023.5.0 in /opt/conda/lib/python3.12/site-packages (from huggingface-hub<1.0,>=0.34.0->transformers) (2025.5.1)\n",
      "Requirement already satisfied: typing-extensions>=3.7.4.3 in /opt/conda/lib/python3.12/site-packages (from huggingface-hub<1.0,>=0.34.0->transformers) (4.14.0)\n",
      "Collecting hf-xet<2.0.0,>=1.1.3 (from huggingface-hub<1.0,>=0.34.0->transformers)\n",
      "  Downloading hf_xet-1.1.9-cp37-abi3-manylinux_2_17_x86_64.manylinux2014_x86_64.whl.metadata (4.7 kB)\n",
      "Requirement already satisfied: charset_normalizer<4,>=2 in /opt/conda/lib/python3.12/site-packages (from requests->transformers) (3.4.2)\n",
      "Requirement already satisfied: idna<4,>=2.5 in /opt/conda/lib/python3.12/site-packages (from requests->transformers) (3.10)\n",
      "Requirement already satisfied: urllib3<3,>=1.21.1 in /opt/conda/lib/python3.12/site-packages (from requests->transformers) (2.5.0)\n",
      "Requirement already satisfied: certifi>=2017.4.17 in /opt/conda/lib/python3.12/site-packages (from requests->transformers) (2025.6.15)\n",
      "Downloading transformers-4.56.0-py3-none-any.whl (11.6 MB)\n",
      "\u001b[2K   \u001b[90m━━━━━━━━━━━━━━━━━━━━━━━━━━━━━━━━━━━━━━━━\u001b[0m \u001b[32m11.6/11.6 MB\u001b[0m \u001b[31m82.9 MB/s\u001b[0m eta \u001b[36m0:00:00\u001b[0m\n",
      "\u001b[?25hDownloading huggingface_hub-0.34.4-py3-none-any.whl (561 kB)\n",
      "\u001b[2K   \u001b[90m━━━━━━━━━━━━━━━━━━━━━━━━━━━━━━━━━━━━━━━━\u001b[0m \u001b[32m561.5/561.5 kB\u001b[0m \u001b[31m40.1 MB/s\u001b[0m eta \u001b[36m0:00:00\u001b[0m\n",
      "\u001b[?25hDownloading hf_xet-1.1.9-cp37-abi3-manylinux_2_17_x86_64.manylinux2014_x86_64.whl (3.2 MB)\n",
      "\u001b[2K   \u001b[90m━━━━━━━━━━━━━━━━━━━━━━━━━━━━━━━━━━━━━━━━\u001b[0m \u001b[32m3.2/3.2 MB\u001b[0m \u001b[31m80.0 MB/s\u001b[0m eta \u001b[36m0:00:00\u001b[0m\n",
      "\u001b[?25hDownloading tokenizers-0.22.0-cp39-abi3-manylinux_2_17_x86_64.manylinux2014_x86_64.whl (3.3 MB)\n",
      "\u001b[2K   \u001b[90m━━━━━━━━━━━━━━━━━━━━━━━━━━━━━━━━━━━━━━━━\u001b[0m \u001b[32m3.3/3.3 MB\u001b[0m \u001b[31m84.9 MB/s\u001b[0m eta \u001b[36m0:00:00\u001b[0m\n",
      "\u001b[?25hDownloading safetensors-0.6.2-cp38-abi3-manylinux_2_17_x86_64.manylinux2014_x86_64.whl (485 kB)\n",
      "Installing collected packages: safetensors, hf-xet, huggingface-hub, tokenizers, transformers\n",
      "\u001b[2K   \u001b[90m━━━━━━━━━━━━━━━━━━━━━━━━━━━━━━━━━━━━━━━━\u001b[0m \u001b[32m5/5\u001b[0m [transformers][0m [transformers]\n",
      "\u001b[1A\u001b[2KSuccessfully installed hf-xet-1.1.9 huggingface-hub-0.34.4 safetensors-0.6.2 tokenizers-0.22.0 transformers-4.56.0\n"
     ]
    }
   ],
   "source": [
    "!pip install transformers"
   ]
  },
  {
   "cell_type": "code",
   "execution_count": 25,
   "metadata": {
    "colab": {
     "base_uri": "https://localhost:8080/"
    },
    "id": "_NrdGqDPc9DS",
    "outputId": "9c902d8a-f2de-465f-d255-27634fd384c3"
   },
   "outputs": [
    {
     "name": "stderr",
     "output_type": "stream",
     "text": [
      "[nltk_data] Downloading package punkt_tab to /home/jovyan/nltk_data...\n",
      "[nltk_data]   Unzipping tokenizers/punkt_tab.zip.\n",
      "[nltk_data] Downloading package stopwords to /home/jovyan/nltk_data...\n",
      "[nltk_data]   Unzipping corpora/stopwords.zip.\n",
      "[nltk_data] Downloading package wordnet to /home/jovyan/nltk_data...\n"
     ]
    }
   ],
   "source": [
    "import re\n",
    "import string\n",
    "from tqdm import tqdm\n",
    "import nltk\n",
    "nltk.download('punkt_tab')\n",
    "nltk.download('stopwords')\n",
    "nltk.download('wordnet')\n",
    "from nltk.corpus import stopwords\n",
    "from nltk.tokenize import word_tokenize\n",
    "from nltk.stem import WordNetLemmatizer\n",
    "from transformers import pipeline\n",
    "tqdm.pandas()\n",
    "import asyncio\n",
    "import time\n",
    "import transformers"
   ]
  },
  {
   "cell_type": "code",
   "execution_count": 42,
   "metadata": {},
   "outputs": [
    {
     "name": "stderr",
     "output_type": "stream",
     "text": [
      "Device set to use cuda:0\n"
     ]
    },
    {
     "data": {
      "application/vnd.jupyter.widget-view+json": {
       "model_id": "b2bdce9a71284369a0597342b1726270",
       "version_major": 2,
       "version_minor": 0
      },
      "text/plain": [
       "config.json:   0%|          | 0.00/687 [00:00<?, ?B/s]"
      ]
     },
     "metadata": {},
     "output_type": "display_data"
    },
    {
     "data": {
      "application/vnd.jupyter.widget-view+json": {
       "model_id": "af00df37c2fe4044a9cc1b3df8adc7e1",
       "version_major": 2,
       "version_minor": 0
      },
      "text/plain": [
       "pytorch_model.bin:   0%|          | 0.00/1.42G [00:00<?, ?B/s]"
      ]
     },
     "metadata": {},
     "output_type": "display_data"
    },
    {
     "data": {
      "application/vnd.jupyter.widget-view+json": {
       "model_id": "a4f811f276994e5cb7a6089b267622bf",
       "version_major": 2,
       "version_minor": 0
      },
      "text/plain": [
       "tokenizer_config.json:   0%|          | 0.00/256 [00:00<?, ?B/s]"
      ]
     },
     "metadata": {},
     "output_type": "display_data"
    },
    {
     "data": {
      "application/vnd.jupyter.widget-view+json": {
       "model_id": "e2a2700258fe4d5dbb6b80dfff9a1586",
       "version_major": 2,
       "version_minor": 0
      },
      "text/plain": [
       "vocab.json: 0.00B [00:00, ?B/s]"
      ]
     },
     "metadata": {},
     "output_type": "display_data"
    },
    {
     "data": {
      "application/vnd.jupyter.widget-view+json": {
       "model_id": "6dc83ec1e16543398f7fd36c5cb1c3f8",
       "version_major": 2,
       "version_minor": 0
      },
      "text/plain": [
       "merges.txt: 0.00B [00:00, ?B/s]"
      ]
     },
     "metadata": {},
     "output_type": "display_data"
    },
    {
     "data": {
      "application/vnd.jupyter.widget-view+json": {
       "model_id": "3928f6637d904f5fa4260c9a1225d9df",
       "version_major": 2,
       "version_minor": 0
      },
      "text/plain": [
       "model.safetensors:   0%|          | 0.00/1.42G [00:00<?, ?B/s]"
      ]
     },
     "metadata": {},
     "output_type": "display_data"
    },
    {
     "data": {
      "application/vnd.jupyter.widget-view+json": {
       "model_id": "2aa445d22ec24ec6bcaee15f9cf48198",
       "version_major": 2,
       "version_minor": 0
      },
      "text/plain": [
       "special_tokens_map.json:   0%|          | 0.00/150 [00:00<?, ?B/s]"
      ]
     },
     "metadata": {},
     "output_type": "display_data"
    },
    {
     "name": "stderr",
     "output_type": "stream",
     "text": [
      "Device set to use cuda:0\n"
     ]
    }
   ],
   "source": [
    "translator = pipeline(\n",
    "    \"translation\",\n",
    "    model=\"facebook/nllb-200-distilled-600M\",\n",
    "    src_lang=\"ind_Latn\",\n",
    "    tgt_lang=\"eng_Latn\"\n",
    ")\n",
    "\n",
    "pipe = pipeline(\"text-classification\", model=\"siebert/sentiment-roberta-large-english\")"
   ]
  },
  {
   "cell_type": "code",
   "execution_count": 43,
   "metadata": {
    "colab": {
     "base_uri": "https://localhost:8080/"
    },
    "id": "vtkyloW-mf9v",
    "outputId": "d2275ffe-7ebf-4e8e-80b8-7794517644d5"
   },
   "outputs": [],
   "source": [
    "def translate(text):\n",
    "  return translator(text)[0][\"translation_text\"]\n",
    "\n",
    "def cleaningText(text):\n",
    "    text = re.sub(r'@[A-Za-z0-9]+', '', text)\n",
    "    text = re.sub(r'#[A-Za-z0-9]+', '', text)\n",
    "    text = re.sub(r'RT[\\s]', '', text)\n",
    "    text = re.sub(r\"http\\S+\", '', text)\n",
    "    text = re.sub(r'[0-9]+', '', text)\n",
    "    text = re.sub(r'[^\\w\\s]', '', text)\n",
    "\n",
    "    text = text.replace('\\n', ' ')\n",
    "    text = text.translate(str.maketrans('', '', string.punctuation))\n",
    "    text = text.strip(' ')\n",
    "    return text\n",
    "\n",
    "def casefoldingText(text):\n",
    "    text = text.lower()\n",
    "    return text\n",
    "\n",
    "def tokenizing(text):\n",
    "  tokens = word_tokenize(text)\n",
    "  return tokens\n",
    "\n",
    "def stopwordstext(text):\n",
    "  stop_words = set(stopwords.words('english'))\n",
    "  filtered_tokens = [word for word in text if word not in stop_words]\n",
    "  return filtered_tokens\n",
    "\n",
    "def lemitizing(text):\n",
    "  lemmatizer = WordNetLemmatizer()\n",
    "  processed_text = [lemmatizer.lemmatize(word) for word in text]\n",
    "  processed_text = \" \".join(processed_text)\n",
    "  return processed_text\n",
    "\n",
    "def sentimenttext(text):\n",
    "  result = pipe(text)\n",
    "  return result[0]['label']"
   ]
  },
  {
   "cell_type": "code",
   "execution_count": null,
   "metadata": {
    "colab": {
     "base_uri": "https://localhost:8080/"
    },
    "id": "rRRfFYqbm0R6",
    "outputId": "38860b27-2455-4679-f5b6-c0db7ff538b3"
   },
   "outputs": [
    {
     "name": "stderr",
     "output_type": "stream",
     "text": [
      "  2% 133/6920 [00:36<34:59,  3.23it/s]"
     ]
    }
   ],
   "source": [
    "docs = pd.DataFrame(data['content'].reset_index(drop=True), columns=['content'])\n",
    "\n",
    "docs['text_translate'] = docs['content'].progress_apply(translate)\n",
    "docs['text_clean'] = docs['text_translate'].progress_apply(cleaningText)\n",
    "docs['text_lower'] = docs['text_clean'].progress_apply(casefoldingText)\n",
    "docs['text_tokenizing'] = docs['text_lower'].progress_apply(tokenizing)\n",
    "docs['text_stopwords'] = docs['text_tokenizing'].progress_apply(stopwordstext)\n",
    "docs['text_lemitizing'] = docs['text_stopwords'].progress_apply(lemitizing)\n",
    "docs['text_label'] = docs['text_lemitizing'].progress_apply(sentimenttext)"
   ]
  },
  {
   "cell_type": "code",
   "execution_count": 29,
   "metadata": {
    "colab": {
     "base_uri": "https://localhost:8080/",
     "height": 1000
    },
    "id": "SOgMYCj5mtjB",
    "outputId": "8f025b3c-bfb7-48ac-d05b-835571b41ad9"
   },
   "outputs": [
    {
     "data": {
      "text/html": [
       "<div>\n",
       "<style scoped>\n",
       "    .dataframe tbody tr th:only-of-type {\n",
       "        vertical-align: middle;\n",
       "    }\n",
       "\n",
       "    .dataframe tbody tr th {\n",
       "        vertical-align: top;\n",
       "    }\n",
       "\n",
       "    .dataframe thead th {\n",
       "        text-align: right;\n",
       "    }\n",
       "</style>\n",
       "<table border=\"1\" class=\"dataframe\">\n",
       "  <thead>\n",
       "    <tr style=\"text-align: right;\">\n",
       "      <th></th>\n",
       "      <th>content</th>\n",
       "      <th>text_translate</th>\n",
       "      <th>text_clean</th>\n",
       "      <th>text_lower</th>\n",
       "      <th>text_tokenizing</th>\n",
       "      <th>text_stopwords</th>\n",
       "      <th>text_lemitizing</th>\n",
       "      <th>text_label</th>\n",
       "    </tr>\n",
       "  </thead>\n",
       "  <tbody>\n",
       "    <tr>\n",
       "      <th>0</th>\n",
       "      <td>aplikasi nya udh bagus seperti yang lainnya ta...</td>\n",
       "      <td>The app is just as good as the others, but the...</td>\n",
       "      <td>The app is just as good as the others but ther...</td>\n",
       "      <td>the app is just as good as the others but ther...</td>\n",
       "      <td>[the, app, is, just, as, good, as, the, others...</td>\n",
       "      <td>[app, good, others, theres, lot, weirdness, li...</td>\n",
       "      <td>app good others there lot weirdness like spin ...</td>\n",
       "      <td>NEGATIVE</td>\n",
       "    </tr>\n",
       "    <tr>\n",
       "      <th>1</th>\n",
       "      <td>Saya download aplikasi ini dan saat masukan no...</td>\n",
       "      <td>I downloaded this app and when I entered the n...</td>\n",
       "      <td>I downloaded this app and when I entered the n...</td>\n",
       "      <td>i downloaded this app and when i entered the n...</td>\n",
       "      <td>[i, downloaded, this, app, and, when, i, enter...</td>\n",
       "      <td>[downloaded, app, entered, number, otp, code, ...</td>\n",
       "      <td>downloaded app entered number otp code worked ...</td>\n",
       "      <td>NEGATIVE</td>\n",
       "    </tr>\n",
       "    <tr>\n",
       "      <th>2</th>\n",
       "      <td>aplikasi gopay ini bagus tapi saat mau membaya...</td>\n",
       "      <td>This gopay app is great, but when I want to pa...</td>\n",
       "      <td>This gopay app is great but when I want to pay...</td>\n",
       "      <td>this gopay app is great but when i want to pay...</td>\n",
       "      <td>[this, gopay, app, is, great, but, when, i, wa...</td>\n",
       "      <td>[gopay, app, great, want, pay, transaction, th...</td>\n",
       "      <td>gopay app great want pay transaction there pro...</td>\n",
       "      <td>NEGATIVE</td>\n",
       "    </tr>\n",
       "    <tr>\n",
       "      <th>3</th>\n",
       "      <td>aplikasinya bagus aja, cuma ad sedikit masalah...</td>\n",
       "      <td>It's a good app, but it's just a little bit of...</td>\n",
       "      <td>Its a good app but its just a little bit of a ...</td>\n",
       "      <td>its a good app but its just a little bit of a ...</td>\n",
       "      <td>[its, a, good, app, but, its, just, a, little,...</td>\n",
       "      <td>[good, app, little, bit, problem, trying, pay,...</td>\n",
       "      <td>good app little bit problem trying pay topup g...</td>\n",
       "      <td>POSITIVE</td>\n",
       "    </tr>\n",
       "    <tr>\n",
       "      <th>4</th>\n",
       "      <td>Cukup kecewa update kali ini. Mengapa sistem b...</td>\n",
       "      <td>I'm pretty disappointed with the update this t...</td>\n",
       "      <td>Im pretty disappointed with the update this ti...</td>\n",
       "      <td>im pretty disappointed with the update this ti...</td>\n",
       "      <td>[im, pretty, disappointed, with, the, update, ...</td>\n",
       "      <td>[im, pretty, disappointed, update, time, curre...</td>\n",
       "      <td>im pretty disappointed update time current gop...</td>\n",
       "      <td>NEGATIVE</td>\n",
       "    </tr>\n",
       "    <tr>\n",
       "      <th>...</th>\n",
       "      <td>...</td>\n",
       "      <td>...</td>\n",
       "      <td>...</td>\n",
       "      <td>...</td>\n",
       "      <td>...</td>\n",
       "      <td>...</td>\n",
       "      <td>...</td>\n",
       "      <td>...</td>\n",
       "    </tr>\n",
       "    <tr>\n",
       "      <th>6915</th>\n",
       "      <td>ini gopay kenapa? apakah ganguan atau sudah ga...</td>\n",
       "      <td>is this gopay why? is it ganguan or is it no l...</td>\n",
       "      <td>is this gopay why is it ganguan or is it no lo...</td>\n",
       "      <td>is this gopay why is it ganguan or is it no lo...</td>\n",
       "      <td>[is, this, gopay, why, is, it, ganguan, or, is...</td>\n",
       "      <td>[gopay, ganguan, longer, working, tokopedia, p...</td>\n",
       "      <td>gopay ganguan longer working tokopedia paylate...</td>\n",
       "      <td>NEGATIVE</td>\n",
       "    </tr>\n",
       "    <tr>\n",
       "      <th>6916</th>\n",
       "      <td>cepat &amp; bagus... bonus nya banyak in.....</td>\n",
       "      <td>Fast &amp; good... the bonus is a lot in...</td>\n",
       "      <td>Fast  good the bonus is a lot in</td>\n",
       "      <td>fast  good the bonus is a lot in</td>\n",
       "      <td>[fast, good, the, bonus, is, a, lot, in]</td>\n",
       "      <td>[fast, good, bonus, lot]</td>\n",
       "      <td>fast good bonus lot</td>\n",
       "      <td>POSITIVE</td>\n",
       "    </tr>\n",
       "    <tr>\n",
       "      <th>6917</th>\n",
       "      <td>gopay bagus teransaksi bebas kemana ajah, saya...</td>\n",
       "      <td>It's good to be free wherever you go. It's ver...</td>\n",
       "      <td>Its good to be free wherever you go Its very c...</td>\n",
       "      <td>its good to be free wherever you go its very c...</td>\n",
       "      <td>[its, good, to, be, free, wherever, you, go, i...</td>\n",
       "      <td>[good, free, wherever, go, convenient]</td>\n",
       "      <td>good free wherever go convenient</td>\n",
       "      <td>POSITIVE</td>\n",
       "    </tr>\n",
       "    <tr>\n",
       "      <th>6918</th>\n",
       "      <td>Ini kenapa sy transfer ke teman saya saldo nya...</td>\n",
       "      <td>That's why I transfer to my friend the balance...</td>\n",
       "      <td>Thats why I transfer to my friend the balance ...</td>\n",
       "      <td>thats why i transfer to my friend the balance ...</td>\n",
       "      <td>[thats, why, i, transfer, to, my, friend, the,...</td>\n",
       "      <td>[thats, transfer, friend, balance, hasnt, logg...</td>\n",
       "      <td>thats transfer friend balance hasnt logged con...</td>\n",
       "      <td>NEGATIVE</td>\n",
       "    </tr>\n",
       "    <tr>\n",
       "      <th>6919</th>\n",
       "      <td>gopay kacau , saya kecewa sama gopay . yang ma...</td>\n",
       "      <td>I'm as disappointed as I am. Anyone who wants ...</td>\n",
       "      <td>Im as disappointed as I am Anyone who wants to...</td>\n",
       "      <td>im as disappointed as i am anyone who wants to...</td>\n",
       "      <td>[im, as, disappointed, as, i, am, anyone, who,...</td>\n",
       "      <td>[im, disappointed, anyone, wants, use, gopay, ...</td>\n",
       "      <td>im disappointed anyone want use gopay please c...</td>\n",
       "      <td>NEGATIVE</td>\n",
       "    </tr>\n",
       "  </tbody>\n",
       "</table>\n",
       "<p>6920 rows × 8 columns</p>\n",
       "</div>"
      ],
      "text/plain": [
       "                                                content  \\\n",
       "0     aplikasi nya udh bagus seperti yang lainnya ta...   \n",
       "1     Saya download aplikasi ini dan saat masukan no...   \n",
       "2     aplikasi gopay ini bagus tapi saat mau membaya...   \n",
       "3     aplikasinya bagus aja, cuma ad sedikit masalah...   \n",
       "4     Cukup kecewa update kali ini. Mengapa sistem b...   \n",
       "...                                                 ...   \n",
       "6915  ini gopay kenapa? apakah ganguan atau sudah ga...   \n",
       "6916          cepat & bagus... bonus nya banyak in.....   \n",
       "6917  gopay bagus teransaksi bebas kemana ajah, saya...   \n",
       "6918  Ini kenapa sy transfer ke teman saya saldo nya...   \n",
       "6919  gopay kacau , saya kecewa sama gopay . yang ma...   \n",
       "\n",
       "                                         text_translate  \\\n",
       "0     The app is just as good as the others, but the...   \n",
       "1     I downloaded this app and when I entered the n...   \n",
       "2     This gopay app is great, but when I want to pa...   \n",
       "3     It's a good app, but it's just a little bit of...   \n",
       "4     I'm pretty disappointed with the update this t...   \n",
       "...                                                 ...   \n",
       "6915  is this gopay why? is it ganguan or is it no l...   \n",
       "6916            Fast & good... the bonus is a lot in...   \n",
       "6917  It's good to be free wherever you go. It's ver...   \n",
       "6918  That's why I transfer to my friend the balance...   \n",
       "6919  I'm as disappointed as I am. Anyone who wants ...   \n",
       "\n",
       "                                             text_clean  \\\n",
       "0     The app is just as good as the others but ther...   \n",
       "1     I downloaded this app and when I entered the n...   \n",
       "2     This gopay app is great but when I want to pay...   \n",
       "3     Its a good app but its just a little bit of a ...   \n",
       "4     Im pretty disappointed with the update this ti...   \n",
       "...                                                 ...   \n",
       "6915  is this gopay why is it ganguan or is it no lo...   \n",
       "6916                   Fast  good the bonus is a lot in   \n",
       "6917  Its good to be free wherever you go Its very c...   \n",
       "6918  Thats why I transfer to my friend the balance ...   \n",
       "6919  Im as disappointed as I am Anyone who wants to...   \n",
       "\n",
       "                                             text_lower  \\\n",
       "0     the app is just as good as the others but ther...   \n",
       "1     i downloaded this app and when i entered the n...   \n",
       "2     this gopay app is great but when i want to pay...   \n",
       "3     its a good app but its just a little bit of a ...   \n",
       "4     im pretty disappointed with the update this ti...   \n",
       "...                                                 ...   \n",
       "6915  is this gopay why is it ganguan or is it no lo...   \n",
       "6916                   fast  good the bonus is a lot in   \n",
       "6917  its good to be free wherever you go its very c...   \n",
       "6918  thats why i transfer to my friend the balance ...   \n",
       "6919  im as disappointed as i am anyone who wants to...   \n",
       "\n",
       "                                        text_tokenizing  \\\n",
       "0     [the, app, is, just, as, good, as, the, others...   \n",
       "1     [i, downloaded, this, app, and, when, i, enter...   \n",
       "2     [this, gopay, app, is, great, but, when, i, wa...   \n",
       "3     [its, a, good, app, but, its, just, a, little,...   \n",
       "4     [im, pretty, disappointed, with, the, update, ...   \n",
       "...                                                 ...   \n",
       "6915  [is, this, gopay, why, is, it, ganguan, or, is...   \n",
       "6916           [fast, good, the, bonus, is, a, lot, in]   \n",
       "6917  [its, good, to, be, free, wherever, you, go, i...   \n",
       "6918  [thats, why, i, transfer, to, my, friend, the,...   \n",
       "6919  [im, as, disappointed, as, i, am, anyone, who,...   \n",
       "\n",
       "                                         text_stopwords  \\\n",
       "0     [app, good, others, theres, lot, weirdness, li...   \n",
       "1     [downloaded, app, entered, number, otp, code, ...   \n",
       "2     [gopay, app, great, want, pay, transaction, th...   \n",
       "3     [good, app, little, bit, problem, trying, pay,...   \n",
       "4     [im, pretty, disappointed, update, time, curre...   \n",
       "...                                                 ...   \n",
       "6915  [gopay, ganguan, longer, working, tokopedia, p...   \n",
       "6916                           [fast, good, bonus, lot]   \n",
       "6917             [good, free, wherever, go, convenient]   \n",
       "6918  [thats, transfer, friend, balance, hasnt, logg...   \n",
       "6919  [im, disappointed, anyone, wants, use, gopay, ...   \n",
       "\n",
       "                                        text_lemitizing text_label  \n",
       "0     app good others there lot weirdness like spin ...   NEGATIVE  \n",
       "1     downloaded app entered number otp code worked ...   NEGATIVE  \n",
       "2     gopay app great want pay transaction there pro...   NEGATIVE  \n",
       "3     good app little bit problem trying pay topup g...   POSITIVE  \n",
       "4     im pretty disappointed update time current gop...   NEGATIVE  \n",
       "...                                                 ...        ...  \n",
       "6915  gopay ganguan longer working tokopedia paylate...   NEGATIVE  \n",
       "6916                                fast good bonus lot   POSITIVE  \n",
       "6917                   good free wherever go convenient   POSITIVE  \n",
       "6918  thats transfer friend balance hasnt logged con...   NEGATIVE  \n",
       "6919  im disappointed anyone want use gopay please c...   NEGATIVE  \n",
       "\n",
       "[6920 rows x 8 columns]"
      ]
     },
     "execution_count": 29,
     "metadata": {},
     "output_type": "execute_result"
    }
   ],
   "source": [
    "docs"
   ]
  },
  {
   "cell_type": "code",
   "execution_count": 30,
   "metadata": {
    "colab": {
     "base_uri": "https://localhost:8080/",
     "height": 293
    },
    "id": "bRgKb9pFrHzK",
    "outputId": "788b0c98-200a-4e8b-fe73-21fafb0e525d"
   },
   "outputs": [
    {
     "data": {
      "text/html": [
       "<div>\n",
       "<style scoped>\n",
       "    .dataframe tbody tr th:only-of-type {\n",
       "        vertical-align: middle;\n",
       "    }\n",
       "\n",
       "    .dataframe tbody tr th {\n",
       "        vertical-align: top;\n",
       "    }\n",
       "\n",
       "    .dataframe thead th {\n",
       "        text-align: right;\n",
       "    }\n",
       "</style>\n",
       "<table border=\"1\" class=\"dataframe\">\n",
       "  <thead>\n",
       "    <tr style=\"text-align: right;\">\n",
       "      <th></th>\n",
       "      <th>content</th>\n",
       "      <th>score</th>\n",
       "      <th>thumbsUpCount</th>\n",
       "      <th>month</th>\n",
       "      <th>minorVersion</th>\n",
       "      <th>majorVersion</th>\n",
       "      <th>labels</th>\n",
       "    </tr>\n",
       "  </thead>\n",
       "  <tbody>\n",
       "    <tr>\n",
       "      <th>0</th>\n",
       "      <td>aplikasi nya udh bagus seperti yang lainnya ta...</td>\n",
       "      <td>2</td>\n",
       "      <td>16</td>\n",
       "      <td>8</td>\n",
       "      <td>1.56.1</td>\n",
       "      <td>1.5</td>\n",
       "      <td>NEGATIVE</td>\n",
       "    </tr>\n",
       "    <tr>\n",
       "      <th>1</th>\n",
       "      <td>Saya download aplikasi ini dan saat masukan no...</td>\n",
       "      <td>1</td>\n",
       "      <td>56</td>\n",
       "      <td>8</td>\n",
       "      <td>1.56.1</td>\n",
       "      <td>1.5</td>\n",
       "      <td>NEGATIVE</td>\n",
       "    </tr>\n",
       "    <tr>\n",
       "      <th>2</th>\n",
       "      <td>aplikasi gopay ini bagus tapi saat mau membaya...</td>\n",
       "      <td>2</td>\n",
       "      <td>10</td>\n",
       "      <td>8</td>\n",
       "      <td>1.56.1</td>\n",
       "      <td>1.5</td>\n",
       "      <td>NEGATIVE</td>\n",
       "    </tr>\n",
       "    <tr>\n",
       "      <th>3</th>\n",
       "      <td>aplikasinya bagus aja, cuma ad sedikit masalah...</td>\n",
       "      <td>3</td>\n",
       "      <td>24</td>\n",
       "      <td>8</td>\n",
       "      <td>1.56.1</td>\n",
       "      <td>1.5</td>\n",
       "      <td>POSITIVE</td>\n",
       "    </tr>\n",
       "    <tr>\n",
       "      <th>4</th>\n",
       "      <td>Cukup kecewa update kali ini. Mengapa sistem b...</td>\n",
       "      <td>2</td>\n",
       "      <td>18</td>\n",
       "      <td>8</td>\n",
       "      <td>1.56.1</td>\n",
       "      <td>1.5</td>\n",
       "      <td>NEGATIVE</td>\n",
       "    </tr>\n",
       "  </tbody>\n",
       "</table>\n",
       "</div>"
      ],
      "text/plain": [
       "                                             content  score  thumbsUpCount  \\\n",
       "0  aplikasi nya udh bagus seperti yang lainnya ta...      2             16   \n",
       "1  Saya download aplikasi ini dan saat masukan no...      1             56   \n",
       "2  aplikasi gopay ini bagus tapi saat mau membaya...      2             10   \n",
       "3  aplikasinya bagus aja, cuma ad sedikit masalah...      3             24   \n",
       "4  Cukup kecewa update kali ini. Mengapa sistem b...      2             18   \n",
       "\n",
       "  month minorVersion majorVersion    labels  \n",
       "0     8       1.56.1          1.5  NEGATIVE  \n",
       "1     8       1.56.1          1.5  NEGATIVE  \n",
       "2     8       1.56.1          1.5  NEGATIVE  \n",
       "3     8       1.56.1          1.5  POSITIVE  \n",
       "4     8       1.56.1          1.5  NEGATIVE  "
      ]
     },
     "execution_count": 30,
     "metadata": {},
     "output_type": "execute_result"
    }
   ],
   "source": [
    "data = data.reset_index(drop=True)\n",
    "docs = docs.reset_index(drop=True)\n",
    "data['labels'] = docs['text_label']\n",
    "data.head()"
   ]
  },
  {
   "cell_type": "code",
   "execution_count": 31,
   "metadata": {
    "colab": {
     "base_uri": "https://localhost:8080/",
     "height": 466
    },
    "id": "v2Seq6yI68GD",
    "outputId": "c58c4bbd-3833-4b15-eb47-7e57b5a8930a"
   },
   "outputs": [
    {
     "data": {
      "text/plain": [
       "<Axes: xlabel='labels', ylabel='count'>"
      ]
     },
     "execution_count": 31,
     "metadata": {},
     "output_type": "execute_result"
    },
    {
     "data": {
      "image/png": "[encoded data removed]",
      "text/plain": [
       "<Figure size 640x480 with 1 Axes>"
      ]
     },
     "metadata": {},
     "output_type": "display_data"
    }
   ],
   "source": [
    "sns.countplot(data=data, x='labels')"
   ]
  },
  {
   "cell_type": "code",
   "execution_count": 32,
   "metadata": {
    "colab": {
     "base_uri": "https://localhost:8080/",
     "height": 466
    },
    "id": "R5YosAS0sfuX",
    "outputId": "01cfd1c4-268e-4e44-d062-c549ff860923"
   },
   "outputs": [
    {
     "data": {
      "text/plain": [
       "<Axes: xlabel='month', ylabel='score'>"
      ]
     },
     "execution_count": 32,
     "metadata": {},
     "output_type": "execute_result"
    },
    {
     "data": {
      "image/png": "[encoded data removed]",
      "text/plain": [
       "<Figure size 640x480 with 1 Axes>"
      ]
     },
     "metadata": {},
     "output_type": "display_data"
    }
   ],
   "source": [
    "sns.lineplot(data=data, x='month', hue='labels', y='score')"
   ]
  },
  {
   "cell_type": "code",
   "execution_count": 33,
   "metadata": {
    "colab": {
     "base_uri": "https://localhost:8080/",
     "height": 467
    },
    "id": "Y7FfLSIsu6-K",
    "outputId": "42bb61fd-bf4a-4b6c-c1c8-e73e36b902b3"
   },
   "outputs": [
    {
     "data": {
      "text/plain": [
       "<Axes: xlabel='month', ylabel='Count'>"
      ]
     },
     "execution_count": 33,
     "metadata": {},
     "output_type": "execute_result"
    },
    {
     "data": {
      "image/png": "[encoded data removed]",
      "text/plain": [
       "<Figure size 640x480 with 1 Axes>"
      ]
     },
     "metadata": {},
     "output_type": "display_data"
    }
   ],
   "source": [
    "sns.histplot(data=data, x=\"month\", hue=\"labels\", multiple=\"stack\")"
   ]
  },
  {
   "cell_type": "code",
   "execution_count": 34,
   "metadata": {
    "colab": {
     "base_uri": "https://localhost:8080/",
     "height": 466
    },
    "id": "pwijP3uIvL7o",
    "outputId": "5b903c15-2a60-4669-cafe-8c151530c7ff"
   },
   "outputs": [
    {
     "data": {
      "text/plain": [
       "<Axes: xlabel='majorVersion', ylabel='Count'>"
      ]
     },
     "execution_count": 34,
     "metadata": {},
     "output_type": "execute_result"
    },
    {
     "data": {
      "image/png": "[encoded data removed]",
      "text/plain": [
       "<Figure size 640x480 with 1 Axes>"
      ]
     },
     "metadata": {},
     "output_type": "display_data"
    }
   ],
   "source": [
    "sns.histplot(data=data, x=\"majorVersion\", hue=\"labels\", multiple=\"stack\")"
   ]
  },
  {
   "cell_type": "markdown",
   "metadata": {
    "id": "V80HeaiGdCM9",
    "jp-MarkdownHeadingCollapsed": true
   },
   "source": [
    "# Topic Analysis"
   ]
  },
  {
   "cell_type": "code",
   "execution_count": 35,
   "metadata": {
    "colab": {
     "base_uri": "https://localhost:8080/"
    },
    "id": "7q4HbGrbdB61",
    "outputId": "94b541ae-809c-4f4f-f75f-a0dbbbd2a6df"
   },
   "outputs": [
    {
     "name": "stderr",
     "output_type": "stream",
     "text": [
      "huggingface/tokenizers: The current process just got forked, after parallelism has already been used. Disabling parallelism to avoid deadlocks...\n",
      "To disable this warning, you can either:\n",
      "\t- Avoid using `tokenizers` before the fork if possible\n",
      "\t- Explicitly set the environment variable TOKENIZERS_PARALLELISM=(true | false)\n"
     ]
    },
    {
     "name": "stdout",
     "output_type": "stream",
     "text": [
      "Collecting bertopic\n",
      "  Downloading bertopic-0.17.3-py3-none-any.whl.metadata (24 kB)\n",
      "Collecting hdbscan>=0.8.29 (from bertopic)\n",
      "  Downloading hdbscan-0.8.40.tar.gz (6.9 MB)\n",
      "\u001b[2K     \u001b[90m━━━━━━━━━━━━━━━━━━━━━━━━━━━━━━━━━━━━━━━━\u001b[0m \u001b[32m6.9/6.9 MB\u001b[0m \u001b[31m81.5 MB/s\u001b[0m eta \u001b[36m0:00:00\u001b[0m\n",
      "\u001b[?25h  Installing build dependencies ... \u001b[?25ldone\n",
      "\u001b[?25h  Getting requirements to build wheel ... \u001b[?25ldone\n",
      "\u001b[?25h  Preparing metadata (pyproject.toml) ... \u001b[?25ldone\n",
      "\u001b[?25hCollecting umap-learn>=0.5.0 (from bertopic)\n",
      "  Downloading umap_learn-0.5.9.post2-py3-none-any.whl.metadata (25 kB)\n",
      "Requirement already satisfied: numpy>=1.20.0 in /opt/conda/lib/python3.12/site-packages (from bertopic) (2.2.6)\n",
      "Requirement already satisfied: pandas>=1.1.5 in /opt/conda/lib/python3.12/site-packages (from bertopic) (2.3.0)\n",
      "Collecting plotly>=4.7.0 (from bertopic)\n",
      "  Downloading plotly-6.3.0-py3-none-any.whl.metadata (8.5 kB)\n",
      "Requirement already satisfied: scikit-learn>=1.0 in /opt/conda/lib/python3.12/site-packages (from bertopic) (1.7.0)\n",
      "Collecting sentence-transformers>=0.4.1 (from bertopic)\n",
      "  Downloading sentence_transformers-5.1.0-py3-none-any.whl.metadata (16 kB)\n",
      "Requirement already satisfied: tqdm>=4.41.1 in /opt/conda/lib/python3.12/site-packages (from bertopic) (4.67.1)\n",
      "Requirement already satisfied: llvmlite>0.36.0 in /opt/conda/lib/python3.12/site-packages (from bertopic) (0.44.0)\n",
      "Requirement already satisfied: scipy>=1.0 in /opt/conda/lib/python3.12/site-packages (from hdbscan>=0.8.29->bertopic) (1.15.2)\n",
      "Requirement already satisfied: joblib>=1.0 in /opt/conda/lib/python3.12/site-packages (from hdbscan>=0.8.29->bertopic) (1.5.1)\n",
      "Requirement already satisfied: python-dateutil>=2.8.2 in /opt/conda/lib/python3.12/site-packages (from pandas>=1.1.5->bertopic) (2.9.0.post0)\n",
      "Requirement already satisfied: pytz>=2020.1 in /opt/conda/lib/python3.12/site-packages (from pandas>=1.1.5->bertopic) (2025.2)\n",
      "Requirement already satisfied: tzdata>=2022.7 in /opt/conda/lib/python3.12/site-packages (from pandas>=1.1.5->bertopic) (2025.2)\n",
      "Requirement already satisfied: narwhals>=1.15.1 in /opt/conda/lib/python3.12/site-packages (from plotly>=4.7.0->bertopic) (1.43.1)\n",
      "Requirement already satisfied: packaging in /opt/conda/lib/python3.12/site-packages (from plotly>=4.7.0->bertopic) (25.0)\n",
      "Requirement already satisfied: six>=1.5 in /opt/conda/lib/python3.12/site-packages (from python-dateutil>=2.8.2->pandas>=1.1.5->bertopic) (1.17.0)\n",
      "Requirement already satisfied: threadpoolctl>=3.1.0 in /opt/conda/lib/python3.12/site-packages (from scikit-learn>=1.0->bertopic) (3.6.0)\n",
      "Requirement already satisfied: transformers<5.0.0,>=4.41.0 in /opt/conda/lib/python3.12/site-packages (from sentence-transformers>=0.4.1->bertopic) (4.56.0)\n",
      "Requirement already satisfied: torch>=1.11.0 in /opt/conda/lib/python3.12/site-packages (from sentence-transformers>=0.4.1->bertopic) (2.7.1+cu128)\n",
      "Requirement already satisfied: huggingface-hub>=0.20.0 in /opt/conda/lib/python3.12/site-packages (from sentence-transformers>=0.4.1->bertopic) (0.34.4)\n",
      "Requirement already satisfied: Pillow in /opt/conda/lib/python3.12/site-packages (from sentence-transformers>=0.4.1->bertopic) (11.2.1)\n",
      "Requirement already satisfied: typing_extensions>=4.5.0 in /opt/conda/lib/python3.12/site-packages (from sentence-transformers>=0.4.1->bertopic) (4.14.0)\n",
      "Requirement already satisfied: filelock in /opt/conda/lib/python3.12/site-packages (from transformers<5.0.0,>=4.41.0->sentence-transformers>=0.4.1->bertopic) (3.13.1)\n",
      "Requirement already satisfied: pyyaml>=5.1 in /opt/conda/lib/python3.12/site-packages (from transformers<5.0.0,>=4.41.0->sentence-transformers>=0.4.1->bertopic) (6.0.2)\n",
      "Requirement already satisfied: regex!=2019.12.17 in /opt/conda/lib/python3.12/site-packages (from transformers<5.0.0,>=4.41.0->sentence-transformers>=0.4.1->bertopic) (2025.8.29)\n",
      "Requirement already satisfied: requests in /opt/conda/lib/python3.12/site-packages (from transformers<5.0.0,>=4.41.0->sentence-transformers>=0.4.1->bertopic) (2.32.4)\n",
      "Requirement already satisfied: tokenizers<=0.23.0,>=0.22.0 in /opt/conda/lib/python3.12/site-packages (from transformers<5.0.0,>=4.41.0->sentence-transformers>=0.4.1->bertopic) (0.22.0)\n",
      "Requirement already satisfied: safetensors>=0.4.3 in /opt/conda/lib/python3.12/site-packages (from transformers<5.0.0,>=4.41.0->sentence-transformers>=0.4.1->bertopic) (0.6.2)\n",
      "Requirement already satisfied: fsspec>=2023.5.0 in /opt/conda/lib/python3.12/site-packages (from huggingface-hub>=0.20.0->sentence-transformers>=0.4.1->bertopic) (2025.5.1)\n",
      "Requirement already satisfied: hf-xet<2.0.0,>=1.1.3 in /opt/conda/lib/python3.12/site-packages (from huggingface-hub>=0.20.0->sentence-transformers>=0.4.1->bertopic) (1.1.9)\n",
      "Requirement already satisfied: setuptools in /opt/conda/lib/python3.12/site-packages (from torch>=1.11.0->sentence-transformers>=0.4.1->bertopic) (80.9.0)\n",
      "Requirement already satisfied: sympy>=1.13.3 in /opt/conda/lib/python3.12/site-packages (from torch>=1.11.0->sentence-transformers>=0.4.1->bertopic) (1.14.0)\n",
      "Requirement already satisfied: networkx in /opt/conda/lib/python3.12/site-packages (from torch>=1.11.0->sentence-transformers>=0.4.1->bertopic) (3.5)\n",
      "Requirement already satisfied: jinja2 in /opt/conda/lib/python3.12/site-packages (from torch>=1.11.0->sentence-transformers>=0.4.1->bertopic) (3.1.6)\n",
      "Requirement already satisfied: nvidia-cuda-nvrtc-cu12==12.8.61 in /opt/conda/lib/python3.12/site-packages (from torch>=1.11.0->sentence-transformers>=0.4.1->bertopic) (12.8.61)\n",
      "Requirement already satisfied: nvidia-cuda-runtime-cu12==12.8.57 in /opt/conda/lib/python3.12/site-packages (from torch>=1.11.0->sentence-transformers>=0.4.1->bertopic) (12.8.57)\n",
      "Requirement already satisfied: nvidia-cuda-cupti-cu12==12.8.57 in /opt/conda/lib/python3.12/site-packages (from torch>=1.11.0->sentence-transformers>=0.4.1->bertopic) (12.8.57)\n",
      "Requirement already satisfied: nvidia-cudnn-cu12==9.7.1.26 in /opt/conda/lib/python3.12/site-packages (from torch>=1.11.0->sentence-transformers>=0.4.1->bertopic) (9.7.1.26)\n",
      "Requirement already satisfied: nvidia-cublas-cu12==12.8.3.14 in /opt/conda/lib/python3.12/site-packages (from torch>=1.11.0->sentence-transformers>=0.4.1->bertopic) (12.8.3.14)\n",
      "Requirement already satisfied: nvidia-cufft-cu12==11.3.3.41 in /opt/conda/lib/python3.12/site-packages (from torch>=1.11.0->sentence-transformers>=0.4.1->bertopic) (11.3.3.41)\n",
      "Requirement already satisfied: nvidia-curand-cu12==10.3.9.55 in /opt/conda/lib/python3.12/site-packages (from torch>=1.11.0->sentence-transformers>=0.4.1->bertopic) (10.3.9.55)\n",
      "Requirement already satisfied: nvidia-cusolver-cu12==11.7.2.55 in /opt/conda/lib/python3.12/site-packages (from torch>=1.11.0->sentence-transformers>=0.4.1->bertopic) (11.7.2.55)\n",
      "Requirement already satisfied: nvidia-cusparse-cu12==12.5.7.53 in /opt/conda/lib/python3.12/site-packages (from torch>=1.11.0->sentence-transformers>=0.4.1->bertopic) (12.5.7.53)\n",
      "Requirement already satisfied: nvidia-cusparselt-cu12==0.6.3 in /opt/conda/lib/python3.12/site-packages (from torch>=1.11.0->sentence-transformers>=0.4.1->bertopic) (0.6.3)\n",
      "Requirement already satisfied: nvidia-nccl-cu12==2.26.2 in /opt/conda/lib/python3.12/site-packages (from torch>=1.11.0->sentence-transformers>=0.4.1->bertopic) (2.26.2)\n",
      "Requirement already satisfied: nvidia-nvtx-cu12==12.8.55 in /opt/conda/lib/python3.12/site-packages (from torch>=1.11.0->sentence-transformers>=0.4.1->bertopic) (12.8.55)\n",
      "Requirement already satisfied: nvidia-nvjitlink-cu12==12.8.61 in /opt/conda/lib/python3.12/site-packages (from torch>=1.11.0->sentence-transformers>=0.4.1->bertopic) (12.8.61)\n",
      "Requirement already satisfied: nvidia-cufile-cu12==1.13.0.11 in /opt/conda/lib/python3.12/site-packages (from torch>=1.11.0->sentence-transformers>=0.4.1->bertopic) (1.13.0.11)\n",
      "Requirement already satisfied: triton==3.3.1 in /opt/conda/lib/python3.12/site-packages (from torch>=1.11.0->sentence-transformers>=0.4.1->bertopic) (3.3.1)\n",
      "Requirement already satisfied: mpmath<1.4,>=1.1.0 in /opt/conda/lib/python3.12/site-packages (from sympy>=1.13.3->torch>=1.11.0->sentence-transformers>=0.4.1->bertopic) (1.3.0)\n",
      "Requirement already satisfied: numba>=0.51.2 in /opt/conda/lib/python3.12/site-packages (from umap-learn>=0.5.0->bertopic) (0.61.2)\n",
      "Collecting pynndescent>=0.5 (from umap-learn>=0.5.0->bertopic)\n",
      "  Downloading pynndescent-0.5.13-py3-none-any.whl.metadata (6.8 kB)\n",
      "Requirement already satisfied: MarkupSafe>=2.0 in /opt/conda/lib/python3.12/site-packages (from jinja2->torch>=1.11.0->sentence-transformers>=0.4.1->bertopic) (3.0.2)\n",
      "Requirement already satisfied: charset_normalizer<4,>=2 in /opt/conda/lib/python3.12/site-packages (from requests->transformers<5.0.0,>=4.41.0->sentence-transformers>=0.4.1->bertopic) (3.4.2)\n",
      "Requirement already satisfied: idna<4,>=2.5 in /opt/conda/lib/python3.12/site-packages (from requests->transformers<5.0.0,>=4.41.0->sentence-transformers>=0.4.1->bertopic) (3.10)\n",
      "Requirement already satisfied: urllib3<3,>=1.21.1 in /opt/conda/lib/python3.12/site-packages (from requests->transformers<5.0.0,>=4.41.0->sentence-transformers>=0.4.1->bertopic) (2.5.0)\n",
      "Requirement already satisfied: certifi>=2017.4.17 in /opt/conda/lib/python3.12/site-packages (from requests->transformers<5.0.0,>=4.41.0->sentence-transformers>=0.4.1->bertopic) (2025.6.15)\n",
      "Downloading bertopic-0.17.3-py3-none-any.whl (153 kB)\n",
      "Downloading plotly-6.3.0-py3-none-any.whl (9.8 MB)\n",
      "\u001b[2K   \u001b[90m━━━━━━━━━━━━━━━━━━━━━━━━━━━━━━━━━━━━━━━━\u001b[0m \u001b[32m9.8/9.8 MB\u001b[0m \u001b[31m87.1 MB/s\u001b[0m eta \u001b[36m0:00:00\u001b[0m\n",
      "\u001b[?25hDownloading sentence_transformers-5.1.0-py3-none-any.whl (483 kB)\n",
      "Downloading umap_learn-0.5.9.post2-py3-none-any.whl (90 kB)\n",
      "Downloading pynndescent-0.5.13-py3-none-any.whl (56 kB)\n",
      "Building wheels for collected packages: hdbscan\n",
      "  Building wheel for hdbscan (pyproject.toml) ... \u001b[?25ldone\n",
      "\u001b[?25h  Created wheel for hdbscan: filename=hdbscan-0.8.40-cp312-cp312-linux_x86_64.whl size=847019 sha256=eecd73bb9fa5db3f47799e975f40e9357d10aad4fceb60226453f5caa1ed9f76\n",
      "  Stored in directory: /home/jovyan/.cache/pip/wheels/80/e7/bb/173ca0d8ce12718c4b5e6e01619c99653579b56969b97604b2\n",
      "Successfully built hdbscan\n",
      "Installing collected packages: plotly, pynndescent, hdbscan, umap-learn, sentence-transformers, bertopic\n",
      "\u001b[2K   \u001b[90m━━━━━━━━━━━━━━━━━━━━━━━━━━━━━━━━━━━━━━━━\u001b[0m \u001b[32m6/6\u001b[0m [bertopic]4/6\u001b[0m [sentence-transformers]\n",
      "\u001b[1A\u001b[2KSuccessfully installed bertopic-0.17.3 hdbscan-0.8.40 plotly-6.3.0 pynndescent-0.5.13 sentence-transformers-5.1.0 umap-learn-0.5.9.post2\n"
     ]
    }
   ],
   "source": [
    "!pip install bertopic"
   ]
  },
  {
   "cell_type": "code",
   "execution_count": 36,
   "metadata": {
    "id": "kdOmyJCJ7Ukg"
   },
   "outputs": [],
   "source": [
    "negative = docs[docs['text_label']=='NEGATIVE']['text_lemitizing']\n",
    "positive = docs[docs['text_label']=='POSITIVE']['text_lemitizing']"
   ]
  },
  {
   "cell_type": "code",
   "execution_count": 37,
   "metadata": {
    "id": "OOLmfJfrxFGo"
   },
   "outputs": [],
   "source": [
    "from bertopic import BERTopic\n",
    "from sklearn.cluster import AgglomerativeClustering\n",
    "from sklearn.feature_extraction.text import CountVectorizer\n",
    "from bertopic.vectorizers import ClassTfidfTransformer\n",
    "from bertopic.representation import KeyBERTInspired\n",
    "from umap import UMAP"
   ]
  },
  {
   "cell_type": "code",
   "execution_count": 38,
   "metadata": {
    "colab": {
     "base_uri": "https://localhost:8080/"
    },
    "id": "gDf4kdXhxbYo",
    "outputId": "066b2c06-73dc-439d-e8cd-e6d67d287f2b"
   },
   "outputs": [
    {
     "data": {
      "application/vnd.jupyter.widget-view+json": {
       "model_id": "3a1861d26a994318aec5a61a1458c288",
       "version_major": 2,
       "version_minor": 0
      },
      "text/plain": [
       "config.json:   0%|          | 0.00/465 [00:00<?, ?B/s]"
      ]
     },
     "metadata": {},
     "output_type": "display_data"
    },
    {
     "data": {
      "application/vnd.jupyter.widget-view+json": {
       "model_id": "3459dc89690f4f8a8e5cb914b991f480",
       "version_major": 2,
       "version_minor": 0
      },
      "text/plain": [
       "model.safetensors:   0%|          | 0.00/263M [00:00<?, ?B/s]"
      ]
     },
     "metadata": {},
     "output_type": "display_data"
    },
    {
     "data": {
      "application/vnd.jupyter.widget-view+json": {
       "model_id": "c9d6ef329f5c42aca6d623b345ef6db7",
       "version_major": 2,
       "version_minor": 0
      },
      "text/plain": [
       "tokenizer_config.json:   0%|          | 0.00/49.0 [00:00<?, ?B/s]"
      ]
     },
     "metadata": {},
     "output_type": "display_data"
    },
    {
     "data": {
      "application/vnd.jupyter.widget-view+json": {
       "model_id": "cab53dcbd0be4ee3a7099bd3ce35b546",
       "version_major": 2,
       "version_minor": 0
      },
      "text/plain": [
       "vocab.txt:   0%|          | 0.00/213k [00:00<?, ?B/s]"
      ]
     },
     "metadata": {},
     "output_type": "display_data"
    },
    {
     "data": {
      "application/vnd.jupyter.widget-view+json": {
       "model_id": "69ff7cff017740398da596dd29f774cc",
       "version_major": 2,
       "version_minor": 0
      },
      "text/plain": [
       "tokenizer.json:   0%|          | 0.00/436k [00:00<?, ?B/s]"
      ]
     },
     "metadata": {},
     "output_type": "display_data"
    },
    {
     "name": "stderr",
     "output_type": "stream",
     "text": [
      "Device set to use cuda:0\n"
     ]
    }
   ],
   "source": [
    "embedding_model = pipeline(\"feature-extraction\", model=\"distilbert-base-cased\")\n",
    "umap_model = UMAP(n_neighbors=15, n_components=5, min_dist=0.0, metric='cosine')\n",
    "vectorizer_model = CountVectorizer(min_df=10)\n",
    "ctfidf_model = ClassTfidfTransformer(bm25_weighting=True)\n",
    "representation_model = KeyBERTInspired()\n",
    "\n",
    "def topic(n_cluster):\n",
    "    topic_model = BERTopic(\n",
    "    embedding_model=embedding_model,\n",
    "    umap_model=umap_model,\n",
    "    hdbscan_model=AgglomerativeClustering(n_clusters=n_cluster),\n",
    "    vectorizer_model=vectorizer_model,\n",
    "    ctfidf_model=ctfidf_model,\n",
    "    representation_model=representation_model,\n",
    "    calculate_probabilities=True,\n",
    "    verbose=True,\n",
    "    )\n",
    "    return topic_model"
   ]
  },
  {
   "cell_type": "code",
   "execution_count": 39,
   "metadata": {
    "colab": {
     "base_uri": "https://localhost:8080/"
    },
    "id": "2Nk4h94u02bZ",
    "outputId": "0012f4e6-243a-4f89-a9d3-c8860b3f6975"
   },
   "outputs": [
    {
     "name": "stderr",
     "output_type": "stream",
     "text": [
      "2025-08-30 02:38:26,798 - BERTopic - Embedding - Transforming documents to embeddings.\n",
      "100% 5132/5132 [00:08<00:00, 586.83it/s]\n",
      "2025-08-30 02:38:35,551 - BERTopic - Embedding - Completed ✓\n",
      "2025-08-30 02:38:35,552 - BERTopic - Dimensionality - Fitting the dimensionality reduction algorithm\n",
      "2025-08-30 02:38:42,552 - BERTopic - Dimensionality - Completed ✓\n",
      "2025-08-30 02:38:42,553 - BERTopic - Cluster - Start clustering the reduced embeddings\n",
      "2025-08-30 02:38:42,811 - BERTopic - Cluster - Completed ✓\n",
      "2025-08-30 02:38:42,813 - BERTopic - Representation - Fine-tuning topics using representation models.\n",
      "2025-08-30 02:38:43,647 - BERTopic - Representation - Completed ✓\n"
     ]
    },
    {
     "data": {
      "text/html": [
       "<div>\n",
       "<style scoped>\n",
       "    .dataframe tbody tr th:only-of-type {\n",
       "        vertical-align: middle;\n",
       "    }\n",
       "\n",
       "    .dataframe tbody tr th {\n",
       "        vertical-align: top;\n",
       "    }\n",
       "\n",
       "    .dataframe thead th {\n",
       "        text-align: right;\n",
       "    }\n",
       "</style>\n",
       "<table border=\"1\" class=\"dataframe\">\n",
       "  <thead>\n",
       "    <tr style=\"text-align: right;\">\n",
       "      <th></th>\n",
       "      <th>Topic</th>\n",
       "      <th>Count</th>\n",
       "      <th>Name</th>\n",
       "      <th>Representation</th>\n",
       "      <th>Representative_Docs</th>\n",
       "    </tr>\n",
       "  </thead>\n",
       "  <tbody>\n",
       "    <tr>\n",
       "      <th>0</th>\n",
       "      <td>0</td>\n",
       "      <td>368</td>\n",
       "      <td>0_refund_hasnt_doesnt_didnt</td>\n",
       "      <td>[refund, hasnt, doesnt, didnt, topup, cashback...</td>\n",
       "      <td>[balance cut bought rb token payment failed mo...</td>\n",
       "    </tr>\n",
       "    <tr>\n",
       "      <th>1</th>\n",
       "      <td>1</td>\n",
       "      <td>283</td>\n",
       "      <td>1_otp_voucher_login_apk</td>\n",
       "      <td>[otp, voucher, login, apk, wdp, verification, ...</td>\n",
       "      <td>[cant log account update latest version, app a...</td>\n",
       "    </tr>\n",
       "    <tr>\n",
       "      <th>2</th>\n",
       "      <td>2</td>\n",
       "      <td>263</td>\n",
       "      <td>2_voucher_isnt_doesnt_didnt</td>\n",
       "      <td>[voucher, isnt, doesnt, didnt, topup, cashback...</td>\n",
       "      <td>[gg gift arena spin coin prize cant claimed ch...</td>\n",
       "    </tr>\n",
       "    <tr>\n",
       "      <th>3</th>\n",
       "      <td>3</td>\n",
       "      <td>256</td>\n",
       "      <td>3_hasnt_isnt_doesnt_didnt</td>\n",
       "      <td>[hasnt, isnt, doesnt, didnt, topup, apk, whats...</td>\n",
       "      <td>[balance hasnt come alpa transaction come dont...</td>\n",
       "    </tr>\n",
       "    <tr>\n",
       "      <th>4</th>\n",
       "      <td>4</td>\n",
       "      <td>237</td>\n",
       "      <td>4_isnt_havent_couldnt_doesnt</td>\n",
       "      <td>[isnt, havent, couldnt, doesnt, arent, didnt, ...</td>\n",
       "      <td>[trouble top money doesnt come minus gopay, tw...</td>\n",
       "    </tr>\n",
       "    <tr>\n",
       "      <th>5</th>\n",
       "      <td>5</td>\n",
       "      <td>230</td>\n",
       "      <td>5_ewallet_apk_topup_hopefully</td>\n",
       "      <td>[ewallet, apk, topup, hopefully, cheap, really...</td>\n",
       "      <td>[app easy use safe practically official iijino...</td>\n",
       "    </tr>\n",
       "    <tr>\n",
       "      <th>6</th>\n",
       "      <td>6</td>\n",
       "      <td>223</td>\n",
       "      <td>6_thank_buy_cheap_discount</td>\n",
       "      <td>[thank, buy, cheap, discount, expensive, admin...</td>\n",
       "      <td>[cheap pulse cheap token cheap data package ch...</td>\n",
       "    </tr>\n",
       "    <tr>\n",
       "      <th>7</th>\n",
       "      <td>7</td>\n",
       "      <td>208</td>\n",
       "      <td>7_google_didnt_scam_thank</td>\n",
       "      <td>[google, didnt, scam, thank, wait, check, chec...</td>\n",
       "      <td>[app taking long time instead improving qualit...</td>\n",
       "    </tr>\n",
       "    <tr>\n",
       "      <th>8</th>\n",
       "      <td>8</td>\n",
       "      <td>191</td>\n",
       "      <td>8_ewallet_didnt_topup_admin</td>\n",
       "      <td>[ewallet, didnt, topup, admin, wrong, really, ...</td>\n",
       "      <td>[disappointed content balance gopay entered in...</td>\n",
       "    </tr>\n",
       "    <tr>\n",
       "      <th>9</th>\n",
       "      <td>9</td>\n",
       "      <td>184</td>\n",
       "      <td>9_uninstall_voucher_havent_isnt</td>\n",
       "      <td>[uninstall, voucher, havent, isnt, doesnt, did...</td>\n",
       "      <td>[apk pretty good every time spin gg gift arena...</td>\n",
       "    </tr>\n",
       "    <tr>\n",
       "      <th>10</th>\n",
       "      <td>10</td>\n",
       "      <td>173</td>\n",
       "      <td>10_unreasonable_voucher_otp_doesnt</td>\n",
       "      <td>[unreasonable, voucher, otp, doesnt, didnt, co...</td>\n",
       "      <td>[there free promo use voucher pay, top game us...</td>\n",
       "    </tr>\n",
       "    <tr>\n",
       "      <th>11</th>\n",
       "      <td>11</td>\n",
       "      <td>173</td>\n",
       "      <td>11_unreasonable_wdp_isnt_doesnt</td>\n",
       "      <td>[unreasonable, wdp, isnt, doesnt, arent, topup...</td>\n",
       "      <td>[apk unclear transaction want there always unr...</td>\n",
       "    </tr>\n",
       "    <tr>\n",
       "      <th>12</th>\n",
       "      <td>12</td>\n",
       "      <td>172</td>\n",
       "      <td>12_hasnt_havent_isnt_voucher</td>\n",
       "      <td>[hasnt, havent, isnt, voucher, doesnt, didnt, ...</td>\n",
       "      <td>[ive waiting long time get voucher ive lost im...</td>\n",
       "    </tr>\n",
       "    <tr>\n",
       "      <th>13</th>\n",
       "      <td>13</td>\n",
       "      <td>168</td>\n",
       "      <td>13_hasnt_havent_isnt_doesnt</td>\n",
       "      <td>[hasnt, havent, isnt, doesnt, didnt, couldnt, ...</td>\n",
       "      <td>[im overloaded money hasnt come yet, gopay bal...</td>\n",
       "    </tr>\n",
       "    <tr>\n",
       "      <th>14</th>\n",
       "      <td>14</td>\n",
       "      <td>166</td>\n",
       "      <td>14_gopays_gopaylater_hasnt_apk</td>\n",
       "      <td>[gopays, gopaylater, hasnt, apk, doesnt, thank...</td>\n",
       "      <td>[top go pay nominal jt rupee status good gopay...</td>\n",
       "    </tr>\n",
       "    <tr>\n",
       "      <th>15</th>\n",
       "      <td>15</td>\n",
       "      <td>159</td>\n",
       "      <td>15_doesnt_wait_waiting_disappointed</td>\n",
       "      <td>[doesnt, wait, waiting, disappointed, got, che...</td>\n",
       "      <td>[use gopayevery transaction buy pln token puls...</td>\n",
       "    </tr>\n",
       "    <tr>\n",
       "      <th>16</th>\n",
       "      <td>16</td>\n",
       "      <td>157</td>\n",
       "      <td>16_gopey_hasnt_havent_didnt</td>\n",
       "      <td>[gopey, hasnt, havent, didnt, whats, voucher, ...</td>\n",
       "      <td>[ive lot transaction using gopay ive disappoin...</td>\n",
       "    </tr>\n",
       "    <tr>\n",
       "      <th>17</th>\n",
       "      <td>17</td>\n",
       "      <td>147</td>\n",
       "      <td>17_gopays_gopaylater_ewallet_hasnt</td>\n",
       "      <td>[gopays, gopaylater, ewallet, hasnt, doesnt, c...</td>\n",
       "      <td>[top emoney balance didnt come status worked b...</td>\n",
       "    </tr>\n",
       "    <tr>\n",
       "      <th>18</th>\n",
       "      <td>18</td>\n",
       "      <td>132</td>\n",
       "      <td>18_ewallet_doesnt_apk_didnt</td>\n",
       "      <td>[ewallet, doesnt, apk, didnt, thank, notificat...</td>\n",
       "      <td>[app consumes lot ram phone used app never gav...</td>\n",
       "    </tr>\n",
       "    <tr>\n",
       "      <th>19</th>\n",
       "      <td>19</td>\n",
       "      <td>130</td>\n",
       "      <td>19_ewalet_doesnt_wifi_apk</td>\n",
       "      <td>[ewalet, doesnt, wifi, apk, wdp, dont, promo, ...</td>\n",
       "      <td>[weird want buy internet quota indosat instead...</td>\n",
       "    </tr>\n",
       "    <tr>\n",
       "      <th>20</th>\n",
       "      <td>20</td>\n",
       "      <td>127</td>\n",
       "      <td>20_couldnt_doesnt_apk_dont</td>\n",
       "      <td>[couldnt, doesnt, apk, dont, cant, admin, quic...</td>\n",
       "      <td>[cant make deal please fix look like there bug...</td>\n",
       "    </tr>\n",
       "    <tr>\n",
       "      <th>21</th>\n",
       "      <td>21</td>\n",
       "      <td>124</td>\n",
       "      <td>21_uninstall_ewallets_login_topup</td>\n",
       "      <td>[uninstall, ewallets, login, topup, apk, wifi,...</td>\n",
       "      <td>[want log gopay account facial verification fa...</td>\n",
       "    </tr>\n",
       "    <tr>\n",
       "      <th>22</th>\n",
       "      <td>22</td>\n",
       "      <td>123</td>\n",
       "      <td>22_hasnt_wasnt_upload_isnt</td>\n",
       "      <td>[hasnt, wasnt, upload, isnt, doesnt, didnt, co...</td>\n",
       "      <td>[bad service balance far entered made complain...</td>\n",
       "    </tr>\n",
       "    <tr>\n",
       "      <th>23</th>\n",
       "      <td>23</td>\n",
       "      <td>119</td>\n",
       "      <td>23_thats_unfortunately_hopefully_wrong</td>\n",
       "      <td>[thats, unfortunately, hopefully, wrong, waiti...</td>\n",
       "      <td>[difficult transfer often bugged good signal, ...</td>\n",
       "    </tr>\n",
       "    <tr>\n",
       "      <th>24</th>\n",
       "      <td>24</td>\n",
       "      <td>118</td>\n",
       "      <td>24_gopays_gopaylater_goopay_topup</td>\n",
       "      <td>[gopays, gopaylater, goopay, topup, thing, che...</td>\n",
       "      <td>[often late get topup balance often nuisance, ...</td>\n",
       "    </tr>\n",
       "    <tr>\n",
       "      <th>25</th>\n",
       "      <td>25</td>\n",
       "      <td>116</td>\n",
       "      <td>25_ewallet_cashback_cheap_costumer</td>\n",
       "      <td>[ewallet, cashback, cheap, costumer, helpful, ...</td>\n",
       "      <td>[app make easy make transaction there minimum ...</td>\n",
       "    </tr>\n",
       "    <tr>\n",
       "      <th>26</th>\n",
       "      <td>26</td>\n",
       "      <td>111</td>\n",
       "      <td>26_paylater_ewallet_ewallets_indomaret</td>\n",
       "      <td>[paylater, ewallet, ewallets, indomaret, apk, ...</td>\n",
       "      <td>[good havent able make transaction like topup ...</td>\n",
       "    </tr>\n",
       "    <tr>\n",
       "      <th>27</th>\n",
       "      <td>27</td>\n",
       "      <td>100</td>\n",
       "      <td>27_gopaylater_havent_doesnt_didnt</td>\n",
       "      <td>[gopaylater, havent, doesnt, didnt, waited, to...</td>\n",
       "      <td>[dont know dont know dont know dont know dont ...</td>\n",
       "    </tr>\n",
       "    <tr>\n",
       "      <th>28</th>\n",
       "      <td>28</td>\n",
       "      <td>94</td>\n",
       "      <td>28_hasnt_havent_doesnt_didnt</td>\n",
       "      <td>[hasnt, havent, doesnt, didnt, apk, ever, topu...</td>\n",
       "      <td>[uh uh uh uh uh uh uh uh uh uh uh uh uh uh uh ...</td>\n",
       "    </tr>\n",
       "    <tr>\n",
       "      <th>29</th>\n",
       "      <td>29</td>\n",
       "      <td>80</td>\n",
       "      <td>29_goopay_ewallet_google_july</td>\n",
       "      <td>[goopay, ewallet, google, july, apk, benerin, ...</td>\n",
       "      <td>[top ewallet failed pdhl balance udh cut fund ...</td>\n",
       "    </tr>\n",
       "  </tbody>\n",
       "</table>\n",
       "</div>"
      ],
      "text/plain": [
       "    Topic  Count                                    Name  \\\n",
       "0       0    368             0_refund_hasnt_doesnt_didnt   \n",
       "1       1    283                 1_otp_voucher_login_apk   \n",
       "2       2    263             2_voucher_isnt_doesnt_didnt   \n",
       "3       3    256               3_hasnt_isnt_doesnt_didnt   \n",
       "4       4    237            4_isnt_havent_couldnt_doesnt   \n",
       "5       5    230           5_ewallet_apk_topup_hopefully   \n",
       "6       6    223              6_thank_buy_cheap_discount   \n",
       "7       7    208               7_google_didnt_scam_thank   \n",
       "8       8    191             8_ewallet_didnt_topup_admin   \n",
       "9       9    184         9_uninstall_voucher_havent_isnt   \n",
       "10     10    173      10_unreasonable_voucher_otp_doesnt   \n",
       "11     11    173         11_unreasonable_wdp_isnt_doesnt   \n",
       "12     12    172            12_hasnt_havent_isnt_voucher   \n",
       "13     13    168             13_hasnt_havent_isnt_doesnt   \n",
       "14     14    166          14_gopays_gopaylater_hasnt_apk   \n",
       "15     15    159     15_doesnt_wait_waiting_disappointed   \n",
       "16     16    157             16_gopey_hasnt_havent_didnt   \n",
       "17     17    147      17_gopays_gopaylater_ewallet_hasnt   \n",
       "18     18    132             18_ewallet_doesnt_apk_didnt   \n",
       "19     19    130               19_ewalet_doesnt_wifi_apk   \n",
       "20     20    127              20_couldnt_doesnt_apk_dont   \n",
       "21     21    124       21_uninstall_ewallets_login_topup   \n",
       "22     22    123              22_hasnt_wasnt_upload_isnt   \n",
       "23     23    119  23_thats_unfortunately_hopefully_wrong   \n",
       "24     24    118       24_gopays_gopaylater_goopay_topup   \n",
       "25     25    116      25_ewallet_cashback_cheap_costumer   \n",
       "26     26    111  26_paylater_ewallet_ewallets_indomaret   \n",
       "27     27    100       27_gopaylater_havent_doesnt_didnt   \n",
       "28     28     94            28_hasnt_havent_doesnt_didnt   \n",
       "29     29     80           29_goopay_ewallet_google_july   \n",
       "\n",
       "                                       Representation  \\\n",
       "0   [refund, hasnt, doesnt, didnt, topup, cashback...   \n",
       "1   [otp, voucher, login, apk, wdp, verification, ...   \n",
       "2   [voucher, isnt, doesnt, didnt, topup, cashback...   \n",
       "3   [hasnt, isnt, doesnt, didnt, topup, apk, whats...   \n",
       "4   [isnt, havent, couldnt, doesnt, arent, didnt, ...   \n",
       "5   [ewallet, apk, topup, hopefully, cheap, really...   \n",
       "6   [thank, buy, cheap, discount, expensive, admin...   \n",
       "7   [google, didnt, scam, thank, wait, check, chec...   \n",
       "8   [ewallet, didnt, topup, admin, wrong, really, ...   \n",
       "9   [uninstall, voucher, havent, isnt, doesnt, did...   \n",
       "10  [unreasonable, voucher, otp, doesnt, didnt, co...   \n",
       "11  [unreasonable, wdp, isnt, doesnt, arent, topup...   \n",
       "12  [hasnt, havent, isnt, voucher, doesnt, didnt, ...   \n",
       "13  [hasnt, havent, isnt, doesnt, didnt, couldnt, ...   \n",
       "14  [gopays, gopaylater, hasnt, apk, doesnt, thank...   \n",
       "15  [doesnt, wait, waiting, disappointed, got, che...   \n",
       "16  [gopey, hasnt, havent, didnt, whats, voucher, ...   \n",
       "17  [gopays, gopaylater, ewallet, hasnt, doesnt, c...   \n",
       "18  [ewallet, doesnt, apk, didnt, thank, notificat...   \n",
       "19  [ewalet, doesnt, wifi, apk, wdp, dont, promo, ...   \n",
       "20  [couldnt, doesnt, apk, dont, cant, admin, quic...   \n",
       "21  [uninstall, ewallets, login, topup, apk, wifi,...   \n",
       "22  [hasnt, wasnt, upload, isnt, doesnt, didnt, co...   \n",
       "23  [thats, unfortunately, hopefully, wrong, waiti...   \n",
       "24  [gopays, gopaylater, goopay, topup, thing, che...   \n",
       "25  [ewallet, cashback, cheap, costumer, helpful, ...   \n",
       "26  [paylater, ewallet, ewallets, indomaret, apk, ...   \n",
       "27  [gopaylater, havent, doesnt, didnt, waited, to...   \n",
       "28  [hasnt, havent, doesnt, didnt, apk, ever, topu...   \n",
       "29  [goopay, ewallet, google, july, apk, benerin, ...   \n",
       "\n",
       "                                  Representative_Docs  \n",
       "0   [balance cut bought rb token payment failed mo...  \n",
       "1   [cant log account update latest version, app a...  \n",
       "2   [gg gift arena spin coin prize cant claimed ch...  \n",
       "3   [balance hasnt come alpa transaction come dont...  \n",
       "4   [trouble top money doesnt come minus gopay, tw...  \n",
       "5   [app easy use safe practically official iijino...  \n",
       "6   [cheap pulse cheap token cheap data package ch...  \n",
       "7   [app taking long time instead improving qualit...  \n",
       "8   [disappointed content balance gopay entered in...  \n",
       "9   [apk pretty good every time spin gg gift arena...  \n",
       "10  [there free promo use voucher pay, top game us...  \n",
       "11  [apk unclear transaction want there always unr...  \n",
       "12  [ive waiting long time get voucher ive lost im...  \n",
       "13  [im overloaded money hasnt come yet, gopay bal...  \n",
       "14  [top go pay nominal jt rupee status good gopay...  \n",
       "15  [use gopayevery transaction buy pln token puls...  \n",
       "16  [ive lot transaction using gopay ive disappoin...  \n",
       "17  [top emoney balance didnt come status worked b...  \n",
       "18  [app consumes lot ram phone used app never gav...  \n",
       "19  [weird want buy internet quota indosat instead...  \n",
       "20  [cant make deal please fix look like there bug...  \n",
       "21  [want log gopay account facial verification fa...  \n",
       "22  [bad service balance far entered made complain...  \n",
       "23  [difficult transfer often bugged good signal, ...  \n",
       "24  [often late get topup balance often nuisance, ...  \n",
       "25  [app make easy make transaction there minimum ...  \n",
       "26  [good havent able make transaction like topup ...  \n",
       "27  [dont know dont know dont know dont know dont ...  \n",
       "28  [uh uh uh uh uh uh uh uh uh uh uh uh uh uh uh ...  \n",
       "29  [top ewallet failed pdhl balance udh cut fund ...  "
      ]
     },
     "execution_count": 39,
     "metadata": {},
     "output_type": "execute_result"
    }
   ],
   "source": [
    "negative_topic = topic(30)\n",
    "negative_info = negative_topic.fit_transform(negative)\n",
    "negative_info = negative_topic.get_topic_info()\n",
    "negative_info.to_csv('negative_topic.csv')\n",
    "negative_info"
   ]
  },
  {
   "cell_type": "code",
   "execution_count": 40,
   "metadata": {},
   "outputs": [],
   "source": [
    "negative_topic.set_topic_labels({\n",
    "    1: \"Space Travel\", 7: \"Religion\"\n",
    "})"
   ]
  },
  {
   "cell_type": "code",
   "execution_count": 41,
   "metadata": {},
   "outputs": [
    {
     "ename": "ValueError",
     "evalue": "All arrays must be of the same length",
     "output_type": "error",
     "traceback": [
      "\u001b[31m---------------------------------------------------------------------------\u001b[39m",
      "\u001b[31mValueError\u001b[39m                                Traceback (most recent call last)",
      "\u001b[36mCell\u001b[39m\u001b[36m \u001b[39m\u001b[32mIn[41]\u001b[39m\u001b[32m, line 1\u001b[39m\n\u001b[32m----> \u001b[39m\u001b[32m1\u001b[39m \u001b[43mnegative_topic\u001b[49m\u001b[43m.\u001b[49m\u001b[43mmerge_topics\u001b[49m\u001b[43m(\u001b[49m\u001b[43mnegative\u001b[49m\u001b[43m,\u001b[49m\u001b[43m \u001b[49m\n\u001b[32m      2\u001b[39m \u001b[43m                            \u001b[49m\u001b[43m[\u001b[49m\u001b[32;43m1\u001b[39;49m\u001b[43m,\u001b[49m\u001b[32;43m2\u001b[39;49m\u001b[43m,\u001b[49m\u001b[32;43m3\u001b[39;49m\u001b[43m]\u001b[49m\u001b[43m,\u001b[49m\n\u001b[32m      3\u001b[39m \u001b[43m                            \u001b[49m\u001b[43m[\u001b[49m\u001b[32;43m4\u001b[39;49m\u001b[43m,\u001b[49m\u001b[32;43m5\u001b[39;49m\u001b[43m,\u001b[49m\u001b[32;43m6\u001b[39;49m\u001b[43m]\u001b[49m\u001b[43m)\u001b[49m\n",
      "\u001b[36mFile \u001b[39m\u001b[32m/opt/conda/lib/python3.12/site-packages/bertopic/_bertopic.py:2130\u001b[39m, in \u001b[36mBERTopic.merge_topics\u001b[39m\u001b[34m(self, docs, topics_to_merge, images)\u001b[39m\n\u001b[32m   2128\u001b[39m check_is_fitted(\u001b[38;5;28mself\u001b[39m)\n\u001b[32m   2129\u001b[39m check_documents_type(docs)\n\u001b[32m-> \u001b[39m\u001b[32m2130\u001b[39m documents = \u001b[43mpd\u001b[49m\u001b[43m.\u001b[49m\u001b[43mDataFrame\u001b[49m\u001b[43m(\u001b[49m\n\u001b[32m   2131\u001b[39m \u001b[43m    \u001b[49m\u001b[43m{\u001b[49m\n\u001b[32m   2132\u001b[39m \u001b[43m        \u001b[49m\u001b[33;43m\"\u001b[39;49m\u001b[33;43mDocument\u001b[39;49m\u001b[33;43m\"\u001b[39;49m\u001b[43m:\u001b[49m\u001b[43m \u001b[49m\u001b[43mdocs\u001b[49m\u001b[43m,\u001b[49m\n\u001b[32m   2133\u001b[39m \u001b[43m        \u001b[49m\u001b[33;43m\"\u001b[39;49m\u001b[33;43mTopic\u001b[39;49m\u001b[33;43m\"\u001b[39;49m\u001b[43m:\u001b[49m\u001b[43m \u001b[49m\u001b[38;5;28;43mself\u001b[39;49m\u001b[43m.\u001b[49m\u001b[43mtopics_\u001b[49m\u001b[43m,\u001b[49m\n\u001b[32m   2134\u001b[39m \u001b[43m        \u001b[49m\u001b[33;43m\"\u001b[39;49m\u001b[33;43mImage\u001b[39;49m\u001b[33;43m\"\u001b[39;49m\u001b[43m:\u001b[49m\u001b[43m \u001b[49m\u001b[43mimages\u001b[49m\u001b[43m,\u001b[49m\n\u001b[32m   2135\u001b[39m \u001b[43m        \u001b[49m\u001b[33;43m\"\u001b[39;49m\u001b[33;43mID\u001b[39;49m\u001b[33;43m\"\u001b[39;49m\u001b[43m:\u001b[49m\u001b[43m \u001b[49m\u001b[38;5;28;43mrange\u001b[39;49m\u001b[43m(\u001b[49m\u001b[38;5;28;43mlen\u001b[39;49m\u001b[43m(\u001b[49m\u001b[43mdocs\u001b[49m\u001b[43m)\u001b[49m\u001b[43m)\u001b[49m\u001b[43m,\u001b[49m\n\u001b[32m   2136\u001b[39m \u001b[43m    \u001b[49m\u001b[43m}\u001b[49m\n\u001b[32m   2137\u001b[39m \u001b[43m\u001b[49m\u001b[43m)\u001b[49m\n\u001b[32m   2139\u001b[39m mapping = {topic: topic \u001b[38;5;28;01mfor\u001b[39;00m topic \u001b[38;5;129;01min\u001b[39;00m \u001b[38;5;28mset\u001b[39m(\u001b[38;5;28mself\u001b[39m.topics_)}\n\u001b[32m   2140\u001b[39m \u001b[38;5;28;01mif\u001b[39;00m \u001b[38;5;28misinstance\u001b[39m(topics_to_merge[\u001b[32m0\u001b[39m], \u001b[38;5;28mint\u001b[39m):\n",
      "\u001b[36mFile \u001b[39m\u001b[32m/opt/conda/lib/python3.12/site-packages/pandas/core/frame.py:778\u001b[39m, in \u001b[36mDataFrame.__init__\u001b[39m\u001b[34m(self, data, index, columns, dtype, copy)\u001b[39m\n\u001b[32m    772\u001b[39m     mgr = \u001b[38;5;28mself\u001b[39m._init_mgr(\n\u001b[32m    773\u001b[39m         data, axes={\u001b[33m\"\u001b[39m\u001b[33mindex\u001b[39m\u001b[33m\"\u001b[39m: index, \u001b[33m\"\u001b[39m\u001b[33mcolumns\u001b[39m\u001b[33m\"\u001b[39m: columns}, dtype=dtype, copy=copy\n\u001b[32m    774\u001b[39m     )\n\u001b[32m    776\u001b[39m \u001b[38;5;28;01melif\u001b[39;00m \u001b[38;5;28misinstance\u001b[39m(data, \u001b[38;5;28mdict\u001b[39m):\n\u001b[32m    777\u001b[39m     \u001b[38;5;66;03m# GH#38939 de facto copy defaults to False only in non-dict cases\u001b[39;00m\n\u001b[32m--> \u001b[39m\u001b[32m778\u001b[39m     mgr = \u001b[43mdict_to_mgr\u001b[49m\u001b[43m(\u001b[49m\u001b[43mdata\u001b[49m\u001b[43m,\u001b[49m\u001b[43m \u001b[49m\u001b[43mindex\u001b[49m\u001b[43m,\u001b[49m\u001b[43m \u001b[49m\u001b[43mcolumns\u001b[49m\u001b[43m,\u001b[49m\u001b[43m \u001b[49m\u001b[43mdtype\u001b[49m\u001b[43m=\u001b[49m\u001b[43mdtype\u001b[49m\u001b[43m,\u001b[49m\u001b[43m \u001b[49m\u001b[43mcopy\u001b[49m\u001b[43m=\u001b[49m\u001b[43mcopy\u001b[49m\u001b[43m,\u001b[49m\u001b[43m \u001b[49m\u001b[43mtyp\u001b[49m\u001b[43m=\u001b[49m\u001b[43mmanager\u001b[49m\u001b[43m)\u001b[49m\n\u001b[32m    779\u001b[39m \u001b[38;5;28;01melif\u001b[39;00m \u001b[38;5;28misinstance\u001b[39m(data, ma.MaskedArray):\n\u001b[32m    780\u001b[39m     \u001b[38;5;28;01mfrom\u001b[39;00m\u001b[38;5;250m \u001b[39m\u001b[34;01mnumpy\u001b[39;00m\u001b[34;01m.\u001b[39;00m\u001b[34;01mma\u001b[39;00m\u001b[38;5;250m \u001b[39m\u001b[38;5;28;01mimport\u001b[39;00m mrecords\n",
      "\u001b[36mFile \u001b[39m\u001b[32m/opt/conda/lib/python3.12/site-packages/pandas/core/internals/construction.py:503\u001b[39m, in \u001b[36mdict_to_mgr\u001b[39m\u001b[34m(data, index, columns, dtype, typ, copy)\u001b[39m\n\u001b[32m    499\u001b[39m     \u001b[38;5;28;01melse\u001b[39;00m:\n\u001b[32m    500\u001b[39m         \u001b[38;5;66;03m# dtype check to exclude e.g. range objects, scalars\u001b[39;00m\n\u001b[32m    501\u001b[39m         arrays = [x.copy() \u001b[38;5;28;01mif\u001b[39;00m \u001b[38;5;28mhasattr\u001b[39m(x, \u001b[33m\"\u001b[39m\u001b[33mdtype\u001b[39m\u001b[33m\"\u001b[39m) \u001b[38;5;28;01melse\u001b[39;00m x \u001b[38;5;28;01mfor\u001b[39;00m x \u001b[38;5;129;01min\u001b[39;00m arrays]\n\u001b[32m--> \u001b[39m\u001b[32m503\u001b[39m \u001b[38;5;28;01mreturn\u001b[39;00m \u001b[43marrays_to_mgr\u001b[49m\u001b[43m(\u001b[49m\u001b[43marrays\u001b[49m\u001b[43m,\u001b[49m\u001b[43m \u001b[49m\u001b[43mcolumns\u001b[49m\u001b[43m,\u001b[49m\u001b[43m \u001b[49m\u001b[43mindex\u001b[49m\u001b[43m,\u001b[49m\u001b[43m \u001b[49m\u001b[43mdtype\u001b[49m\u001b[43m=\u001b[49m\u001b[43mdtype\u001b[49m\u001b[43m,\u001b[49m\u001b[43m \u001b[49m\u001b[43mtyp\u001b[49m\u001b[43m=\u001b[49m\u001b[43mtyp\u001b[49m\u001b[43m,\u001b[49m\u001b[43m \u001b[49m\u001b[43mconsolidate\u001b[49m\u001b[43m=\u001b[49m\u001b[43mcopy\u001b[49m\u001b[43m)\u001b[49m\n",
      "\u001b[36mFile \u001b[39m\u001b[32m/opt/conda/lib/python3.12/site-packages/pandas/core/internals/construction.py:114\u001b[39m, in \u001b[36marrays_to_mgr\u001b[39m\u001b[34m(arrays, columns, index, dtype, verify_integrity, typ, consolidate)\u001b[39m\n\u001b[32m    111\u001b[39m \u001b[38;5;28;01mif\u001b[39;00m verify_integrity:\n\u001b[32m    112\u001b[39m     \u001b[38;5;66;03m# figure out the index, if necessary\u001b[39;00m\n\u001b[32m    113\u001b[39m     \u001b[38;5;28;01mif\u001b[39;00m index \u001b[38;5;129;01mis\u001b[39;00m \u001b[38;5;28;01mNone\u001b[39;00m:\n\u001b[32m--> \u001b[39m\u001b[32m114\u001b[39m         index = \u001b[43m_extract_index\u001b[49m\u001b[43m(\u001b[49m\u001b[43marrays\u001b[49m\u001b[43m)\u001b[49m\n\u001b[32m    115\u001b[39m     \u001b[38;5;28;01melse\u001b[39;00m:\n\u001b[32m    116\u001b[39m         index = ensure_index(index)\n",
      "\u001b[36mFile \u001b[39m\u001b[32m/opt/conda/lib/python3.12/site-packages/pandas/core/internals/construction.py:677\u001b[39m, in \u001b[36m_extract_index\u001b[39m\u001b[34m(data)\u001b[39m\n\u001b[32m    675\u001b[39m lengths = \u001b[38;5;28mlist\u001b[39m(\u001b[38;5;28mset\u001b[39m(raw_lengths))\n\u001b[32m    676\u001b[39m \u001b[38;5;28;01mif\u001b[39;00m \u001b[38;5;28mlen\u001b[39m(lengths) > \u001b[32m1\u001b[39m:\n\u001b[32m--> \u001b[39m\u001b[32m677\u001b[39m     \u001b[38;5;28;01mraise\u001b[39;00m \u001b[38;5;167;01mValueError\u001b[39;00m(\u001b[33m\"\u001b[39m\u001b[33mAll arrays must be of the same length\u001b[39m\u001b[33m\"\u001b[39m)\n\u001b[32m    679\u001b[39m \u001b[38;5;28;01mif\u001b[39;00m have_dicts:\n\u001b[32m    680\u001b[39m     \u001b[38;5;28;01mraise\u001b[39;00m \u001b[38;5;167;01mValueError\u001b[39;00m(\n\u001b[32m    681\u001b[39m         \u001b[33m\"\u001b[39m\u001b[33mMixing dicts with non-Series may lead to ambiguous ordering.\u001b[39m\u001b[33m\"\u001b[39m\n\u001b[32m    682\u001b[39m     )\n",
      "\u001b[31mValueError\u001b[39m: All arrays must be of the same length"
     ]
    }
   ],
   "source": [
    "negative_topic.merge_topics(negative, \n",
    "                            [1,2,3],\n",
    "                            [4,5,6])"
   ]
  },
  {
   "cell_type": "code",
   "execution_count": null,
   "metadata": {},
   "outputs": [],
   "source": [
    "negative_info = negative_topic.get_topic_info()\n",
    "negative_info"
   ]
  },
  {
   "cell_type": "code",
   "execution_count": null,
   "metadata": {
    "editable": true,
    "slideshow": {
     "slide_type": ""
    },
    "tags": []
   },
   "outputs": [],
   "source": [
    "positive_topic = topic(12)\n",
    "positive_info = positive_topic.fit_transform(positive)\n",
    "positive_info = positive_topic.get_topic_info()\n",
    "positive_info.to_csv('positive_topic.csv')\n",
    "positive_info"
   ]
  },
  {
   "cell_type": "code",
   "execution_count": null,
   "metadata": {},
   "outputs": [],
   "source": [
    "positive_topic.set_topic_labels({\n",
    "    1: \"Space Travel\", 7: \"Religion\"\n",
    "})"
   ]
  },
  {
   "cell_type": "code",
   "execution_count": null,
   "metadata": {},
   "outputs": [],
   "source": [
    "positive_topic.merge_topics(positive, \n",
    "                           [[1,2],\n",
    "                           [3,4]]\n",
    "                           )"
   ]
  },
  {
   "cell_type": "markdown",
   "metadata": {},
   "source": [
    "positive_info = positive_topic.get_topic_info()\n",
    "positive_info"
   ]
  },
  {
   "cell_type": "markdown",
   "metadata": {
    "id": "V80HeaiGdCM9"
   },
   "source": [
    "# Conclusion"
   ]
  }
 ],
 "metadata": {
  "colab": {
   "provenance": []
  },
  "kaggle": {
   "accelerator": "nvidiaTeslaT4",
   "dataSources": [],
   "dockerImageVersionId": 31090,
   "isGpuEnabled": true,
   "isInternetEnabled": true,
   "language": "python",
   "sourceType": "notebook"
  },
  "kernelspec": {
   "display_name": "Python 3 (ipykernel)",
   "language": "python",
   "name": "python3"
  },
  "language_info": {
   "codemirror_mode": {
    "name": "ipython",
    "version": 3
   },
   "file_extension": ".py",
   "mimetype": "text/x-python",
   "name": "python",
   "nbconvert_exporter": "python",
   "pygments_lexer": "ipython3",
   "version": "3.12.11"
  }
 },
 "nbformat": 4,
 "nbformat_minor": 4
}
